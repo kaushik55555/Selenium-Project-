{
 "cells": [
  {
   "cell_type": "code",
   "execution_count": 1,
   "id": "96a76256",
   "metadata": {},
   "outputs": [],
   "source": [
    "import selenium\n",
    "import pandas as pd\n",
    "from selenium import webdriver"
   ]
  },
  {
   "cell_type": "markdown",
   "id": "4b541f1f",
   "metadata": {},
   "source": [
    "# Q1: Write a python program to scrape data for “Data Analyst” Job position in“Bangalore” location. You have to scrape the job-title, job-location, company_name, experience_required. You have to scrape first 10 jobs data."
   ]
  },
  {
   "cell_type": "code",
   "execution_count": 2,
   "id": "39566af5",
   "metadata": {},
   "outputs": [],
   "source": [
    "driver = webdriver.Chrome(r\"C:\\Data Science\\Flip Robo\\Selenium\\chromedriver_win32\\chromedriver.exe\")"
   ]
  },
  {
   "cell_type": "markdown",
   "id": "2fea14fb",
   "metadata": {},
   "source": [
    "Invoking driver"
   ]
  },
  {
   "cell_type": "code",
   "execution_count": 3,
   "id": "accf9e2b",
   "metadata": {},
   "outputs": [],
   "source": [
    "url = 'https://www.naukri.com/' \n",
    "driver.get(url)"
   ]
  },
  {
   "cell_type": "markdown",
   "id": "56e5c7fe",
   "metadata": {},
   "source": [
    "saving and opening the url"
   ]
  },
  {
   "cell_type": "code",
   "execution_count": null,
   "id": "c40cd10e",
   "metadata": {},
   "outputs": [],
   "source": []
  },
  {
   "cell_type": "code",
   "execution_count": 4,
   "id": "4530c59c",
   "metadata": {},
   "outputs": [
    {
     "data": {
      "text/plain": [
       "<selenium.webdriver.remote.webelement.WebElement (session=\"4d4a72b32edf0ba5fa00d488045ccb80\", element=\"ec21fe63-3cd1-40a7-a201-5c2465f288ac\")>"
      ]
     },
     "execution_count": 4,
     "metadata": {},
     "output_type": "execute_result"
    }
   ],
   "source": [
    "search_job = driver.find_element_by_id('qsb-keyword-sugg') \n",
    "search_job"
   ]
  },
  {
   "cell_type": "code",
   "execution_count": 9,
   "id": "960ec705",
   "metadata": {},
   "outputs": [],
   "source": [
    "search_job.send_keys(\"Data Analyst\")"
   ]
  },
  {
   "cell_type": "markdown",
   "id": "06118324",
   "metadata": {},
   "source": [
    "Entering Data Analyst in \"Skill,Designations,Companies\" field"
   ]
  },
  {
   "cell_type": "code",
   "execution_count": null,
   "id": "63fcf473",
   "metadata": {},
   "outputs": [],
   "source": []
  },
  {
   "cell_type": "code",
   "execution_count": 10,
   "id": "ba267e82",
   "metadata": {},
   "outputs": [
    {
     "data": {
      "text/plain": [
       "<selenium.webdriver.remote.webelement.WebElement (session=\"4d4a72b32edf0ba5fa00d488045ccb80\", element=\"e37e2c7a-360a-4a8a-bcee-1b8e11763918\")>"
      ]
     },
     "execution_count": 10,
     "metadata": {},
     "output_type": "execute_result"
    }
   ],
   "source": [
    "search_loc = driver.find_element_by_id('qsb-location-sugg') \n",
    "search_loc"
   ]
  },
  {
   "cell_type": "code",
   "execution_count": 11,
   "id": "b2b5a87c",
   "metadata": {},
   "outputs": [],
   "source": [
    "search_loc.send_keys(\"Bangalore\") "
   ]
  },
  {
   "cell_type": "markdown",
   "id": "8504f964",
   "metadata": {},
   "source": [
    "Entering Bangalore in \"enter the location\" field"
   ]
  },
  {
   "cell_type": "code",
   "execution_count": null,
   "id": "1955afbc",
   "metadata": {},
   "outputs": [],
   "source": []
  },
  {
   "cell_type": "code",
   "execution_count": 12,
   "id": "9a50fdbc",
   "metadata": {},
   "outputs": [],
   "source": [
    "search_btn = driver.find_element_by_xpath(\"//button[@class='btn']\")\n",
    "search_btn.click()"
   ]
  },
  {
   "cell_type": "markdown",
   "id": "dadd48df",
   "metadata": {},
   "source": [
    "Clicking the search button"
   ]
  },
  {
   "cell_type": "code",
   "execution_count": null,
   "id": "74163b0f",
   "metadata": {},
   "outputs": [],
   "source": []
  },
  {
   "cell_type": "code",
   "execution_count": 13,
   "id": "b0f3af1b",
   "metadata": {
    "collapsed": true
   },
   "outputs": [
    {
     "data": {
      "text/plain": [
       "[<selenium.webdriver.remote.webelement.WebElement (session=\"4d4a72b32edf0ba5fa00d488045ccb80\", element=\"75ad90a0-0d09-42da-9ff0-de6a95775966\")>,\n",
       " <selenium.webdriver.remote.webelement.WebElement (session=\"4d4a72b32edf0ba5fa00d488045ccb80\", element=\"af3b4e4c-bc70-4b7d-9f0d-f679e15c17f0\")>,\n",
       " <selenium.webdriver.remote.webelement.WebElement (session=\"4d4a72b32edf0ba5fa00d488045ccb80\", element=\"b29409fa-4992-4737-80bc-56cae91c11af\")>,\n",
       " <selenium.webdriver.remote.webelement.WebElement (session=\"4d4a72b32edf0ba5fa00d488045ccb80\", element=\"6c50aa65-c5ad-4279-bffe-3e4b9764c23d\")>,\n",
       " <selenium.webdriver.remote.webelement.WebElement (session=\"4d4a72b32edf0ba5fa00d488045ccb80\", element=\"1512d0cc-a3e6-4057-b6a8-880666fe6493\")>,\n",
       " <selenium.webdriver.remote.webelement.WebElement (session=\"4d4a72b32edf0ba5fa00d488045ccb80\", element=\"97724ef9-a659-4aaa-89d9-2b68c220f04d\")>,\n",
       " <selenium.webdriver.remote.webelement.WebElement (session=\"4d4a72b32edf0ba5fa00d488045ccb80\", element=\"e4eccb7b-1322-4cae-b1c3-b7d8122b7848\")>,\n",
       " <selenium.webdriver.remote.webelement.WebElement (session=\"4d4a72b32edf0ba5fa00d488045ccb80\", element=\"9c6dd90e-b622-4032-be20-6bee92367e2e\")>,\n",
       " <selenium.webdriver.remote.webelement.WebElement (session=\"4d4a72b32edf0ba5fa00d488045ccb80\", element=\"62a3cfb2-4f63-45eb-9983-9c9101c59ee9\")>,\n",
       " <selenium.webdriver.remote.webelement.WebElement (session=\"4d4a72b32edf0ba5fa00d488045ccb80\", element=\"88701c88-2831-48a5-bc16-7f01670a4e1e\")>,\n",
       " <selenium.webdriver.remote.webelement.WebElement (session=\"4d4a72b32edf0ba5fa00d488045ccb80\", element=\"d3ed9216-0357-4eb0-bf86-520dd7291428\")>,\n",
       " <selenium.webdriver.remote.webelement.WebElement (session=\"4d4a72b32edf0ba5fa00d488045ccb80\", element=\"4e6bf91d-1b48-4fb8-90ee-885f790de454\")>,\n",
       " <selenium.webdriver.remote.webelement.WebElement (session=\"4d4a72b32edf0ba5fa00d488045ccb80\", element=\"97580ce3-0659-4715-b544-31f09fc8a2b0\")>,\n",
       " <selenium.webdriver.remote.webelement.WebElement (session=\"4d4a72b32edf0ba5fa00d488045ccb80\", element=\"51057bb3-bcaf-470e-b6eb-d86861d6cf25\")>,\n",
       " <selenium.webdriver.remote.webelement.WebElement (session=\"4d4a72b32edf0ba5fa00d488045ccb80\", element=\"ea0d8c23-ce8a-4885-a5a7-9b3f2f16cfcb\")>,\n",
       " <selenium.webdriver.remote.webelement.WebElement (session=\"4d4a72b32edf0ba5fa00d488045ccb80\", element=\"631df18a-cd04-4b1c-860a-a79708ed166e\")>,\n",
       " <selenium.webdriver.remote.webelement.WebElement (session=\"4d4a72b32edf0ba5fa00d488045ccb80\", element=\"7fc427b5-50c1-4499-a8e3-9faf59dc37a2\")>,\n",
       " <selenium.webdriver.remote.webelement.WebElement (session=\"4d4a72b32edf0ba5fa00d488045ccb80\", element=\"16b3e786-8e6b-42b7-95ba-50639039ecbf\")>,\n",
       " <selenium.webdriver.remote.webelement.WebElement (session=\"4d4a72b32edf0ba5fa00d488045ccb80\", element=\"a962555e-ce4e-475f-ab3d-3bae6e606d98\")>,\n",
       " <selenium.webdriver.remote.webelement.WebElement (session=\"4d4a72b32edf0ba5fa00d488045ccb80\", element=\"16ecc8f8-8667-46c3-94e3-92e8721467ee\")>]"
      ]
     },
     "execution_count": 13,
     "metadata": {},
     "output_type": "execute_result"
    }
   ],
   "source": [
    "titles_tags=driver.find_elements_by_xpath(\"//a[@class='title fw500 ellipsis']\")\n",
    "titles_tags"
   ]
  },
  {
   "cell_type": "code",
   "execution_count": 15,
   "id": "00d77cfb",
   "metadata": {
    "collapsed": true
   },
   "outputs": [
    {
     "data": {
      "text/plain": [
       "['Data Scientist / Data Analyst -Business Analyst',\n",
       " 'Data Analyst',\n",
       " 'Data analysts',\n",
       " 'Data Analyst (2positions)//immediate Joiners//bangalore',\n",
       " 'Data analysts',\n",
       " 'Data Analyst',\n",
       " 'Data Analyst',\n",
       " 'Consultant-Data Analyst -Bangalore',\n",
       " 'Data Analyst - Category Demand Management (Revenue & Growth)',\n",
       " 'Data Analyst/ Data Consultant (Various Levels – Senior/ Mid/ Junior)']"
      ]
     },
     "execution_count": 15,
     "metadata": {},
     "output_type": "execute_result"
    }
   ],
   "source": [
    "job_titles=[]\n",
    "for i in titles_tags[0:10]:\n",
    "        job_titles.append(i.text) \n",
    "job_titles"
   ]
  },
  {
   "cell_type": "markdown",
   "id": "d8705d5c",
   "metadata": {},
   "source": [
    "Extracting Job title"
   ]
  },
  {
   "cell_type": "code",
   "execution_count": null,
   "id": "945885bc",
   "metadata": {},
   "outputs": [],
   "source": []
  },
  {
   "cell_type": "code",
   "execution_count": 16,
   "id": "f15e8fe6",
   "metadata": {
    "collapsed": true
   },
   "outputs": [
    {
     "data": {
      "text/plain": [
       "[<selenium.webdriver.remote.webelement.WebElement (session=\"4d4a72b32edf0ba5fa00d488045ccb80\", element=\"c21bb789-4ae3-4f03-9f7f-117c5346921f\")>,\n",
       " <selenium.webdriver.remote.webelement.WebElement (session=\"4d4a72b32edf0ba5fa00d488045ccb80\", element=\"acbee3b5-03ee-40ec-a85a-288e2d8291f5\")>,\n",
       " <selenium.webdriver.remote.webelement.WebElement (session=\"4d4a72b32edf0ba5fa00d488045ccb80\", element=\"41141ad4-978e-446b-9763-2ddc92dc8605\")>,\n",
       " <selenium.webdriver.remote.webelement.WebElement (session=\"4d4a72b32edf0ba5fa00d488045ccb80\", element=\"5a798305-1da6-47c8-b0c2-1b16de99b131\")>,\n",
       " <selenium.webdriver.remote.webelement.WebElement (session=\"4d4a72b32edf0ba5fa00d488045ccb80\", element=\"7be250e7-640a-4d73-92f6-14961716c3ca\")>,\n",
       " <selenium.webdriver.remote.webelement.WebElement (session=\"4d4a72b32edf0ba5fa00d488045ccb80\", element=\"aeee770b-ecb2-4384-a96c-570645837347\")>,\n",
       " <selenium.webdriver.remote.webelement.WebElement (session=\"4d4a72b32edf0ba5fa00d488045ccb80\", element=\"db3b74b4-6fc5-42e7-b9c5-f462232d7b5c\")>,\n",
       " <selenium.webdriver.remote.webelement.WebElement (session=\"4d4a72b32edf0ba5fa00d488045ccb80\", element=\"71d251f9-493a-4d56-be45-0930d8630152\")>,\n",
       " <selenium.webdriver.remote.webelement.WebElement (session=\"4d4a72b32edf0ba5fa00d488045ccb80\", element=\"770db7c4-012a-4398-b6f2-ea5768956500\")>,\n",
       " <selenium.webdriver.remote.webelement.WebElement (session=\"4d4a72b32edf0ba5fa00d488045ccb80\", element=\"81cb5de8-e7e7-42f7-be93-4bb9706132d2\")>,\n",
       " <selenium.webdriver.remote.webelement.WebElement (session=\"4d4a72b32edf0ba5fa00d488045ccb80\", element=\"82be129b-067e-4093-9e0d-11b8232e60b2\")>,\n",
       " <selenium.webdriver.remote.webelement.WebElement (session=\"4d4a72b32edf0ba5fa00d488045ccb80\", element=\"85c8c143-d99c-4aba-a07c-1af9f1a17752\")>,\n",
       " <selenium.webdriver.remote.webelement.WebElement (session=\"4d4a72b32edf0ba5fa00d488045ccb80\", element=\"1a033de7-8cca-44ea-90fe-ee2e24a43fc3\")>,\n",
       " <selenium.webdriver.remote.webelement.WebElement (session=\"4d4a72b32edf0ba5fa00d488045ccb80\", element=\"cc5dee6c-f9d8-40ba-b02a-03db276b2ddf\")>,\n",
       " <selenium.webdriver.remote.webelement.WebElement (session=\"4d4a72b32edf0ba5fa00d488045ccb80\", element=\"1e568392-d318-4a94-903b-d24f88bcacab\")>,\n",
       " <selenium.webdriver.remote.webelement.WebElement (session=\"4d4a72b32edf0ba5fa00d488045ccb80\", element=\"a65e7a83-a3e8-41d0-89f8-6f32831655de\")>,\n",
       " <selenium.webdriver.remote.webelement.WebElement (session=\"4d4a72b32edf0ba5fa00d488045ccb80\", element=\"a585371d-e3ff-4a57-b3f1-54f5fc2932a1\")>,\n",
       " <selenium.webdriver.remote.webelement.WebElement (session=\"4d4a72b32edf0ba5fa00d488045ccb80\", element=\"becff5c1-4bc8-432f-9d5b-ab5800070318\")>,\n",
       " <selenium.webdriver.remote.webelement.WebElement (session=\"4d4a72b32edf0ba5fa00d488045ccb80\", element=\"f2fce7e7-938b-459d-9896-af1fa95bf16c\")>,\n",
       " <selenium.webdriver.remote.webelement.WebElement (session=\"4d4a72b32edf0ba5fa00d488045ccb80\", element=\"c480203d-1614-45af-8e4e-1af652729ad3\")>]"
      ]
     },
     "execution_count": 16,
     "metadata": {},
     "output_type": "execute_result"
    }
   ],
   "source": [
    "location_tags=driver.find_elements_by_xpath(\"//li[@class='fleft grey-text br2 placeHolderLi location']\")\n",
    "location_tags"
   ]
  },
  {
   "cell_type": "code",
   "execution_count": 17,
   "id": "dfe6cb07",
   "metadata": {
    "collapsed": true
   },
   "outputs": [
    {
     "data": {
      "text/plain": [
       "['Mumbai, Hyderabad/Secunderabad, Pune, Gurgaon/Gurugram, Chennai, Bangalore/Bengaluru',\n",
       " 'Bangalore/Bengaluru',\n",
       " 'Bengaluru/Bangalore',\n",
       " 'Bangalore/Bengaluru',\n",
       " 'Bangalore/Bengaluru',\n",
       " 'Bangalore/Bengaluru',\n",
       " 'Bangalore/Bengaluru',\n",
       " 'Bangalore/Bengaluru',\n",
       " 'Bangalore/Bengaluru',\n",
       " 'Bangalore/Bengaluru']"
      ]
     },
     "execution_count": 17,
     "metadata": {},
     "output_type": "execute_result"
    }
   ],
   "source": [
    "location=[]\n",
    "for i in location_tags[0:10]:\n",
    "        location.append(i.text) \n",
    "location"
   ]
  },
  {
   "cell_type": "markdown",
   "id": "ba1cdbc7",
   "metadata": {},
   "source": [
    "Extracting Job location"
   ]
  },
  {
   "cell_type": "code",
   "execution_count": null,
   "id": "49b4ad46",
   "metadata": {},
   "outputs": [],
   "source": []
  },
  {
   "cell_type": "code",
   "execution_count": null,
   "id": "b50c4551",
   "metadata": {},
   "outputs": [],
   "source": []
  },
  {
   "cell_type": "code",
   "execution_count": 18,
   "id": "3e2be06f",
   "metadata": {
    "collapsed": true
   },
   "outputs": [
    {
     "data": {
      "text/plain": [
       "[<selenium.webdriver.remote.webelement.WebElement (session=\"4d4a72b32edf0ba5fa00d488045ccb80\", element=\"7feb0475-09c3-43fb-9c4c-6cbcb7652bac\")>,\n",
       " <selenium.webdriver.remote.webelement.WebElement (session=\"4d4a72b32edf0ba5fa00d488045ccb80\", element=\"efde0476-84f5-4ef7-baa6-bd6eeebbd3a1\")>,\n",
       " <selenium.webdriver.remote.webelement.WebElement (session=\"4d4a72b32edf0ba5fa00d488045ccb80\", element=\"db312643-da5b-4f39-8fde-cf98c12f337f\")>,\n",
       " <selenium.webdriver.remote.webelement.WebElement (session=\"4d4a72b32edf0ba5fa00d488045ccb80\", element=\"913bbef3-0fac-4fb1-9659-45392e5f4017\")>,\n",
       " <selenium.webdriver.remote.webelement.WebElement (session=\"4d4a72b32edf0ba5fa00d488045ccb80\", element=\"e6f22233-7c72-45a3-acdc-3d54fc10ece8\")>,\n",
       " <selenium.webdriver.remote.webelement.WebElement (session=\"4d4a72b32edf0ba5fa00d488045ccb80\", element=\"721a89c2-adc0-45e3-8639-71029a558ad6\")>,\n",
       " <selenium.webdriver.remote.webelement.WebElement (session=\"4d4a72b32edf0ba5fa00d488045ccb80\", element=\"f512af10-1893-467f-b02a-24d06778918e\")>,\n",
       " <selenium.webdriver.remote.webelement.WebElement (session=\"4d4a72b32edf0ba5fa00d488045ccb80\", element=\"2a0d6bac-8c4f-4b1d-87fa-6858a91cfd05\")>,\n",
       " <selenium.webdriver.remote.webelement.WebElement (session=\"4d4a72b32edf0ba5fa00d488045ccb80\", element=\"e4e50049-b9d3-4448-aef3-3d24b55b36f0\")>,\n",
       " <selenium.webdriver.remote.webelement.WebElement (session=\"4d4a72b32edf0ba5fa00d488045ccb80\", element=\"0437d67c-6983-4c0e-9c6a-2297380cbf53\")>,\n",
       " <selenium.webdriver.remote.webelement.WebElement (session=\"4d4a72b32edf0ba5fa00d488045ccb80\", element=\"5b79a072-826f-4601-a7b7-ad491db0d021\")>,\n",
       " <selenium.webdriver.remote.webelement.WebElement (session=\"4d4a72b32edf0ba5fa00d488045ccb80\", element=\"895c5bac-64ab-4292-9868-47128611a277\")>,\n",
       " <selenium.webdriver.remote.webelement.WebElement (session=\"4d4a72b32edf0ba5fa00d488045ccb80\", element=\"9425119e-80f1-4c1f-af3a-00dc9695697c\")>,\n",
       " <selenium.webdriver.remote.webelement.WebElement (session=\"4d4a72b32edf0ba5fa00d488045ccb80\", element=\"2a7a8be5-46a2-437b-9280-8de86e27ea87\")>,\n",
       " <selenium.webdriver.remote.webelement.WebElement (session=\"4d4a72b32edf0ba5fa00d488045ccb80\", element=\"71a75780-a3d1-406a-8195-11ad9aa47dc0\")>,\n",
       " <selenium.webdriver.remote.webelement.WebElement (session=\"4d4a72b32edf0ba5fa00d488045ccb80\", element=\"15a62e72-8ade-43e6-9f30-ebdda6c5c0de\")>,\n",
       " <selenium.webdriver.remote.webelement.WebElement (session=\"4d4a72b32edf0ba5fa00d488045ccb80\", element=\"ae0d8fcd-da47-4c61-ba79-ec5c978ff939\")>,\n",
       " <selenium.webdriver.remote.webelement.WebElement (session=\"4d4a72b32edf0ba5fa00d488045ccb80\", element=\"db3e4ed7-aeff-44d7-9bd0-f5de59462f69\")>,\n",
       " <selenium.webdriver.remote.webelement.WebElement (session=\"4d4a72b32edf0ba5fa00d488045ccb80\", element=\"4125182f-6366-4b2e-ae52-2e1aa3a5f8dc\")>,\n",
       " <selenium.webdriver.remote.webelement.WebElement (session=\"4d4a72b32edf0ba5fa00d488045ccb80\", element=\"7601be1f-353e-4fad-aff7-6e787298b5d6\")>]"
      ]
     },
     "execution_count": 18,
     "metadata": {},
     "output_type": "execute_result"
    }
   ],
   "source": [
    "companies_tags=driver.find_elements_by_xpath(\"//a[@class='subTitle ellipsis fleft']\")\n",
    "companies_tags"
   ]
  },
  {
   "cell_type": "code",
   "execution_count": 19,
   "id": "ff3c3fb7",
   "metadata": {},
   "outputs": [
    {
     "data": {
      "text/plain": [
       "['Inflexion Analytix Private Limited',\n",
       " 'Novel Office',\n",
       " 'IBM India Pvt. Limited',\n",
       " 'Tech Mahindra Ltd.',\n",
       " 'IBM India Pvt. Limited',\n",
       " 'Myntra Designs Pvt. Ltd.',\n",
       " 'Myntra Designs Pvt. Ltd.',\n",
       " 'Innovsource Services Private Limited',\n",
       " 'Myntra Designs Pvt. Ltd.',\n",
       " 'DVSUM INDIA PRIVATE LIMITED']"
      ]
     },
     "execution_count": 19,
     "metadata": {},
     "output_type": "execute_result"
    }
   ],
   "source": [
    "companies_names=[]\n",
    "for i in companies_tags[0:10]:\n",
    "        companies_names.append(i.text) \n",
    "companies_names"
   ]
  },
  {
   "cell_type": "markdown",
   "id": "617847d4",
   "metadata": {},
   "source": [
    "Extracting Company names"
   ]
  },
  {
   "cell_type": "code",
   "execution_count": null,
   "id": "75a02712",
   "metadata": {},
   "outputs": [],
   "source": []
  },
  {
   "cell_type": "code",
   "execution_count": null,
   "id": "bbd6855e",
   "metadata": {},
   "outputs": [],
   "source": []
  },
  {
   "cell_type": "code",
   "execution_count": 22,
   "id": "0eaad94a",
   "metadata": {
    "collapsed": true
   },
   "outputs": [
    {
     "data": {
      "text/plain": [
       "[<selenium.webdriver.remote.webelement.WebElement (session=\"4d4a72b32edf0ba5fa00d488045ccb80\", element=\"03dde690-ed75-44b0-ad27-e0ef745bd2ed\")>,\n",
       " <selenium.webdriver.remote.webelement.WebElement (session=\"4d4a72b32edf0ba5fa00d488045ccb80\", element=\"8550ab1c-9ab4-4d8a-9ece-f84d8febb562\")>,\n",
       " <selenium.webdriver.remote.webelement.WebElement (session=\"4d4a72b32edf0ba5fa00d488045ccb80\", element=\"227cd7e7-7ca2-450a-8645-645d6b06641f\")>,\n",
       " <selenium.webdriver.remote.webelement.WebElement (session=\"4d4a72b32edf0ba5fa00d488045ccb80\", element=\"407adb4f-6a2a-4658-ae48-80dd412839dd\")>,\n",
       " <selenium.webdriver.remote.webelement.WebElement (session=\"4d4a72b32edf0ba5fa00d488045ccb80\", element=\"c67e15a0-f548-46f7-9c27-8d5cc0e8866e\")>,\n",
       " <selenium.webdriver.remote.webelement.WebElement (session=\"4d4a72b32edf0ba5fa00d488045ccb80\", element=\"27bbc016-cad4-42d5-893e-ac324fcb26de\")>,\n",
       " <selenium.webdriver.remote.webelement.WebElement (session=\"4d4a72b32edf0ba5fa00d488045ccb80\", element=\"c4e600ae-7d83-497d-b724-6d297a827529\")>,\n",
       " <selenium.webdriver.remote.webelement.WebElement (session=\"4d4a72b32edf0ba5fa00d488045ccb80\", element=\"1a89e026-54ca-4aec-8944-e71e01766c89\")>,\n",
       " <selenium.webdriver.remote.webelement.WebElement (session=\"4d4a72b32edf0ba5fa00d488045ccb80\", element=\"f9745975-d11d-427e-961c-d24964fb227c\")>,\n",
       " <selenium.webdriver.remote.webelement.WebElement (session=\"4d4a72b32edf0ba5fa00d488045ccb80\", element=\"871ab487-ed00-4926-95d1-cd63aaa3fc7e\")>,\n",
       " <selenium.webdriver.remote.webelement.WebElement (session=\"4d4a72b32edf0ba5fa00d488045ccb80\", element=\"e409beb0-07e5-4e56-ba0b-7f4b255f841d\")>,\n",
       " <selenium.webdriver.remote.webelement.WebElement (session=\"4d4a72b32edf0ba5fa00d488045ccb80\", element=\"8cd5be71-280e-4f67-909f-343c1f2b831d\")>,\n",
       " <selenium.webdriver.remote.webelement.WebElement (session=\"4d4a72b32edf0ba5fa00d488045ccb80\", element=\"793faf59-56b6-49c6-bdc2-e79d5b0dbbcb\")>,\n",
       " <selenium.webdriver.remote.webelement.WebElement (session=\"4d4a72b32edf0ba5fa00d488045ccb80\", element=\"322ac114-4b75-4cf8-8b6a-b9f24ea587da\")>,\n",
       " <selenium.webdriver.remote.webelement.WebElement (session=\"4d4a72b32edf0ba5fa00d488045ccb80\", element=\"45a9ec57-0b31-4f46-b5e6-a1dabfc4ded6\")>,\n",
       " <selenium.webdriver.remote.webelement.WebElement (session=\"4d4a72b32edf0ba5fa00d488045ccb80\", element=\"06c4be4c-2301-423e-ad7e-6785e8b5ebc7\")>,\n",
       " <selenium.webdriver.remote.webelement.WebElement (session=\"4d4a72b32edf0ba5fa00d488045ccb80\", element=\"771add2a-d4c7-4e46-a2f1-d421c7101ef5\")>,\n",
       " <selenium.webdriver.remote.webelement.WebElement (session=\"4d4a72b32edf0ba5fa00d488045ccb80\", element=\"d3c74666-26f9-498a-98ae-30f8c3f0961a\")>,\n",
       " <selenium.webdriver.remote.webelement.WebElement (session=\"4d4a72b32edf0ba5fa00d488045ccb80\", element=\"56f06c18-75c3-4256-8f68-7c4053632170\")>,\n",
       " <selenium.webdriver.remote.webelement.WebElement (session=\"4d4a72b32edf0ba5fa00d488045ccb80\", element=\"3d1e2eb9-c986-4fa6-8a56-144aa7707954\")>]"
      ]
     },
     "execution_count": 22,
     "metadata": {},
     "output_type": "execute_result"
    }
   ],
   "source": [
    "experience_tags=driver.find_elements_by_xpath(\"//li[@class='fleft grey-text br2 placeHolderLi experience']\")\n",
    "experience_tags"
   ]
  },
  {
   "cell_type": "code",
   "execution_count": 24,
   "id": "359cb7f1",
   "metadata": {},
   "outputs": [
    {
     "data": {
      "text/plain": [
       "['0-3 Yrs',\n",
       " '0-3 Yrs',\n",
       " '5-6 Yrs',\n",
       " '4-8 Yrs',\n",
       " '3-5 Yrs',\n",
       " '3-5 Yrs',\n",
       " '3-8 Yrs',\n",
       " '2-7 Yrs',\n",
       " '1-4 Yrs',\n",
       " '5-10 Yrs']"
      ]
     },
     "execution_count": 24,
     "metadata": {},
     "output_type": "execute_result"
    }
   ],
   "source": [
    "experience=[]\n",
    "for i in experience_tags[0:10]:\n",
    "        experience.append(i.text) \n",
    "experience"
   ]
  },
  {
   "cell_type": "markdown",
   "id": "3689e64d",
   "metadata": {},
   "source": [
    "Extracting experience"
   ]
  },
  {
   "cell_type": "code",
   "execution_count": null,
   "id": "ba6723b5",
   "metadata": {},
   "outputs": [],
   "source": []
  },
  {
   "cell_type": "code",
   "execution_count": 27,
   "id": "df99c365",
   "metadata": {},
   "outputs": [],
   "source": [
    "jobs=pd.DataFrame({})\n",
    "jobs[\"Title\"]=job_titles\n",
    "jobs[\"Location\"]=location\n",
    "jobs[\"Company Name\"]=companies_names\n",
    "jobs[\"Experience Required\"]=experience"
   ]
  },
  {
   "cell_type": "code",
   "execution_count": 28,
   "id": "68996c9a",
   "metadata": {},
   "outputs": [
    {
     "data": {
      "text/html": [
       "<div>\n",
       "<style scoped>\n",
       "    .dataframe tbody tr th:only-of-type {\n",
       "        vertical-align: middle;\n",
       "    }\n",
       "\n",
       "    .dataframe tbody tr th {\n",
       "        vertical-align: top;\n",
       "    }\n",
       "\n",
       "    .dataframe thead th {\n",
       "        text-align: right;\n",
       "    }\n",
       "</style>\n",
       "<table border=\"1\" class=\"dataframe\">\n",
       "  <thead>\n",
       "    <tr style=\"text-align: right;\">\n",
       "      <th></th>\n",
       "      <th>Title</th>\n",
       "      <th>Location</th>\n",
       "      <th>Company Name</th>\n",
       "      <th>Experience Required</th>\n",
       "    </tr>\n",
       "  </thead>\n",
       "  <tbody>\n",
       "    <tr>\n",
       "      <th>0</th>\n",
       "      <td>Data Scientist / Data Analyst -Business Analyst</td>\n",
       "      <td>Mumbai, Hyderabad/Secunderabad, Pune, Gurgaon/...</td>\n",
       "      <td>Inflexion Analytix Private Limited</td>\n",
       "      <td>0-3 Yrs</td>\n",
       "    </tr>\n",
       "    <tr>\n",
       "      <th>1</th>\n",
       "      <td>Data Analyst</td>\n",
       "      <td>Bangalore/Bengaluru</td>\n",
       "      <td>Novel Office</td>\n",
       "      <td>0-3 Yrs</td>\n",
       "    </tr>\n",
       "    <tr>\n",
       "      <th>2</th>\n",
       "      <td>Data analysts</td>\n",
       "      <td>Bengaluru/Bangalore</td>\n",
       "      <td>IBM India Pvt. Limited</td>\n",
       "      <td>5-6 Yrs</td>\n",
       "    </tr>\n",
       "    <tr>\n",
       "      <th>3</th>\n",
       "      <td>Data Analyst (2positions)//immediate Joiners//...</td>\n",
       "      <td>Bangalore/Bengaluru</td>\n",
       "      <td>Tech Mahindra Ltd.</td>\n",
       "      <td>4-8 Yrs</td>\n",
       "    </tr>\n",
       "    <tr>\n",
       "      <th>4</th>\n",
       "      <td>Data analysts</td>\n",
       "      <td>Bangalore/Bengaluru</td>\n",
       "      <td>IBM India Pvt. Limited</td>\n",
       "      <td>3-5 Yrs</td>\n",
       "    </tr>\n",
       "    <tr>\n",
       "      <th>5</th>\n",
       "      <td>Data Analyst</td>\n",
       "      <td>Bangalore/Bengaluru</td>\n",
       "      <td>Myntra Designs Pvt. Ltd.</td>\n",
       "      <td>3-5 Yrs</td>\n",
       "    </tr>\n",
       "    <tr>\n",
       "      <th>6</th>\n",
       "      <td>Data Analyst</td>\n",
       "      <td>Bangalore/Bengaluru</td>\n",
       "      <td>Myntra Designs Pvt. Ltd.</td>\n",
       "      <td>3-8 Yrs</td>\n",
       "    </tr>\n",
       "    <tr>\n",
       "      <th>7</th>\n",
       "      <td>Consultant-Data Analyst -Bangalore</td>\n",
       "      <td>Bangalore/Bengaluru</td>\n",
       "      <td>Innovsource Services Private Limited</td>\n",
       "      <td>2-7 Yrs</td>\n",
       "    </tr>\n",
       "    <tr>\n",
       "      <th>8</th>\n",
       "      <td>Data Analyst - Category Demand Management (Rev...</td>\n",
       "      <td>Bangalore/Bengaluru</td>\n",
       "      <td>Myntra Designs Pvt. Ltd.</td>\n",
       "      <td>1-4 Yrs</td>\n",
       "    </tr>\n",
       "    <tr>\n",
       "      <th>9</th>\n",
       "      <td>Data Analyst/ Data Consultant (Various Levels ...</td>\n",
       "      <td>Bangalore/Bengaluru</td>\n",
       "      <td>DVSUM INDIA PRIVATE LIMITED</td>\n",
       "      <td>5-10 Yrs</td>\n",
       "    </tr>\n",
       "  </tbody>\n",
       "</table>\n",
       "</div>"
      ],
      "text/plain": [
       "                                               Title  \\\n",
       "0    Data Scientist / Data Analyst -Business Analyst   \n",
       "1                                       Data Analyst   \n",
       "2                                      Data analysts   \n",
       "3  Data Analyst (2positions)//immediate Joiners//...   \n",
       "4                                      Data analysts   \n",
       "5                                       Data Analyst   \n",
       "6                                       Data Analyst   \n",
       "7                 Consultant-Data Analyst -Bangalore   \n",
       "8  Data Analyst - Category Demand Management (Rev...   \n",
       "9  Data Analyst/ Data Consultant (Various Levels ...   \n",
       "\n",
       "                                            Location  \\\n",
       "0  Mumbai, Hyderabad/Secunderabad, Pune, Gurgaon/...   \n",
       "1                                Bangalore/Bengaluru   \n",
       "2                                Bengaluru/Bangalore   \n",
       "3                                Bangalore/Bengaluru   \n",
       "4                                Bangalore/Bengaluru   \n",
       "5                                Bangalore/Bengaluru   \n",
       "6                                Bangalore/Bengaluru   \n",
       "7                                Bangalore/Bengaluru   \n",
       "8                                Bangalore/Bengaluru   \n",
       "9                                Bangalore/Bengaluru   \n",
       "\n",
       "                           Company Name Experience Required  \n",
       "0    Inflexion Analytix Private Limited             0-3 Yrs  \n",
       "1                          Novel Office             0-3 Yrs  \n",
       "2                IBM India Pvt. Limited             5-6 Yrs  \n",
       "3                    Tech Mahindra Ltd.             4-8 Yrs  \n",
       "4                IBM India Pvt. Limited             3-5 Yrs  \n",
       "5              Myntra Designs Pvt. Ltd.             3-5 Yrs  \n",
       "6              Myntra Designs Pvt. Ltd.             3-8 Yrs  \n",
       "7  Innovsource Services Private Limited             2-7 Yrs  \n",
       "8              Myntra Designs Pvt. Ltd.             1-4 Yrs  \n",
       "9           DVSUM INDIA PRIVATE LIMITED            5-10 Yrs  "
      ]
     },
     "execution_count": 28,
     "metadata": {},
     "output_type": "execute_result"
    }
   ],
   "source": [
    "jobs"
   ]
  },
  {
   "cell_type": "markdown",
   "id": "595938e7",
   "metadata": {},
   "source": [
    "Clubbed the four fields into DataFrame"
   ]
  },
  {
   "cell_type": "code",
   "execution_count": null,
   "id": "f6afab49",
   "metadata": {},
   "outputs": [],
   "source": []
  },
  {
   "cell_type": "code",
   "execution_count": null,
   "id": "6a2f2aa2",
   "metadata": {},
   "outputs": [],
   "source": []
  },
  {
   "cell_type": "code",
   "execution_count": null,
   "id": "e0e9b461",
   "metadata": {},
   "outputs": [],
   "source": []
  },
  {
   "cell_type": "code",
   "execution_count": null,
   "id": "82fb9a8b",
   "metadata": {},
   "outputs": [],
   "source": []
  },
  {
   "cell_type": "markdown",
   "id": "ddf45375",
   "metadata": {},
   "source": [
    "# Q2: Write a python program to scrape data for “Data Scientist” Job position in “Bangalore” location. You have to scrape the job-title, job-location, company_name, full job-description. You have to scrape first 10 jobs data."
   ]
  },
  {
   "cell_type": "code",
   "execution_count": 137,
   "id": "3759d10e",
   "metadata": {},
   "outputs": [],
   "source": [
    "url = 'https://www.naukri.com/' \n",
    "driver.get(url)"
   ]
  },
  {
   "cell_type": "markdown",
   "id": "33177b2c",
   "metadata": {},
   "source": [
    "saving and opening the url"
   ]
  },
  {
   "cell_type": "code",
   "execution_count": null,
   "id": "bed1029b",
   "metadata": {},
   "outputs": [],
   "source": []
  },
  {
   "cell_type": "code",
   "execution_count": 138,
   "id": "c995793c",
   "metadata": {},
   "outputs": [
    {
     "data": {
      "text/plain": [
       "<selenium.webdriver.remote.webelement.WebElement (session=\"4d4a72b32edf0ba5fa00d488045ccb80\", element=\"c3086238-d32c-4c54-96c5-65ec209af4a6\")>"
      ]
     },
     "execution_count": 138,
     "metadata": {},
     "output_type": "execute_result"
    }
   ],
   "source": [
    "search_job = driver.find_element_by_id('qsb-keyword-sugg') \n",
    "search_job"
   ]
  },
  {
   "cell_type": "code",
   "execution_count": 139,
   "id": "1be26936",
   "metadata": {},
   "outputs": [],
   "source": [
    "search_job.send_keys(\"Data Scientist\")"
   ]
  },
  {
   "cell_type": "markdown",
   "id": "04e58518",
   "metadata": {},
   "source": [
    "Entering Data Scientist in \"Skill,Designations,Companies\" field"
   ]
  },
  {
   "cell_type": "code",
   "execution_count": null,
   "id": "da22b125",
   "metadata": {},
   "outputs": [],
   "source": []
  },
  {
   "cell_type": "code",
   "execution_count": 140,
   "id": "c8189c6d",
   "metadata": {},
   "outputs": [
    {
     "data": {
      "text/plain": [
       "<selenium.webdriver.remote.webelement.WebElement (session=\"4d4a72b32edf0ba5fa00d488045ccb80\", element=\"a9bbf28f-5e14-493a-8b4d-0da56473a515\")>"
      ]
     },
     "execution_count": 140,
     "metadata": {},
     "output_type": "execute_result"
    }
   ],
   "source": [
    "search_loc = driver.find_element_by_id('qsb-location-sugg') \n",
    "search_loc"
   ]
  },
  {
   "cell_type": "code",
   "execution_count": 141,
   "id": "93983495",
   "metadata": {},
   "outputs": [],
   "source": [
    "search_loc.send_keys(\"Bangalore\") "
   ]
  },
  {
   "cell_type": "markdown",
   "id": "6eb15e3d",
   "metadata": {},
   "source": [
    "Entering Bangalore in \"enter the location\" field"
   ]
  },
  {
   "cell_type": "code",
   "execution_count": null,
   "id": "888e2194",
   "metadata": {},
   "outputs": [],
   "source": []
  },
  {
   "cell_type": "code",
   "execution_count": 142,
   "id": "c4064618",
   "metadata": {},
   "outputs": [],
   "source": [
    "search_btn = driver.find_element_by_xpath(\"//button[@class='btn']\")\n",
    "search_btn.click()"
   ]
  },
  {
   "cell_type": "markdown",
   "id": "08b7eb16",
   "metadata": {},
   "source": [
    "Clicking the search button"
   ]
  },
  {
   "cell_type": "code",
   "execution_count": null,
   "id": "cc168315",
   "metadata": {},
   "outputs": [],
   "source": []
  },
  {
   "cell_type": "code",
   "execution_count": 36,
   "id": "e45a4ee0",
   "metadata": {
    "collapsed": true
   },
   "outputs": [
    {
     "data": {
      "text/plain": [
       "[<selenium.webdriver.remote.webelement.WebElement (session=\"4d4a72b32edf0ba5fa00d488045ccb80\", element=\"ba78259b-d207-4b4e-be7f-e41b236713e9\")>,\n",
       " <selenium.webdriver.remote.webelement.WebElement (session=\"4d4a72b32edf0ba5fa00d488045ccb80\", element=\"63a28b33-d29f-49e2-9ed6-df2d400e4a94\")>,\n",
       " <selenium.webdriver.remote.webelement.WebElement (session=\"4d4a72b32edf0ba5fa00d488045ccb80\", element=\"2f3d24a3-25fb-47ae-994d-9235bccdc467\")>,\n",
       " <selenium.webdriver.remote.webelement.WebElement (session=\"4d4a72b32edf0ba5fa00d488045ccb80\", element=\"f75632c0-3478-49f8-8f42-5883467146bd\")>,\n",
       " <selenium.webdriver.remote.webelement.WebElement (session=\"4d4a72b32edf0ba5fa00d488045ccb80\", element=\"88aeccc5-a761-40bf-a6e6-6af9d99f147c\")>,\n",
       " <selenium.webdriver.remote.webelement.WebElement (session=\"4d4a72b32edf0ba5fa00d488045ccb80\", element=\"b7e13129-3fe5-4f46-8628-8aac3cf70ad4\")>,\n",
       " <selenium.webdriver.remote.webelement.WebElement (session=\"4d4a72b32edf0ba5fa00d488045ccb80\", element=\"e9acf0de-8510-419d-a099-1f7364c223be\")>,\n",
       " <selenium.webdriver.remote.webelement.WebElement (session=\"4d4a72b32edf0ba5fa00d488045ccb80\", element=\"3886f97e-db53-46dc-b25a-0d0e54858edc\")>,\n",
       " <selenium.webdriver.remote.webelement.WebElement (session=\"4d4a72b32edf0ba5fa00d488045ccb80\", element=\"d4334d26-bf0e-4134-900f-4a1ba560be44\")>,\n",
       " <selenium.webdriver.remote.webelement.WebElement (session=\"4d4a72b32edf0ba5fa00d488045ccb80\", element=\"ba7b00dd-cb56-4067-9d6f-a2851eab5393\")>,\n",
       " <selenium.webdriver.remote.webelement.WebElement (session=\"4d4a72b32edf0ba5fa00d488045ccb80\", element=\"5a09759c-3667-413b-8d8c-71534c5d256a\")>,\n",
       " <selenium.webdriver.remote.webelement.WebElement (session=\"4d4a72b32edf0ba5fa00d488045ccb80\", element=\"df2bdd44-6f8e-4e89-9018-874a7fd77e02\")>,\n",
       " <selenium.webdriver.remote.webelement.WebElement (session=\"4d4a72b32edf0ba5fa00d488045ccb80\", element=\"7036b0bc-a509-44bb-b51e-3301f468c078\")>,\n",
       " <selenium.webdriver.remote.webelement.WebElement (session=\"4d4a72b32edf0ba5fa00d488045ccb80\", element=\"89989c26-e371-4879-85fb-2c83d21b5636\")>,\n",
       " <selenium.webdriver.remote.webelement.WebElement (session=\"4d4a72b32edf0ba5fa00d488045ccb80\", element=\"7feb9ce4-7079-4c05-8703-d0d0ef9f31f0\")>,\n",
       " <selenium.webdriver.remote.webelement.WebElement (session=\"4d4a72b32edf0ba5fa00d488045ccb80\", element=\"f74ac030-32d4-4350-a5a2-903c490d9613\")>,\n",
       " <selenium.webdriver.remote.webelement.WebElement (session=\"4d4a72b32edf0ba5fa00d488045ccb80\", element=\"5e8cf817-c06d-4261-890f-8cd0401941a1\")>,\n",
       " <selenium.webdriver.remote.webelement.WebElement (session=\"4d4a72b32edf0ba5fa00d488045ccb80\", element=\"358f0172-e073-4e58-8e11-2d49134e3d94\")>,\n",
       " <selenium.webdriver.remote.webelement.WebElement (session=\"4d4a72b32edf0ba5fa00d488045ccb80\", element=\"479023f4-b6eb-4af3-84bb-30f3c4a10224\")>,\n",
       " <selenium.webdriver.remote.webelement.WebElement (session=\"4d4a72b32edf0ba5fa00d488045ccb80\", element=\"3f7735cd-95ab-43fb-b898-880f6f9f187d\")>]"
      ]
     },
     "execution_count": 36,
     "metadata": {},
     "output_type": "execute_result"
    }
   ],
   "source": [
    "titles_tags=driver.find_elements_by_xpath(\"//a[@class='title fw500 ellipsis']\")\n",
    "titles_tags"
   ]
  },
  {
   "cell_type": "code",
   "execution_count": 37,
   "id": "5e257ac2",
   "metadata": {},
   "outputs": [
    {
     "data": {
      "text/plain": [
       "['Data Scientist / Data Analyst -Business Analyst',\n",
       " 'Senior / Lead Data Scientist',\n",
       " 'data scientist',\n",
       " 'Data analytics / Data scientist intern (work from Home)',\n",
       " 'Senior Data Scientist',\n",
       " 'VP - Sr. Data Scientist For Morgan Stanley, Bangalore',\n",
       " 'Senior Data Scientist',\n",
       " 'Senior Data Scientist',\n",
       " 'Senior Data Scientist',\n",
       " 'Sr Data Scientist']"
      ]
     },
     "execution_count": 37,
     "metadata": {},
     "output_type": "execute_result"
    }
   ],
   "source": [
    "job_titles=[]\n",
    "for i in titles_tags[0:10]:\n",
    "        job_titles.append(i.text) \n",
    "job_titles"
   ]
  },
  {
   "cell_type": "markdown",
   "id": "838165a7",
   "metadata": {},
   "source": [
    "Extracting Job title"
   ]
  },
  {
   "cell_type": "code",
   "execution_count": null,
   "id": "2874f05e",
   "metadata": {},
   "outputs": [],
   "source": []
  },
  {
   "cell_type": "code",
   "execution_count": 39,
   "id": "78ddac63",
   "metadata": {
    "collapsed": true
   },
   "outputs": [
    {
     "data": {
      "text/plain": [
       "[<selenium.webdriver.remote.webelement.WebElement (session=\"4d4a72b32edf0ba5fa00d488045ccb80\", element=\"368eba75-2c05-4c50-87d9-3d2efad32c96\")>,\n",
       " <selenium.webdriver.remote.webelement.WebElement (session=\"4d4a72b32edf0ba5fa00d488045ccb80\", element=\"6eed0175-bd1f-4763-92db-5ca10cc802ba\")>,\n",
       " <selenium.webdriver.remote.webelement.WebElement (session=\"4d4a72b32edf0ba5fa00d488045ccb80\", element=\"b9fa0cff-899a-4a88-a92b-f563165a4e2b\")>,\n",
       " <selenium.webdriver.remote.webelement.WebElement (session=\"4d4a72b32edf0ba5fa00d488045ccb80\", element=\"e6a5aa11-1e8b-488a-b59f-6d6422338816\")>,\n",
       " <selenium.webdriver.remote.webelement.WebElement (session=\"4d4a72b32edf0ba5fa00d488045ccb80\", element=\"51a318a9-7885-4bd1-a96c-217cc9c013d4\")>,\n",
       " <selenium.webdriver.remote.webelement.WebElement (session=\"4d4a72b32edf0ba5fa00d488045ccb80\", element=\"2a335896-ecb7-4782-bb5e-d5b8f17c5eff\")>,\n",
       " <selenium.webdriver.remote.webelement.WebElement (session=\"4d4a72b32edf0ba5fa00d488045ccb80\", element=\"21c3e9d8-f37d-427c-9c1e-6a61d0d85e1c\")>,\n",
       " <selenium.webdriver.remote.webelement.WebElement (session=\"4d4a72b32edf0ba5fa00d488045ccb80\", element=\"c3db0359-3738-4b18-8891-00d9ded6eff7\")>,\n",
       " <selenium.webdriver.remote.webelement.WebElement (session=\"4d4a72b32edf0ba5fa00d488045ccb80\", element=\"b0300c03-c698-44a6-9fcd-2cb442f190f7\")>,\n",
       " <selenium.webdriver.remote.webelement.WebElement (session=\"4d4a72b32edf0ba5fa00d488045ccb80\", element=\"3dfa47f3-1582-4b3a-bccb-419036911483\")>,\n",
       " <selenium.webdriver.remote.webelement.WebElement (session=\"4d4a72b32edf0ba5fa00d488045ccb80\", element=\"c53a5f39-1a5e-45e6-953a-4ebf928af267\")>,\n",
       " <selenium.webdriver.remote.webelement.WebElement (session=\"4d4a72b32edf0ba5fa00d488045ccb80\", element=\"bb85c79e-d2c4-4a8f-b372-cdf5420f81ec\")>,\n",
       " <selenium.webdriver.remote.webelement.WebElement (session=\"4d4a72b32edf0ba5fa00d488045ccb80\", element=\"28b6bfe7-a389-417c-9877-e8f81912be2f\")>,\n",
       " <selenium.webdriver.remote.webelement.WebElement (session=\"4d4a72b32edf0ba5fa00d488045ccb80\", element=\"893bccbf-87a4-4e72-b033-1f0a28d0c97a\")>,\n",
       " <selenium.webdriver.remote.webelement.WebElement (session=\"4d4a72b32edf0ba5fa00d488045ccb80\", element=\"d2f22c86-919a-4a65-a792-4b2fb1828343\")>,\n",
       " <selenium.webdriver.remote.webelement.WebElement (session=\"4d4a72b32edf0ba5fa00d488045ccb80\", element=\"5af0d3bd-599a-4613-8f3a-7f30d7399b06\")>,\n",
       " <selenium.webdriver.remote.webelement.WebElement (session=\"4d4a72b32edf0ba5fa00d488045ccb80\", element=\"5587d523-45ec-460f-bb75-824b6c9a9034\")>,\n",
       " <selenium.webdriver.remote.webelement.WebElement (session=\"4d4a72b32edf0ba5fa00d488045ccb80\", element=\"4f9b83be-030d-403f-8f1e-1a7dcb1fcec2\")>,\n",
       " <selenium.webdriver.remote.webelement.WebElement (session=\"4d4a72b32edf0ba5fa00d488045ccb80\", element=\"c1d3c17b-3c26-4b72-849c-73795aca3409\")>,\n",
       " <selenium.webdriver.remote.webelement.WebElement (session=\"4d4a72b32edf0ba5fa00d488045ccb80\", element=\"ee78b2e3-8a1c-4b1d-811f-1093e5988b29\")>]"
      ]
     },
     "execution_count": 39,
     "metadata": {},
     "output_type": "execute_result"
    }
   ],
   "source": [
    "location_tags=driver.find_elements_by_xpath(\"//li[@class='fleft grey-text br2 placeHolderLi location']\")\n",
    "location_tags"
   ]
  },
  {
   "cell_type": "code",
   "execution_count": 40,
   "id": "c77a3a98",
   "metadata": {},
   "outputs": [
    {
     "data": {
      "text/plain": [
       "['Mumbai, Hyderabad/Secunderabad, Pune, Gurgaon/Gurugram, Chennai, Bangalore/Bengaluru',\n",
       " 'Pune, Chennai, Bangalore/Bengaluru',\n",
       " 'Bangalore/Bengaluru',\n",
       " 'Kolkata, Bangalore/Bengaluru, Delhi / NCR',\n",
       " 'Bangalore/Bengaluru',\n",
       " 'Bangalore/Bengaluru',\n",
       " 'Bangalore/Bengaluru',\n",
       " 'Bangalore/Bengaluru',\n",
       " 'Bangalore/Bengaluru',\n",
       " 'Bangalore/Bengaluru, Mumbai (All Areas)']"
      ]
     },
     "execution_count": 40,
     "metadata": {},
     "output_type": "execute_result"
    }
   ],
   "source": [
    "location=[]\n",
    "for i in location_tags[0:10]:\n",
    "        location.append(i.text) \n",
    "location"
   ]
  },
  {
   "cell_type": "markdown",
   "id": "b5ece85a",
   "metadata": {},
   "source": [
    "Extracting Job location"
   ]
  },
  {
   "cell_type": "code",
   "execution_count": null,
   "id": "5d8c7bc5",
   "metadata": {},
   "outputs": [],
   "source": []
  },
  {
   "cell_type": "code",
   "execution_count": null,
   "id": "c24c554f",
   "metadata": {},
   "outputs": [],
   "source": []
  },
  {
   "cell_type": "code",
   "execution_count": 45,
   "id": "1d8cc290",
   "metadata": {
    "collapsed": true
   },
   "outputs": [
    {
     "data": {
      "text/plain": [
       "[<selenium.webdriver.remote.webelement.WebElement (session=\"4d4a72b32edf0ba5fa00d488045ccb80\", element=\"2fcdebf9-60fb-46ad-b58f-17957b97cd5b\")>,\n",
       " <selenium.webdriver.remote.webelement.WebElement (session=\"4d4a72b32edf0ba5fa00d488045ccb80\", element=\"0b8c1727-af9f-47dd-a326-68c89e772f56\")>,\n",
       " <selenium.webdriver.remote.webelement.WebElement (session=\"4d4a72b32edf0ba5fa00d488045ccb80\", element=\"554566d3-295d-4f97-a070-0a6617849d0d\")>,\n",
       " <selenium.webdriver.remote.webelement.WebElement (session=\"4d4a72b32edf0ba5fa00d488045ccb80\", element=\"b339a644-6b06-44d5-9936-6dc94519e125\")>,\n",
       " <selenium.webdriver.remote.webelement.WebElement (session=\"4d4a72b32edf0ba5fa00d488045ccb80\", element=\"dba49470-29a4-4e33-b585-3ce38bad768d\")>,\n",
       " <selenium.webdriver.remote.webelement.WebElement (session=\"4d4a72b32edf0ba5fa00d488045ccb80\", element=\"95779405-3e49-4c48-b939-bc2c58136633\")>,\n",
       " <selenium.webdriver.remote.webelement.WebElement (session=\"4d4a72b32edf0ba5fa00d488045ccb80\", element=\"51eb92dd-769d-4a09-b034-4a12bf3d3c81\")>,\n",
       " <selenium.webdriver.remote.webelement.WebElement (session=\"4d4a72b32edf0ba5fa00d488045ccb80\", element=\"08d08427-8e17-4477-83e0-0beca13cccfd\")>,\n",
       " <selenium.webdriver.remote.webelement.WebElement (session=\"4d4a72b32edf0ba5fa00d488045ccb80\", element=\"e8ccc923-cd1f-4848-bc5d-08397a3b2b73\")>,\n",
       " <selenium.webdriver.remote.webelement.WebElement (session=\"4d4a72b32edf0ba5fa00d488045ccb80\", element=\"f0a3cd1e-c575-418a-b4fe-29ad23d80257\")>,\n",
       " <selenium.webdriver.remote.webelement.WebElement (session=\"4d4a72b32edf0ba5fa00d488045ccb80\", element=\"9187653e-0f05-4bc6-b257-3e7a9406c788\")>,\n",
       " <selenium.webdriver.remote.webelement.WebElement (session=\"4d4a72b32edf0ba5fa00d488045ccb80\", element=\"a0314921-3ad2-4362-98db-fa1f9cba6caf\")>,\n",
       " <selenium.webdriver.remote.webelement.WebElement (session=\"4d4a72b32edf0ba5fa00d488045ccb80\", element=\"cebb600a-053f-457f-ab12-36a12fcd91b9\")>,\n",
       " <selenium.webdriver.remote.webelement.WebElement (session=\"4d4a72b32edf0ba5fa00d488045ccb80\", element=\"e11e7317-e57c-4ec7-9bd5-0e6ab8030e56\")>,\n",
       " <selenium.webdriver.remote.webelement.WebElement (session=\"4d4a72b32edf0ba5fa00d488045ccb80\", element=\"8cf70302-32ba-4afa-9bbe-da5412fb671c\")>,\n",
       " <selenium.webdriver.remote.webelement.WebElement (session=\"4d4a72b32edf0ba5fa00d488045ccb80\", element=\"42ce7c71-c9bc-4678-ad6c-077427aa33f3\")>,\n",
       " <selenium.webdriver.remote.webelement.WebElement (session=\"4d4a72b32edf0ba5fa00d488045ccb80\", element=\"282136c8-56ba-481e-97e8-66256c9fc1ff\")>,\n",
       " <selenium.webdriver.remote.webelement.WebElement (session=\"4d4a72b32edf0ba5fa00d488045ccb80\", element=\"df77288f-0c10-44ab-b778-468c8176bb26\")>,\n",
       " <selenium.webdriver.remote.webelement.WebElement (session=\"4d4a72b32edf0ba5fa00d488045ccb80\", element=\"074bb690-e560-461a-a1b4-bed774b09266\")>,\n",
       " <selenium.webdriver.remote.webelement.WebElement (session=\"4d4a72b32edf0ba5fa00d488045ccb80\", element=\"5928c28f-85e6-49f0-9381-a7ebfc5008e8\")>]"
      ]
     },
     "execution_count": 45,
     "metadata": {},
     "output_type": "execute_result"
    }
   ],
   "source": [
    "companies_tags=driver.find_elements_by_xpath(\"//a[@class='subTitle ellipsis fleft']\")\n",
    "companies_tags"
   ]
  },
  {
   "cell_type": "code",
   "execution_count": 46,
   "id": "a2b3851f",
   "metadata": {},
   "outputs": [
    {
     "data": {
      "text/plain": [
       "['Inflexion Analytix Private Limited',\n",
       " 'TVS CREDIT SERVICES LIMITED',\n",
       " 'Global Talent Pool',\n",
       " 'TalkValley LLC',\n",
       " 'RedBus',\n",
       " 'Morgan Stanley Advantage Services',\n",
       " 'Walmart Labs',\n",
       " 'ExecBoardinAsia',\n",
       " 'Perform Group',\n",
       " 'intelligent industrial internet systems pvt ltd.']"
      ]
     },
     "execution_count": 46,
     "metadata": {},
     "output_type": "execute_result"
    }
   ],
   "source": [
    "companies_names=[]\n",
    "for i in companies_tags[0:10]:\n",
    "        companies_names.append(i.text) \n",
    "companies_names"
   ]
  },
  {
   "cell_type": "markdown",
   "id": "f1424ced",
   "metadata": {},
   "source": [
    "Extracting Company names"
   ]
  },
  {
   "cell_type": "code",
   "execution_count": null,
   "id": "6ee5bcc8",
   "metadata": {},
   "outputs": [],
   "source": []
  },
  {
   "cell_type": "code",
   "execution_count": null,
   "id": "0f2b7401",
   "metadata": {},
   "outputs": [],
   "source": []
  },
  {
   "cell_type": "code",
   "execution_count": 127,
   "id": "c3e31567",
   "metadata": {},
   "outputs": [],
   "source": [
    "page_urls=[]\n",
    "url = driver.find_elements_by_xpath('//a[@class=\"title fw500 ellipsis\"]')"
   ]
  },
  {
   "cell_type": "code",
   "execution_count": 128,
   "id": "b80050fd",
   "metadata": {},
   "outputs": [
    {
     "data": {
      "text/plain": [
       "20"
      ]
     },
     "execution_count": 128,
     "metadata": {},
     "output_type": "execute_result"
    }
   ],
   "source": [
    "len(url)"
   ]
  },
  {
   "cell_type": "code",
   "execution_count": 129,
   "id": "a73415f8",
   "metadata": {
    "collapsed": true
   },
   "outputs": [
    {
     "data": {
      "text/plain": [
       "['https://www.naukri.com/job-listings-data-scientist-data-analyst-business-analyst-inflexion-analytix-private-limited-mumbai-hyderabad-secunderabad-pune-gurgaon-gurugram-chennai-bangalore-bengaluru-0-to-3-years-100521000368?src=jobsearchDesk&sid=162349850274623&xp=1&px=1',\n",
       " 'https://www.naukri.com/job-listings-senior-lead-data-scientist-tvs-credit-services-limited-pune-chennai-bangalore-bengaluru-3-to-8-years-261220002239?src=jobsearchDesk&sid=162349850274623&xp=2&px=1',\n",
       " 'https://www.naukri.com/job-listings-data-scientist-global-talent-pool-bangalore-bengaluru-0-to-2-years-310521500397?src=jobsearchDesk&sid=162349850274623&xp=3&px=1',\n",
       " 'https://www.naukri.com/job-listings-data-analytics-data-scientist-intern-work-from-home-talkvalley-llc-kolkata-bangalore-bengaluru-delhi-ncr-0-to-5-years-050621000128?src=jobsearchDesk&sid=162349850274623&xp=4&px=1',\n",
       " 'https://www.naukri.com/job-listings-senior-data-scientist-redbus-in-ibibo-group-private-limited-bangalore-bengaluru-5-to-8-years-090621001584?src=jobsearchDesk&sid=162349850274623&xp=5&px=1',\n",
       " 'https://www.naukri.com/job-listings-vp-sr-data-scientist-for-morgan-stanley-bangalore-morgan-stanley-advantage-services-pvt-ltd-bangalore-bengaluru-8-to-13-years-010621002131?src=jobsearchDesk&sid=162349850274623&xp=6&px=1',\n",
       " 'https://www.naukri.com/job-listings-senior-data-scientist-walmart-labs-bangalore-bengaluru-8-to-10-years-020621500403?src=jobsearchDesk&sid=162349850274623&xp=7&px=1',\n",
       " 'https://www.naukri.com/job-listings-senior-data-scientist-execboardinasia-bangalore-bengaluru-5-to-10-years-030621500359?src=jobsearchDesk&sid=162349850274623&xp=8&px=1',\n",
       " 'https://www.naukri.com/job-listings-senior-data-scientist-perform-group-bangalore-bengaluru-4-to-7-years-310521501774?src=jobsearchDesk&sid=162349850274623&xp=9&px=1',\n",
       " 'https://www.naukri.com/job-listings-sr-data-scientist-intelligent-industrial-internet-systems-pvt-ltd-bangalore-bengaluru-mumbai-all-areas-3-to-6-years-030621003155?src=jobsearchDesk&sid=162349850274623&xp=10&px=1']"
      ]
     },
     "execution_count": 129,
     "metadata": {},
     "output_type": "execute_result"
    }
   ],
   "source": [
    "for i in url[0:10]:\n",
    "    page_urls.append(i.get_attribute('href'))\n",
    "page_urls"
   ]
  },
  {
   "cell_type": "code",
   "execution_count": 130,
   "id": "da8e7f1e",
   "metadata": {},
   "outputs": [],
   "source": [
    "job_desc = []\n",
    "for i in page_urls:\n",
    "    driver.get(i)\n",
    "    description=driver.find_elements_by_xpath(\"//div[@class='dang-inner-html' or @class='clearboth description']\")\n",
    "    for i in description:\n",
    "        if i.text is None:\n",
    "            job_desc.append(\"No Data\")\n",
    "        else:\n",
    "            job_desc.append(i.text)    "
   ]
  },
  {
   "cell_type": "code",
   "execution_count": 134,
   "id": "3c21b607",
   "metadata": {},
   "outputs": [
    {
     "data": {
      "text/plain": [
       "'Essential Duties Responsibilities\\nPerform basic descriptive data analysis\\nImplement and assess different ways of data transformation\\nFormulate business problems into math / statistics / machine-learning problems\\nBuild math / statistics / machine-learning models in a scientific way\\nCarry out hypothesis tests in a scientific way\\nDo model selection and model diagnostics\\nActively participate in research meetings\\nSupport the research team by creating desired datasets\\nQualifications\\nGood communication skills\\nExcellent analytical and data science skills with strong attention to detail\\nGood Python programmers with good knowledge of pandas/numpy/sklearn\\nGraduate level math and statistics knowledge is preferred\\nKnowledge in machine learning, NLP knowledge is a plus\\nAbility to communicate complex information clearly\\nAbility to work independently\\nTeam player and open to new ideas'"
      ]
     },
     "execution_count": 134,
     "metadata": {},
     "output_type": "execute_result"
    }
   ],
   "source": [
    "job_desc[2]"
   ]
  },
  {
   "cell_type": "markdown",
   "id": "6f11d818",
   "metadata": {},
   "source": [
    "Extracted Job descriptions from each job listings"
   ]
  },
  {
   "cell_type": "code",
   "execution_count": null,
   "id": "001116aa",
   "metadata": {},
   "outputs": [],
   "source": []
  },
  {
   "cell_type": "code",
   "execution_count": null,
   "id": "a3f1d07c",
   "metadata": {},
   "outputs": [],
   "source": []
  },
  {
   "cell_type": "code",
   "execution_count": 135,
   "id": "df16bf89",
   "metadata": {},
   "outputs": [],
   "source": [
    "jobs=pd.DataFrame({})\n",
    "jobs[\"Title\"]=job_titles\n",
    "jobs[\"Location\"]=location\n",
    "jobs[\"Company Name\"]=companies_names\n",
    "jobs[\"Job Description\"]=job_desc"
   ]
  },
  {
   "cell_type": "code",
   "execution_count": 136,
   "id": "ff8e219c",
   "metadata": {},
   "outputs": [
    {
     "data": {
      "text/html": [
       "<div>\n",
       "<style scoped>\n",
       "    .dataframe tbody tr th:only-of-type {\n",
       "        vertical-align: middle;\n",
       "    }\n",
       "\n",
       "    .dataframe tbody tr th {\n",
       "        vertical-align: top;\n",
       "    }\n",
       "\n",
       "    .dataframe thead th {\n",
       "        text-align: right;\n",
       "    }\n",
       "</style>\n",
       "<table border=\"1\" class=\"dataframe\">\n",
       "  <thead>\n",
       "    <tr style=\"text-align: right;\">\n",
       "      <th></th>\n",
       "      <th>Title</th>\n",
       "      <th>Location</th>\n",
       "      <th>Company Name</th>\n",
       "      <th>Job Description</th>\n",
       "    </tr>\n",
       "  </thead>\n",
       "  <tbody>\n",
       "    <tr>\n",
       "      <th>0</th>\n",
       "      <td>Data Scientist / Data Analyst -Business Analyst</td>\n",
       "      <td>Mumbai, Hyderabad/Secunderabad, Pune, Gurgaon/...</td>\n",
       "      <td>Inflexion Analytix Private Limited</td>\n",
       "      <td>Job Role : Data Scientist/Data Analyst /Busine...</td>\n",
       "    </tr>\n",
       "    <tr>\n",
       "      <th>1</th>\n",
       "      <td>Senior / Lead Data Scientist</td>\n",
       "      <td>Pune, Chennai, Bangalore/Bengaluru</td>\n",
       "      <td>TVS CREDIT SERVICES LIMITED</td>\n",
       "      <td>Key Responsibilities\\nBe responsible for scali...</td>\n",
       "    </tr>\n",
       "    <tr>\n",
       "      <th>2</th>\n",
       "      <td>data scientist</td>\n",
       "      <td>Bangalore/Bengaluru</td>\n",
       "      <td>Global Talent Pool</td>\n",
       "      <td>Essential Duties Responsibilities\\nPerform bas...</td>\n",
       "    </tr>\n",
       "    <tr>\n",
       "      <th>3</th>\n",
       "      <td>Data analytics / Data scientist intern (work f...</td>\n",
       "      <td>Kolkata, Bangalore/Bengaluru, Delhi / NCR</td>\n",
       "      <td>TalkValley LLC</td>\n",
       "      <td>We are a group of tenured professors from Tier...</td>\n",
       "    </tr>\n",
       "    <tr>\n",
       "      <th>4</th>\n",
       "      <td>Senior Data Scientist</td>\n",
       "      <td>Bangalore/Bengaluru</td>\n",
       "      <td>RedBus</td>\n",
       "      <td>Job Role: Senior Data Scientist\\n\\n\\nReporting...</td>\n",
       "    </tr>\n",
       "    <tr>\n",
       "      <th>5</th>\n",
       "      <td>VP - Sr. Data Scientist For Morgan Stanley, Ba...</td>\n",
       "      <td>Bangalore/Bengaluru</td>\n",
       "      <td>Morgan Stanley Advantage Services</td>\n",
       "      <td>About Us\\nMorgan Stanley is a leading global f...</td>\n",
       "    </tr>\n",
       "    <tr>\n",
       "      <th>6</th>\n",
       "      <td>Senior Data Scientist</td>\n",
       "      <td>Bangalore/Bengaluru</td>\n",
       "      <td>Walmart Labs</td>\n",
       "      <td>As a Senior Data Scientist for Walmart Labs, y...</td>\n",
       "    </tr>\n",
       "    <tr>\n",
       "      <th>7</th>\n",
       "      <td>Senior Data Scientist</td>\n",
       "      <td>Bangalore/Bengaluru</td>\n",
       "      <td>ExecBoardinAsia</td>\n",
       "      <td>The Senior Data Scientist is an exciting role ...</td>\n",
       "    </tr>\n",
       "    <tr>\n",
       "      <th>8</th>\n",
       "      <td>Senior Data Scientist</td>\n",
       "      <td>Bangalore/Bengaluru</td>\n",
       "      <td>Perform Group</td>\n",
       "      <td>Responsibilities: -\\nContribute across dierent...</td>\n",
       "    </tr>\n",
       "    <tr>\n",
       "      <th>9</th>\n",
       "      <td>Sr Data Scientist</td>\n",
       "      <td>Bangalore/Bengaluru, Mumbai (All Areas)</td>\n",
       "      <td>intelligent industrial internet systems pvt ltd.</td>\n",
       "      <td>Roles and Responsibilities\\n- Create an indust...</td>\n",
       "    </tr>\n",
       "  </tbody>\n",
       "</table>\n",
       "</div>"
      ],
      "text/plain": [
       "                                               Title  \\\n",
       "0    Data Scientist / Data Analyst -Business Analyst   \n",
       "1                       Senior / Lead Data Scientist   \n",
       "2                                     data scientist   \n",
       "3  Data analytics / Data scientist intern (work f...   \n",
       "4                              Senior Data Scientist   \n",
       "5  VP - Sr. Data Scientist For Morgan Stanley, Ba...   \n",
       "6                              Senior Data Scientist   \n",
       "7                              Senior Data Scientist   \n",
       "8                              Senior Data Scientist   \n",
       "9                                  Sr Data Scientist   \n",
       "\n",
       "                                            Location  \\\n",
       "0  Mumbai, Hyderabad/Secunderabad, Pune, Gurgaon/...   \n",
       "1                 Pune, Chennai, Bangalore/Bengaluru   \n",
       "2                                Bangalore/Bengaluru   \n",
       "3          Kolkata, Bangalore/Bengaluru, Delhi / NCR   \n",
       "4                                Bangalore/Bengaluru   \n",
       "5                                Bangalore/Bengaluru   \n",
       "6                                Bangalore/Bengaluru   \n",
       "7                                Bangalore/Bengaluru   \n",
       "8                                Bangalore/Bengaluru   \n",
       "9            Bangalore/Bengaluru, Mumbai (All Areas)   \n",
       "\n",
       "                                       Company Name  \\\n",
       "0                Inflexion Analytix Private Limited   \n",
       "1                       TVS CREDIT SERVICES LIMITED   \n",
       "2                                Global Talent Pool   \n",
       "3                                    TalkValley LLC   \n",
       "4                                            RedBus   \n",
       "5                 Morgan Stanley Advantage Services   \n",
       "6                                      Walmart Labs   \n",
       "7                                   ExecBoardinAsia   \n",
       "8                                     Perform Group   \n",
       "9  intelligent industrial internet systems pvt ltd.   \n",
       "\n",
       "                                     Job Description  \n",
       "0  Job Role : Data Scientist/Data Analyst /Busine...  \n",
       "1  Key Responsibilities\\nBe responsible for scali...  \n",
       "2  Essential Duties Responsibilities\\nPerform bas...  \n",
       "3  We are a group of tenured professors from Tier...  \n",
       "4  Job Role: Senior Data Scientist\\n\\n\\nReporting...  \n",
       "5  About Us\\nMorgan Stanley is a leading global f...  \n",
       "6  As a Senior Data Scientist for Walmart Labs, y...  \n",
       "7  The Senior Data Scientist is an exciting role ...  \n",
       "8  Responsibilities: -\\nContribute across dierent...  \n",
       "9  Roles and Responsibilities\\n- Create an indust...  "
      ]
     },
     "execution_count": 136,
     "metadata": {},
     "output_type": "execute_result"
    }
   ],
   "source": [
    "jobs"
   ]
  },
  {
   "cell_type": "markdown",
   "id": "82ca5d5f",
   "metadata": {},
   "source": [
    "Clubbed all the details into DataFrame form"
   ]
  },
  {
   "cell_type": "code",
   "execution_count": null,
   "id": "9501e912",
   "metadata": {},
   "outputs": [],
   "source": []
  },
  {
   "cell_type": "code",
   "execution_count": null,
   "id": "0c6d38a3",
   "metadata": {},
   "outputs": [],
   "source": []
  },
  {
   "cell_type": "code",
   "execution_count": null,
   "id": "9d4ea820",
   "metadata": {},
   "outputs": [],
   "source": []
  },
  {
   "cell_type": "markdown",
   "id": "66febbc1",
   "metadata": {},
   "source": [
    "# Q3: In this question you have to scrape data using the filters available on the webpage as shown below:"
   ]
  },
  {
   "cell_type": "code",
   "execution_count": 143,
   "id": "5dd66a48",
   "metadata": {},
   "outputs": [],
   "source": [
    "url = 'https://www.naukri.com/' \n",
    "driver.get(url)"
   ]
  },
  {
   "cell_type": "markdown",
   "id": "6bd6979f",
   "metadata": {},
   "source": [
    "saving and opening the url"
   ]
  },
  {
   "cell_type": "code",
   "execution_count": null,
   "id": "f29beb06",
   "metadata": {},
   "outputs": [],
   "source": []
  },
  {
   "cell_type": "code",
   "execution_count": 144,
   "id": "9529219c",
   "metadata": {},
   "outputs": [
    {
     "data": {
      "text/plain": [
       "<selenium.webdriver.remote.webelement.WebElement (session=\"4d4a72b32edf0ba5fa00d488045ccb80\", element=\"c2241ca4-5d80-4ea3-b3b3-af160b408887\")>"
      ]
     },
     "execution_count": 144,
     "metadata": {},
     "output_type": "execute_result"
    }
   ],
   "source": [
    "search_job = driver.find_element_by_id('qsb-keyword-sugg') \n",
    "search_job"
   ]
  },
  {
   "cell_type": "code",
   "execution_count": 145,
   "id": "5244a88c",
   "metadata": {},
   "outputs": [],
   "source": [
    "search_job.send_keys(\"Data Scientist\")"
   ]
  },
  {
   "cell_type": "markdown",
   "id": "ed65119b",
   "metadata": {},
   "source": [
    "Entering Data Scientist in \"Skill,Designations,Companies\" field"
   ]
  },
  {
   "cell_type": "code",
   "execution_count": null,
   "id": "993360f8",
   "metadata": {},
   "outputs": [],
   "source": []
  },
  {
   "cell_type": "code",
   "execution_count": 146,
   "id": "54cf1189",
   "metadata": {},
   "outputs": [],
   "source": [
    "search_btn = driver.find_element_by_xpath(\"//button[@class='btn']\")\n",
    "search_btn.click()"
   ]
  },
  {
   "cell_type": "markdown",
   "id": "28b123ce",
   "metadata": {},
   "source": [
    "Clicking the search button"
   ]
  },
  {
   "cell_type": "code",
   "execution_count": null,
   "id": "358a41ff",
   "metadata": {},
   "outputs": [],
   "source": []
  },
  {
   "cell_type": "code",
   "execution_count": null,
   "id": "909dcc89",
   "metadata": {},
   "outputs": [],
   "source": []
  },
  {
   "cell_type": "code",
   "execution_count": 147,
   "id": "4f605a77",
   "metadata": {
    "collapsed": true
   },
   "outputs": [
    {
     "data": {
      "text/plain": [
       "[<selenium.webdriver.remote.webelement.WebElement (session=\"4d4a72b32edf0ba5fa00d488045ccb80\", element=\"0d7cae77-218d-4c2d-8517-f81a4323acd0\")>,\n",
       " <selenium.webdriver.remote.webelement.WebElement (session=\"4d4a72b32edf0ba5fa00d488045ccb80\", element=\"335b7bff-253c-4125-a131-7293199878ba\")>,\n",
       " <selenium.webdriver.remote.webelement.WebElement (session=\"4d4a72b32edf0ba5fa00d488045ccb80\", element=\"0b6a0560-e9f9-4087-9e68-21ef64bca4b4\")>,\n",
       " <selenium.webdriver.remote.webelement.WebElement (session=\"4d4a72b32edf0ba5fa00d488045ccb80\", element=\"ec6e6f54-a0d9-4f22-be0e-10e1e4e069e3\")>,\n",
       " <selenium.webdriver.remote.webelement.WebElement (session=\"4d4a72b32edf0ba5fa00d488045ccb80\", element=\"cc8e5103-5640-4a81-b3d3-3785b96672f2\")>,\n",
       " <selenium.webdriver.remote.webelement.WebElement (session=\"4d4a72b32edf0ba5fa00d488045ccb80\", element=\"b337313c-32dc-4c94-bfd6-a028666d72f7\")>,\n",
       " <selenium.webdriver.remote.webelement.WebElement (session=\"4d4a72b32edf0ba5fa00d488045ccb80\", element=\"7aafe1a1-86f7-49e2-803b-8bdc26537bb3\")>,\n",
       " <selenium.webdriver.remote.webelement.WebElement (session=\"4d4a72b32edf0ba5fa00d488045ccb80\", element=\"9b4d3072-4732-4dbb-bb6e-b59161068dde\")>,\n",
       " <selenium.webdriver.remote.webelement.WebElement (session=\"4d4a72b32edf0ba5fa00d488045ccb80\", element=\"dd951671-8524-4d5a-84ac-5a6577f19a21\")>,\n",
       " <selenium.webdriver.remote.webelement.WebElement (session=\"4d4a72b32edf0ba5fa00d488045ccb80\", element=\"5647008d-6ec3-4476-812b-e56b707b0bdb\")>,\n",
       " <selenium.webdriver.remote.webelement.WebElement (session=\"4d4a72b32edf0ba5fa00d488045ccb80\", element=\"ef74202c-4733-4a4a-a243-c76487d0a403\")>,\n",
       " <selenium.webdriver.remote.webelement.WebElement (session=\"4d4a72b32edf0ba5fa00d488045ccb80\", element=\"0e1ad9e7-9e91-4fa3-91c3-fef0844bfa3b\")>,\n",
       " <selenium.webdriver.remote.webelement.WebElement (session=\"4d4a72b32edf0ba5fa00d488045ccb80\", element=\"02995dc4-abfe-4bb4-8fd3-bec1820dbb87\")>,\n",
       " <selenium.webdriver.remote.webelement.WebElement (session=\"4d4a72b32edf0ba5fa00d488045ccb80\", element=\"0db0c05c-f3e5-4cdc-9591-3e6268da9d54\")>,\n",
       " <selenium.webdriver.remote.webelement.WebElement (session=\"4d4a72b32edf0ba5fa00d488045ccb80\", element=\"75f12a9d-7f8a-4e4c-b838-c3b912d343d3\")>,\n",
       " <selenium.webdriver.remote.webelement.WebElement (session=\"4d4a72b32edf0ba5fa00d488045ccb80\", element=\"026ae527-6759-4a2e-8f8d-485cd7bcb466\")>,\n",
       " <selenium.webdriver.remote.webelement.WebElement (session=\"4d4a72b32edf0ba5fa00d488045ccb80\", element=\"5e5f40e6-b6d4-4323-a500-5f4bcaa89c18\")>,\n",
       " <selenium.webdriver.remote.webelement.WebElement (session=\"4d4a72b32edf0ba5fa00d488045ccb80\", element=\"e2b9e5d1-888d-4ff1-88f0-f0a9788480b9\")>,\n",
       " <selenium.webdriver.remote.webelement.WebElement (session=\"4d4a72b32edf0ba5fa00d488045ccb80\", element=\"0d3a6d3f-8fd1-4c6a-93d6-e34b2dd344b0\")>,\n",
       " <selenium.webdriver.remote.webelement.WebElement (session=\"4d4a72b32edf0ba5fa00d488045ccb80\", element=\"30605fc9-8775-45da-aa6a-74817292a748\")>]"
      ]
     },
     "execution_count": 147,
     "metadata": {},
     "output_type": "execute_result"
    }
   ],
   "source": [
    "titles_tags=driver.find_elements_by_xpath(\"//a[@class='title fw500 ellipsis']\")\n",
    "titles_tags"
   ]
  },
  {
   "cell_type": "code",
   "execution_count": 148,
   "id": "401b909c",
   "metadata": {},
   "outputs": [
    {
     "data": {
      "text/plain": [
       "['Data Scientist / Data Analyst -Business Analyst',\n",
       " 'Data analytics / Data scientist intern (work from Home)',\n",
       " 'Data Scientist',\n",
       " 'Chaayos is Looking For Data Scientist',\n",
       " 'Junior Data Scientist',\n",
       " 'We are hiring- Data Scientist +Python- Noida',\n",
       " 'Data Scientist',\n",
       " 'Hiring For Data Scientist @ Prodapt Solutions',\n",
       " 'Data Scientist - High growth VC backed Influencer Marketplace',\n",
       " 'Data Scientist']"
      ]
     },
     "execution_count": 148,
     "metadata": {},
     "output_type": "execute_result"
    }
   ],
   "source": [
    "job_titles=[]\n",
    "for i in titles_tags[0:10]:\n",
    "        job_titles.append(i.text) \n",
    "job_titles"
   ]
  },
  {
   "cell_type": "markdown",
   "id": "7e51f3b5",
   "metadata": {},
   "source": [
    "Extracting Job title"
   ]
  },
  {
   "cell_type": "code",
   "execution_count": null,
   "id": "b4a29f1c",
   "metadata": {},
   "outputs": [],
   "source": []
  },
  {
   "cell_type": "code",
   "execution_count": 150,
   "id": "423c7ec2",
   "metadata": {
    "collapsed": true
   },
   "outputs": [
    {
     "data": {
      "text/plain": [
       "[<selenium.webdriver.remote.webelement.WebElement (session=\"4d4a72b32edf0ba5fa00d488045ccb80\", element=\"c4197b85-1c4c-41f0-907f-4046c16219fe\")>,\n",
       " <selenium.webdriver.remote.webelement.WebElement (session=\"4d4a72b32edf0ba5fa00d488045ccb80\", element=\"d3b519bb-f0de-4f68-8aea-1f2474c54f65\")>,\n",
       " <selenium.webdriver.remote.webelement.WebElement (session=\"4d4a72b32edf0ba5fa00d488045ccb80\", element=\"a64cdd67-208b-4c70-abb6-660548cf45e1\")>,\n",
       " <selenium.webdriver.remote.webelement.WebElement (session=\"4d4a72b32edf0ba5fa00d488045ccb80\", element=\"239a8e1a-a721-43b8-aa2b-6ee56a15b9b1\")>,\n",
       " <selenium.webdriver.remote.webelement.WebElement (session=\"4d4a72b32edf0ba5fa00d488045ccb80\", element=\"954f7e43-bf4d-4999-a287-5f008a431347\")>,\n",
       " <selenium.webdriver.remote.webelement.WebElement (session=\"4d4a72b32edf0ba5fa00d488045ccb80\", element=\"d979b492-344c-45c0-bb95-0355d22a2ec9\")>,\n",
       " <selenium.webdriver.remote.webelement.WebElement (session=\"4d4a72b32edf0ba5fa00d488045ccb80\", element=\"0809d3a1-45d4-4f7c-bde9-7b4a5bcca70b\")>,\n",
       " <selenium.webdriver.remote.webelement.WebElement (session=\"4d4a72b32edf0ba5fa00d488045ccb80\", element=\"a5fd2092-84df-46cd-8cd7-b955c55a4803\")>,\n",
       " <selenium.webdriver.remote.webelement.WebElement (session=\"4d4a72b32edf0ba5fa00d488045ccb80\", element=\"52ca5cb6-7641-4bc8-94c7-65ec4afaa465\")>,\n",
       " <selenium.webdriver.remote.webelement.WebElement (session=\"4d4a72b32edf0ba5fa00d488045ccb80\", element=\"8a12b5dc-6fef-4a48-8061-32aaeedf4277\")>,\n",
       " <selenium.webdriver.remote.webelement.WebElement (session=\"4d4a72b32edf0ba5fa00d488045ccb80\", element=\"0d277626-d24f-4bc8-97b8-19230712c39a\")>,\n",
       " <selenium.webdriver.remote.webelement.WebElement (session=\"4d4a72b32edf0ba5fa00d488045ccb80\", element=\"9c1f5edc-a3fd-49e3-8e88-61db78ce3613\")>,\n",
       " <selenium.webdriver.remote.webelement.WebElement (session=\"4d4a72b32edf0ba5fa00d488045ccb80\", element=\"04f7fd86-ab27-4f6b-8671-1d3a9d853afe\")>,\n",
       " <selenium.webdriver.remote.webelement.WebElement (session=\"4d4a72b32edf0ba5fa00d488045ccb80\", element=\"a8196850-5f09-4df7-9f1e-f07c16e67241\")>,\n",
       " <selenium.webdriver.remote.webelement.WebElement (session=\"4d4a72b32edf0ba5fa00d488045ccb80\", element=\"54e72d7f-9c2f-4ba3-a7a4-f71364f8d0f2\")>,\n",
       " <selenium.webdriver.remote.webelement.WebElement (session=\"4d4a72b32edf0ba5fa00d488045ccb80\", element=\"d6f24e99-fd4d-4abb-b8e8-bea91760abf6\")>,\n",
       " <selenium.webdriver.remote.webelement.WebElement (session=\"4d4a72b32edf0ba5fa00d488045ccb80\", element=\"a8a5f8bb-3528-4c0b-b9a9-c5e4b63429d8\")>,\n",
       " <selenium.webdriver.remote.webelement.WebElement (session=\"4d4a72b32edf0ba5fa00d488045ccb80\", element=\"d39372eb-98b0-4c36-bed4-49034af9f1e4\")>,\n",
       " <selenium.webdriver.remote.webelement.WebElement (session=\"4d4a72b32edf0ba5fa00d488045ccb80\", element=\"9449a499-ebd9-494d-99d4-ef897c958f16\")>,\n",
       " <selenium.webdriver.remote.webelement.WebElement (session=\"4d4a72b32edf0ba5fa00d488045ccb80\", element=\"c47a881e-5ad3-4daa-82f5-c5911951e6a6\")>]"
      ]
     },
     "execution_count": 150,
     "metadata": {},
     "output_type": "execute_result"
    }
   ],
   "source": [
    "location_tags=driver.find_elements_by_xpath(\"//li[@class='fleft grey-text br2 placeHolderLi location']\")\n",
    "location_tags"
   ]
  },
  {
   "cell_type": "code",
   "execution_count": 151,
   "id": "deb0a777",
   "metadata": {},
   "outputs": [
    {
     "data": {
      "text/plain": [
       "['Mumbai, Hyderabad/Secunderabad, Pune, Gurgaon/Gurugram, Chennai, Bangalore/Bengaluru',\n",
       " 'Kolkata, Bangalore/Bengaluru, Delhi / NCR',\n",
       " 'Mumbai, Gurgaon/Gurugram, Bangalore/Bengaluru',\n",
       " 'New Delhi',\n",
       " 'Noida(Sector-59 Noida)',\n",
       " 'Noida, Gurgaon/Gurugram, Delhi / NCR',\n",
       " 'Gurgaon/Gurugram, Delhi / NCR',\n",
       " 'Kolkata, Hyderabad/Secunderabad, Pune, Chennai, Bangalore/Bengaluru, Delhi / NCR',\n",
       " 'Bangalore/Bengaluru, Delhi / NCR, Mumbai (All Areas)',\n",
       " 'Gurgaon/Gurugram, Bangalore/Bengaluru']"
      ]
     },
     "execution_count": 151,
     "metadata": {},
     "output_type": "execute_result"
    }
   ],
   "source": [
    "location=[]\n",
    "for i in location_tags[0:10]:\n",
    "        location.append(i.text) \n",
    "location"
   ]
  },
  {
   "cell_type": "markdown",
   "id": "33abf194",
   "metadata": {},
   "source": [
    "Extracting Job location"
   ]
  },
  {
   "cell_type": "code",
   "execution_count": null,
   "id": "e6e9e25b",
   "metadata": {},
   "outputs": [],
   "source": []
  },
  {
   "cell_type": "code",
   "execution_count": null,
   "id": "303d4871",
   "metadata": {},
   "outputs": [],
   "source": []
  },
  {
   "cell_type": "code",
   "execution_count": 152,
   "id": "c555ea27",
   "metadata": {
    "collapsed": true
   },
   "outputs": [
    {
     "data": {
      "text/plain": [
       "[<selenium.webdriver.remote.webelement.WebElement (session=\"4d4a72b32edf0ba5fa00d488045ccb80\", element=\"19cc8f78-fd14-4ce6-854f-80a23f87968f\")>,\n",
       " <selenium.webdriver.remote.webelement.WebElement (session=\"4d4a72b32edf0ba5fa00d488045ccb80\", element=\"519939a6-936f-4013-bf8c-290ddb4629c6\")>,\n",
       " <selenium.webdriver.remote.webelement.WebElement (session=\"4d4a72b32edf0ba5fa00d488045ccb80\", element=\"61122866-c807-4c17-83c3-a943bef808f8\")>,\n",
       " <selenium.webdriver.remote.webelement.WebElement (session=\"4d4a72b32edf0ba5fa00d488045ccb80\", element=\"dde0770b-9317-4036-b8fc-45be8a40acf3\")>,\n",
       " <selenium.webdriver.remote.webelement.WebElement (session=\"4d4a72b32edf0ba5fa00d488045ccb80\", element=\"84795eba-c993-40c8-b0f4-d7ae9dea5cd9\")>,\n",
       " <selenium.webdriver.remote.webelement.WebElement (session=\"4d4a72b32edf0ba5fa00d488045ccb80\", element=\"af8e7c5d-b098-48c9-b2d6-a3834a320858\")>,\n",
       " <selenium.webdriver.remote.webelement.WebElement (session=\"4d4a72b32edf0ba5fa00d488045ccb80\", element=\"a81d7c6b-be2e-4486-9e74-4ac7b699a91c\")>,\n",
       " <selenium.webdriver.remote.webelement.WebElement (session=\"4d4a72b32edf0ba5fa00d488045ccb80\", element=\"972a9eab-1f01-4418-b6b9-ef03ee59fea8\")>,\n",
       " <selenium.webdriver.remote.webelement.WebElement (session=\"4d4a72b32edf0ba5fa00d488045ccb80\", element=\"c8cdcc25-4475-458c-9ad1-df27b52fa6b1\")>,\n",
       " <selenium.webdriver.remote.webelement.WebElement (session=\"4d4a72b32edf0ba5fa00d488045ccb80\", element=\"771f8368-e0c7-4d3c-b1d2-405819e6e544\")>,\n",
       " <selenium.webdriver.remote.webelement.WebElement (session=\"4d4a72b32edf0ba5fa00d488045ccb80\", element=\"0192c52d-154d-400a-99a0-7a7c7baf088d\")>,\n",
       " <selenium.webdriver.remote.webelement.WebElement (session=\"4d4a72b32edf0ba5fa00d488045ccb80\", element=\"4017e8b2-a5c3-4c3c-8a25-f488cbe33e7d\")>,\n",
       " <selenium.webdriver.remote.webelement.WebElement (session=\"4d4a72b32edf0ba5fa00d488045ccb80\", element=\"bf64f632-7327-4b0b-81ce-aa89dc69bc78\")>,\n",
       " <selenium.webdriver.remote.webelement.WebElement (session=\"4d4a72b32edf0ba5fa00d488045ccb80\", element=\"5b44fe68-86aa-490c-aa9e-0d0236d93ffb\")>,\n",
       " <selenium.webdriver.remote.webelement.WebElement (session=\"4d4a72b32edf0ba5fa00d488045ccb80\", element=\"329009a1-ba19-483a-aa59-f2775651703e\")>,\n",
       " <selenium.webdriver.remote.webelement.WebElement (session=\"4d4a72b32edf0ba5fa00d488045ccb80\", element=\"314320a6-766f-4e2e-a65a-46adc12ad772\")>,\n",
       " <selenium.webdriver.remote.webelement.WebElement (session=\"4d4a72b32edf0ba5fa00d488045ccb80\", element=\"aed0cf9f-e621-4bf2-99f3-9269c433cc50\")>,\n",
       " <selenium.webdriver.remote.webelement.WebElement (session=\"4d4a72b32edf0ba5fa00d488045ccb80\", element=\"d4bc0e13-9686-4767-a34d-e4317104b045\")>,\n",
       " <selenium.webdriver.remote.webelement.WebElement (session=\"4d4a72b32edf0ba5fa00d488045ccb80\", element=\"31a11157-5ea8-472c-b834-ac08af8f0f21\")>,\n",
       " <selenium.webdriver.remote.webelement.WebElement (session=\"4d4a72b32edf0ba5fa00d488045ccb80\", element=\"f444f418-fb27-4d65-8cef-e944cba9ed39\")>]"
      ]
     },
     "execution_count": 152,
     "metadata": {},
     "output_type": "execute_result"
    }
   ],
   "source": [
    "companies_tags=driver.find_elements_by_xpath(\"//a[@class='subTitle ellipsis fleft']\")\n",
    "companies_tags"
   ]
  },
  {
   "cell_type": "code",
   "execution_count": 153,
   "id": "756a0b5d",
   "metadata": {},
   "outputs": [
    {
     "data": {
      "text/plain": [
       "['Inflexion Analytix Private Limited',\n",
       " 'TalkValley LLC',\n",
       " 'Fractal Analytics',\n",
       " 'Chaayos (Sunshine Teahouse Pvt. Ltd.)',\n",
       " 'R Systems International Ltd.',\n",
       " 'RANDSTAD INDIA PVT LTD',\n",
       " 'Milliman India Pvt Ltd',\n",
       " 'BIZZ-BUDDY ENTERPRISES PRIVATE LIMITED',\n",
       " 'Ravgins International Pvt. Ltd.',\n",
       " 'BlackBuck']"
      ]
     },
     "execution_count": 153,
     "metadata": {},
     "output_type": "execute_result"
    }
   ],
   "source": [
    "companies_names=[]\n",
    "for i in companies_tags[0:10]:\n",
    "        companies_names.append(i.text) \n",
    "companies_names"
   ]
  },
  {
   "cell_type": "markdown",
   "id": "b9a805fb",
   "metadata": {},
   "source": [
    "Extracting Company names"
   ]
  },
  {
   "cell_type": "code",
   "execution_count": null,
   "id": "c8877f7d",
   "metadata": {},
   "outputs": [],
   "source": []
  },
  {
   "cell_type": "code",
   "execution_count": null,
   "id": "776e4b56",
   "metadata": {},
   "outputs": [],
   "source": []
  },
  {
   "cell_type": "code",
   "execution_count": 154,
   "id": "8af3a481",
   "metadata": {},
   "outputs": [
    {
     "data": {
      "text/plain": [
       "[<selenium.webdriver.remote.webelement.WebElement (session=\"4d4a72b32edf0ba5fa00d488045ccb80\", element=\"ea86d508-b74d-4b8d-8022-e0ea00b8e59e\")>,\n",
       " <selenium.webdriver.remote.webelement.WebElement (session=\"4d4a72b32edf0ba5fa00d488045ccb80\", element=\"cc364f96-6d4d-4183-9ad2-5916cda1028c\")>,\n",
       " <selenium.webdriver.remote.webelement.WebElement (session=\"4d4a72b32edf0ba5fa00d488045ccb80\", element=\"e502f464-0dba-488d-b7ec-c2908fe67b55\")>,\n",
       " <selenium.webdriver.remote.webelement.WebElement (session=\"4d4a72b32edf0ba5fa00d488045ccb80\", element=\"7948c5d4-b844-43fb-abf7-f71399b29cc9\")>,\n",
       " <selenium.webdriver.remote.webelement.WebElement (session=\"4d4a72b32edf0ba5fa00d488045ccb80\", element=\"41a06c65-3d38-4097-a49b-ee547149d24b\")>,\n",
       " <selenium.webdriver.remote.webelement.WebElement (session=\"4d4a72b32edf0ba5fa00d488045ccb80\", element=\"18e09e41-288f-4e23-b11d-82935f50e662\")>,\n",
       " <selenium.webdriver.remote.webelement.WebElement (session=\"4d4a72b32edf0ba5fa00d488045ccb80\", element=\"ab4681ca-17e4-4340-997d-953f8c0e85ae\")>,\n",
       " <selenium.webdriver.remote.webelement.WebElement (session=\"4d4a72b32edf0ba5fa00d488045ccb80\", element=\"54b802e0-c4a4-46d1-bbf9-037ad731f2ba\")>,\n",
       " <selenium.webdriver.remote.webelement.WebElement (session=\"4d4a72b32edf0ba5fa00d488045ccb80\", element=\"91d4add4-07bd-440a-87b3-ac52dc02e71d\")>,\n",
       " <selenium.webdriver.remote.webelement.WebElement (session=\"4d4a72b32edf0ba5fa00d488045ccb80\", element=\"522b45e7-43fa-4cca-8894-acd1cf8eaca8\")>,\n",
       " <selenium.webdriver.remote.webelement.WebElement (session=\"4d4a72b32edf0ba5fa00d488045ccb80\", element=\"8c793be4-a55a-4a76-8d99-a549151dbf76\")>,\n",
       " <selenium.webdriver.remote.webelement.WebElement (session=\"4d4a72b32edf0ba5fa00d488045ccb80\", element=\"4ccd9137-801c-4659-b4e8-176ef106e52a\")>,\n",
       " <selenium.webdriver.remote.webelement.WebElement (session=\"4d4a72b32edf0ba5fa00d488045ccb80\", element=\"f2faf397-4422-49b1-a9ff-2283d58192eb\")>,\n",
       " <selenium.webdriver.remote.webelement.WebElement (session=\"4d4a72b32edf0ba5fa00d488045ccb80\", element=\"b535df5c-5a38-465d-a4f5-ab0340243bcf\")>,\n",
       " <selenium.webdriver.remote.webelement.WebElement (session=\"4d4a72b32edf0ba5fa00d488045ccb80\", element=\"24673d1d-36a8-4a7a-a09b-832ef4c1f60a\")>,\n",
       " <selenium.webdriver.remote.webelement.WebElement (session=\"4d4a72b32edf0ba5fa00d488045ccb80\", element=\"5aaf2e27-4cf9-4136-9fdf-ee859a50c357\")>,\n",
       " <selenium.webdriver.remote.webelement.WebElement (session=\"4d4a72b32edf0ba5fa00d488045ccb80\", element=\"378c5c5e-ebdd-4af0-9fed-9814d9d29dec\")>,\n",
       " <selenium.webdriver.remote.webelement.WebElement (session=\"4d4a72b32edf0ba5fa00d488045ccb80\", element=\"a2d81de2-e73d-4772-96e1-7fa5e8a446d7\")>,\n",
       " <selenium.webdriver.remote.webelement.WebElement (session=\"4d4a72b32edf0ba5fa00d488045ccb80\", element=\"b7bdfa56-569f-434b-8773-fd6ef77b771c\")>,\n",
       " <selenium.webdriver.remote.webelement.WebElement (session=\"4d4a72b32edf0ba5fa00d488045ccb80\", element=\"1041f73d-fc26-4b0b-94ff-199e8f0e9aa9\")>]"
      ]
     },
     "execution_count": 154,
     "metadata": {},
     "output_type": "execute_result"
    }
   ],
   "source": [
    "experience_tags=driver.find_elements_by_xpath(\"//li[@class='fleft grey-text br2 placeHolderLi experience']\")\n",
    "experience_tags"
   ]
  },
  {
   "cell_type": "code",
   "execution_count": 155,
   "id": "28d15f6a",
   "metadata": {},
   "outputs": [
    {
     "data": {
      "text/plain": [
       "['0-3 Yrs',\n",
       " '0-5 Yrs',\n",
       " '3-7 Yrs',\n",
       " '0-5 Yrs',\n",
       " '3-5 Yrs',\n",
       " '4-7 Yrs',\n",
       " '2-5 Yrs',\n",
       " '5-10 Yrs',\n",
       " '3-5 Yrs',\n",
       " '3-7 Yrs']"
      ]
     },
     "execution_count": 155,
     "metadata": {},
     "output_type": "execute_result"
    }
   ],
   "source": [
    "experience=[]\n",
    "for i in experience_tags[0:10]:\n",
    "        experience.append(i.text) \n",
    "experience"
   ]
  },
  {
   "cell_type": "markdown",
   "id": "d89464f7",
   "metadata": {},
   "source": [
    "Extracting experience"
   ]
  },
  {
   "cell_type": "code",
   "execution_count": null,
   "id": "48b5016c",
   "metadata": {},
   "outputs": [],
   "source": []
  },
  {
   "cell_type": "code",
   "execution_count": 156,
   "id": "3613e9eb",
   "metadata": {},
   "outputs": [],
   "source": [
    "jobs=pd.DataFrame({})\n",
    "jobs[\"Title\"]=job_titles\n",
    "jobs[\"Location\"]=location\n",
    "jobs[\"Company Name\"]=companies_names\n",
    "jobs[\"Experience Required\"]=experience"
   ]
  },
  {
   "cell_type": "code",
   "execution_count": 157,
   "id": "6254263d",
   "metadata": {},
   "outputs": [
    {
     "data": {
      "text/html": [
       "<div>\n",
       "<style scoped>\n",
       "    .dataframe tbody tr th:only-of-type {\n",
       "        vertical-align: middle;\n",
       "    }\n",
       "\n",
       "    .dataframe tbody tr th {\n",
       "        vertical-align: top;\n",
       "    }\n",
       "\n",
       "    .dataframe thead th {\n",
       "        text-align: right;\n",
       "    }\n",
       "</style>\n",
       "<table border=\"1\" class=\"dataframe\">\n",
       "  <thead>\n",
       "    <tr style=\"text-align: right;\">\n",
       "      <th></th>\n",
       "      <th>Title</th>\n",
       "      <th>Location</th>\n",
       "      <th>Company Name</th>\n",
       "      <th>Experience Required</th>\n",
       "    </tr>\n",
       "  </thead>\n",
       "  <tbody>\n",
       "    <tr>\n",
       "      <th>0</th>\n",
       "      <td>Data Scientist / Data Analyst -Business Analyst</td>\n",
       "      <td>Mumbai, Hyderabad/Secunderabad, Pune, Gurgaon/...</td>\n",
       "      <td>Inflexion Analytix Private Limited</td>\n",
       "      <td>0-3 Yrs</td>\n",
       "    </tr>\n",
       "    <tr>\n",
       "      <th>1</th>\n",
       "      <td>Data analytics / Data scientist intern (work f...</td>\n",
       "      <td>Kolkata, Bangalore/Bengaluru, Delhi / NCR</td>\n",
       "      <td>TalkValley LLC</td>\n",
       "      <td>0-5 Yrs</td>\n",
       "    </tr>\n",
       "    <tr>\n",
       "      <th>2</th>\n",
       "      <td>Data Scientist</td>\n",
       "      <td>Mumbai, Gurgaon/Gurugram, Bangalore/Bengaluru</td>\n",
       "      <td>Fractal Analytics</td>\n",
       "      <td>3-7 Yrs</td>\n",
       "    </tr>\n",
       "    <tr>\n",
       "      <th>3</th>\n",
       "      <td>Chaayos is Looking For Data Scientist</td>\n",
       "      <td>New Delhi</td>\n",
       "      <td>Chaayos (Sunshine Teahouse Pvt. Ltd.)</td>\n",
       "      <td>0-5 Yrs</td>\n",
       "    </tr>\n",
       "    <tr>\n",
       "      <th>4</th>\n",
       "      <td>Junior Data Scientist</td>\n",
       "      <td>Noida(Sector-59 Noida)</td>\n",
       "      <td>R Systems International Ltd.</td>\n",
       "      <td>3-5 Yrs</td>\n",
       "    </tr>\n",
       "    <tr>\n",
       "      <th>5</th>\n",
       "      <td>We are hiring- Data Scientist +Python- Noida</td>\n",
       "      <td>Noida, Gurgaon/Gurugram, Delhi / NCR</td>\n",
       "      <td>RANDSTAD INDIA PVT LTD</td>\n",
       "      <td>4-7 Yrs</td>\n",
       "    </tr>\n",
       "    <tr>\n",
       "      <th>6</th>\n",
       "      <td>Data Scientist</td>\n",
       "      <td>Gurgaon/Gurugram, Delhi / NCR</td>\n",
       "      <td>Milliman India Pvt Ltd</td>\n",
       "      <td>2-5 Yrs</td>\n",
       "    </tr>\n",
       "    <tr>\n",
       "      <th>7</th>\n",
       "      <td>Hiring For Data Scientist @ Prodapt Solutions</td>\n",
       "      <td>Kolkata, Hyderabad/Secunderabad, Pune, Chennai...</td>\n",
       "      <td>BIZZ-BUDDY ENTERPRISES PRIVATE LIMITED</td>\n",
       "      <td>5-10 Yrs</td>\n",
       "    </tr>\n",
       "    <tr>\n",
       "      <th>8</th>\n",
       "      <td>Data Scientist - High growth VC backed Influen...</td>\n",
       "      <td>Bangalore/Bengaluru, Delhi / NCR, Mumbai (All ...</td>\n",
       "      <td>Ravgins International Pvt. Ltd.</td>\n",
       "      <td>3-5 Yrs</td>\n",
       "    </tr>\n",
       "    <tr>\n",
       "      <th>9</th>\n",
       "      <td>Data Scientist</td>\n",
       "      <td>Gurgaon/Gurugram, Bangalore/Bengaluru</td>\n",
       "      <td>BlackBuck</td>\n",
       "      <td>3-7 Yrs</td>\n",
       "    </tr>\n",
       "  </tbody>\n",
       "</table>\n",
       "</div>"
      ],
      "text/plain": [
       "                                               Title  \\\n",
       "0    Data Scientist / Data Analyst -Business Analyst   \n",
       "1  Data analytics / Data scientist intern (work f...   \n",
       "2                                     Data Scientist   \n",
       "3              Chaayos is Looking For Data Scientist   \n",
       "4                              Junior Data Scientist   \n",
       "5       We are hiring- Data Scientist +Python- Noida   \n",
       "6                                     Data Scientist   \n",
       "7      Hiring For Data Scientist @ Prodapt Solutions   \n",
       "8  Data Scientist - High growth VC backed Influen...   \n",
       "9                                     Data Scientist   \n",
       "\n",
       "                                            Location  \\\n",
       "0  Mumbai, Hyderabad/Secunderabad, Pune, Gurgaon/...   \n",
       "1          Kolkata, Bangalore/Bengaluru, Delhi / NCR   \n",
       "2      Mumbai, Gurgaon/Gurugram, Bangalore/Bengaluru   \n",
       "3                                          New Delhi   \n",
       "4                             Noida(Sector-59 Noida)   \n",
       "5               Noida, Gurgaon/Gurugram, Delhi / NCR   \n",
       "6                      Gurgaon/Gurugram, Delhi / NCR   \n",
       "7  Kolkata, Hyderabad/Secunderabad, Pune, Chennai...   \n",
       "8  Bangalore/Bengaluru, Delhi / NCR, Mumbai (All ...   \n",
       "9              Gurgaon/Gurugram, Bangalore/Bengaluru   \n",
       "\n",
       "                             Company Name Experience Required  \n",
       "0      Inflexion Analytix Private Limited             0-3 Yrs  \n",
       "1                          TalkValley LLC             0-5 Yrs  \n",
       "2                       Fractal Analytics             3-7 Yrs  \n",
       "3   Chaayos (Sunshine Teahouse Pvt. Ltd.)             0-5 Yrs  \n",
       "4            R Systems International Ltd.             3-5 Yrs  \n",
       "5                  RANDSTAD INDIA PVT LTD             4-7 Yrs  \n",
       "6                  Milliman India Pvt Ltd             2-5 Yrs  \n",
       "7  BIZZ-BUDDY ENTERPRISES PRIVATE LIMITED            5-10 Yrs  \n",
       "8         Ravgins International Pvt. Ltd.             3-5 Yrs  \n",
       "9                               BlackBuck             3-7 Yrs  "
      ]
     },
     "execution_count": 157,
     "metadata": {},
     "output_type": "execute_result"
    }
   ],
   "source": [
    "jobs"
   ]
  },
  {
   "cell_type": "markdown",
   "id": "1a69b068",
   "metadata": {},
   "source": [
    "Clubbed all the details into DataFrame form"
   ]
  },
  {
   "cell_type": "code",
   "execution_count": null,
   "id": "87b83b7f",
   "metadata": {},
   "outputs": [],
   "source": []
  },
  {
   "cell_type": "code",
   "execution_count": null,
   "id": "57cd48e7",
   "metadata": {},
   "outputs": [],
   "source": []
  },
  {
   "cell_type": "code",
   "execution_count": null,
   "id": "73dd252b",
   "metadata": {},
   "outputs": [],
   "source": []
  },
  {
   "cell_type": "code",
   "execution_count": null,
   "id": "aa0119c7",
   "metadata": {},
   "outputs": [],
   "source": []
  },
  {
   "cell_type": "code",
   "execution_count": null,
   "id": "a83b870f",
   "metadata": {},
   "outputs": [],
   "source": []
  },
  {
   "cell_type": "code",
   "execution_count": null,
   "id": "481f46bb",
   "metadata": {},
   "outputs": [],
   "source": []
  },
  {
   "cell_type": "markdown",
   "id": "c3dc304f",
   "metadata": {},
   "source": [
    "# Q4: Write a python program to scrape data for first 10 job results for Data scientist Designation in Noida location. You have to scrape company_name, No. of days ago when job was posted, Rating of the company."
   ]
  },
  {
   "cell_type": "code",
   "execution_count": 4,
   "id": "fd2d372c",
   "metadata": {},
   "outputs": [],
   "source": [
    "url = 'https://www.glassdoor.co.in/sitedirectory/title-jobs.htm' \n",
    "driver.get(url)"
   ]
  },
  {
   "cell_type": "markdown",
   "id": "88232013",
   "metadata": {},
   "source": [
    "saving and opening the url"
   ]
  },
  {
   "cell_type": "code",
   "execution_count": null,
   "id": "7dba4cb5",
   "metadata": {},
   "outputs": [],
   "source": []
  },
  {
   "cell_type": "code",
   "execution_count": 6,
   "id": "cb6c754f",
   "metadata": {},
   "outputs": [
    {
     "data": {
      "text/plain": [
       "<selenium.webdriver.remote.webelement.WebElement (session=\"1af78a8f4f1ab22f0c22af4527b228ef\", element=\"3eb88c85-b747-433e-b9a7-7df41695a22e\")>"
      ]
     },
     "execution_count": 6,
     "metadata": {},
     "output_type": "execute_result"
    }
   ],
   "source": [
    "search_job = driver.find_element_by_id('sc.keyword') \n",
    "search_job"
   ]
  },
  {
   "cell_type": "code",
   "execution_count": 7,
   "id": "4edbe832",
   "metadata": {},
   "outputs": [],
   "source": [
    "search_job.send_keys(\"Data Scientist\")"
   ]
  },
  {
   "cell_type": "markdown",
   "id": "360fa47d",
   "metadata": {},
   "source": [
    "Entering Data Scientist in \"Job Title,Keyword,Company\" field"
   ]
  },
  {
   "cell_type": "code",
   "execution_count": null,
   "id": "440b765a",
   "metadata": {},
   "outputs": [],
   "source": []
  },
  {
   "cell_type": "code",
   "execution_count": 8,
   "id": "e58aa01d",
   "metadata": {},
   "outputs": [
    {
     "data": {
      "text/plain": [
       "<selenium.webdriver.remote.webelement.WebElement (session=\"1af78a8f4f1ab22f0c22af4527b228ef\", element=\"fb95c582-4718-4b4c-9f71-f519daaed9dc\")>"
      ]
     },
     "execution_count": 8,
     "metadata": {},
     "output_type": "execute_result"
    }
   ],
   "source": [
    "search_loc = driver.find_element_by_id('sc.location') \n",
    "search_loc"
   ]
  },
  {
   "cell_type": "code",
   "execution_count": 9,
   "id": "751787f1",
   "metadata": {},
   "outputs": [],
   "source": [
    "search_loc.send_keys(\"Noida\") "
   ]
  },
  {
   "cell_type": "markdown",
   "id": "3c4826dc",
   "metadata": {},
   "source": [
    "Entering Noida in \"enter the location\" field"
   ]
  },
  {
   "cell_type": "code",
   "execution_count": null,
   "id": "020df8c3",
   "metadata": {},
   "outputs": [],
   "source": []
  },
  {
   "cell_type": "code",
   "execution_count": 10,
   "id": "d1a57639",
   "metadata": {},
   "outputs": [],
   "source": [
    "search_btn = driver.find_element_by_xpath(\"//button[@class='gd-ui-button ml-std col-auto SearchStyles__newSearchButton css-iixdfr']\")\n",
    "search_btn.click()"
   ]
  },
  {
   "cell_type": "markdown",
   "id": "858731d4",
   "metadata": {},
   "source": [
    "Clicking the search button"
   ]
  },
  {
   "cell_type": "code",
   "execution_count": null,
   "id": "00b57430",
   "metadata": {},
   "outputs": [],
   "source": []
  },
  {
   "cell_type": "code",
   "execution_count": null,
   "id": "0cee96b3",
   "metadata": {},
   "outputs": [],
   "source": []
  },
  {
   "cell_type": "code",
   "execution_count": null,
   "id": "eb954222",
   "metadata": {},
   "outputs": [],
   "source": []
  },
  {
   "cell_type": "code",
   "execution_count": null,
   "id": "07794222",
   "metadata": {},
   "outputs": [],
   "source": []
  },
  {
   "cell_type": "code",
   "execution_count": 11,
   "id": "d5e8ec75",
   "metadata": {
    "collapsed": true
   },
   "outputs": [
    {
     "data": {
      "text/plain": [
       "[<selenium.webdriver.remote.webelement.WebElement (session=\"1af78a8f4f1ab22f0c22af4527b228ef\", element=\"c3882841-2c06-4283-9626-b0508f6a0186\")>,\n",
       " <selenium.webdriver.remote.webelement.WebElement (session=\"1af78a8f4f1ab22f0c22af4527b228ef\", element=\"a169e7bf-4a20-42d9-a713-2fda2827f55c\")>,\n",
       " <selenium.webdriver.remote.webelement.WebElement (session=\"1af78a8f4f1ab22f0c22af4527b228ef\", element=\"43542bf3-e533-4ab9-b0c1-c3ed63e49526\")>,\n",
       " <selenium.webdriver.remote.webelement.WebElement (session=\"1af78a8f4f1ab22f0c22af4527b228ef\", element=\"29e759ce-5869-4422-a5bd-ab019642bd1b\")>,\n",
       " <selenium.webdriver.remote.webelement.WebElement (session=\"1af78a8f4f1ab22f0c22af4527b228ef\", element=\"8810a341-f542-4c68-b73d-9ea58781df53\")>,\n",
       " <selenium.webdriver.remote.webelement.WebElement (session=\"1af78a8f4f1ab22f0c22af4527b228ef\", element=\"0b654010-2a09-4a85-865f-43dc14f2a3e6\")>,\n",
       " <selenium.webdriver.remote.webelement.WebElement (session=\"1af78a8f4f1ab22f0c22af4527b228ef\", element=\"978089f1-3b05-4c07-9b8e-bb99dcf941f9\")>,\n",
       " <selenium.webdriver.remote.webelement.WebElement (session=\"1af78a8f4f1ab22f0c22af4527b228ef\", element=\"37d7c140-b1b0-49ed-9490-327e0657b3b7\")>,\n",
       " <selenium.webdriver.remote.webelement.WebElement (session=\"1af78a8f4f1ab22f0c22af4527b228ef\", element=\"6823c14d-141d-4dea-b5b6-a67bab0f1474\")>,\n",
       " <selenium.webdriver.remote.webelement.WebElement (session=\"1af78a8f4f1ab22f0c22af4527b228ef\", element=\"4406ecd6-aeaa-4211-b985-0a74649ebf0e\")>,\n",
       " <selenium.webdriver.remote.webelement.WebElement (session=\"1af78a8f4f1ab22f0c22af4527b228ef\", element=\"d136e039-f37e-4a65-97d5-9122f162f410\")>,\n",
       " <selenium.webdriver.remote.webelement.WebElement (session=\"1af78a8f4f1ab22f0c22af4527b228ef\", element=\"5c5b61ad-657b-435c-9843-7cc36af6e76f\")>,\n",
       " <selenium.webdriver.remote.webelement.WebElement (session=\"1af78a8f4f1ab22f0c22af4527b228ef\", element=\"aa207ba7-7b9f-44d0-a70a-3adee57ef438\")>,\n",
       " <selenium.webdriver.remote.webelement.WebElement (session=\"1af78a8f4f1ab22f0c22af4527b228ef\", element=\"80b7838c-1626-4ccc-b16d-edd5ab5dc4f9\")>,\n",
       " <selenium.webdriver.remote.webelement.WebElement (session=\"1af78a8f4f1ab22f0c22af4527b228ef\", element=\"77d3f86d-da11-4dcd-beec-f079f8048053\")>,\n",
       " <selenium.webdriver.remote.webelement.WebElement (session=\"1af78a8f4f1ab22f0c22af4527b228ef\", element=\"719e2ff7-0195-4875-95a5-33171d2b4fdc\")>,\n",
       " <selenium.webdriver.remote.webelement.WebElement (session=\"1af78a8f4f1ab22f0c22af4527b228ef\", element=\"df7560f9-2c29-4feb-9339-8343dc13e3ab\")>,\n",
       " <selenium.webdriver.remote.webelement.WebElement (session=\"1af78a8f4f1ab22f0c22af4527b228ef\", element=\"8737e0e5-8309-4e28-b04e-691ae6290219\")>,\n",
       " <selenium.webdriver.remote.webelement.WebElement (session=\"1af78a8f4f1ab22f0c22af4527b228ef\", element=\"b05111c2-d244-4496-b9a1-a34bf5adc24d\")>,\n",
       " <selenium.webdriver.remote.webelement.WebElement (session=\"1af78a8f4f1ab22f0c22af4527b228ef\", element=\"398209b7-4b73-4f31-acaa-a36461b94f0e\")>,\n",
       " <selenium.webdriver.remote.webelement.WebElement (session=\"1af78a8f4f1ab22f0c22af4527b228ef\", element=\"803a314e-2da1-4604-bb23-fbbbc34d58ff\")>,\n",
       " <selenium.webdriver.remote.webelement.WebElement (session=\"1af78a8f4f1ab22f0c22af4527b228ef\", element=\"7b7e656b-b5e7-4383-acb3-3556bfa05380\")>,\n",
       " <selenium.webdriver.remote.webelement.WebElement (session=\"1af78a8f4f1ab22f0c22af4527b228ef\", element=\"d1bf03ad-b9ba-44b1-aab3-ad785e18c2bf\")>,\n",
       " <selenium.webdriver.remote.webelement.WebElement (session=\"1af78a8f4f1ab22f0c22af4527b228ef\", element=\"64314226-5347-4272-837f-968b8d21d823\")>,\n",
       " <selenium.webdriver.remote.webelement.WebElement (session=\"1af78a8f4f1ab22f0c22af4527b228ef\", element=\"c5677016-1f9a-411b-8cd5-75fa376c24c8\")>,\n",
       " <selenium.webdriver.remote.webelement.WebElement (session=\"1af78a8f4f1ab22f0c22af4527b228ef\", element=\"02bad4be-5b20-49e2-8297-824ab56eae09\")>,\n",
       " <selenium.webdriver.remote.webelement.WebElement (session=\"1af78a8f4f1ab22f0c22af4527b228ef\", element=\"0e2532a6-4ac7-4d74-b8b8-43f684e7e182\")>,\n",
       " <selenium.webdriver.remote.webelement.WebElement (session=\"1af78a8f4f1ab22f0c22af4527b228ef\", element=\"a035142c-92f5-4731-8789-eff29dca6903\")>,\n",
       " <selenium.webdriver.remote.webelement.WebElement (session=\"1af78a8f4f1ab22f0c22af4527b228ef\", element=\"5c75ae2a-2581-41ca-9c1c-f9f90b750cd6\")>,\n",
       " <selenium.webdriver.remote.webelement.WebElement (session=\"1af78a8f4f1ab22f0c22af4527b228ef\", element=\"e719ad7a-97a6-4f6b-b0f8-3aa8a7b47550\")>]"
      ]
     },
     "execution_count": 11,
     "metadata": {},
     "output_type": "execute_result"
    }
   ],
   "source": [
    "companies_tags=driver.find_elements_by_xpath(\"//a[@class=' css-l2wjgv e1n63ojh0 jobLink']\")\n",
    "companies_tags"
   ]
  },
  {
   "cell_type": "code",
   "execution_count": 13,
   "id": "f6778296",
   "metadata": {},
   "outputs": [
    {
     "data": {
      "text/plain": [
       "['Ginger Webs Pvt. Ltd.',\n",
       " 'Crowe',\n",
       " 'Adobe',\n",
       " 'Ericsson',\n",
       " 'Jubna',\n",
       " 'dunnhumby',\n",
       " 'CRMNEXT',\n",
       " 'Amploy',\n",
       " 'Techlive',\n",
       " 'Biz2Credit Inc']"
      ]
     },
     "execution_count": 13,
     "metadata": {},
     "output_type": "execute_result"
    }
   ],
   "source": [
    "companies_names=[]\n",
    "for i in companies_tags[0:10]:\n",
    "        companies_names.append(i.text) \n",
    "companies_names"
   ]
  },
  {
   "cell_type": "markdown",
   "id": "cfafe486",
   "metadata": {},
   "source": [
    "Extracting Company names"
   ]
  },
  {
   "cell_type": "code",
   "execution_count": null,
   "id": "087f993e",
   "metadata": {},
   "outputs": [],
   "source": []
  },
  {
   "cell_type": "code",
   "execution_count": null,
   "id": "d2f56ab0",
   "metadata": {},
   "outputs": [],
   "source": []
  },
  {
   "cell_type": "code",
   "execution_count": null,
   "id": "be3ba858",
   "metadata": {},
   "outputs": [],
   "source": []
  },
  {
   "cell_type": "code",
   "execution_count": null,
   "id": "558791aa",
   "metadata": {},
   "outputs": [],
   "source": []
  },
  {
   "cell_type": "code",
   "execution_count": 16,
   "id": "f652479a",
   "metadata": {
    "collapsed": true
   },
   "outputs": [
    {
     "data": {
      "text/plain": [
       "[<selenium.webdriver.remote.webelement.WebElement (session=\"1af78a8f4f1ab22f0c22af4527b228ef\", element=\"4193b655-4b1b-4acc-843c-db27c2472e1d\")>,\n",
       " <selenium.webdriver.remote.webelement.WebElement (session=\"1af78a8f4f1ab22f0c22af4527b228ef\", element=\"60d9e10f-cf5e-47be-b6b8-ce3a24af6a31\")>,\n",
       " <selenium.webdriver.remote.webelement.WebElement (session=\"1af78a8f4f1ab22f0c22af4527b228ef\", element=\"5e5acaa3-e5fc-412a-8ab3-b14a34d5797f\")>,\n",
       " <selenium.webdriver.remote.webelement.WebElement (session=\"1af78a8f4f1ab22f0c22af4527b228ef\", element=\"8575fa78-be45-4fe0-a1bd-380a5b6a5194\")>,\n",
       " <selenium.webdriver.remote.webelement.WebElement (session=\"1af78a8f4f1ab22f0c22af4527b228ef\", element=\"73100f34-fa6c-4a63-afb7-d944e78fba51\")>,\n",
       " <selenium.webdriver.remote.webelement.WebElement (session=\"1af78a8f4f1ab22f0c22af4527b228ef\", element=\"1dd17e82-4269-4f2f-a18e-0fe01cca07e7\")>,\n",
       " <selenium.webdriver.remote.webelement.WebElement (session=\"1af78a8f4f1ab22f0c22af4527b228ef\", element=\"44f2a204-7035-4d49-bd70-0066d234637c\")>,\n",
       " <selenium.webdriver.remote.webelement.WebElement (session=\"1af78a8f4f1ab22f0c22af4527b228ef\", element=\"7e603a36-6d37-4716-b471-0007da2f534e\")>,\n",
       " <selenium.webdriver.remote.webelement.WebElement (session=\"1af78a8f4f1ab22f0c22af4527b228ef\", element=\"bd5c7235-9477-478d-9f22-2fa750b33299\")>,\n",
       " <selenium.webdriver.remote.webelement.WebElement (session=\"1af78a8f4f1ab22f0c22af4527b228ef\", element=\"f2df4789-e0f0-4a23-bf6b-8908796e541f\")>,\n",
       " <selenium.webdriver.remote.webelement.WebElement (session=\"1af78a8f4f1ab22f0c22af4527b228ef\", element=\"6149b096-5ac0-40ef-94d4-306b4312fca3\")>,\n",
       " <selenium.webdriver.remote.webelement.WebElement (session=\"1af78a8f4f1ab22f0c22af4527b228ef\", element=\"41c9b4db-8113-4b03-8d5d-ad17f5140993\")>,\n",
       " <selenium.webdriver.remote.webelement.WebElement (session=\"1af78a8f4f1ab22f0c22af4527b228ef\", element=\"8fa180fe-9b95-4c69-9b07-352ee6d3cccd\")>,\n",
       " <selenium.webdriver.remote.webelement.WebElement (session=\"1af78a8f4f1ab22f0c22af4527b228ef\", element=\"72b37f62-21c9-4f54-9583-bd74e12490b1\")>,\n",
       " <selenium.webdriver.remote.webelement.WebElement (session=\"1af78a8f4f1ab22f0c22af4527b228ef\", element=\"b9fee470-c65a-4da8-950a-b5517f3095ff\")>,\n",
       " <selenium.webdriver.remote.webelement.WebElement (session=\"1af78a8f4f1ab22f0c22af4527b228ef\", element=\"5c37cf1c-cf3e-4bc2-8cea-faeba29db2d3\")>,\n",
       " <selenium.webdriver.remote.webelement.WebElement (session=\"1af78a8f4f1ab22f0c22af4527b228ef\", element=\"52d93325-36c8-4821-bd6a-e755c8f08535\")>,\n",
       " <selenium.webdriver.remote.webelement.WebElement (session=\"1af78a8f4f1ab22f0c22af4527b228ef\", element=\"e223b10b-e5f0-42da-867b-94af248f7d04\")>,\n",
       " <selenium.webdriver.remote.webelement.WebElement (session=\"1af78a8f4f1ab22f0c22af4527b228ef\", element=\"769912e1-2f0b-498f-944f-26f483dde5f4\")>,\n",
       " <selenium.webdriver.remote.webelement.WebElement (session=\"1af78a8f4f1ab22f0c22af4527b228ef\", element=\"5f4ddb58-3bb2-4890-98b2-ea61a3e1399d\")>,\n",
       " <selenium.webdriver.remote.webelement.WebElement (session=\"1af78a8f4f1ab22f0c22af4527b228ef\", element=\"67c2da77-59a0-45da-bde2-f89957301bad\")>,\n",
       " <selenium.webdriver.remote.webelement.WebElement (session=\"1af78a8f4f1ab22f0c22af4527b228ef\", element=\"59074457-d8cb-4a8b-bae3-5910e3de9d50\")>,\n",
       " <selenium.webdriver.remote.webelement.WebElement (session=\"1af78a8f4f1ab22f0c22af4527b228ef\", element=\"650484ac-b210-40d5-8de1-130b5f695ee5\")>,\n",
       " <selenium.webdriver.remote.webelement.WebElement (session=\"1af78a8f4f1ab22f0c22af4527b228ef\", element=\"b06b691a-412b-4346-969d-cae9280f6433\")>,\n",
       " <selenium.webdriver.remote.webelement.WebElement (session=\"1af78a8f4f1ab22f0c22af4527b228ef\", element=\"a74312f4-9326-4c09-9491-da880d84f90b\")>,\n",
       " <selenium.webdriver.remote.webelement.WebElement (session=\"1af78a8f4f1ab22f0c22af4527b228ef\", element=\"446e5ab8-3aec-41cc-a715-4ad5a522411e\")>,\n",
       " <selenium.webdriver.remote.webelement.WebElement (session=\"1af78a8f4f1ab22f0c22af4527b228ef\", element=\"6c0e4220-fe75-41f5-b18a-f38aee2764e6\")>,\n",
       " <selenium.webdriver.remote.webelement.WebElement (session=\"1af78a8f4f1ab22f0c22af4527b228ef\", element=\"c779807c-3356-44bf-b226-e99885e57a3e\")>,\n",
       " <selenium.webdriver.remote.webelement.WebElement (session=\"1af78a8f4f1ab22f0c22af4527b228ef\", element=\"1063f594-eb0e-44c1-aa43-9700838e45d5\")>,\n",
       " <selenium.webdriver.remote.webelement.WebElement (session=\"1af78a8f4f1ab22f0c22af4527b228ef\", element=\"73a89ffc-9d69-4dea-b302-367972ea5e2a\")>]"
      ]
     },
     "execution_count": 16,
     "metadata": {},
     "output_type": "execute_result"
    }
   ],
   "source": [
    "days=driver.find_elements_by_xpath(\"//div[@class='d-flex align-items-end pl-std css-mi55ob']\")\n",
    "days"
   ]
  },
  {
   "cell_type": "code",
   "execution_count": 17,
   "id": "17157c08",
   "metadata": {},
   "outputs": [
    {
     "data": {
      "text/plain": [
       "['3d', '11d', '1d', '9d', '11d', '3d', '30d+', '9d', '30d+', '30d+']"
      ]
     },
     "execution_count": 17,
     "metadata": {},
     "output_type": "execute_result"
    }
   ],
   "source": [
    "days_ago_posted=[]\n",
    "for i in days[0:10]:\n",
    "        days_ago_posted.append(i.text) \n",
    "days_ago_posted"
   ]
  },
  {
   "cell_type": "markdown",
   "id": "00129c7c",
   "metadata": {},
   "source": [
    "Extracting No. of days ago when job was posted "
   ]
  },
  {
   "cell_type": "code",
   "execution_count": null,
   "id": "17a534b4",
   "metadata": {},
   "outputs": [],
   "source": []
  },
  {
   "cell_type": "code",
   "execution_count": null,
   "id": "a9192d3b",
   "metadata": {},
   "outputs": [],
   "source": []
  },
  {
   "cell_type": "code",
   "execution_count": null,
   "id": "5094ff1d",
   "metadata": {},
   "outputs": [],
   "source": []
  },
  {
   "cell_type": "code",
   "execution_count": 51,
   "id": "28ee4d78",
   "metadata": {
    "collapsed": true
   },
   "outputs": [
    {
     "data": {
      "text/plain": [
       "[<selenium.webdriver.remote.webelement.WebElement (session=\"1af78a8f4f1ab22f0c22af4527b228ef\", element=\"c53cb587-e4ef-4934-9e64-67172992b0e2\")>,\n",
       " <selenium.webdriver.remote.webelement.WebElement (session=\"1af78a8f4f1ab22f0c22af4527b228ef\", element=\"bbb04032-cf6d-42f5-bd6b-3e42202f7af3\")>,\n",
       " <selenium.webdriver.remote.webelement.WebElement (session=\"1af78a8f4f1ab22f0c22af4527b228ef\", element=\"699e502f-7685-4ecd-8b5e-a39c54ed5300\")>,\n",
       " <selenium.webdriver.remote.webelement.WebElement (session=\"1af78a8f4f1ab22f0c22af4527b228ef\", element=\"77dbbf57-ad1a-44ce-9b51-9fe6281bd1ae\")>,\n",
       " <selenium.webdriver.remote.webelement.WebElement (session=\"1af78a8f4f1ab22f0c22af4527b228ef\", element=\"a1d833a9-a66e-4e84-84cb-c33965460d31\")>,\n",
       " <selenium.webdriver.remote.webelement.WebElement (session=\"1af78a8f4f1ab22f0c22af4527b228ef\", element=\"2bc452bd-e220-4a1d-b6ec-dce0f0ea496a\")>,\n",
       " <selenium.webdriver.remote.webelement.WebElement (session=\"1af78a8f4f1ab22f0c22af4527b228ef\", element=\"f8aa0773-98d5-41b8-bfa2-5a3a6c75dab4\")>,\n",
       " <selenium.webdriver.remote.webelement.WebElement (session=\"1af78a8f4f1ab22f0c22af4527b228ef\", element=\"9f12caa6-946a-4450-b25a-97330051ec13\")>,\n",
       " <selenium.webdriver.remote.webelement.WebElement (session=\"1af78a8f4f1ab22f0c22af4527b228ef\", element=\"3e5690d7-576c-4a3d-bf0d-fa8620f0a450\")>,\n",
       " <selenium.webdriver.remote.webelement.WebElement (session=\"1af78a8f4f1ab22f0c22af4527b228ef\", element=\"bcfe6e90-35d3-4f38-9d66-5deb08eb3448\")>,\n",
       " <selenium.webdriver.remote.webelement.WebElement (session=\"1af78a8f4f1ab22f0c22af4527b228ef\", element=\"b64d0bd6-3c7d-43ad-a4b6-a424299d4e44\")>,\n",
       " <selenium.webdriver.remote.webelement.WebElement (session=\"1af78a8f4f1ab22f0c22af4527b228ef\", element=\"dc9e5490-50ed-411d-9feb-77bcc93131af\")>,\n",
       " <selenium.webdriver.remote.webelement.WebElement (session=\"1af78a8f4f1ab22f0c22af4527b228ef\", element=\"03b86aa7-ace2-44f8-b1fb-59ea5ac5417d\")>,\n",
       " <selenium.webdriver.remote.webelement.WebElement (session=\"1af78a8f4f1ab22f0c22af4527b228ef\", element=\"595cc5af-c05f-4b18-9bee-24eab45be6b0\")>,\n",
       " <selenium.webdriver.remote.webelement.WebElement (session=\"1af78a8f4f1ab22f0c22af4527b228ef\", element=\"722ee18a-fae6-47bf-b030-e9c6b50e35b5\")>,\n",
       " <selenium.webdriver.remote.webelement.WebElement (session=\"1af78a8f4f1ab22f0c22af4527b228ef\", element=\"c34e825a-66de-4760-b281-73d515a723c1\")>,\n",
       " <selenium.webdriver.remote.webelement.WebElement (session=\"1af78a8f4f1ab22f0c22af4527b228ef\", element=\"e9fcdf0e-ce37-4700-86ad-23881d9b9683\")>,\n",
       " <selenium.webdriver.remote.webelement.WebElement (session=\"1af78a8f4f1ab22f0c22af4527b228ef\", element=\"7aaf124e-9c78-4148-b782-a3c0c2f1695d\")>,\n",
       " <selenium.webdriver.remote.webelement.WebElement (session=\"1af78a8f4f1ab22f0c22af4527b228ef\", element=\"5eb49404-1512-4873-a7cf-4aa4c2caa733\")>,\n",
       " <selenium.webdriver.remote.webelement.WebElement (session=\"1af78a8f4f1ab22f0c22af4527b228ef\", element=\"fa1deace-ca5c-4fc9-a7bb-0ddd27beb739\")>,\n",
       " <selenium.webdriver.remote.webelement.WebElement (session=\"1af78a8f4f1ab22f0c22af4527b228ef\", element=\"9c1642d1-fc45-4e06-bbd0-21abfad60e6c\")>,\n",
       " <selenium.webdriver.remote.webelement.WebElement (session=\"1af78a8f4f1ab22f0c22af4527b228ef\", element=\"dcb55e3f-38e9-43d4-89a5-730c950944c0\")>,\n",
       " <selenium.webdriver.remote.webelement.WebElement (session=\"1af78a8f4f1ab22f0c22af4527b228ef\", element=\"9ea2273f-cc56-4969-8579-bcc4690960e8\")>,\n",
       " <selenium.webdriver.remote.webelement.WebElement (session=\"1af78a8f4f1ab22f0c22af4527b228ef\", element=\"ce894e94-5691-4228-b425-190c19f815ef\")>,\n",
       " <selenium.webdriver.remote.webelement.WebElement (session=\"1af78a8f4f1ab22f0c22af4527b228ef\", element=\"938352d7-a5e7-4018-b44e-55d6ccfdf19a\")>,\n",
       " <selenium.webdriver.remote.webelement.WebElement (session=\"1af78a8f4f1ab22f0c22af4527b228ef\", element=\"30a88fe1-ffbe-41ba-adb8-3c22ad3d7480\")>,\n",
       " <selenium.webdriver.remote.webelement.WebElement (session=\"1af78a8f4f1ab22f0c22af4527b228ef\", element=\"298a4a44-26b0-4ec8-99ca-cc5d5abfa1d9\")>,\n",
       " <selenium.webdriver.remote.webelement.WebElement (session=\"1af78a8f4f1ab22f0c22af4527b228ef\", element=\"e71ce470-5aeb-4577-9bd3-59af22518142\")>,\n",
       " <selenium.webdriver.remote.webelement.WebElement (session=\"1af78a8f4f1ab22f0c22af4527b228ef\", element=\"f5734674-53e5-424a-9c9e-55b665e2a279\")>,\n",
       " <selenium.webdriver.remote.webelement.WebElement (session=\"1af78a8f4f1ab22f0c22af4527b228ef\", element=\"071b6845-8258-43f5-89f4-8f2da8fcff41\")>]"
      ]
     },
     "execution_count": 51,
     "metadata": {},
     "output_type": "execute_result"
    }
   ],
   "source": [
    "rating=driver.find_elements_by_xpath(\"//div[@class='d-flex flex-column css-x75kgh e1rrn5ka3']\")\n",
    "rating"
   ]
  },
  {
   "cell_type": "code",
   "execution_count": null,
   "id": "4c28dcb9",
   "metadata": {},
   "outputs": [],
   "source": []
  },
  {
   "cell_type": "code",
   "execution_count": 52,
   "id": "f3276ec5",
   "metadata": {},
   "outputs": [
    {
     "data": {
      "text/plain": [
       "['No Data',\n",
       " '3.7',\n",
       " '4.4',\n",
       " '4.1',\n",
       " 'No Data',\n",
       " '4.1',\n",
       " '3.7',\n",
       " 'No Data',\n",
       " '5.0',\n",
       " '3.7']"
      ]
     },
     "execution_count": 52,
     "metadata": {},
     "output_type": "execute_result"
    }
   ],
   "source": [
    "rating_of_company=[]\n",
    "for i in rating[0:10]:\n",
    "    if (len(i.text)==0):\n",
    "\n",
    "        rating_of_company.append(\"No Data\")\n",
    "    else:\n",
    "        rating_of_company.append(i.text)\n",
    "        \n",
    "        \n",
    "rating_of_company"
   ]
  },
  {
   "cell_type": "markdown",
   "id": "9a63bb53",
   "metadata": {},
   "source": [
    "Extracting rating of company"
   ]
  },
  {
   "cell_type": "code",
   "execution_count": null,
   "id": "449ca94c",
   "metadata": {},
   "outputs": [],
   "source": []
  },
  {
   "cell_type": "code",
   "execution_count": null,
   "id": "0a89339d",
   "metadata": {},
   "outputs": [],
   "source": []
  },
  {
   "cell_type": "code",
   "execution_count": null,
   "id": "82268df5",
   "metadata": {},
   "outputs": [],
   "source": []
  },
  {
   "cell_type": "code",
   "execution_count": 53,
   "id": "9f37bbb5",
   "metadata": {
    "scrolled": true
   },
   "outputs": [],
   "source": [
    "jobs=pd.DataFrame({})\n",
    "jobs[\"Company Name\"]=companies_names\n",
    "jobs[\"No. of days ago when job was posted\"]=days_ago_posted\n",
    "jobs[\"Rating ofcompany\"]=rating_of_company"
   ]
  },
  {
   "cell_type": "code",
   "execution_count": 54,
   "id": "b74dd491",
   "metadata": {},
   "outputs": [
    {
     "data": {
      "text/html": [
       "<div>\n",
       "<style scoped>\n",
       "    .dataframe tbody tr th:only-of-type {\n",
       "        vertical-align: middle;\n",
       "    }\n",
       "\n",
       "    .dataframe tbody tr th {\n",
       "        vertical-align: top;\n",
       "    }\n",
       "\n",
       "    .dataframe thead th {\n",
       "        text-align: right;\n",
       "    }\n",
       "</style>\n",
       "<table border=\"1\" class=\"dataframe\">\n",
       "  <thead>\n",
       "    <tr style=\"text-align: right;\">\n",
       "      <th></th>\n",
       "      <th>Company Name</th>\n",
       "      <th>No. of days ago when job was posted</th>\n",
       "      <th>Rating ofcompany</th>\n",
       "    </tr>\n",
       "  </thead>\n",
       "  <tbody>\n",
       "    <tr>\n",
       "      <th>0</th>\n",
       "      <td>Ginger Webs Pvt. Ltd.</td>\n",
       "      <td>3d</td>\n",
       "      <td>No Data</td>\n",
       "    </tr>\n",
       "    <tr>\n",
       "      <th>1</th>\n",
       "      <td>Crowe</td>\n",
       "      <td>11d</td>\n",
       "      <td>3.7</td>\n",
       "    </tr>\n",
       "    <tr>\n",
       "      <th>2</th>\n",
       "      <td>Adobe</td>\n",
       "      <td>1d</td>\n",
       "      <td>4.4</td>\n",
       "    </tr>\n",
       "    <tr>\n",
       "      <th>3</th>\n",
       "      <td>Ericsson</td>\n",
       "      <td>9d</td>\n",
       "      <td>4.1</td>\n",
       "    </tr>\n",
       "    <tr>\n",
       "      <th>4</th>\n",
       "      <td>Jubna</td>\n",
       "      <td>11d</td>\n",
       "      <td>No Data</td>\n",
       "    </tr>\n",
       "    <tr>\n",
       "      <th>5</th>\n",
       "      <td>dunnhumby</td>\n",
       "      <td>3d</td>\n",
       "      <td>4.1</td>\n",
       "    </tr>\n",
       "    <tr>\n",
       "      <th>6</th>\n",
       "      <td>CRMNEXT</td>\n",
       "      <td>30d+</td>\n",
       "      <td>3.7</td>\n",
       "    </tr>\n",
       "    <tr>\n",
       "      <th>7</th>\n",
       "      <td>Amploy</td>\n",
       "      <td>9d</td>\n",
       "      <td>No Data</td>\n",
       "    </tr>\n",
       "    <tr>\n",
       "      <th>8</th>\n",
       "      <td>Techlive</td>\n",
       "      <td>30d+</td>\n",
       "      <td>5.0</td>\n",
       "    </tr>\n",
       "    <tr>\n",
       "      <th>9</th>\n",
       "      <td>Biz2Credit Inc</td>\n",
       "      <td>30d+</td>\n",
       "      <td>3.7</td>\n",
       "    </tr>\n",
       "  </tbody>\n",
       "</table>\n",
       "</div>"
      ],
      "text/plain": [
       "            Company Name No. of days ago when job was posted Rating ofcompany\n",
       "0  Ginger Webs Pvt. Ltd.                                  3d          No Data\n",
       "1                  Crowe                                 11d              3.7\n",
       "2                  Adobe                                  1d              4.4\n",
       "3               Ericsson                                  9d              4.1\n",
       "4                  Jubna                                 11d          No Data\n",
       "5              dunnhumby                                  3d              4.1\n",
       "6                CRMNEXT                                30d+              3.7\n",
       "7                 Amploy                                  9d          No Data\n",
       "8               Techlive                                30d+              5.0\n",
       "9         Biz2Credit Inc                                30d+              3.7"
      ]
     },
     "execution_count": 54,
     "metadata": {},
     "output_type": "execute_result"
    }
   ],
   "source": [
    "\n",
    "jobs"
   ]
  },
  {
   "cell_type": "markdown",
   "id": "242fc11c",
   "metadata": {},
   "source": [
    "Clubbed all the details into DataFrame form"
   ]
  },
  {
   "cell_type": "code",
   "execution_count": null,
   "id": "17b6f6ba",
   "metadata": {},
   "outputs": [],
   "source": []
  },
  {
   "cell_type": "code",
   "execution_count": null,
   "id": "42eeeba7",
   "metadata": {},
   "outputs": [],
   "source": []
  },
  {
   "cell_type": "code",
   "execution_count": null,
   "id": "22d8d641",
   "metadata": {},
   "outputs": [],
   "source": []
  },
  {
   "cell_type": "code",
   "execution_count": null,
   "id": "1cca1b5a",
   "metadata": {},
   "outputs": [],
   "source": []
  },
  {
   "cell_type": "markdown",
   "id": "ce441888",
   "metadata": {},
   "source": [
    "# Q5: Write a python program to scrape the salary data for Data Scientist designation in Noida location."
   ]
  },
  {
   "cell_type": "code",
   "execution_count": 70,
   "id": "e2b29053",
   "metadata": {},
   "outputs": [],
   "source": [
    "url = 'https://www.glassdoor.co.in/Salaries/index.htm' \n",
    "driver.get(url)"
   ]
  },
  {
   "cell_type": "markdown",
   "id": "a32ecb6b",
   "metadata": {},
   "source": [
    "saving and opening the url"
   ]
  },
  {
   "cell_type": "code",
   "execution_count": null,
   "id": "b92b9a0b",
   "metadata": {},
   "outputs": [],
   "source": []
  },
  {
   "cell_type": "code",
   "execution_count": 71,
   "id": "9430c4b0",
   "metadata": {},
   "outputs": [
    {
     "data": {
      "text/plain": [
       "<selenium.webdriver.remote.webelement.WebElement (session=\"1af78a8f4f1ab22f0c22af4527b228ef\", element=\"113f5611-c25c-4f00-b189-6e3f0c94314c\")>"
      ]
     },
     "execution_count": 71,
     "metadata": {},
     "output_type": "execute_result"
    }
   ],
   "source": [
    "search_job = driver.find_element_by_id('KeywordSearch') \n",
    "search_job"
   ]
  },
  {
   "cell_type": "code",
   "execution_count": 72,
   "id": "c11377d2",
   "metadata": {},
   "outputs": [],
   "source": [
    "search_job.send_keys(\"Data Scientist\")"
   ]
  },
  {
   "cell_type": "markdown",
   "id": "e58eade0",
   "metadata": {},
   "source": [
    "Entering Data Scientist in \"Job Title or Company\" field"
   ]
  },
  {
   "cell_type": "code",
   "execution_count": 73,
   "id": "00ea675c",
   "metadata": {},
   "outputs": [
    {
     "data": {
      "text/plain": [
       "<selenium.webdriver.remote.webelement.WebElement (session=\"1af78a8f4f1ab22f0c22af4527b228ef\", element=\"01ccd869-6a62-4b75-8938-410a4adf0e8b\")>"
      ]
     },
     "execution_count": 73,
     "metadata": {},
     "output_type": "execute_result"
    }
   ],
   "source": [
    "search_loc = driver.find_element_by_id('LocationSearch') \n",
    "search_loc"
   ]
  },
  {
   "cell_type": "code",
   "execution_count": 74,
   "id": "978c16a4",
   "metadata": {},
   "outputs": [],
   "source": [
    "search_loc.send_keys(\"Noida\") "
   ]
  },
  {
   "cell_type": "markdown",
   "id": "b0add213",
   "metadata": {},
   "source": [
    "Entering Noida in \"enter the location\" field"
   ]
  },
  {
   "cell_type": "code",
   "execution_count": null,
   "id": "2010d3ab",
   "metadata": {},
   "outputs": [],
   "source": []
  },
  {
   "cell_type": "code",
   "execution_count": 75,
   "id": "cb3f89fa",
   "metadata": {},
   "outputs": [],
   "source": [
    "search_btn = driver.find_element_by_xpath(\"//button[@class='gd-btn-mkt']\")\n",
    "search_btn.click()      "
   ]
  },
  {
   "cell_type": "markdown",
   "id": "9afb52c8",
   "metadata": {},
   "source": [
    "Clicking the search button"
   ]
  },
  {
   "cell_type": "code",
   "execution_count": null,
   "id": "0fcd26b7",
   "metadata": {},
   "outputs": [],
   "source": []
  },
  {
   "cell_type": "code",
   "execution_count": null,
   "id": "7a82fe2d",
   "metadata": {},
   "outputs": [],
   "source": []
  },
  {
   "cell_type": "code",
   "execution_count": 76,
   "id": "d731208f",
   "metadata": {
    "collapsed": true
   },
   "outputs": [
    {
     "data": {
      "text/plain": [
       "[<selenium.webdriver.remote.webelement.WebElement (session=\"1af78a8f4f1ab22f0c22af4527b228ef\", element=\"d238154f-27dc-4271-bd33-9adc1a4cf878\")>,\n",
       " <selenium.webdriver.remote.webelement.WebElement (session=\"1af78a8f4f1ab22f0c22af4527b228ef\", element=\"75fad2a1-47c1-45f6-9bbe-43a60e0d2082\")>,\n",
       " <selenium.webdriver.remote.webelement.WebElement (session=\"1af78a8f4f1ab22f0c22af4527b228ef\", element=\"909efe01-8e4d-4176-ab57-2968005ce62b\")>,\n",
       " <selenium.webdriver.remote.webelement.WebElement (session=\"1af78a8f4f1ab22f0c22af4527b228ef\", element=\"b05c99e1-b02f-43f0-8fa2-645ecab20c91\")>,\n",
       " <selenium.webdriver.remote.webelement.WebElement (session=\"1af78a8f4f1ab22f0c22af4527b228ef\", element=\"a68b2c54-157b-40d9-b8fa-103bd28353b9\")>,\n",
       " <selenium.webdriver.remote.webelement.WebElement (session=\"1af78a8f4f1ab22f0c22af4527b228ef\", element=\"d467df48-2cf0-44c4-9e88-2980fe925d9f\")>,\n",
       " <selenium.webdriver.remote.webelement.WebElement (session=\"1af78a8f4f1ab22f0c22af4527b228ef\", element=\"c95aa99f-03e4-4ed1-84a3-61d6bb509282\")>,\n",
       " <selenium.webdriver.remote.webelement.WebElement (session=\"1af78a8f4f1ab22f0c22af4527b228ef\", element=\"8f4e6a2b-dedc-4f7c-a26c-518d1a3727be\")>,\n",
       " <selenium.webdriver.remote.webelement.WebElement (session=\"1af78a8f4f1ab22f0c22af4527b228ef\", element=\"54e72de7-83c0-4728-9051-7efcec25f251\")>,\n",
       " <selenium.webdriver.remote.webelement.WebElement (session=\"1af78a8f4f1ab22f0c22af4527b228ef\", element=\"aff3cd72-f023-4941-b31d-3478969441d9\")>,\n",
       " <selenium.webdriver.remote.webelement.WebElement (session=\"1af78a8f4f1ab22f0c22af4527b228ef\", element=\"d262a580-a0f2-4a03-a8f5-79e14fd003c6\")>,\n",
       " <selenium.webdriver.remote.webelement.WebElement (session=\"1af78a8f4f1ab22f0c22af4527b228ef\", element=\"1393cf0d-ccf8-4af4-9ae2-6e01d3ab849f\")>,\n",
       " <selenium.webdriver.remote.webelement.WebElement (session=\"1af78a8f4f1ab22f0c22af4527b228ef\", element=\"bf4c4268-6f3d-4c7b-af54-861063d80179\")>,\n",
       " <selenium.webdriver.remote.webelement.WebElement (session=\"1af78a8f4f1ab22f0c22af4527b228ef\", element=\"55a27e6d-4237-4d7b-a2f5-5bfdb499d610\")>,\n",
       " <selenium.webdriver.remote.webelement.WebElement (session=\"1af78a8f4f1ab22f0c22af4527b228ef\", element=\"90245c41-4323-46e1-bb64-ecb52788e205\")>,\n",
       " <selenium.webdriver.remote.webelement.WebElement (session=\"1af78a8f4f1ab22f0c22af4527b228ef\", element=\"fc98bd56-720b-45d1-88d1-2a1c2e321f67\")>,\n",
       " <selenium.webdriver.remote.webelement.WebElement (session=\"1af78a8f4f1ab22f0c22af4527b228ef\", element=\"bc340fc2-059f-4bca-91c9-7bbeccdcc7c2\")>,\n",
       " <selenium.webdriver.remote.webelement.WebElement (session=\"1af78a8f4f1ab22f0c22af4527b228ef\", element=\"613ac8e4-3b54-49d1-94bb-c8bfb5a0675a\")>,\n",
       " <selenium.webdriver.remote.webelement.WebElement (session=\"1af78a8f4f1ab22f0c22af4527b228ef\", element=\"a32c5e68-c09f-4cd3-8787-f8f9246f390f\")>,\n",
       " <selenium.webdriver.remote.webelement.WebElement (session=\"1af78a8f4f1ab22f0c22af4527b228ef\", element=\"d95429cb-a568-4a16-9c8b-f980bebf4ca5\")>]"
      ]
     },
     "execution_count": 76,
     "metadata": {},
     "output_type": "execute_result"
    }
   ],
   "source": [
    "companies_tags=driver.find_elements_by_xpath(\"//a[@class='css-f3vw95 e1aj7ssy3']\")\n",
    "companies_tags"
   ]
  },
  {
   "cell_type": "code",
   "execution_count": 78,
   "id": "6ddb454d",
   "metadata": {},
   "outputs": [
    {
     "data": {
      "text/plain": [
       "['Tata Consultancy Services',\n",
       " 'IBM',\n",
       " 'Accenture',\n",
       " 'Ericsson-Worldwide',\n",
       " 'Delhivery',\n",
       " 'UnitedHealth Group',\n",
       " 'Optum Global Solutions',\n",
       " 'Valiance Solutions',\n",
       " 'ZS Associates',\n",
       " 'EXL Service']"
      ]
     },
     "execution_count": 78,
     "metadata": {},
     "output_type": "execute_result"
    }
   ],
   "source": [
    "companies_names=[]\n",
    "for i in companies_tags[0:10]:\n",
    "        companies_names.append(i.text) \n",
    "companies_names"
   ]
  },
  {
   "cell_type": "markdown",
   "id": "8286697d",
   "metadata": {},
   "source": [
    "Extracting Company names"
   ]
  },
  {
   "cell_type": "code",
   "execution_count": null,
   "id": "3bb90ef5",
   "metadata": {},
   "outputs": [],
   "source": []
  },
  {
   "cell_type": "code",
   "execution_count": null,
   "id": "80611b1c",
   "metadata": {},
   "outputs": [],
   "source": []
  },
  {
   "cell_type": "code",
   "execution_count": 83,
   "id": "42466189",
   "metadata": {
    "collapsed": true
   },
   "outputs": [
    {
     "data": {
      "text/plain": [
       "[<selenium.webdriver.remote.webelement.WebElement (session=\"1af78a8f4f1ab22f0c22af4527b228ef\", element=\"8397a27b-6deb-4c70-bd73-e9d07a39780d\")>,\n",
       " <selenium.webdriver.remote.webelement.WebElement (session=\"1af78a8f4f1ab22f0c22af4527b228ef\", element=\"ab0d9d83-44f2-4328-b716-3f1c8c307dd4\")>,\n",
       " <selenium.webdriver.remote.webelement.WebElement (session=\"1af78a8f4f1ab22f0c22af4527b228ef\", element=\"cf1943ff-97e3-4534-9667-05fbb4d95351\")>,\n",
       " <selenium.webdriver.remote.webelement.WebElement (session=\"1af78a8f4f1ab22f0c22af4527b228ef\", element=\"7574d665-73f6-483a-97f9-2178d1d92dc9\")>,\n",
       " <selenium.webdriver.remote.webelement.WebElement (session=\"1af78a8f4f1ab22f0c22af4527b228ef\", element=\"e7f43cb2-8a36-43b6-9fc5-a0a9981a39d1\")>,\n",
       " <selenium.webdriver.remote.webelement.WebElement (session=\"1af78a8f4f1ab22f0c22af4527b228ef\", element=\"506d323b-9028-44d7-9b2e-7a36cdc62166\")>,\n",
       " <selenium.webdriver.remote.webelement.WebElement (session=\"1af78a8f4f1ab22f0c22af4527b228ef\", element=\"b02d9a61-0aa6-4848-be61-2fd05bfb46c2\")>,\n",
       " <selenium.webdriver.remote.webelement.WebElement (session=\"1af78a8f4f1ab22f0c22af4527b228ef\", element=\"c3cae1bd-3573-4fd2-8a2e-965792913fa0\")>,\n",
       " <selenium.webdriver.remote.webelement.WebElement (session=\"1af78a8f4f1ab22f0c22af4527b228ef\", element=\"d6cc4cc4-b75f-4d7a-98e6-ea192b9f0583\")>,\n",
       " <selenium.webdriver.remote.webelement.WebElement (session=\"1af78a8f4f1ab22f0c22af4527b228ef\", element=\"ed603551-ee81-495d-abc3-32b8a3a68d46\")>,\n",
       " <selenium.webdriver.remote.webelement.WebElement (session=\"1af78a8f4f1ab22f0c22af4527b228ef\", element=\"b70bf4df-19f8-4608-8f41-146e3eaef596\")>,\n",
       " <selenium.webdriver.remote.webelement.WebElement (session=\"1af78a8f4f1ab22f0c22af4527b228ef\", element=\"598530fe-5012-49ec-b1d8-0c6172fe3fb0\")>,\n",
       " <selenium.webdriver.remote.webelement.WebElement (session=\"1af78a8f4f1ab22f0c22af4527b228ef\", element=\"f1a7c3b6-77b3-4ab7-8635-54350028f85a\")>,\n",
       " <selenium.webdriver.remote.webelement.WebElement (session=\"1af78a8f4f1ab22f0c22af4527b228ef\", element=\"8481885a-a9b9-4a6f-9923-198da1b15c34\")>,\n",
       " <selenium.webdriver.remote.webelement.WebElement (session=\"1af78a8f4f1ab22f0c22af4527b228ef\", element=\"464cbc2b-ef5c-4a42-a713-e81b4a567309\")>,\n",
       " <selenium.webdriver.remote.webelement.WebElement (session=\"1af78a8f4f1ab22f0c22af4527b228ef\", element=\"95153aeb-1f7f-49db-a7c8-b8d13e3c4c87\")>,\n",
       " <selenium.webdriver.remote.webelement.WebElement (session=\"1af78a8f4f1ab22f0c22af4527b228ef\", element=\"299bbaa4-0e69-4b66-bb35-a05d66e0d98b\")>,\n",
       " <selenium.webdriver.remote.webelement.WebElement (session=\"1af78a8f4f1ab22f0c22af4527b228ef\", element=\"c950ce6b-83af-4cc5-91d2-13d76830a818\")>,\n",
       " <selenium.webdriver.remote.webelement.WebElement (session=\"1af78a8f4f1ab22f0c22af4527b228ef\", element=\"32dbb5da-6f8e-42ee-9ef9-944a36be3b48\")>,\n",
       " <selenium.webdriver.remote.webelement.WebElement (session=\"1af78a8f4f1ab22f0c22af4527b228ef\", element=\"bdc32e0c-7f7b-4433-a38a-10657bdc8cae\")>]"
      ]
     },
     "execution_count": 83,
     "metadata": {},
     "output_type": "execute_result"
    }
   ],
   "source": [
    "number_of_salaries_tags=driver.find_elements_by_xpath(\"//div[@class='col-12 col-lg-auto']\")\n",
    "number_of_salaries_tags"
   ]
  },
  {
   "cell_type": "code",
   "execution_count": 84,
   "id": "85429224",
   "metadata": {},
   "outputs": [
    {
     "data": {
      "text/plain": [
       "['17 salaries',\n",
       " '15 salaries',\n",
       " '14 salaries',\n",
       " '14 salaries',\n",
       " '14 salaries',\n",
       " '11 salaries',\n",
       " '9 salaries',\n",
       " '9 salaries',\n",
       " '8 salaries',\n",
       " '8 salaries']"
      ]
     },
     "execution_count": 84,
     "metadata": {},
     "output_type": "execute_result"
    }
   ],
   "source": [
    "number_of_salaries=[]\n",
    "for i in number_of_salaries_tags[0:10]:\n",
    "        number_of_salaries.append(i.text) \n",
    "number_of_salaries"
   ]
  },
  {
   "cell_type": "markdown",
   "id": "2fa654c8",
   "metadata": {},
   "source": [
    "Extracting number of salaries"
   ]
  },
  {
   "cell_type": "code",
   "execution_count": null,
   "id": "7027f15d",
   "metadata": {},
   "outputs": [],
   "source": []
  },
  {
   "cell_type": "code",
   "execution_count": null,
   "id": "0ebd751d",
   "metadata": {},
   "outputs": [],
   "source": []
  },
  {
   "cell_type": "code",
   "execution_count": null,
   "id": "f92b112a",
   "metadata": {},
   "outputs": [],
   "source": []
  },
  {
   "cell_type": "code",
   "execution_count": 85,
   "id": "d4f9abc4",
   "metadata": {
    "collapsed": true
   },
   "outputs": [
    {
     "data": {
      "text/plain": [
       "[<selenium.webdriver.remote.webelement.WebElement (session=\"1af78a8f4f1ab22f0c22af4527b228ef\", element=\"f7c9a954-3fd1-4fa0-84ee-e326958cbc10\")>,\n",
       " <selenium.webdriver.remote.webelement.WebElement (session=\"1af78a8f4f1ab22f0c22af4527b228ef\", element=\"e0951e93-28cf-4150-a835-5d01399d5036\")>,\n",
       " <selenium.webdriver.remote.webelement.WebElement (session=\"1af78a8f4f1ab22f0c22af4527b228ef\", element=\"cd51551d-1d4d-4d05-b412-ffc500cd381d\")>,\n",
       " <selenium.webdriver.remote.webelement.WebElement (session=\"1af78a8f4f1ab22f0c22af4527b228ef\", element=\"2dc3f5a2-021e-4903-a179-346c487c3f9c\")>,\n",
       " <selenium.webdriver.remote.webelement.WebElement (session=\"1af78a8f4f1ab22f0c22af4527b228ef\", element=\"d481f976-0d6c-4da8-8d29-2d697a86d92a\")>,\n",
       " <selenium.webdriver.remote.webelement.WebElement (session=\"1af78a8f4f1ab22f0c22af4527b228ef\", element=\"c6269d46-5577-497d-adc5-116fe1e8e534\")>,\n",
       " <selenium.webdriver.remote.webelement.WebElement (session=\"1af78a8f4f1ab22f0c22af4527b228ef\", element=\"6c8a0296-5e53-4670-a89c-cc02c0ddb1f1\")>,\n",
       " <selenium.webdriver.remote.webelement.WebElement (session=\"1af78a8f4f1ab22f0c22af4527b228ef\", element=\"a6cb9914-c336-433f-8ff2-cb2c199e6935\")>,\n",
       " <selenium.webdriver.remote.webelement.WebElement (session=\"1af78a8f4f1ab22f0c22af4527b228ef\", element=\"fde92d83-6aa6-4777-bd3e-318a6b009fe7\")>,\n",
       " <selenium.webdriver.remote.webelement.WebElement (session=\"1af78a8f4f1ab22f0c22af4527b228ef\", element=\"56c8dd3a-e454-46db-8426-a2280e36d256\")>,\n",
       " <selenium.webdriver.remote.webelement.WebElement (session=\"1af78a8f4f1ab22f0c22af4527b228ef\", element=\"64952717-539f-498f-ba32-eb3af955b24e\")>,\n",
       " <selenium.webdriver.remote.webelement.WebElement (session=\"1af78a8f4f1ab22f0c22af4527b228ef\", element=\"66ee7367-3a02-4456-ba82-7ed50c786ca1\")>,\n",
       " <selenium.webdriver.remote.webelement.WebElement (session=\"1af78a8f4f1ab22f0c22af4527b228ef\", element=\"b59730b4-bd33-4cfc-99a8-666bb8617be0\")>,\n",
       " <selenium.webdriver.remote.webelement.WebElement (session=\"1af78a8f4f1ab22f0c22af4527b228ef\", element=\"aba0e718-475a-426e-9ece-a9b0dda68ffa\")>,\n",
       " <selenium.webdriver.remote.webelement.WebElement (session=\"1af78a8f4f1ab22f0c22af4527b228ef\", element=\"ccce2f9b-6b6c-4e85-9988-9c9c2324e503\")>,\n",
       " <selenium.webdriver.remote.webelement.WebElement (session=\"1af78a8f4f1ab22f0c22af4527b228ef\", element=\"683fc029-4637-45aa-9f14-838eec9580c5\")>,\n",
       " <selenium.webdriver.remote.webelement.WebElement (session=\"1af78a8f4f1ab22f0c22af4527b228ef\", element=\"1aa0e9c9-4022-4ecc-bf9d-196058c886dd\")>,\n",
       " <selenium.webdriver.remote.webelement.WebElement (session=\"1af78a8f4f1ab22f0c22af4527b228ef\", element=\"42bc1e44-c219-4d6c-a305-05d283cb172b\")>,\n",
       " <selenium.webdriver.remote.webelement.WebElement (session=\"1af78a8f4f1ab22f0c22af4527b228ef\", element=\"d462380c-9f69-42bb-b726-5d5c9ffdf4c6\")>,\n",
       " <selenium.webdriver.remote.webelement.WebElement (session=\"1af78a8f4f1ab22f0c22af4527b228ef\", element=\"78c02d00-377e-4d04-8f05-f856ae6431c4\")>]"
      ]
     },
     "execution_count": 85,
     "metadata": {},
     "output_type": "execute_result"
    }
   ],
   "source": [
    "average_salary_tags=driver.find_elements_by_xpath(\"//div[@class='col-12 col-lg-4 px-lg-0 d-flex align-items-baseline']\")\n",
    "average_salary_tags"
   ]
  },
  {
   "cell_type": "code",
   "execution_count": 87,
   "id": "57300c68",
   "metadata": {},
   "outputs": [
    {
     "data": {
      "text/plain": [
       "['₹ 6,15,289 /yr',\n",
       " '₹ 9,00,000 /yr',\n",
       " '₹ 11,48,366 /yr',\n",
       " '₹ 7,39,238 /yr',\n",
       " '₹ 12,41,763 /yr',\n",
       " '₹ 13,38,279 /yr',\n",
       " '₹ 13,28,697 /yr',\n",
       " '₹ 8,16,495 /yr',\n",
       " '₹ 11,42,356 /yr',\n",
       " '₹ 11,46,073 /yr']"
      ]
     },
     "execution_count": 87,
     "metadata": {},
     "output_type": "execute_result"
    }
   ],
   "source": [
    "average_salary=[]\n",
    "for i in average_salary_tags[0:10]:\n",
    "        average_salary.append(i.text.replace(\"\\n\",'')) \n",
    "average_salary"
   ]
  },
  {
   "cell_type": "markdown",
   "id": "1ab3ee5b",
   "metadata": {},
   "source": [
    "Extracting Average salaries"
   ]
  },
  {
   "cell_type": "code",
   "execution_count": null,
   "id": "a73c80be",
   "metadata": {},
   "outputs": [],
   "source": []
  },
  {
   "cell_type": "code",
   "execution_count": null,
   "id": "8a1c0c6c",
   "metadata": {},
   "outputs": [],
   "source": []
  },
  {
   "cell_type": "code",
   "execution_count": null,
   "id": "5a20b72c",
   "metadata": {},
   "outputs": [],
   "source": []
  },
  {
   "cell_type": "code",
   "execution_count": 102,
   "id": "a8e1590e",
   "metadata": {
    "collapsed": true
   },
   "outputs": [
    {
     "data": {
      "text/plain": [
       "[<selenium.webdriver.remote.webelement.WebElement (session=\"1af78a8f4f1ab22f0c22af4527b228ef\", element=\"f35c82ff-626f-41d3-81af-acc7b5b29d8b\")>,\n",
       " <selenium.webdriver.remote.webelement.WebElement (session=\"1af78a8f4f1ab22f0c22af4527b228ef\", element=\"da6ac4ee-82e5-4500-b752-5266faa4f657\")>,\n",
       " <selenium.webdriver.remote.webelement.WebElement (session=\"1af78a8f4f1ab22f0c22af4527b228ef\", element=\"55157b5c-1b57-45a4-9075-79d0644e5c6b\")>,\n",
       " <selenium.webdriver.remote.webelement.WebElement (session=\"1af78a8f4f1ab22f0c22af4527b228ef\", element=\"550d64bd-b2fd-4a56-a1a4-ec66fd44f67c\")>,\n",
       " <selenium.webdriver.remote.webelement.WebElement (session=\"1af78a8f4f1ab22f0c22af4527b228ef\", element=\"2edaf598-2c3d-40ea-a1f9-636f42d9148d\")>,\n",
       " <selenium.webdriver.remote.webelement.WebElement (session=\"1af78a8f4f1ab22f0c22af4527b228ef\", element=\"34169197-85e2-4763-9cf8-ee425b25d6d6\")>,\n",
       " <selenium.webdriver.remote.webelement.WebElement (session=\"1af78a8f4f1ab22f0c22af4527b228ef\", element=\"c523ed82-a7bf-48d5-891e-0584db03d887\")>,\n",
       " <selenium.webdriver.remote.webelement.WebElement (session=\"1af78a8f4f1ab22f0c22af4527b228ef\", element=\"c6691c8b-0fe7-4553-babf-8068eaeea152\")>,\n",
       " <selenium.webdriver.remote.webelement.WebElement (session=\"1af78a8f4f1ab22f0c22af4527b228ef\", element=\"d4491133-6bd2-409a-9c1b-d3690b22fc85\")>,\n",
       " <selenium.webdriver.remote.webelement.WebElement (session=\"1af78a8f4f1ab22f0c22af4527b228ef\", element=\"2b40a91b-a012-4897-8a92-9b7ae76cfc12\")>,\n",
       " <selenium.webdriver.remote.webelement.WebElement (session=\"1af78a8f4f1ab22f0c22af4527b228ef\", element=\"ede6a7ef-4176-4635-8730-c6f3576ee33b\")>,\n",
       " <selenium.webdriver.remote.webelement.WebElement (session=\"1af78a8f4f1ab22f0c22af4527b228ef\", element=\"f3f67575-73a2-4845-938c-b6e17275c54d\")>,\n",
       " <selenium.webdriver.remote.webelement.WebElement (session=\"1af78a8f4f1ab22f0c22af4527b228ef\", element=\"6dc0912b-c96f-4ac8-8b48-2b17e305f2f7\")>,\n",
       " <selenium.webdriver.remote.webelement.WebElement (session=\"1af78a8f4f1ab22f0c22af4527b228ef\", element=\"9f65ca04-ce1a-4663-b4e0-d5648a46a9c1\")>,\n",
       " <selenium.webdriver.remote.webelement.WebElement (session=\"1af78a8f4f1ab22f0c22af4527b228ef\", element=\"daa7ed17-4da3-430b-b75f-e5b70b1ce808\")>,\n",
       " <selenium.webdriver.remote.webelement.WebElement (session=\"1af78a8f4f1ab22f0c22af4527b228ef\", element=\"fab2b015-bb50-4bc6-880d-843ed13356ff\")>,\n",
       " <selenium.webdriver.remote.webelement.WebElement (session=\"1af78a8f4f1ab22f0c22af4527b228ef\", element=\"1b71ad72-e94f-4179-906f-0537a510aaa1\")>,\n",
       " <selenium.webdriver.remote.webelement.WebElement (session=\"1af78a8f4f1ab22f0c22af4527b228ef\", element=\"5cd75801-1c5a-4019-b792-5c02989d9bd1\")>,\n",
       " <selenium.webdriver.remote.webelement.WebElement (session=\"1af78a8f4f1ab22f0c22af4527b228ef\", element=\"3ea2f41f-075b-4c4b-8eae-721303ff7e44\")>,\n",
       " <selenium.webdriver.remote.webelement.WebElement (session=\"1af78a8f4f1ab22f0c22af4527b228ef\", element=\"b731d364-d599-4d8f-af22-1eb2cd707780\")>,\n",
       " <selenium.webdriver.remote.webelement.WebElement (session=\"1af78a8f4f1ab22f0c22af4527b228ef\", element=\"d7ecbe46-6368-46bc-85aa-27437e7d69e8\")>,\n",
       " <selenium.webdriver.remote.webelement.WebElement (session=\"1af78a8f4f1ab22f0c22af4527b228ef\", element=\"23d503ff-bbf7-4e34-86e5-6fd04884e8f2\")>,\n",
       " <selenium.webdriver.remote.webelement.WebElement (session=\"1af78a8f4f1ab22f0c22af4527b228ef\", element=\"146b39b6-d62a-46d5-8f43-1a55a192f087\")>,\n",
       " <selenium.webdriver.remote.webelement.WebElement (session=\"1af78a8f4f1ab22f0c22af4527b228ef\", element=\"cf716768-c583-41a3-9b48-9e42f4ac5320\")>,\n",
       " <selenium.webdriver.remote.webelement.WebElement (session=\"1af78a8f4f1ab22f0c22af4527b228ef\", element=\"4f94c8ab-dbea-4626-9df1-409be1afcee9\")>,\n",
       " <selenium.webdriver.remote.webelement.WebElement (session=\"1af78a8f4f1ab22f0c22af4527b228ef\", element=\"4264f4b1-6f97-469d-ba41-ca3dbbfd34d3\")>,\n",
       " <selenium.webdriver.remote.webelement.WebElement (session=\"1af78a8f4f1ab22f0c22af4527b228ef\", element=\"0067526f-66c1-452a-9336-0545a0caa4fc\")>,\n",
       " <selenium.webdriver.remote.webelement.WebElement (session=\"1af78a8f4f1ab22f0c22af4527b228ef\", element=\"c86df005-01ac-4f6d-bb51-46861724f055\")>,\n",
       " <selenium.webdriver.remote.webelement.WebElement (session=\"1af78a8f4f1ab22f0c22af4527b228ef\", element=\"2a7d5d48-6653-4cc9-9b72-20c289026707\")>,\n",
       " <selenium.webdriver.remote.webelement.WebElement (session=\"1af78a8f4f1ab22f0c22af4527b228ef\", element=\"8683af1f-dd90-4101-aebe-fee7dd33de88\")>,\n",
       " <selenium.webdriver.remote.webelement.WebElement (session=\"1af78a8f4f1ab22f0c22af4527b228ef\", element=\"59c4c327-75ad-4791-be3a-8ef1cdf4b6ec\")>,\n",
       " <selenium.webdriver.remote.webelement.WebElement (session=\"1af78a8f4f1ab22f0c22af4527b228ef\", element=\"d834be57-a357-4824-ad97-3043d51d4b9b\")>,\n",
       " <selenium.webdriver.remote.webelement.WebElement (session=\"1af78a8f4f1ab22f0c22af4527b228ef\", element=\"43e1e9f7-7775-4ca2-80bc-974016d19eec\")>,\n",
       " <selenium.webdriver.remote.webelement.WebElement (session=\"1af78a8f4f1ab22f0c22af4527b228ef\", element=\"212178ce-a51c-4acb-ba2a-c07648d2c904\")>,\n",
       " <selenium.webdriver.remote.webelement.WebElement (session=\"1af78a8f4f1ab22f0c22af4527b228ef\", element=\"b337aaa7-f9d0-43aa-83cc-22803b0d7950\")>,\n",
       " <selenium.webdriver.remote.webelement.WebElement (session=\"1af78a8f4f1ab22f0c22af4527b228ef\", element=\"e7a291ab-ca24-4734-8a05-0ce7cca94b2a\")>,\n",
       " <selenium.webdriver.remote.webelement.WebElement (session=\"1af78a8f4f1ab22f0c22af4527b228ef\", element=\"a9d17b1f-e360-40ee-9fac-736312c9cce5\")>,\n",
       " <selenium.webdriver.remote.webelement.WebElement (session=\"1af78a8f4f1ab22f0c22af4527b228ef\", element=\"23aa2799-5222-4f2e-911b-a4a0fc49d626\")>,\n",
       " <selenium.webdriver.remote.webelement.WebElement (session=\"1af78a8f4f1ab22f0c22af4527b228ef\", element=\"77aa01fc-d548-4b6b-87c6-ca229e0fff59\")>,\n",
       " <selenium.webdriver.remote.webelement.WebElement (session=\"1af78a8f4f1ab22f0c22af4527b228ef\", element=\"1416b0ec-e580-4d4f-91c4-22301a4f5f58\")>]"
      ]
     },
     "execution_count": 102,
     "metadata": {},
     "output_type": "execute_result"
    }
   ],
   "source": [
    "salary_tags=driver.find_elements_by_xpath(\"//div[@class='d-flex mt-xxsm css-79elbk epuxyqn0']//p[@class='m-0 css-1vkj9it']\")\n",
    "salary_tags"
   ]
  },
  {
   "cell_type": "code",
   "execution_count": 103,
   "id": "da86cc78",
   "metadata": {
    "collapsed": true
   },
   "outputs": [
    {
     "data": {
      "text/plain": [
       "['₹343K',\n",
       " '₹1,250K',\n",
       " '₹587K',\n",
       " '₹2,734K',\n",
       " '₹578K',\n",
       " '₹2,217K',\n",
       " '₹355K',\n",
       " '₹1,615K',\n",
       " '₹451K',\n",
       " '₹11,640K',\n",
       " '₹1,071K',\n",
       " '₹1,523K',\n",
       " '₹350K',\n",
       " '₹2,152K',\n",
       " '₹502K',\n",
       " '₹1,467K',\n",
       " '₹202K',\n",
       " '₹1,812K',\n",
       " '₹576K',\n",
       " '₹1,523K']"
      ]
     },
     "execution_count": 103,
     "metadata": {},
     "output_type": "execute_result"
    }
   ],
   "source": [
    "salary=[]\n",
    "for i in salary_tags[0:20]:\n",
    "        salary.append(i.text) \n",
    "salary"
   ]
  },
  {
   "cell_type": "code",
   "execution_count": 110,
   "id": "c81c9f55",
   "metadata": {},
   "outputs": [],
   "source": [
    "minimum_salary=[]\n",
    "maximum_salary=[]"
   ]
  },
  {
   "cell_type": "code",
   "execution_count": 111,
   "id": "0eab870f",
   "metadata": {},
   "outputs": [],
   "source": [
    "for i in range(0,20):\n",
    "    if (i%2==0):\n",
    "        minimum_salary.append(salary[i])\n",
    "    else:\n",
    "        maximum_salary.append(salary[i])"
   ]
  },
  {
   "cell_type": "code",
   "execution_count": 112,
   "id": "ad851cd7",
   "metadata": {},
   "outputs": [
    {
     "data": {
      "text/plain": [
       "['₹343K',\n",
       " '₹587K',\n",
       " '₹578K',\n",
       " '₹355K',\n",
       " '₹451K',\n",
       " '₹1,071K',\n",
       " '₹350K',\n",
       " '₹502K',\n",
       " '₹202K',\n",
       " '₹576K']"
      ]
     },
     "execution_count": 112,
     "metadata": {},
     "output_type": "execute_result"
    }
   ],
   "source": [
    "minimum_salary"
   ]
  },
  {
   "cell_type": "markdown",
   "id": "58a702ea",
   "metadata": {},
   "source": [
    "Extracting Minimum salaries"
   ]
  },
  {
   "cell_type": "code",
   "execution_count": 113,
   "id": "30918a36",
   "metadata": {},
   "outputs": [
    {
     "data": {
      "text/plain": [
       "['₹1,250K',\n",
       " '₹2,734K',\n",
       " '₹2,217K',\n",
       " '₹1,615K',\n",
       " '₹11,640K',\n",
       " '₹1,523K',\n",
       " '₹2,152K',\n",
       " '₹1,467K',\n",
       " '₹1,812K',\n",
       " '₹1,523K']"
      ]
     },
     "execution_count": 113,
     "metadata": {},
     "output_type": "execute_result"
    }
   ],
   "source": [
    "maximum_salary"
   ]
  },
  {
   "cell_type": "markdown",
   "id": "ba0181d9",
   "metadata": {},
   "source": [
    "Extracting Maximum salaries"
   ]
  },
  {
   "cell_type": "code",
   "execution_count": null,
   "id": "7ab87a87",
   "metadata": {},
   "outputs": [],
   "source": []
  },
  {
   "cell_type": "code",
   "execution_count": null,
   "id": "16b22dbd",
   "metadata": {},
   "outputs": [],
   "source": []
  },
  {
   "cell_type": "code",
   "execution_count": null,
   "id": "0d97ae9d",
   "metadata": {},
   "outputs": [],
   "source": []
  },
  {
   "cell_type": "code",
   "execution_count": 115,
   "id": "b2cbf2e8",
   "metadata": {},
   "outputs": [],
   "source": [
    "jobs=pd.DataFrame({})\n",
    "jobs[\"Company Name\"]=companies_names\n",
    "jobs[\"Number of Salaries\"]=number_of_salaries\n",
    "jobs[\"Average salary\"]=average_salary\n",
    "jobs[\"Minimum salary\"]=minimum_salary\n",
    "jobs[\"Maximum salary\"]=maximum_salary"
   ]
  },
  {
   "cell_type": "code",
   "execution_count": 116,
   "id": "eaef378f",
   "metadata": {},
   "outputs": [
    {
     "data": {
      "text/html": [
       "<div>\n",
       "<style scoped>\n",
       "    .dataframe tbody tr th:only-of-type {\n",
       "        vertical-align: middle;\n",
       "    }\n",
       "\n",
       "    .dataframe tbody tr th {\n",
       "        vertical-align: top;\n",
       "    }\n",
       "\n",
       "    .dataframe thead th {\n",
       "        text-align: right;\n",
       "    }\n",
       "</style>\n",
       "<table border=\"1\" class=\"dataframe\">\n",
       "  <thead>\n",
       "    <tr style=\"text-align: right;\">\n",
       "      <th></th>\n",
       "      <th>Company Name</th>\n",
       "      <th>Number of Salaries</th>\n",
       "      <th>Average salary</th>\n",
       "      <th>Minimum salary</th>\n",
       "      <th>Maximum salary</th>\n",
       "    </tr>\n",
       "  </thead>\n",
       "  <tbody>\n",
       "    <tr>\n",
       "      <th>0</th>\n",
       "      <td>Tata Consultancy Services</td>\n",
       "      <td>17 salaries</td>\n",
       "      <td>₹ 6,15,289 /yr</td>\n",
       "      <td>₹343K</td>\n",
       "      <td>₹1,250K</td>\n",
       "    </tr>\n",
       "    <tr>\n",
       "      <th>1</th>\n",
       "      <td>IBM</td>\n",
       "      <td>15 salaries</td>\n",
       "      <td>₹ 9,00,000 /yr</td>\n",
       "      <td>₹587K</td>\n",
       "      <td>₹2,734K</td>\n",
       "    </tr>\n",
       "    <tr>\n",
       "      <th>2</th>\n",
       "      <td>Accenture</td>\n",
       "      <td>14 salaries</td>\n",
       "      <td>₹ 11,48,366 /yr</td>\n",
       "      <td>₹578K</td>\n",
       "      <td>₹2,217K</td>\n",
       "    </tr>\n",
       "    <tr>\n",
       "      <th>3</th>\n",
       "      <td>Ericsson-Worldwide</td>\n",
       "      <td>14 salaries</td>\n",
       "      <td>₹ 7,39,238 /yr</td>\n",
       "      <td>₹355K</td>\n",
       "      <td>₹1,615K</td>\n",
       "    </tr>\n",
       "    <tr>\n",
       "      <th>4</th>\n",
       "      <td>Delhivery</td>\n",
       "      <td>14 salaries</td>\n",
       "      <td>₹ 12,41,763 /yr</td>\n",
       "      <td>₹451K</td>\n",
       "      <td>₹11,640K</td>\n",
       "    </tr>\n",
       "    <tr>\n",
       "      <th>5</th>\n",
       "      <td>UnitedHealth Group</td>\n",
       "      <td>11 salaries</td>\n",
       "      <td>₹ 13,38,279 /yr</td>\n",
       "      <td>₹1,071K</td>\n",
       "      <td>₹1,523K</td>\n",
       "    </tr>\n",
       "    <tr>\n",
       "      <th>6</th>\n",
       "      <td>Optum Global Solutions</td>\n",
       "      <td>9 salaries</td>\n",
       "      <td>₹ 13,28,697 /yr</td>\n",
       "      <td>₹350K</td>\n",
       "      <td>₹2,152K</td>\n",
       "    </tr>\n",
       "    <tr>\n",
       "      <th>7</th>\n",
       "      <td>Valiance Solutions</td>\n",
       "      <td>9 salaries</td>\n",
       "      <td>₹ 8,16,495 /yr</td>\n",
       "      <td>₹502K</td>\n",
       "      <td>₹1,467K</td>\n",
       "    </tr>\n",
       "    <tr>\n",
       "      <th>8</th>\n",
       "      <td>ZS Associates</td>\n",
       "      <td>8 salaries</td>\n",
       "      <td>₹ 11,42,356 /yr</td>\n",
       "      <td>₹202K</td>\n",
       "      <td>₹1,812K</td>\n",
       "    </tr>\n",
       "    <tr>\n",
       "      <th>9</th>\n",
       "      <td>EXL Service</td>\n",
       "      <td>8 salaries</td>\n",
       "      <td>₹ 11,46,073 /yr</td>\n",
       "      <td>₹576K</td>\n",
       "      <td>₹1,523K</td>\n",
       "    </tr>\n",
       "  </tbody>\n",
       "</table>\n",
       "</div>"
      ],
      "text/plain": [
       "                Company Name Number of Salaries   Average salary  \\\n",
       "0  Tata Consultancy Services        17 salaries   ₹ 6,15,289 /yr   \n",
       "1                        IBM        15 salaries   ₹ 9,00,000 /yr   \n",
       "2                  Accenture        14 salaries  ₹ 11,48,366 /yr   \n",
       "3         Ericsson-Worldwide        14 salaries   ₹ 7,39,238 /yr   \n",
       "4                  Delhivery        14 salaries  ₹ 12,41,763 /yr   \n",
       "5         UnitedHealth Group        11 salaries  ₹ 13,38,279 /yr   \n",
       "6     Optum Global Solutions         9 salaries  ₹ 13,28,697 /yr   \n",
       "7         Valiance Solutions         9 salaries   ₹ 8,16,495 /yr   \n",
       "8              ZS Associates         8 salaries  ₹ 11,42,356 /yr   \n",
       "9                EXL Service         8 salaries  ₹ 11,46,073 /yr   \n",
       "\n",
       "  Minimum salary Maximum salary  \n",
       "0          ₹343K        ₹1,250K  \n",
       "1          ₹587K        ₹2,734K  \n",
       "2          ₹578K        ₹2,217K  \n",
       "3          ₹355K        ₹1,615K  \n",
       "4          ₹451K       ₹11,640K  \n",
       "5        ₹1,071K        ₹1,523K  \n",
       "6          ₹350K        ₹2,152K  \n",
       "7          ₹502K        ₹1,467K  \n",
       "8          ₹202K        ₹1,812K  \n",
       "9          ₹576K        ₹1,523K  "
      ]
     },
     "execution_count": 116,
     "metadata": {},
     "output_type": "execute_result"
    }
   ],
   "source": [
    "jobs"
   ]
  },
  {
   "cell_type": "markdown",
   "id": "3c129321",
   "metadata": {},
   "source": [
    "Clubbed all the details into DataFrame form"
   ]
  },
  {
   "cell_type": "code",
   "execution_count": null,
   "id": "c9d4d668",
   "metadata": {},
   "outputs": [],
   "source": []
  },
  {
   "cell_type": "code",
   "execution_count": null,
   "id": "87b093c3",
   "metadata": {},
   "outputs": [],
   "source": []
  },
  {
   "cell_type": "code",
   "execution_count": null,
   "id": "3328569f",
   "metadata": {},
   "outputs": [],
   "source": []
  },
  {
   "cell_type": "code",
   "execution_count": null,
   "id": "fe9b1e49",
   "metadata": {},
   "outputs": [],
   "source": []
  },
  {
   "cell_type": "code",
   "execution_count": null,
   "id": "03c8e568",
   "metadata": {},
   "outputs": [],
   "source": []
  },
  {
   "cell_type": "code",
   "execution_count": null,
   "id": "72ee32cf",
   "metadata": {},
   "outputs": [],
   "source": []
  },
  {
   "cell_type": "markdown",
   "id": "0b5ce5fd",
   "metadata": {},
   "source": [
    "# Q6 : Scrape data of first 100 sunglasses listings on flipkart.com. You have to scrape four attributes:"
   ]
  },
  {
   "cell_type": "code",
   "execution_count": 67,
   "id": "d3761716",
   "metadata": {},
   "outputs": [],
   "source": [
    "url = 'https://www.flipkart.com/search?q=sunglasses&otracker=search&otracker1=search&marketplace=FLIPKART&as-show=on&as=off' \n",
    "driver.get(url) "
   ]
  },
  {
   "cell_type": "markdown",
   "id": "63e85a1f",
   "metadata": {},
   "source": [
    "saving and opening the url"
   ]
  },
  {
   "cell_type": "code",
   "execution_count": 69,
   "id": "d2639a34",
   "metadata": {},
   "outputs": [],
   "source": [
    "brand=[]\n",
    "product_description=[]\n",
    "price=[]\n",
    "discount=[]"
   ]
  },
  {
   "cell_type": "code",
   "execution_count": 70,
   "id": "b54bf616",
   "metadata": {},
   "outputs": [
    {
     "data": {
      "text/plain": [
       "['https://www.flipkart.com/search?q=sunglasses&otracker=search&otracker1=search&marketplace=FLIPKART&as-show=on&as=off&page=1',\n",
       " 'https://www.flipkart.com/search?q=sunglasses&otracker=search&otracker1=search&marketplace=FLIPKART&as-show=on&as=off&page=2',\n",
       " 'https://www.flipkart.com/search?q=sunglasses&otracker=search&otracker1=search&marketplace=FLIPKART&as-show=on&as=off&page=3']"
      ]
     },
     "execution_count": 70,
     "metadata": {},
     "output_type": "execute_result"
    }
   ],
   "source": [
    "page_urls=[]\n",
    "url = driver.find_elements_by_xpath('//nav[@class=\"yFHi8N\"]//a')\n",
    "\n",
    "for i in url[0:3]:\n",
    "    page_urls.append(i.get_attribute('href'))\n",
    "page_urls"
   ]
  },
  {
   "cell_type": "code",
   "execution_count": 72,
   "id": "a5c64b95",
   "metadata": {},
   "outputs": [],
   "source": [
    "for i in page_urls:\n",
    "    driver.get(i)\n",
    "    \n",
    "    brand_tags=driver.find_elements_by_xpath(\"//div[@class='_2WkVRV']\")\n",
    "    product_description_tags=driver.find_elements_by_xpath(\"//a[@class='IRpwTa']\")\n",
    "    price_tags=driver.find_elements_by_xpath(\"//div[@class='_30jeq3']\")\n",
    "    discount_tags=driver.find_elements_by_xpath(\"//div[@class='_3Ay6Sb']\")\n",
    "\n",
    "    for i in brand_tags:\n",
    "        brand.append(i.text) \n",
    "\n",
    "    for i in product_description_tags:\n",
    "        product_description.append(i.text)\n",
    "\n",
    "\n",
    "    for i in price_tags:\n",
    "        price.append(i.text) \n",
    "\n",
    "\n",
    "    for i in discount_tags:\n",
    "        discount.append(i.text) \n",
    "    "
   ]
  },
  {
   "cell_type": "markdown",
   "id": "30942e90",
   "metadata": {},
   "source": [
    "Extracted Brand,Product Description,  Price and Discount percentage"
   ]
  },
  {
   "cell_type": "code",
   "execution_count": 74,
   "id": "85a1e54e",
   "metadata": {},
   "outputs": [
    {
     "data": {
      "text/plain": [
       "120"
      ]
     },
     "execution_count": 74,
     "metadata": {},
     "output_type": "execute_result"
    }
   ],
   "source": [
    "len(brand)"
   ]
  },
  {
   "cell_type": "code",
   "execution_count": 75,
   "id": "76bc3e56",
   "metadata": {},
   "outputs": [
    {
     "data": {
      "text/plain": [
       "120"
      ]
     },
     "execution_count": 75,
     "metadata": {},
     "output_type": "execute_result"
    }
   ],
   "source": [
    "len(product_description)"
   ]
  },
  {
   "cell_type": "code",
   "execution_count": 76,
   "id": "6970e973",
   "metadata": {},
   "outputs": [
    {
     "data": {
      "text/plain": [
       "120"
      ]
     },
     "execution_count": 76,
     "metadata": {},
     "output_type": "execute_result"
    }
   ],
   "source": [
    "len(price)"
   ]
  },
  {
   "cell_type": "code",
   "execution_count": 77,
   "id": "83afb98e",
   "metadata": {},
   "outputs": [
    {
     "data": {
      "text/plain": [
       "120"
      ]
     },
     "execution_count": 77,
     "metadata": {},
     "output_type": "execute_result"
    }
   ],
   "source": [
    "len(discount)"
   ]
  },
  {
   "cell_type": "code",
   "execution_count": 81,
   "id": "35b797be",
   "metadata": {
    "collapsed": true
   },
   "outputs": [
    {
     "data": {
      "text/plain": [
       "['ROYAL SON',\n",
       " 'NuVew',\n",
       " 'PIRASO',\n",
       " 'Fastrack',\n",
       " 'PIRASO',\n",
       " 'PIRASO',\n",
       " 'Fastrack',\n",
       " 'Villain',\n",
       " 'DEIXELS',\n",
       " 'PIRASO',\n",
       " 'PIRASO',\n",
       " 'NuVew',\n",
       " 'ROZZETTA CRAFT',\n",
       " 'ROYAL SON',\n",
       " 'Singco',\n",
       " 'Villain',\n",
       " 'Fastrack',\n",
       " 'PHENOMENAL',\n",
       " 'HIPPON',\n",
       " 'AISLIN',\n",
       " 'GANSTA',\n",
       " 'ROYAL SON',\n",
       " 'ROZZETTA CRAFT',\n",
       " 'DEIXELS',\n",
       " 'PIRASO',\n",
       " 'Silver Kartz',\n",
       " 'NuVew',\n",
       " 'Rich Club',\n",
       " 'Fastrack',\n",
       " 'PHENOMENAL',\n",
       " 'Fastrack',\n",
       " 'VINCENT CHASE',\n",
       " 'ROYAL SON',\n",
       " 'ROZZETTA CRAFT',\n",
       " 'hipe',\n",
       " 'AISLIN',\n",
       " 'Singco India',\n",
       " 'ROZZETTA CRAFT',\n",
       " 'Fastrack',\n",
       " 'ROZZETTA CRAFT',\n",
       " 'hipe',\n",
       " 'PHENOMENAL',\n",
       " 'PHENOMENAL',\n",
       " 'ROYAL SON',\n",
       " 'ROZZETTA CRAFT',\n",
       " 'PHENOMENAL',\n",
       " 'hipe',\n",
       " 'NuVew',\n",
       " 'GANSTA',\n",
       " 'DEIXELS',\n",
       " 'Fastrack',\n",
       " 'NuVew',\n",
       " 'Fastrack',\n",
       " 'Fastrack',\n",
       " 'Fravy',\n",
       " 'NuVew',\n",
       " 'Fastrack',\n",
       " 'Cristiano Ronnie',\n",
       " 'PHENOMENAL',\n",
       " 'Villain',\n",
       " 'GANSTA',\n",
       " 'Fastrack',\n",
       " 'Fastrack',\n",
       " 'Villain',\n",
       " 'hipe',\n",
       " 'DEIXELS',\n",
       " 'Fastrack',\n",
       " 'AISLIN',\n",
       " 'Fastrack',\n",
       " 'GANSTA',\n",
       " 'ROZZETTA CRAFT',\n",
       " 'DEIXELS',\n",
       " 'NuVew',\n",
       " 'GANSTA',\n",
       " 'ROZZETTA CRAFT',\n",
       " 'Rich Club',\n",
       " 'ROYAL SON',\n",
       " 'NuVew',\n",
       " 'hipe',\n",
       " 'AISLIN',\n",
       " 'NuVew',\n",
       " 'ROYAL SON',\n",
       " 'elegante',\n",
       " 'ROYAL SON',\n",
       " 'NuVew',\n",
       " 'ROYAL SON',\n",
       " 'Fravy',\n",
       " 'NuVew',\n",
       " 'ROZZETTA CRAFT',\n",
       " 'ROYAL SON',\n",
       " 'Silver Kartz',\n",
       " 'NuVew',\n",
       " 'PIRASO',\n",
       " 'GANSTA',\n",
       " 'ROYAL SON',\n",
       " 'Villain',\n",
       " 'NuVew',\n",
       " 'Flizz',\n",
       " 'Fastrack',\n",
       " 'Villain',\n",
       " 'PIRASO',\n",
       " 'ROZZETTA CRAFT',\n",
       " 'elegante',\n",
       " 'AISLIN',\n",
       " 'IRUS by IDEE',\n",
       " 'ROYAL SON',\n",
       " 'PIRASO',\n",
       " 'DEIXELS',\n",
       " 'ROYAL SON',\n",
       " 'PHENOMENAL',\n",
       " 'GANSTA',\n",
       " 'Rich Club',\n",
       " 'NuVew',\n",
       " 'NuVew',\n",
       " 'NuVew',\n",
       " 'AISLIN',\n",
       " 'ROYAL SON',\n",
       " 'agera',\n",
       " 'ROZZETTA CRAFT',\n",
       " 'AISLIN']"
      ]
     },
     "execution_count": 81,
     "metadata": {},
     "output_type": "execute_result"
    }
   ],
   "source": [
    "brand"
   ]
  },
  {
   "cell_type": "code",
   "execution_count": 90,
   "id": "302e3d4b",
   "metadata": {
    "collapsed": true
   },
   "outputs": [
    {
     "data": {
      "text/plain": [
       "['UV Protection Retro Square Sunglasses (88)',\n",
       " 'UV Protection Aviator Sunglasses (57)',\n",
       " 'UV Protection Aviator Sunglasses (54)',\n",
       " 'UV Protection Rectangular Sunglasses (Free Size)',\n",
       " 'UV Protection Aviator Sunglasses (54)',\n",
       " 'UV Protection Aviator Sunglasses (54)',\n",
       " 'Gradient, UV Protection Wayfarer Sunglasses (Free Size)',\n",
       " 'Others Wayfarer Sunglasses (Free Size)',\n",
       " 'UV Protection Aviator, Wayfarer Sunglasses (Free Size)',\n",
       " 'UV Protection Aviator Sunglasses (58)',\n",
       " 'UV Protection Aviator Sunglasses (Free Size)',\n",
       " 'UV Protection, Gradient Cat-eye Sunglasses (63)',\n",
       " 'UV Protection, Gradient Rectangular Sunglasses (Free Si...',\n",
       " 'UV Protection, Gradient Wayfarer Sunglasses (55)',\n",
       " 'Mirrored Aviator Sunglasses (53)',\n",
       " 'Others Retro Square Sunglasses (Free Size)',\n",
       " 'UV Protection Aviator Sunglasses (58)',\n",
       " 'UV Protection Retro Square Sunglasses (Free Size)',\n",
       " 'UV Protection Wayfarer Sunglasses (55)',\n",
       " 'UV Protection, Gradient Wayfarer Sunglasses (57)',\n",
       " 'UV Protection Aviator Sunglasses (57)',\n",
       " 'Mirrored Aviator Sunglasses (55)',\n",
       " 'UV Protection Retro Square Sunglasses (Free Size)',\n",
       " 'UV Protection Rectangular Sunglasses (Free Size)',\n",
       " 'UV Protection Wayfarer Sunglasses (32)',\n",
       " 'UV Protection Wayfarer Sunglasses (Free Size)',\n",
       " 'UV Protection Aviator Sunglasses (57)',\n",
       " 'UV Protection, Others Round Sunglasses (48)',\n",
       " 'UV Protection Wayfarer Sunglasses (Free Size)',\n",
       " 'UV Protection, Mirrored Retro Square Sunglasses (53)',\n",
       " 'UV Protection Aviator Sunglasses (Free Size)',\n",
       " 'by Lenskart UV Protection Wayfarer Sunglasses (49)',\n",
       " 'UV Protection Wayfarer Sunglasses (55)',\n",
       " 'UV Protection, Gradient Rectangular Sunglasses (Free Si...',\n",
       " 'Mirrored, UV Protection, Gradient Round Sunglasses (55)',\n",
       " 'UV Protection Wayfarer, Rectangular Sunglasses (55)',\n",
       " 'UV Protection, Riding Glasses, Others Aviator, Wayfarer...',\n",
       " 'UV Protection, Riding Glasses Rectangular Sunglasses (F...',\n",
       " 'UV Protection Wayfarer Sunglasses (56)',\n",
       " 'UV Protection Shield Sunglasses (54)',\n",
       " 'Mirrored Wayfarer Sunglasses (55)',\n",
       " 'UV Protection, Mirrored Retro Square Sunglasses (Free S...',\n",
       " 'UV Protection Clubmaster Sunglasses (Free Size)',\n",
       " 'UV Protection Retro Square Sunglasses (88)',\n",
       " 'Gradient, UV Protection Round Sunglasses (Free Size)',\n",
       " 'UV Protection, Mirrored Retro Square Sunglasses (53)',\n",
       " 'UV Protection Sports Sunglasses (Free Size)',\n",
       " 'UV Protection Aviator Sunglasses (57)',\n",
       " 'UV Protection, Mirrored Wayfarer Sunglasses (53)',\n",
       " 'UV Protection Round Sunglasses (Free Size)',\n",
       " 'Gradient, UV Protection Wayfarer Sunglasses (Free Size)',\n",
       " 'UV Protection, Gradient Cat-eye Sunglasses (63)',\n",
       " 'Gradient, UV Protection Wayfarer Sunglasses (Free Size)',\n",
       " 'Gradient, UV Protection Wayfarer Sunglasses (Free Size)',\n",
       " 'UV Protection, Gradient, Night Vision Retro Square Sung...',\n",
       " 'UV Protection Cat-eye Sunglasses (60)',\n",
       " 'Mirrored, UV Protection Wayfarer Sunglasses (Free Size)',\n",
       " 'UV Protection, Riding Glasses Aviator Sunglasses (57)',\n",
       " 'UV Protection, Mirrored Clubmaster Sunglasses (Free Siz...',\n",
       " 'Others Wayfarer Sunglasses (Free Size)',\n",
       " 'UV Protection, Night Vision, Riding Glasses Aviator Sun...',\n",
       " 'UV Protection Wrap-around Sunglasses (Free Size)',\n",
       " 'UV Protection Shield Sunglasses (Free Size)',\n",
       " 'Others Retro Square Sunglasses (Free Size)',\n",
       " 'UV Protection, Mirrored Round Sunglasses (Free Size)',\n",
       " 'Polarized, UV Protection, Riding Glasses Wayfarer Sungl...',\n",
       " 'UV Protection Wayfarer Sunglasses (Free Size)',\n",
       " 'UV Protection, Gradient Wayfarer Sunglasses (57)',\n",
       " 'UV Protection Wayfarer Sunglasses (Free Size)',\n",
       " 'UV Protection, Riding Glasses Wayfarer Sunglasses (53)',\n",
       " 'UV Protection Retro Square Sunglasses (Free Size)',\n",
       " 'UV Protection Rectangular Sunglasses (Free Size)',\n",
       " 'UV Protection Aviator Sunglasses (58)',\n",
       " 'UV Protection, Gradient Wayfarer Sunglasses (53)',\n",
       " 'UV Protection Rectangular Sunglasses (Free Size)',\n",
       " 'UV Protection, Others Round Sunglasses (48)',\n",
       " 'Mirrored Aviator Sunglasses (55)',\n",
       " 'UV Protection Aviator Sunglasses (58)',\n",
       " 'UV Protection, Mirrored Aviator Sunglasses (Free Size)',\n",
       " 'UV Protection Wayfarer, Rectangular Sunglasses (55)',\n",
       " 'UV Protection Aviator Sunglasses (57)',\n",
       " 'UV Protection Round Sunglasses (50)',\n",
       " 'UV Protection Round Sunglasses (Free Size)',\n",
       " 'UV Protection Retro Square Sunglasses (88)',\n",
       " 'UV Protection, Mirrored, Night Vision, Riding Glasses S...',\n",
       " 'Mirrored Aviator Sunglasses (55)',\n",
       " 'UV Protection Retro Square Sunglasses (Free Size)',\n",
       " 'UV Protection Aviator Sunglasses (57)',\n",
       " 'UV Protection, Gradient Retro Square Sunglasses (Free S...',\n",
       " 'Mirrored Aviator Sunglasses (Free Size)',\n",
       " 'UV Protection Oval Sunglasses (56)',\n",
       " 'UV Protection, Gradient Cat-eye Sunglasses (63)',\n",
       " 'UV Protection Aviator Sunglasses (50)',\n",
       " 'UV Protection Aviator Sunglasses (57)',\n",
       " 'Polarized Rectangular Sunglasses (65)',\n",
       " 'Others Wayfarer Sunglasses (Free Size)',\n",
       " 'UV Protection, Gradient, Riding Glasses Aviator Sunglas...',\n",
       " 'UV Protection, Polarized Rectangular Sunglasses (Free S...',\n",
       " 'UV Protection Aviator Sunglasses (58)',\n",
       " 'Others Retro Square Sunglasses (Free Size)',\n",
       " 'UV Protection Aviator Sunglasses (50)',\n",
       " 'UV Protection, Gradient Round Sunglasses (Free Size)',\n",
       " 'UV Protection Oval Sunglasses (Free Size)',\n",
       " 'UV Protection, Gradient Wayfarer Sunglasses (57)',\n",
       " 'Others Rectangular Sunglasses (56)',\n",
       " 'Polarized, UV Protection Aviator Sunglasses (58)',\n",
       " 'UV Protection Aviator Sunglasses (58)',\n",
       " 'UV Protection Rectangular Sunglasses (Free Size)',\n",
       " 'UV Protection Retro Square Sunglasses (88)',\n",
       " 'UV Protection Retro Square Sunglasses (Free Size)',\n",
       " 'UV Protection Aviator Sunglasses (57)',\n",
       " 'UV Protection, Others Round Sunglasses (48)',\n",
       " 'UV Protection, Night Vision, Riding Glasses Retro Squar...',\n",
       " 'UV Protection, Mirrored, Gradient, Riding Glasses, Nigh...',\n",
       " 'UV Protection, Gradient, Night Vision, Mirrored Aviator...',\n",
       " 'UV Protection Wayfarer, Rectangular Sunglasses (55)',\n",
       " 'UV Protection Retro Square Sunglasses (58)',\n",
       " 'UV Protection Round Sunglasses (54)',\n",
       " 'UV Protection, Gradient Round Sunglasses (Free Size)',\n",
       " 'UV Protection, Gradient Wayfarer Sunglasses (57)']"
      ]
     },
     "execution_count": 90,
     "metadata": {},
     "output_type": "execute_result"
    }
   ],
   "source": [
    "product_description"
   ]
  },
  {
   "cell_type": "code",
   "execution_count": 91,
   "id": "f71c94c6",
   "metadata": {
    "collapsed": true
   },
   "outputs": [
    {
     "data": {
      "text/plain": [
       "['₹479',\n",
       " '₹261',\n",
       " '₹237',\n",
       " '₹541',\n",
       " '₹237',\n",
       " '₹237',\n",
       " '₹509',\n",
       " '₹750',\n",
       " '₹213',\n",
       " '₹331',\n",
       " '₹331',\n",
       " '₹355',\n",
       " '₹404',\n",
       " '₹217',\n",
       " '₹249',\n",
       " '₹539',\n",
       " '₹1,046',\n",
       " '₹399',\n",
       " '₹251',\n",
       " '₹625',\n",
       " '₹284',\n",
       " '₹319',\n",
       " '₹499',\n",
       " '₹200',\n",
       " '₹237',\n",
       " '₹246',\n",
       " '₹156',\n",
       " '₹299',\n",
       " '₹716',\n",
       " '₹379',\n",
       " '₹659',\n",
       " '₹890',\n",
       " '₹265',\n",
       " '₹474',\n",
       " '₹210',\n",
       " '₹545',\n",
       " '₹212',\n",
       " '₹426',\n",
       " '₹719',\n",
       " '₹499',\n",
       " '₹219',\n",
       " '₹399',\n",
       " '₹319',\n",
       " '₹479',\n",
       " '₹449',\n",
       " '₹379',\n",
       " '₹319',\n",
       " '₹261',\n",
       " '₹199',\n",
       " '₹219',\n",
       " '₹624',\n",
       " '₹355',\n",
       " '₹618',\n",
       " '₹589',\n",
       " '₹296',\n",
       " '₹356',\n",
       " '₹738',\n",
       " '₹399',\n",
       " '₹319',\n",
       " '₹750',\n",
       " '₹295',\n",
       " '₹593',\n",
       " '₹742',\n",
       " '₹539',\n",
       " '₹219',\n",
       " '₹224',\n",
       " '₹563',\n",
       " '₹625',\n",
       " '₹725',\n",
       " '₹263',\n",
       " '₹499',\n",
       " '₹200',\n",
       " '₹204',\n",
       " '₹296',\n",
       " '₹398',\n",
       " '₹299',\n",
       " '₹399',\n",
       " '₹248',\n",
       " '₹199',\n",
       " '₹545',\n",
       " '₹237',\n",
       " '₹399',\n",
       " '₹189',\n",
       " '₹479',\n",
       " '₹393',\n",
       " '₹399',\n",
       " '₹260',\n",
       " '₹261',\n",
       " '₹426',\n",
       " '₹399',\n",
       " '₹284',\n",
       " '₹355',\n",
       " '₹331',\n",
       " '₹233',\n",
       " '₹699',\n",
       " '₹750',\n",
       " '₹367',\n",
       " '₹279',\n",
       " '₹1,080',\n",
       " '₹539',\n",
       " '₹331',\n",
       " '₹449',\n",
       " '₹426',\n",
       " '₹625',\n",
       " '₹565',\n",
       " '₹711',\n",
       " '₹298',\n",
       " '₹200',\n",
       " '₹569',\n",
       " '₹399',\n",
       " '₹341',\n",
       " '₹299',\n",
       " '₹408',\n",
       " '₹310',\n",
       " '₹364',\n",
       " '₹545',\n",
       " '₹499',\n",
       " '₹207',\n",
       " '₹426',\n",
       " '₹592']"
      ]
     },
     "execution_count": 91,
     "metadata": {},
     "output_type": "execute_result"
    }
   ],
   "source": [
    "price"
   ]
  },
  {
   "cell_type": "code",
   "execution_count": 92,
   "id": "3360fe6b",
   "metadata": {
    "collapsed": true
   },
   "outputs": [
    {
     "data": {
      "text/plain": [
       "['76% off',\n",
       " '71% off',\n",
       " '85% off',\n",
       " '32% off',\n",
       " '85% off',\n",
       " '85% off',\n",
       " '36% off',\n",
       " '24% off',\n",
       " '82% off',\n",
       " '87% off',\n",
       " '79% off',\n",
       " '77% off',\n",
       " '79% off',\n",
       " '78% off',\n",
       " '75% off',\n",
       " '28% off',\n",
       " '19% off',\n",
       " '80% off',\n",
       " '79% off',\n",
       " '70% off',\n",
       " '85% off',\n",
       " '78% off',\n",
       " '77% off',\n",
       " '86% off',\n",
       " '85% off',\n",
       " '83% off',\n",
       " '79% off',\n",
       " '62% off',\n",
       " '20% off',\n",
       " '81% off',\n",
       " '26% off',\n",
       " '55% off',\n",
       " '79% off',\n",
       " '78% off',\n",
       " '85% off',\n",
       " '74% off',\n",
       " '69% off',\n",
       " '80% off',\n",
       " '20% off',\n",
       " '80% off',\n",
       " '78% off',\n",
       " '80% off',\n",
       " '84% off',\n",
       " '76% off',\n",
       " '77% off',\n",
       " '81% off',\n",
       " '83% off',\n",
       " '71% off',\n",
       " '80% off',\n",
       " '72% off',\n",
       " '21% off',\n",
       " '77% off',\n",
       " '22% off',\n",
       " '26% off',\n",
       " '85% off',\n",
       " '75% off',\n",
       " '26% off',\n",
       " '74% off',\n",
       " '84% off',\n",
       " '24% off',\n",
       " '85% off',\n",
       " '34% off',\n",
       " '17% off',\n",
       " '28% off',\n",
       " '86% off',\n",
       " '62% off',\n",
       " '29% off',\n",
       " '70% off',\n",
       " '19% off',\n",
       " '86% off',\n",
       " '77% off',\n",
       " '86% off',\n",
       " '74% off',\n",
       " '85% off',\n",
       " '73% off',\n",
       " '62% off',\n",
       " '73% off',\n",
       " '68% off',\n",
       " '80% off',\n",
       " '74% off',\n",
       " '69% off',\n",
       " '73% off',\n",
       " '81% off',\n",
       " '76% off',\n",
       " '68% off',\n",
       " '73% off',\n",
       " '82% off',\n",
       " '71% off',\n",
       " '78% off',\n",
       " '73% off',\n",
       " '76% off',\n",
       " '77% off',\n",
       " '79% off',\n",
       " '77% off',\n",
       " '65% off',\n",
       " '24% off',\n",
       " '77% off',\n",
       " '81% off',\n",
       " '16% off',\n",
       " '28% off',\n",
       " '79% off',\n",
       " '83% off',\n",
       " '71% off',\n",
       " '70% off',\n",
       " '56% off',\n",
       " '64% off',\n",
       " '88% off',\n",
       " '86% off',\n",
       " '71% off',\n",
       " '80% off',\n",
       " '82% off',\n",
       " '62% off',\n",
       " '75% off',\n",
       " '79% off',\n",
       " '63% off',\n",
       " '74% off',\n",
       " '66% off',\n",
       " '84% off',\n",
       " '88% off',\n",
       " '72% off']"
      ]
     },
     "execution_count": 92,
     "metadata": {},
     "output_type": "execute_result"
    }
   ],
   "source": [
    "discount"
   ]
  },
  {
   "cell_type": "code",
   "execution_count": null,
   "id": "6511d667",
   "metadata": {},
   "outputs": [],
   "source": []
  },
  {
   "cell_type": "code",
   "execution_count": null,
   "id": "dfc03214",
   "metadata": {},
   "outputs": [],
   "source": []
  },
  {
   "cell_type": "code",
   "execution_count": null,
   "id": "2e531f17",
   "metadata": {},
   "outputs": [],
   "source": []
  },
  {
   "cell_type": "code",
   "execution_count": 84,
   "id": "dbc01fb4",
   "metadata": {},
   "outputs": [],
   "source": [
    "Products=pd.DataFrame({})\n",
    "Products[\"Brand\"]=brand[0:100]\n",
    "Products[\"Product Description\"]=product_description[0:100]\n",
    "Products[\"Price\"]=price[0:100]\n",
    "Products[\"Discount percentage\"]=discount[0:100]"
   ]
  },
  {
   "cell_type": "code",
   "execution_count": 89,
   "id": "2e89a8af",
   "metadata": {},
   "outputs": [
    {
     "data": {
      "text/html": [
       "<div>\n",
       "<style scoped>\n",
       "    .dataframe tbody tr th:only-of-type {\n",
       "        vertical-align: middle;\n",
       "    }\n",
       "\n",
       "    .dataframe tbody tr th {\n",
       "        vertical-align: top;\n",
       "    }\n",
       "\n",
       "    .dataframe thead th {\n",
       "        text-align: right;\n",
       "    }\n",
       "</style>\n",
       "<table border=\"1\" class=\"dataframe\">\n",
       "  <thead>\n",
       "    <tr style=\"text-align: right;\">\n",
       "      <th></th>\n",
       "      <th>Brand</th>\n",
       "      <th>Product Description</th>\n",
       "      <th>Price</th>\n",
       "      <th>Discount percentage</th>\n",
       "    </tr>\n",
       "  </thead>\n",
       "  <tbody>\n",
       "    <tr>\n",
       "      <th>0</th>\n",
       "      <td>ROYAL SON</td>\n",
       "      <td>UV Protection Retro Square Sunglasses (88)</td>\n",
       "      <td>₹479</td>\n",
       "      <td>76% off</td>\n",
       "    </tr>\n",
       "    <tr>\n",
       "      <th>1</th>\n",
       "      <td>NuVew</td>\n",
       "      <td>UV Protection Aviator Sunglasses (57)</td>\n",
       "      <td>₹261</td>\n",
       "      <td>71% off</td>\n",
       "    </tr>\n",
       "    <tr>\n",
       "      <th>2</th>\n",
       "      <td>PIRASO</td>\n",
       "      <td>UV Protection Aviator Sunglasses (54)</td>\n",
       "      <td>₹237</td>\n",
       "      <td>85% off</td>\n",
       "    </tr>\n",
       "    <tr>\n",
       "      <th>3</th>\n",
       "      <td>Fastrack</td>\n",
       "      <td>UV Protection Rectangular Sunglasses (Free Size)</td>\n",
       "      <td>₹541</td>\n",
       "      <td>32% off</td>\n",
       "    </tr>\n",
       "    <tr>\n",
       "      <th>4</th>\n",
       "      <td>PIRASO</td>\n",
       "      <td>UV Protection Aviator Sunglasses (54)</td>\n",
       "      <td>₹237</td>\n",
       "      <td>85% off</td>\n",
       "    </tr>\n",
       "    <tr>\n",
       "      <th>...</th>\n",
       "      <td>...</td>\n",
       "      <td>...</td>\n",
       "      <td>...</td>\n",
       "      <td>...</td>\n",
       "    </tr>\n",
       "    <tr>\n",
       "      <th>95</th>\n",
       "      <td>Villain</td>\n",
       "      <td>Others Wayfarer Sunglasses (Free Size)</td>\n",
       "      <td>₹750</td>\n",
       "      <td>24% off</td>\n",
       "    </tr>\n",
       "    <tr>\n",
       "      <th>96</th>\n",
       "      <td>NuVew</td>\n",
       "      <td>UV Protection, Gradient, Riding Glasses Aviato...</td>\n",
       "      <td>₹367</td>\n",
       "      <td>77% off</td>\n",
       "    </tr>\n",
       "    <tr>\n",
       "      <th>97</th>\n",
       "      <td>Flizz</td>\n",
       "      <td>UV Protection, Polarized Rectangular Sunglasse...</td>\n",
       "      <td>₹279</td>\n",
       "      <td>81% off</td>\n",
       "    </tr>\n",
       "    <tr>\n",
       "      <th>98</th>\n",
       "      <td>Fastrack</td>\n",
       "      <td>UV Protection Aviator Sunglasses (58)</td>\n",
       "      <td>₹1,080</td>\n",
       "      <td>16% off</td>\n",
       "    </tr>\n",
       "    <tr>\n",
       "      <th>99</th>\n",
       "      <td>Villain</td>\n",
       "      <td>Others Retro Square Sunglasses (Free Size)</td>\n",
       "      <td>₹539</td>\n",
       "      <td>28% off</td>\n",
       "    </tr>\n",
       "  </tbody>\n",
       "</table>\n",
       "<p>100 rows × 4 columns</p>\n",
       "</div>"
      ],
      "text/plain": [
       "        Brand                                Product Description   Price  \\\n",
       "0   ROYAL SON         UV Protection Retro Square Sunglasses (88)    ₹479   \n",
       "1       NuVew              UV Protection Aviator Sunglasses (57)    ₹261   \n",
       "2      PIRASO              UV Protection Aviator Sunglasses (54)    ₹237   \n",
       "3    Fastrack   UV Protection Rectangular Sunglasses (Free Size)    ₹541   \n",
       "4      PIRASO              UV Protection Aviator Sunglasses (54)    ₹237   \n",
       "..        ...                                                ...     ...   \n",
       "95    Villain             Others Wayfarer Sunglasses (Free Size)    ₹750   \n",
       "96      NuVew  UV Protection, Gradient, Riding Glasses Aviato...    ₹367   \n",
       "97      Flizz  UV Protection, Polarized Rectangular Sunglasse...    ₹279   \n",
       "98   Fastrack              UV Protection Aviator Sunglasses (58)  ₹1,080   \n",
       "99    Villain         Others Retro Square Sunglasses (Free Size)    ₹539   \n",
       "\n",
       "   Discount percentage  \n",
       "0              76% off  \n",
       "1              71% off  \n",
       "2              85% off  \n",
       "3              32% off  \n",
       "4              85% off  \n",
       "..                 ...  \n",
       "95             24% off  \n",
       "96             77% off  \n",
       "97             81% off  \n",
       "98             16% off  \n",
       "99             28% off  \n",
       "\n",
       "[100 rows x 4 columns]"
      ]
     },
     "execution_count": 89,
     "metadata": {},
     "output_type": "execute_result"
    }
   ],
   "source": [
    "Products"
   ]
  },
  {
   "cell_type": "markdown",
   "id": "92d7fdc3",
   "metadata": {},
   "source": [
    "Clubbed all the columns into DataFrame"
   ]
  },
  {
   "cell_type": "code",
   "execution_count": null,
   "id": "1d40878e",
   "metadata": {},
   "outputs": [],
   "source": []
  },
  {
   "cell_type": "code",
   "execution_count": null,
   "id": "4028d4fd",
   "metadata": {},
   "outputs": [],
   "source": []
  },
  {
   "cell_type": "code",
   "execution_count": null,
   "id": "b5bc5fea",
   "metadata": {},
   "outputs": [],
   "source": []
  },
  {
   "cell_type": "code",
   "execution_count": null,
   "id": "cdc974a2",
   "metadata": {},
   "outputs": [],
   "source": []
  },
  {
   "cell_type": "code",
   "execution_count": null,
   "id": "03b51a98",
   "metadata": {},
   "outputs": [],
   "source": []
  },
  {
   "cell_type": "markdown",
   "id": "fa0c6c54",
   "metadata": {},
   "source": [
    "# Q7: Scrape 100 reviews data from flipkart.com for iphone11 phone. You have to go the link: https://www.flipkart.com/apple-iphone-11-black-64-gb-includesearpods-poweradapter/p/itm0f37c2240b217?pid=MOBFKCTSVZAXUHGR&lid=LSTMOBFKCTSVZAXUHGREPBFGI&marketplace."
   ]
  },
  {
   "cell_type": "code",
   "execution_count": 4,
   "id": "a8719be4",
   "metadata": {},
   "outputs": [],
   "source": [
    "url = 'https://www.flipkart.com/apple-iphone-11-black-64-gb-includesearpods-poweradapter/p/itm0f37c2240b217?pid=MOBFKCTSVZAXUHGR&lid=LSTMOBFKCTSVZAXUHGREPBFGI&marketplace' \n",
    "driver.get(url)"
   ]
  },
  {
   "cell_type": "markdown",
   "id": "43f362c3",
   "metadata": {},
   "source": [
    "saving and opening the url"
   ]
  },
  {
   "cell_type": "code",
   "execution_count": null,
   "id": "5a517744",
   "metadata": {},
   "outputs": [],
   "source": []
  },
  {
   "cell_type": "code",
   "execution_count": 10,
   "id": "cc1bd365",
   "metadata": {},
   "outputs": [],
   "source": [
    "search_btn = driver.find_element_by_xpath(\"//div[@class='_3UAT2v _16PBlm']\")\n",
    "search_btn.click()"
   ]
  },
  {
   "cell_type": "markdown",
   "id": "8a8e89ed",
   "metadata": {},
   "source": [
    "Expanded the reviews by clicking \"All 4873 reviews\""
   ]
  },
  {
   "cell_type": "code",
   "execution_count": null,
   "id": "f7c3af79",
   "metadata": {},
   "outputs": [],
   "source": []
  },
  {
   "cell_type": "code",
   "execution_count": null,
   "id": "ec90bcc2",
   "metadata": {},
   "outputs": [],
   "source": []
  },
  {
   "cell_type": "code",
   "execution_count": 6,
   "id": "461b0d2c",
   "metadata": {
    "collapsed": true
   },
   "outputs": [
    {
     "data": {
      "text/plain": [
       "['https://www.flipkart.com/apple-iphone-11-black-64-gb-includes-earpods-power-adapter/product-reviews/itm0f37c2240b217?pid=MOBFKCTSVZAXUHGR&lid=LSTMOBFKCTSVZAXUHGREPBFGI&marketplace=FLIPKART&page=1',\n",
       " 'https://www.flipkart.com/apple-iphone-11-black-64-gb-includes-earpods-power-adapter/product-reviews/itm0f37c2240b217?pid=MOBFKCTSVZAXUHGR&lid=LSTMOBFKCTSVZAXUHGREPBFGI&marketplace=FLIPKART&page=2',\n",
       " 'https://www.flipkart.com/apple-iphone-11-black-64-gb-includes-earpods-power-adapter/product-reviews/itm0f37c2240b217?pid=MOBFKCTSVZAXUHGR&lid=LSTMOBFKCTSVZAXUHGREPBFGI&marketplace=FLIPKART&page=3',\n",
       " 'https://www.flipkart.com/apple-iphone-11-black-64-gb-includes-earpods-power-adapter/product-reviews/itm0f37c2240b217?pid=MOBFKCTSVZAXUHGR&lid=LSTMOBFKCTSVZAXUHGREPBFGI&marketplace=FLIPKART&page=4',\n",
       " 'https://www.flipkart.com/apple-iphone-11-black-64-gb-includes-earpods-power-adapter/product-reviews/itm0f37c2240b217?pid=MOBFKCTSVZAXUHGR&lid=LSTMOBFKCTSVZAXUHGREPBFGI&marketplace=FLIPKART&page=5',\n",
       " 'https://www.flipkart.com/apple-iphone-11-black-64-gb-includes-earpods-power-adapter/product-reviews/itm0f37c2240b217?pid=MOBFKCTSVZAXUHGR&lid=LSTMOBFKCTSVZAXUHGREPBFGI&marketplace=FLIPKART&page=6',\n",
       " 'https://www.flipkart.com/apple-iphone-11-black-64-gb-includes-earpods-power-adapter/product-reviews/itm0f37c2240b217?pid=MOBFKCTSVZAXUHGR&lid=LSTMOBFKCTSVZAXUHGREPBFGI&marketplace=FLIPKART&page=7',\n",
       " 'https://www.flipkart.com/apple-iphone-11-black-64-gb-includes-earpods-power-adapter/product-reviews/itm0f37c2240b217?pid=MOBFKCTSVZAXUHGR&lid=LSTMOBFKCTSVZAXUHGREPBFGI&marketplace=FLIPKART&page=8',\n",
       " 'https://www.flipkart.com/apple-iphone-11-black-64-gb-includes-earpods-power-adapter/product-reviews/itm0f37c2240b217?pid=MOBFKCTSVZAXUHGR&lid=LSTMOBFKCTSVZAXUHGREPBFGI&marketplace=FLIPKART&page=9',\n",
       " 'https://www.flipkart.com/apple-iphone-11-black-64-gb-includes-earpods-power-adapter/product-reviews/itm0f37c2240b217?pid=MOBFKCTSVZAXUHGR&lid=LSTMOBFKCTSVZAXUHGREPBFGI&marketplace=FLIPKART&page=10',\n",
       " 'https://www.flipkart.com/apple-iphone-11-black-64-gb-includes-earpods-power-adapter/product-reviews/itm0f37c2240b217?pid=MOBFKCTSVZAXUHGR&lid=LSTMOBFKCTSVZAXUHGREPBFGI&marketplace=FLIPKART&page=2']"
      ]
     },
     "execution_count": 6,
     "metadata": {},
     "output_type": "execute_result"
    }
   ],
   "source": [
    "page_urls=[]\n",
    "url = driver.find_elements_by_xpath('//nav[@class=\"yFHi8N\"]//a')\n",
    "\n",
    "for i in url:\n",
    "    page_urls.append(i.get_attribute('href'))\n",
    "page_urls"
   ]
  },
  {
   "cell_type": "markdown",
   "id": "b1cc0b3c",
   "metadata": {},
   "source": [
    "Extracted all the urls from each page"
   ]
  },
  {
   "cell_type": "code",
   "execution_count": null,
   "id": "7eab0405",
   "metadata": {},
   "outputs": [],
   "source": []
  },
  {
   "cell_type": "code",
   "execution_count": 17,
   "id": "dc1ef0aa",
   "metadata": {},
   "outputs": [
    {
     "data": {
      "text/plain": [
       "11"
      ]
     },
     "execution_count": 17,
     "metadata": {},
     "output_type": "execute_result"
    }
   ],
   "source": [
    "len(page_urls)"
   ]
  },
  {
   "cell_type": "code",
   "execution_count": 43,
   "id": "2c8aaa3d",
   "metadata": {},
   "outputs": [],
   "source": [
    "rating=[]\n",
    "review_summary=[]\n",
    "full_review=[]"
   ]
  },
  {
   "cell_type": "code",
   "execution_count": null,
   "id": "00384653",
   "metadata": {},
   "outputs": [],
   "source": []
  },
  {
   "cell_type": "code",
   "execution_count": 44,
   "id": "c0d59a43",
   "metadata": {},
   "outputs": [],
   "source": [
    "for i in page_urls[0:10]:\n",
    "    driver.get(i)\n",
    "    \n",
    "    rating_tags=driver.find_elements_by_xpath(\"//div[@class='_3LWZlK _1BLPMq' or @class='_3LWZlK _1rdVr6 _1BLPMq']\")\n",
    "    review_summary_tags=driver.find_elements_by_xpath(\"//p[@class='_2-N8zT']\")\n",
    "    full_review_tags=driver.find_elements_by_xpath(\"//div[@class='t-ZTKy']\")\n",
    "\n",
    "    for i in rating_tags:\n",
    "        rating.append(i.text)\n",
    "\n",
    "    for i in review_summary_tags:\n",
    "        review_summary.append(i.text)\n",
    "\n",
    "\n",
    "    for i in full_review_tags:\n",
    "        full_review.append(i.text.replace(\"\\n\",\" \")) \n"
   ]
  },
  {
   "cell_type": "markdown",
   "id": "748501a9",
   "metadata": {},
   "source": [
    "Extracted Rating,Review_summary and Full review from each page"
   ]
  },
  {
   "cell_type": "code",
   "execution_count": null,
   "id": "64877809",
   "metadata": {},
   "outputs": [],
   "source": []
  },
  {
   "cell_type": "code",
   "execution_count": 45,
   "id": "4f5c46e8",
   "metadata": {},
   "outputs": [
    {
     "data": {
      "text/plain": [
       "100"
      ]
     },
     "execution_count": 45,
     "metadata": {},
     "output_type": "execute_result"
    }
   ],
   "source": [
    "len(rating)"
   ]
  },
  {
   "cell_type": "code",
   "execution_count": 46,
   "id": "abce12bb",
   "metadata": {},
   "outputs": [
    {
     "data": {
      "text/plain": [
       "100"
      ]
     },
     "execution_count": 46,
     "metadata": {},
     "output_type": "execute_result"
    }
   ],
   "source": [
    "len(review_summary)"
   ]
  },
  {
   "cell_type": "code",
   "execution_count": 47,
   "id": "a7510257",
   "metadata": {},
   "outputs": [
    {
     "data": {
      "text/plain": [
       "100"
      ]
     },
     "execution_count": 47,
     "metadata": {},
     "output_type": "execute_result"
    }
   ],
   "source": [
    "len(full_review)"
   ]
  },
  {
   "cell_type": "code",
   "execution_count": 48,
   "id": "3ebbe037",
   "metadata": {
    "collapsed": true
   },
   "outputs": [
    {
     "data": {
      "text/plain": [
       "['5',\n",
       " '5',\n",
       " '5',\n",
       " '5',\n",
       " '5',\n",
       " '4',\n",
       " '5',\n",
       " '5',\n",
       " '5',\n",
       " '5',\n",
       " '5',\n",
       " '5',\n",
       " '5',\n",
       " '5',\n",
       " '4',\n",
       " '5',\n",
       " '5',\n",
       " '5',\n",
       " '5',\n",
       " '5',\n",
       " '5',\n",
       " '5',\n",
       " '5',\n",
       " '5',\n",
       " '5',\n",
       " '5',\n",
       " '5',\n",
       " '5',\n",
       " '4',\n",
       " '1',\n",
       " '5',\n",
       " '5',\n",
       " '5',\n",
       " '5',\n",
       " '5',\n",
       " '5',\n",
       " '5',\n",
       " '5',\n",
       " '5',\n",
       " '4',\n",
       " '4',\n",
       " '5',\n",
       " '5',\n",
       " '5',\n",
       " '5',\n",
       " '5',\n",
       " '5',\n",
       " '5',\n",
       " '5',\n",
       " '5',\n",
       " '5',\n",
       " '5',\n",
       " '5',\n",
       " '5',\n",
       " '1',\n",
       " '5',\n",
       " '5',\n",
       " '5',\n",
       " '5',\n",
       " '5',\n",
       " '5',\n",
       " '4',\n",
       " '5',\n",
       " '5',\n",
       " '5',\n",
       " '4',\n",
       " '5',\n",
       " '5',\n",
       " '5',\n",
       " '5',\n",
       " '4',\n",
       " '5',\n",
       " '5',\n",
       " '5',\n",
       " '5',\n",
       " '5',\n",
       " '4',\n",
       " '5',\n",
       " '5',\n",
       " '5',\n",
       " '5',\n",
       " '3',\n",
       " '5',\n",
       " '5',\n",
       " '5',\n",
       " '5',\n",
       " '5',\n",
       " '5',\n",
       " '5',\n",
       " '4',\n",
       " '4',\n",
       " '4',\n",
       " '5',\n",
       " '5',\n",
       " '5',\n",
       " '5',\n",
       " '5',\n",
       " '3',\n",
       " '5',\n",
       " '5']"
      ]
     },
     "execution_count": 48,
     "metadata": {},
     "output_type": "execute_result"
    }
   ],
   "source": [
    "rating"
   ]
  },
  {
   "cell_type": "code",
   "execution_count": 49,
   "id": "bcc1db69",
   "metadata": {
    "collapsed": true
   },
   "outputs": [
    {
     "data": {
      "text/plain": [
       "['Brilliant',\n",
       " 'Perfect product!',\n",
       " 'Great product',\n",
       " 'Worth every penny',\n",
       " 'Fabulous!',\n",
       " 'Good choice',\n",
       " 'Highly recommended',\n",
       " 'Perfect product!',\n",
       " 'Perfect product!',\n",
       " 'Worth every penny',\n",
       " 'Perfect product!',\n",
       " 'Highly recommended',\n",
       " 'Simply awesome',\n",
       " 'Worth every penny',\n",
       " 'Nice product',\n",
       " 'Terrific',\n",
       " 'Classy product',\n",
       " 'Highly recommended',\n",
       " 'Wonderful',\n",
       " 'Brilliant',\n",
       " 'Perfect product!',\n",
       " 'Must buy!',\n",
       " 'Terrific purchase',\n",
       " 'Wonderful',\n",
       " 'Mind-blowing purchase',\n",
       " 'Great product',\n",
       " 'Terrific purchase',\n",
       " 'Simply awesome',\n",
       " 'Good quality product',\n",
       " 'Very poor',\n",
       " 'Best in the market!',\n",
       " 'Perfect product!',\n",
       " 'Must buy!',\n",
       " 'Fabulous!',\n",
       " 'Mind-blowing purchase',\n",
       " 'Mind-blowing purchase',\n",
       " 'Wonderful',\n",
       " 'Worth every penny',\n",
       " 'Great product',\n",
       " 'Good choice',\n",
       " 'Very Good',\n",
       " 'Perfect product!',\n",
       " 'Classy product',\n",
       " 'Perfect product!',\n",
       " 'Just wow!',\n",
       " 'Awesome',\n",
       " 'Terrific',\n",
       " 'Terrific purchase',\n",
       " 'Perfect product!',\n",
       " 'Brilliant',\n",
       " 'Perfect product!',\n",
       " 'Classy product',\n",
       " 'Awesome',\n",
       " 'Excellent',\n",
       " 'Not recommended at all',\n",
       " 'Fabulous!',\n",
       " 'Excellent',\n",
       " 'Must buy!',\n",
       " 'Simply awesome',\n",
       " 'Brilliant',\n",
       " 'Terrific purchase',\n",
       " 'Good quality product',\n",
       " 'Simply awesome',\n",
       " 'Perfect product!',\n",
       " 'Worth every penny',\n",
       " 'Value-for-money',\n",
       " 'Just wow!',\n",
       " 'Super!',\n",
       " 'Best in the market!',\n",
       " 'Perfect product!',\n",
       " 'Value-for-money',\n",
       " 'Mind-blowing purchase',\n",
       " 'Must buy!',\n",
       " 'Fabulous!',\n",
       " 'Excellent',\n",
       " 'Mind-blowing purchase',\n",
       " 'Good quality product',\n",
       " 'Awesome',\n",
       " 'Excellent',\n",
       " 'Terrific purchase',\n",
       " 'Awesome',\n",
       " 'Decent product',\n",
       " 'Wonderful',\n",
       " 'Just wow!',\n",
       " 'Super!',\n",
       " 'Super!',\n",
       " 'Awesome',\n",
       " 'Excellent',\n",
       " 'Highly recommended',\n",
       " 'Wonderful',\n",
       " 'Nice product',\n",
       " 'Good quality product',\n",
       " 'Best in the market!',\n",
       " 'Classy product',\n",
       " 'Excellent',\n",
       " 'Mind-blowing purchase',\n",
       " 'Fabulous!',\n",
       " 'Does the job',\n",
       " 'Fabulous!',\n",
       " 'Awesome']"
      ]
     },
     "execution_count": 49,
     "metadata": {},
     "output_type": "execute_result"
    }
   ],
   "source": [
    "review_summary"
   ]
  },
  {
   "cell_type": "code",
   "execution_count": 50,
   "id": "a5f7ee41",
   "metadata": {
    "collapsed": true
   },
   "outputs": [
    {
     "data": {
      "text/plain": [
       "['The Best Phone for the Money  The iPhone 11 offers superb cameras, a more durable design and excellent battery life for an affordable price.  Compelling ultra-wide camera New Night mode is excellent Long battery life',\n",
       " 'Amazing phone with great cameras and better battery which gives you the best performance. I just love the camera .',\n",
       " 'Amazing Powerful and Durable Gadget.  I’m am very happy with the camera picture quality, Amazing face id unlocked in dark room, Strong battery with perfect screen size as you can carry easily in pocket. This is my third iPhone.  I shifted from android Samsung Note series to iPhone because of the strong build quality and peace of mind for next 3-4 years.  Don’t think to much just go for it and I suggest you to go for minimum 128gb variant or more 256gb.  I’ve attached my puppy pics and no fi... READ MORE',\n",
       " 'Previously I was using one plus 3t it was a great phone And then I decided to upgrade I am stuck between Samsung s10 plus or iPhone 11 I have seen the specs and everything were good except the display it’s somewhere between 720-1080 and it’s not even an amoled it’s an LCD display But I decided to go with iPhone because I have never used an IOS device I have Been an android user from the past 9 years I ordered IPhone 11 (128gb) product red My experience after using 3 weeks 1. The delivery ... READ MORE',\n",
       " 'This is my first iOS phone. I am very happy with this product. Very much satisfied with this. I love this phone.',\n",
       " 'So far it’s been an AMAZING experience coming back to iOS after nearly a decade but it’s not as versatile as android though phone is sturdy dropped it accidentally a couple of times and nothing happened fortunately camera is awesome',\n",
       " 'iphone 11 is a very good phone to buy only if you can compromise for the display. The display on this is device is pretty good but you can get other options with better displays in this price segment. If you can survive with an HD+ LCD panel with thicker bezels and a notch up top then this is a very good phone for you. Cameras are awesome, battery backup excellent, great performance and a decent premium look. Good job Apple !',\n",
       " 'It’s a must buy who is looking for an upgrade from previous generation of iPhones. If you are using XR then still you can hold on for sometime and upgrade to 2020 model else this phone is a must buy . Camera quality is amazing and wide angle is something to count upon. Performance wise it’s amazing and feels premium while holding in hand. So a big YES for this device. Go for 128 GB variant as the 4K videos will occupy lots of space and the storage can get over very quickly. Try to buy it with... READ MORE',\n",
       " 'Value for money❤️❤️ Its awesome mobile phone in the world ... Display was very good and bright .. Trust me freinds you r never regret after Buying.. Just go for it.... I love this phone and i switch to iphone x to 11',\n",
       " 'Best budget Iphone till date ❤️ go for it guys without second thought. Let me explain you guys about Camera, Display, battery, and performance.  Camera: at this price range there is no comparison of camera, you’ll love the picture quality as well as video quality. I am a Vlogger I wanted an iPhone with 4k video by front camera and I got this phone and I am more than happy 😃  Battery: I use this phone roughly as I am active social media person and I have a youtube channel. so the battery ba... READ MORE',\n",
       " \"Iphone is just awesome.. battery backup is very very nice.. continuously for 10 hours we can use it.camera is just awesome.. display is just fab.i love it alot..i had to wait 15 days for it as i pre ordered it..overalll it's worth the price..these all images are clicked by my iPhone..and i love it.\",\n",
       " 'What a camera .....just awesome ..you can feel this iPhone just awesome . Good for gaming also ...try pubg in hd it’s just wow',\n",
       " 'Excellent camera, good performance, no lag. The lcd display is also good.. but difference come when we watch movie in prime and Netflix, the colours are not vibrant.. as we see in amoled display.. and the charger in box is of 5 watts.. takes more than 3 hours to charge from 0 to 100.. so guys be prepare to buy 18 watts charger . Finally I am an android user, it was my first Iapple phone, I promise u guys the iOS is so smooth.. overall the phone is damn good.... close eyes to buy it.. thanks t... READ MORE',\n",
       " 'It’s been almost a month since I have been using this phone. I upgraded from an iPhone 8. The main issue with my 8 was battery and this phone is just awesome when it comes to battery. It lasts a day and a half for me with my regular use , internet connected always with 4g Can’t move forward without saying this. Battery of this phone is a life saver when I am traveling or at work when I don’t get the option to charge Camera is superb. Front cam selfies and back cam photos are just awesome. ... READ MORE',\n",
       " 'Awesome Phone. Slightly high price but worth. Better than iPhone XR. Camera is superb and wide angle camera is very clear. 12MP selfie camera is also very good. A13 Chip gives a very good and smooth performance.',\n",
       " 'Really worth of money. i just love it. It is the best phone ever.',\n",
       " 'Superb Product !!! A big and worthy upgrade from mi 3S to iphone 11 . Totally loved it !',\n",
       " \"It's my first time to use iOS phone and I am loving my upgradation 😍😍 I love the color, I love the assebility of the phone....I need to learn more about its functionality, but as far as I have seen, it's quite easy and it has a lot of functions to work on, specially if you are a content writer or a blogger you get a lot of content creation platforms and they are really amazing.  This phone not only for good quality photography but a lot of other task too.😍💯\",\n",
       " 'This is my first ever I phone. Before this I was using my google nexus 5. But moving from android to iOS is a great experience. It’s worth at this price. I will highly recommend it if you want to move to iOS. The best part of this phone is it’s camera and it’s battery life. This two things have won my heart. I loved it. Happy to have it in my hand. Still exploring its features. And can’t forget to mention Flipkart service. Very prompt service and fast delivery.',\n",
       " 'I have migrated from OP 7pro... and trust me, iPhone 11 is totally worth it.. following are the reasons:- 1)there is ABSOLUTELY NO ISSUE WITH THE DISPLAY... its crisp, sharp and I found it to be much much better than OP7 pro. Netflix, Prime video all run crisply... you won’t miss a thing. True Tone works flawlessly...the display brightness is perfect. OP have not calibrated their screens properly. 2) iPhone 11 series have really good cameras... others have spoken in depth about them. 3) bat... READ MORE',\n",
       " 'After 1 month use I found camera quality best compared to my previous Samsung note 10+.Display not good as note 10 also charging too slow.Apple should add fast charger like 11 plus and pro.Best phone for daily use',\n",
       " 'It’s an amazing product from apple and the camera is simply superb. Phone is faster.Night shot is simply superb and detailing and colour differentiation from camera is an added advantage  This review I have written from iPhone 11 only and I am glad to say outside.  Cons wise if we see HD+ display only, no battery percentage indicator as in older iPhone 8. No assistive touch control button in it No oleophobic coating on back panel glass and finger prints are visible but since I bought mint gr... READ MORE',\n",
       " 'Upgraded from iphone 6 to 11 best phone for iphone users battery is much better than other iphones camera is awesome love to use it.camera is so clear in night.',\n",
       " 'I just directly switch from iphone 6s to iphone 11 .The best premium smartphone I recommend to everyone. Excellent quality and colors the iphone have in 11 series. Camera quality is just awesome and the major feel when we hold in our hands. The sound quality and volume is also higher then the previous models. I will recommend to buy iphone 11 instead of pro models , there is nothing much difference as this model contains everything which fulfill our needs.  Only one thing that I dislike abo... READ MORE',\n",
       " 'This will help you more. See if you are planning to buy iPhone 11. I will say. Yes. But there are some plans I just want to disclose before you buy. 1) If you are an existing iPhone X/XS/XS Max/ XR user, better you guys do not think it to buy. You guys have more or less better gadget. 2) If you are an android user and planning to buy premium phone. I will suggest them to please buy iPhone instead of buying an Android. I bet you will never go back to android after using IOS. Now I want to shar... READ MORE',\n",
       " 'Well you all know the specifications . One of a kind. Best iPhone till date. Many enhancements to the camera app with many options. Love the glass body with matte finish in the lens area on the back. Lovely colours to choose from. Best battery in an iPhone till date, enough to last more than a day in normal usage. I tested my iPhone 11 battery and lasted for than 24 hours after full charge still with 30% battery charge left. Watched movies for some time. Normal usage on calls, browsing, musi... READ MORE',\n",
       " 'The built quality is not very premium. The battery back is great . The LCD panel is not so sharp but the brightness level is very High . Camera is super duper awesome. The red colour which people think is bright is actually very soothing and excellent colour to choose from . The A13 Bionic chip is really a flagship processor and can beat any phone which even has 12 gb ram . Camera module is very great and looks very stylish.',\n",
       " 'Really good actually this is my first apple product am using its really awesome performance wise excellent. Am really happy with this iphone11',\n",
       " 'it is very good at performance. Camera is best like before and very smooth response even in water. Don’t buy 12 mini buy iPhone 11 , it is far better than 12 mini believe me ! Have a nice day \\uf8ff ☺️',\n",
       " 'Reviewing again after 5 months. At the beginning the battery and performance was good but it degraded soon. Also I was facing heating issues. The mobile will heat up like a stove sometimes. You cannot even play Pubg even in low settings properly, performance is not a problem but heating is. Also if you play that game for 10 mins the brightness will be automatically down due to over heating even when the auto brightness is set to off. This will not be solved even if u manually increase the bri... READ MORE',\n",
       " 'Great iPhone very snappy experience as apple kind. Upgraded from iPhone 7. Pros -Camera top class - Battery top performed -Chipset no need to say as apple kind -Security as you expect from apple - Display super bright industry leading colour accuracy and super responsive -Build quality as expect from apple sturdy premium durable beautiful stylish. -Os most stable os in smartphone industry  Cons -No 5G -Display is not based on OLED technology -Charger headphones and 1 apple stic... READ MORE',\n",
       " 'It is just awesome mobile for this price from Apple,  After 10 days review  Battery enough for 1 day even 24*7 Internet will be on and mostly internet usage  Camera is just awesome cool , android 64 MP is equal to this just 12 MP  A13 Bionic chip will give more high performance without hanging  Audio stereo speakers will give Dolby atoms sound with crystal clear  Video recording is like cinematic shots of every sec can be a 4K 60fps. Just awesome this phone iPhone 11 loved one',\n",
       " 'Best Apple iPhone that i have bought at a very reasonable price, camera quality is next level just awesome n of superior quality android phones not even close(RIP) to that and also battery is really good but packaging by Flipkart of iPhone was very poor of such a expensive product, firstly im bit worried about the quality of product if i purchased it through online how was the product but i think now this was mine best decision to bought it through Flipkart online because i got genuine Apple... READ MORE',\n",
       " \"I can say I'm damn impressed with iPhone 11. As they says iPhone 11 have the toughest glass ever in the smartphone which you'll find on the front and back and it's totally smooth. The fit and finish is full apple quality - there's no sense that any cheaping out has happened in the construction. Without saying it's camera features this review won't complete. The iPhone 11 has a dual camera system, consisting of a wide angle len's that's pretty much same as found on the iPhone XR last year, but... READ MORE\",\n",
       " 'Best Quality Product OF iPhone Series , Sound Quality & Camera quality is very awesome, Battery Life is very Sufficient for 24 hr Backup With Full Internet Access , I love this this Product too much , It is very fast & making me Very fast in all my daily Routine Highlights; 1.Camera: 5 STAR 2.Video Recording: 5 star 3.Night mODE sHOOTING & Camera:4 star 4. Audio Quality: Awesome 5. Battery : 5 Star 6. Touch:5 Star 7. Processor: Very Fast The M... READ MORE',\n",
       " 'First thanks to Flipkart for this amazing deal and phone is outstanding. I upgraded from iPhone 7 and this is like very big upgrade. But the packaging was very basic I expected a good packaging as they only wrapped one layer of bubble wrap which I don’t think is enough to protect this expensive phone. And I recommend this phone and seller as well.  And I’m posting this review after using it for 4 days.',\n",
       " 'Superfast delivery by Flipkart. Thanks.  1. iPhone 11 is a pretty solid phone for the money you are paying. 2. All the bad reviews about the display is confusing. It’s not that bad. 3. I switched from a Oneplus 7t. I have no complaints about the display quality of iPhone. Yes, it’s not OLED, so, we are missing on the deep blacks. But that’s it. It is a very colour accurate display. Gets adequately bright and I could not find any pixelation. 4. Performance is one of the best, if not best, in ... READ MORE',\n",
       " 'Smooth like butter, camera like fantabulous, sound is crystal clear & its red color is damn attractive, i am just loving it. Must buy if you love photography.  Lucky to get it in sale, thank you Flipkart.',\n",
       " \"Again back to apple iphone after a gap of 2-3 years. It's pleasure to use iOS and the quality product by Apple. Iphone 11 still works like a beast in 2021 also. It really capable of doing day to day usage as well as hard core gaming. Battery is awesome. I'm really too much satisfied with it. Apart fto the very gorgious IPS LCD (AMOLED will be better) everything is mind boggling. Iphone💕.\",\n",
       " 'Looking so good 👍 😍 super 👌 stylish 😎 phone Clean box 📦 good 👍 delivery 👌 fast delivery Original box Original iphone 📱 👌 😍😍😍',\n",
       " 'impressive super phone and best in class camera ,sound and face unlock is super fast just see and phone is unlock and fast in daily apps use',\n",
       " 'Battery backup is extraordinary, camera is decent & performance offered by A13 bionic is awsome. The display is good in practical usage like the visibility of display is very good in direct sun light compare to pro models. Iam extremely satisfied for the money I spent.',\n",
       " 'Well while switching from android to iOS the first thing you need to be careful about is that you will loose all your whatsapp chat backups as both are different operating systems. Camera clarity is awesome and though being an lcd screen clarity and resolution is good. Battery backup is also good unlike previous gen iPhone. So far the experience is good will Padre after a few months of usage.  P.S the black is more of a dark grey shade and not jet black',\n",
       " 'In love with this iphone great performance,camera ,battery everything. Go for it have a uncompareble battery backup, no doubts in iPhone camera here You can see the picture which is shot on my iPhone In love with this iphone great performance,camera ,battery everything. Go for it have a uncompareble battery backup, no doubts in iPhone camera here You can see the picture which is shot on my iPhone In love with this iphone great performance,camera ,battery everything. Go for it have a uncompare... READ MORE',\n",
       " 'Best in class. Battery backup is good especially when you play games like Pubg COD. But it is sort of heavy when you hold in hands. Portrait mode is best to click pictures. Stage light effect is awesome. Try to click photos outside in nature because photos inside home or room will not give you the quality in any phone even in DSLR.',\n",
       " 'Very excited to have this phone. This phone has the real power unlike the android phones having SD 855 . The battery life is very good and the camera quality is excellent as comapred to redmi and other phones except google pixel. I M enjoying every single bit of it. Would recommed only if you have the budget.',\n",
       " \"I upgraded (downgraded?) from my iPhone X since the phone fell down and I didn't want to repair the screen. The box that the phone came in was super slim and I was worried that there'd be no 5W charger with it and my fears were confirmed. However, thankfully I had the 18W USB-C PD charger from Apple which I bought for my iPhone X and it worked perfectly. The charging time is as lethargic as ever though and it takes about 1:30 mins or even 2 hours depending on charge remaining. I'll list some ... READ MORE\",\n",
       " 'Its Very awesome product working and good camera quality and all about best product and also flipkart is very great deal and offer nice price',\n",
       " 'Best and amazing product.....phone looks so premium.... battary is also good as expected .... Wide angle camera is so addictive ...if you are a IOS lover....then this phone will be the best choice for you all!!💯🔥',\n",
       " 'Excellent camera and display touching very nice and smooth very improvement against iPhone XR and new processor is very fast',\n",
       " 'Awesome purchase. Amazing phone with good battery backup. It’s a top notch device. White colour looks amazing. Phone has a few extra feature than iPhone XR. Overall, this is value for money',\n",
       " 'Totally in love with this ❤ the camera quality is amazing just love it 😘😘😘 itsss dammnnnnnn amazing... Must buy iPhone 11 this is my best experience ever ☀👌👌🧡🧡🧡🧡🧡 thanku apple ❤',\n",
       " 'Always love the apple products, upgraded from old iPhone 6S plus to this after having my first baby. I just love to click baby’s photos with it. Overall I just love this phone. Battery back up is okay, sound quality is good. Haven’t tested yet waterproof yet. Only one thing I hate is apple could have given charger & headphones in box.',\n",
       " 'Amazing camera and feel super machine I am not describe my feeling but this is amazing Phone I am so lucky I have this',\n",
       " 'They are selling cheep quality items. There is a black line on the edge of the display. Waiting for the replacement..  Update:today I got the replacement from flipkart.. The second one is nice and the display and camera quality is much better than the previous one.. Thanks for the support',\n",
       " 'awesome phone to have. it has got many smart features apart from mind blowing looks, camera, display, battery and sound. have fallen in love with this phone. must buy phone if you have got enough money. thanks to flipkart and apple of course..',\n",
       " 'Its a fabulous mobile look awesome performance unbeaten camera like dslr battery good i think this is a beast of mobile',\n",
       " 'Dear friends... I want to share my experience with you about this amazing I phone 11....this is my first iPhone and special things about this mobile is it has great camera, battery backup and awesome display.... I mean everything is perfect.loved it 👍👍👍',\n",
       " \"It's very high performances devise i am like the service of flipkart delevary very fast and packing very nice perfect phone\",\n",
       " 'Amazing phone and on great deal I received with super fast delivery by Flipkart...',\n",
       " 'finally an iPhone with very nice battery backup. update from iPhone 7 and happy to have it. camera is not up to the mark in low light but overall a recommended phone if your budget allows 😀',\n",
       " \"I'm switching this phone to oppo reno 10x zoom It's really impressive Rarely I'm missing smooth display touch response like oppo reno but I really loved it. Camera really impressive\",\n",
       " 'Really satisfied with the Product I received... It’s totally genuine and the packaging was also really good so if ur planning to buy just go for it.',\n",
       " 'Worth the money’ starting first from its performance it beats out all phones , second the smoothness of camera is awesome, contrast ratio is much than expected. Price will not matter if u r a quality person, if not other phones are available with better discount',\n",
       " 'i11 is worthy to buy, too much happy with the product. Thank u flipkart I received the item on time..loved it..',\n",
       " \"I'm Really happy with the product Delivery was fast as well ..it was a gift for my sister and she loved it so much.\",\n",
       " 'Great iphone. I am writing this review after 2 months of usage. Camera is excellent, especially the nightmode Display perfect Battery backup awesome Sound quality very good Overall Apple gives you a perfect iphone in this range. Really in love with iPhone 11',\n",
       " 'Did an upgrade from 6s plus to iphone 11. Ao far the experience is well and good. Felt smoother than 6s plus. The camera quality is superb. Battery backup is descent. Not a heavy user, and gets power more than a day. Go for it if you need an alrounder iphone in a competitve price.',\n",
       " 'Damn this phone is a blast . Upgraded from android to ios and is a duperb experience. Battery backup is top notch and display also pretty good',\n",
       " 'Value for money 5 star rating Excellent camera Battery backup full day in single charge.  Tougher and water resistant design, glossy back. The screen has excellent brightness and contrast. Apple A13 Bionic is the fastest smartphone chip on the planet. Excellent battery life, fast charging support. Stereo speakers with great quality.',\n",
       " \"Just got this iphone 11 And it is most powerful mobile phone I have used ever  So,go for it if you want a phone with best specification like camera,battery backup,display, A13 bionic chip  That's my review about this phone but yours can be differ from me....\",\n",
       " 'awesome Phone Smooth Touch Too good Sexyy looks one word Awesome',\n",
       " 'I rate this product 5* as it has got amazing user experience with the best performing A13 bionic processor. The screen responds and graphics rendering is top notch. With casual gaming and internet browsing, the battery lasts for approx. 1 day. Camera is very good. You will fall in love with the portrait mode. You can call me a loyal Apple customer or whatever but I won’t stop praising the products and overall experience. That user experience matters and is worth every penny you pay.  Below ar... READ MORE',\n",
       " 'I purchased the iPhone 11 a month back. I must say Apple has impressed me yet again . I have been an Apple user for past 5 years . The phone is power packed with amazing features . What impressed me the most was the battery backup the phone offers . Battery can easily run upto 1.5 days in single charge with moderate to Heavy usage . If you’re looking for a value for money device , I don’t see any other phone in the price range which can match the iPhone 11 . One thing I didn’t like was that ... READ MORE',\n",
       " \"Just go for it. This phone is really amazing. I ordered it for my wife and we click photos on this thing which are better than dslr. I own OnePlus 6t but it's camera sucks. iPhone is really amazing when it comes to camera. It's worth spending 50k on this. Cons- only display is lcd. While using u don't feel it but if u compare with other phone then u can see difference quite easily. Changing from Android to iphone is bit difficult coz most of things u don't know but I liked it. Some of the a... READ MORE\",\n",
       " 'Absolutely powerful gadget. Loved it’s look! Soo glassy and classy. I would definitely recommend this model of Apple. Only disappointed with the 5W charger, one should purchase an 18W adapter for fast charging. Though battery backup is great. Bought it in September 2020, reviewing after so long so I’m gonna put the genuine review here.✅',\n",
       " 'I was torn between the oneplus 8 pro and the iphone 11. I had to shell out extra money for this, but I say if you can afford it, this truely is the best package. Mind blowing camera, battery and overall performance. Face Id works like magic even in complete darkness without firing up the screen brightness. The phones with in display fingerprint scanners do this at night time and it really burns your eyes. I wanted the oneplus for its display but tbh the OLEDs on oneplus is really bad. Flick... READ MORE',\n",
       " 'I am using this phone for 5 days and its one of the best camera out there ❤️ the screen is not oled and i am coming from iphone xs so its little bit not up to the mark i would say But overall value for money💕😍the battery back up is far better than my iphone xs and its worth in my apple ecosystem💫❤️if u are an apple User and have the eco system then go for it❤️though i will be getting the new iphone but its pretty good💫',\n",
       " \"It was amazing experience for me. Honestly i am using iPhone first time so I don't have that much past experience about that. But after using 7 days this mobile i want to give some honest feedback. 1- Display 9 out of 10 2- Camera 9.5 out of 10 3- Battery 7 out of 10 4- Performance 9.5 out of 10 5- Features & Functions 10 out of 10 6- Outer looks and colour 10 out of 10 Rest i think i will understand after using this for few months. I will highly recommend you guys if you have budget then you... READ MORE\",\n",
       " 'I use a Note10+ and have been using both iOS and Android devices.  Camera has really good features and portraits are super good, better than Samsung flagship. Overall camera setup can still be enhanced and hopeful for better upgrades on software in next release  Operating system is quite a breeze and user experience of daily usage is very high as compared to Android. I moved to iOS very swiftly in 2 days for all my office work from Note10+  Battery holds up quite well with 4 hrs of call and ... READ MORE',\n",
       " 'The phone is completely good As far as camera Apple is king of it And its a beast in performance And the battery is pretty good too',\n",
       " 'Everything u ll like it when u use this iPhone. Simple changes only not many to lower models but it’s nice to use. Little heavy compared to previous models like 7,8',\n",
       " 'Nice value for money good and best price I phone mind blowing camera processor very fast other android mobile I am happy India top selling phone 2020',\n",
       " 'The ultimate performance Camera is superb The battery backup also very good i never saw iphone gives this much of battery backup If any one wana buy iphone 11 definitely i will recommend this mobile It has the better battery and powerfull processer peak performance glorious camera and the display also 100% high quality lcd display if u had money for for 12 if u dont wana invest much money on that then go for iphone 11 it has maximum same specs only main difference between the 12 and 11 is... READ MORE',\n",
       " \"It's a great phone. From camera to display everything is best for the price. Best camera , best performance. I think everyone should buy it . This phone has best battery life so far in iphone series which I had used earlier. Happy to have it. Thanks Flipkart\",\n",
       " 'This is my first ever iPhone. And I truly don’t regret switching to IOS from my Android.  It is easily an alternative to a DSLR camera. If you’re obsessed with photos and videos, just don’t think twice or don’t compare to other androids(Samsung S10 lite or OnePlus 8/8T), as it’s far better from them in every field. Comparing will only make you confused.  I am getting an average Screen on Time of around 10 hours with 30 percent left. I haven’t let my device discharged below 30 % as it aff... READ MORE',\n",
       " 'Can’t beat the software and hardware integration of apple. Performs like a beast. Great quality camera 6-7 hours screen on time which is good. Nothing much to complaint about the screen. Good connectivity speeds. Great buy and Flipkart’s delivery top notch as usual',\n",
       " 'Value for money product. This iphone 11 is really amazing. Again nice release by apple. Great camera, battery backup is excellent. I just love this phone',\n",
       " 'Thanks Flipkart For this amazing deal! I had a dream of owning a iphone since i had known about. Im very happy with my purchase & it is totally worth it. Amazing experience all over !!  Anyone who’s thinking of buying it in 2021, i would simply say go for it without any second thoughts ❤️',\n",
       " \"I genuinely liked it. One of the best mobile phones I have used. It's sho smooth and it's security is very astonishing. Plus it has a very good camera quality. so overall it's a win win.\",\n",
       " \"If you are looking for a premium phone under 55k, this is the one for you.Got the iPhone 11 during the Republic day sale. Performance is top notch in this price range. Camera's do a perfect job in taking good quality photos and videos. Battery backup too is satisfactory. Writing this review after using for a week. Any further observations would be updated.\",\n",
       " 'Awesome camera, smooth and fast UI, display is great (though not LED) but the black area at the top could have been reduced. Battery remains a day even if used heavily. Charger in the box is ok, but 12 or 18W could have been nothing like anything. Overall an excellent product and comfortable to use. I have got it almost a month back and so far so good.',\n",
       " \"The best all rounder iphone. Flipkart is doing a great job. They're delivery services are blazing fast. I got delivery on the same day. Genuine Apple Product. Working great. Talking about review There's no need of review for iphones. They're simply the best.\",\n",
       " 'We are on apple ecosystem for almost eight years now with couple of iPads and iPhones, including Xr.  Bought iPhone 11 as a gift to my daughter who loves it. We chose for a purple coloured one. Believe me it is gorgeous and towards the lighter shade. Dazzling and brilliant!  The phone is great and does excellent RAM management like any other Apple device.  The screen, though a LCD and lesser ppi as compared to other flagship phones of competitor brands, is a delight to watch with perfect re... READ MORE',\n",
       " 'A perfect phone and a good battery super camera and the sound is dynamic overall the phone is perfect for upgrading from lower iPhone model to iPhone 11',\n",
       " \"i was confused between 11 and 11 pro. i was going towards 11 pro, but the screen size was not enough for me. And i saw 11 in the showroom. i didn't find much difference in screen quality.And cameras seems to be ok with me. And i saw offer's in flipkart and made the purchase. the device is fabulous. The hardware and software quality is excellent. The new iOS is something you need to experience yourself. The drawback i found was absence of fast charger, but the pricing can compensate that. Am... READ MORE\",\n",
       " 'Product is nice at the deviled time the delivery boy not open the box and this order is oBD but he is not open and not showing product he gives Product and gone time God product is super nice and good Tq Flipkart and seller love you Flipkart Product is nice display good touch screen amazing compared to other brands over all Product is super. Tq Flipkart',\n",
       " \"phone is good but in display is 720p lcd in this price range we can get full hd OLED displays with higher refresh rate processor is very good camera is nice but looks kind of oldish in front of todays phone also there's no charging in box had to buy it seperately\",\n",
       " 'Everything is perfect pictures come out so clearly and at first I wasn’t sure when I got it then when I started to use it and get the hang of it it was amazing!! I can’t wait to see what the next future phones will be like. The screen display on this bad boy are unbelievable they are so clear and never fail me. The performance is super cool there is a lot of cool features as well I like this phone because I feel that it is easy to use and one of my favorite things about this phone is the Face... READ MORE',\n",
       " 'I dreamt about this day from a long time.... Getting an iPhone with my own money.... Super happy and worth spending every penny']"
      ]
     },
     "execution_count": 50,
     "metadata": {},
     "output_type": "execute_result"
    }
   ],
   "source": [
    "full_review"
   ]
  },
  {
   "cell_type": "code",
   "execution_count": null,
   "id": "2c055041",
   "metadata": {},
   "outputs": [],
   "source": []
  },
  {
   "cell_type": "code",
   "execution_count": null,
   "id": "b080de9d",
   "metadata": {},
   "outputs": [],
   "source": []
  },
  {
   "cell_type": "code",
   "execution_count": null,
   "id": "f2a998e8",
   "metadata": {},
   "outputs": [],
   "source": []
  },
  {
   "cell_type": "code",
   "execution_count": 51,
   "id": "b8756a7d",
   "metadata": {},
   "outputs": [],
   "source": [
    "Products=pd.DataFrame({})\n",
    "Products[\"Rating\"]=rating\n",
    "Products[\"Review Summary\"]=review_summary\n",
    "Products[\"Full Review\"]=full_review\n"
   ]
  },
  {
   "cell_type": "code",
   "execution_count": 52,
   "id": "a0c5bf18",
   "metadata": {},
   "outputs": [
    {
     "data": {
      "text/html": [
       "<div>\n",
       "<style scoped>\n",
       "    .dataframe tbody tr th:only-of-type {\n",
       "        vertical-align: middle;\n",
       "    }\n",
       "\n",
       "    .dataframe tbody tr th {\n",
       "        vertical-align: top;\n",
       "    }\n",
       "\n",
       "    .dataframe thead th {\n",
       "        text-align: right;\n",
       "    }\n",
       "</style>\n",
       "<table border=\"1\" class=\"dataframe\">\n",
       "  <thead>\n",
       "    <tr style=\"text-align: right;\">\n",
       "      <th></th>\n",
       "      <th>Rating</th>\n",
       "      <th>Review Summary</th>\n",
       "      <th>Full Review</th>\n",
       "    </tr>\n",
       "  </thead>\n",
       "  <tbody>\n",
       "    <tr>\n",
       "      <th>0</th>\n",
       "      <td>5</td>\n",
       "      <td>Brilliant</td>\n",
       "      <td>The Best Phone for the Money  The iPhone 11 of...</td>\n",
       "    </tr>\n",
       "    <tr>\n",
       "      <th>1</th>\n",
       "      <td>5</td>\n",
       "      <td>Perfect product!</td>\n",
       "      <td>Amazing phone with great cameras and better ba...</td>\n",
       "    </tr>\n",
       "    <tr>\n",
       "      <th>2</th>\n",
       "      <td>5</td>\n",
       "      <td>Great product</td>\n",
       "      <td>Amazing Powerful and Durable Gadget.  I’m am v...</td>\n",
       "    </tr>\n",
       "    <tr>\n",
       "      <th>3</th>\n",
       "      <td>5</td>\n",
       "      <td>Worth every penny</td>\n",
       "      <td>Previously I was using one plus 3t it was a gr...</td>\n",
       "    </tr>\n",
       "    <tr>\n",
       "      <th>4</th>\n",
       "      <td>5</td>\n",
       "      <td>Fabulous!</td>\n",
       "      <td>This is my first iOS phone. I am very happy wi...</td>\n",
       "    </tr>\n",
       "    <tr>\n",
       "      <th>...</th>\n",
       "      <td>...</td>\n",
       "      <td>...</td>\n",
       "      <td>...</td>\n",
       "    </tr>\n",
       "    <tr>\n",
       "      <th>95</th>\n",
       "      <td>5</td>\n",
       "      <td>Mind-blowing purchase</td>\n",
       "      <td>i was confused between 11 and 11 pro. i was go...</td>\n",
       "    </tr>\n",
       "    <tr>\n",
       "      <th>96</th>\n",
       "      <td>5</td>\n",
       "      <td>Fabulous!</td>\n",
       "      <td>Product is nice at the deviled time the delive...</td>\n",
       "    </tr>\n",
       "    <tr>\n",
       "      <th>97</th>\n",
       "      <td>3</td>\n",
       "      <td>Does the job</td>\n",
       "      <td>phone is good but in display is 720p lcd in th...</td>\n",
       "    </tr>\n",
       "    <tr>\n",
       "      <th>98</th>\n",
       "      <td>5</td>\n",
       "      <td>Fabulous!</td>\n",
       "      <td>Everything is perfect pictures come out so cle...</td>\n",
       "    </tr>\n",
       "    <tr>\n",
       "      <th>99</th>\n",
       "      <td>5</td>\n",
       "      <td>Awesome</td>\n",
       "      <td>I dreamt about this day from a long time.... G...</td>\n",
       "    </tr>\n",
       "  </tbody>\n",
       "</table>\n",
       "<p>100 rows × 3 columns</p>\n",
       "</div>"
      ],
      "text/plain": [
       "   Rating         Review Summary  \\\n",
       "0       5              Brilliant   \n",
       "1       5       Perfect product!   \n",
       "2       5          Great product   \n",
       "3       5      Worth every penny   \n",
       "4       5              Fabulous!   \n",
       "..    ...                    ...   \n",
       "95      5  Mind-blowing purchase   \n",
       "96      5              Fabulous!   \n",
       "97      3           Does the job   \n",
       "98      5              Fabulous!   \n",
       "99      5                Awesome   \n",
       "\n",
       "                                          Full Review  \n",
       "0   The Best Phone for the Money  The iPhone 11 of...  \n",
       "1   Amazing phone with great cameras and better ba...  \n",
       "2   Amazing Powerful and Durable Gadget.  I’m am v...  \n",
       "3   Previously I was using one plus 3t it was a gr...  \n",
       "4   This is my first iOS phone. I am very happy wi...  \n",
       "..                                                ...  \n",
       "95  i was confused between 11 and 11 pro. i was go...  \n",
       "96  Product is nice at the deviled time the delive...  \n",
       "97  phone is good but in display is 720p lcd in th...  \n",
       "98  Everything is perfect pictures come out so cle...  \n",
       "99  I dreamt about this day from a long time.... G...  \n",
       "\n",
       "[100 rows x 3 columns]"
      ]
     },
     "execution_count": 52,
     "metadata": {},
     "output_type": "execute_result"
    }
   ],
   "source": [
    "Products"
   ]
  },
  {
   "cell_type": "markdown",
   "id": "e05536ff",
   "metadata": {},
   "source": [
    "Clubbed all the columns into DataFrame"
   ]
  },
  {
   "cell_type": "code",
   "execution_count": null,
   "id": "7c746a90",
   "metadata": {},
   "outputs": [],
   "source": []
  },
  {
   "cell_type": "code",
   "execution_count": null,
   "id": "3e22b0aa",
   "metadata": {},
   "outputs": [],
   "source": []
  },
  {
   "cell_type": "code",
   "execution_count": null,
   "id": "9f56a088",
   "metadata": {},
   "outputs": [],
   "source": []
  },
  {
   "cell_type": "code",
   "execution_count": null,
   "id": "17823311",
   "metadata": {},
   "outputs": [],
   "source": []
  },
  {
   "cell_type": "code",
   "execution_count": null,
   "id": "cdb17148",
   "metadata": {},
   "outputs": [],
   "source": []
  },
  {
   "cell_type": "code",
   "execution_count": null,
   "id": "a22e02e6",
   "metadata": {},
   "outputs": [],
   "source": []
  },
  {
   "cell_type": "code",
   "execution_count": null,
   "id": "134d97af",
   "metadata": {},
   "outputs": [],
   "source": []
  },
  {
   "cell_type": "code",
   "execution_count": null,
   "id": "6d3359e3",
   "metadata": {},
   "outputs": [],
   "source": []
  },
  {
   "cell_type": "markdown",
   "id": "60a057ab",
   "metadata": {},
   "source": [
    "# Q8: Scrape data for first 100 sneakers you find when you visit flipkart.com and search for “sneakers” in the search field.\n"
   ]
  },
  {
   "cell_type": "code",
   "execution_count": 162,
   "id": "e4e2c2f4",
   "metadata": {},
   "outputs": [],
   "source": [
    "url = 'https://www.flipkart.com/' \n",
    "driver.get(url)"
   ]
  },
  {
   "cell_type": "markdown",
   "id": "0edfc9fb",
   "metadata": {},
   "source": [
    "saving and opening the url"
   ]
  },
  {
   "cell_type": "code",
   "execution_count": null,
   "id": "4a7186fb",
   "metadata": {},
   "outputs": [],
   "source": []
  },
  {
   "cell_type": "code",
   "execution_count": 163,
   "id": "efcb24b8",
   "metadata": {},
   "outputs": [],
   "source": [
    "driver.find_element_by_xpath('//input[@title=\\\"Search for products, brands and more\\\"]').send_keys('sneakers')"
   ]
  },
  {
   "cell_type": "code",
   "execution_count": 164,
   "id": "97084ff0",
   "metadata": {},
   "outputs": [],
   "source": [
    "driver.find_element_by_xpath('//button[@type=\\\"submit\\\"]').click()"
   ]
  },
  {
   "cell_type": "markdown",
   "id": "63e85a1f",
   "metadata": {},
   "source": [
    "saving and opening the url"
   ]
  },
  {
   "cell_type": "code",
   "execution_count": 173,
   "id": "d2639a34",
   "metadata": {},
   "outputs": [],
   "source": [
    "brand=[]\n",
    "product_description=[]\n",
    "price=[]\n",
    "discount=[]"
   ]
  },
  {
   "cell_type": "code",
   "execution_count": 166,
   "id": "b54bf616",
   "metadata": {},
   "outputs": [
    {
     "data": {
      "text/plain": [
       "['https://www.flipkart.com/search?q=sneakers&otracker=search&otracker1=search&marketplace=FLIPKART&as-show=on&as=off&page=1',\n",
       " 'https://www.flipkart.com/search?q=sneakers&otracker=search&otracker1=search&marketplace=FLIPKART&as-show=on&as=off&page=2',\n",
       " 'https://www.flipkart.com/search?q=sneakers&otracker=search&otracker1=search&marketplace=FLIPKART&as-show=on&as=off&page=3']"
      ]
     },
     "execution_count": 166,
     "metadata": {},
     "output_type": "execute_result"
    }
   ],
   "source": [
    "page_urls=[]\n",
    "url = driver.find_elements_by_xpath('//nav[@class=\"yFHi8N\"]//a')\n",
    "\n",
    "for i in url[0:3]:\n",
    "    page_urls.append(i.get_attribute('href'))\n",
    "page_urls"
   ]
  },
  {
   "cell_type": "code",
   "execution_count": 174,
   "id": "478d0c44",
   "metadata": {},
   "outputs": [
    {
     "data": {
      "text/plain": [
       "['https://www.flipkart.com/search?q=sneakers&otracker=search&otracker1=search&marketplace=FLIPKART&as-show=on&as=off&page=1',\n",
       " 'https://www.flipkart.com/search?q=sneakers&otracker=search&otracker1=search&marketplace=FLIPKART&as-show=on&as=off&page=2',\n",
       " 'https://www.flipkart.com/search?q=sneakers&otracker=search&otracker1=search&marketplace=FLIPKART&as-show=on&as=off&page=3']"
      ]
     },
     "execution_count": 174,
     "metadata": {},
     "output_type": "execute_result"
    }
   ],
   "source": [
    "page_urls"
   ]
  },
  {
   "cell_type": "code",
   "execution_count": 175,
   "id": "a5c64b95",
   "metadata": {},
   "outputs": [],
   "source": [
    "for i in page_urls:\n",
    "    driver.get(i)\n",
    "    \n",
    "    brand_tags=driver.find_elements_by_xpath(\"//div[@class='_2WkVRV']\")\n",
    "    product_description_tags=driver.find_elements_by_xpath(\"//a[@class='IRpwTa' or @class='IRpwTa _2-ICcC']\")\n",
    "    price_tags=driver.find_elements_by_xpath(\"//div[@class='_30jeq3']\")\n",
    "    #discount_tags=driver.find_elements_by_xpath(\"//div[@class='_25b18c']//div[@class='_3Ay6Sb']\")\n",
    "    discount_tags=driver.find_elements_by_xpath('//a[@class=\"_3bPFwb\"]')\n",
    "    \n",
    "\n",
    "    for i in brand_tags:\n",
    "        brand.append(i.text) \n",
    "\n",
    "    for i in product_description_tags:\n",
    "        product_description.append(i.text)\n",
    "\n",
    "\n",
    "    for i in price_tags:\n",
    "        price.append(i.text) \n",
    "\n",
    "\n",
    "    for i in discount_tags:\n",
    "        if i.text is None:\n",
    "            discount.append(\"No Data\")\n",
    "        else:\n",
    "            discount.append(i.text)"
   ]
  },
  {
   "cell_type": "markdown",
   "id": "30942e90",
   "metadata": {},
   "source": [
    "Extracted Brand,Product Description,  Price and Discount percentage"
   ]
  },
  {
   "cell_type": "code",
   "execution_count": null,
   "id": "789b2970",
   "metadata": {},
   "outputs": [],
   "source": []
  },
  {
   "cell_type": "code",
   "execution_count": null,
   "id": "913acd4c",
   "metadata": {},
   "outputs": [],
   "source": []
  },
  {
   "cell_type": "code",
   "execution_count": null,
   "id": "81a3148a",
   "metadata": {},
   "outputs": [],
   "source": []
  },
  {
   "cell_type": "code",
   "execution_count": null,
   "id": "5e2414dd",
   "metadata": {},
   "outputs": [],
   "source": []
  },
  {
   "cell_type": "code",
   "execution_count": 176,
   "id": "e0c5798a",
   "metadata": {},
   "outputs": [
    {
     "data": {
      "text/plain": [
       "120"
      ]
     },
     "execution_count": 176,
     "metadata": {},
     "output_type": "execute_result"
    }
   ],
   "source": [
    "len(brand)"
   ]
  },
  {
   "cell_type": "code",
   "execution_count": 170,
   "id": "e4692629",
   "metadata": {},
   "outputs": [
    {
     "data": {
      "text/plain": [
       "120"
      ]
     },
     "execution_count": 170,
     "metadata": {},
     "output_type": "execute_result"
    }
   ],
   "source": [
    "len(product_description)"
   ]
  },
  {
   "cell_type": "code",
   "execution_count": 177,
   "id": "25dcffb4",
   "metadata": {},
   "outputs": [
    {
     "data": {
      "text/plain": [
       "120"
      ]
     },
     "execution_count": 177,
     "metadata": {},
     "output_type": "execute_result"
    }
   ],
   "source": [
    "len(price)"
   ]
  },
  {
   "cell_type": "code",
   "execution_count": 178,
   "id": "cde7988c",
   "metadata": {},
   "outputs": [
    {
     "data": {
      "text/plain": [
       "120"
      ]
     },
     "execution_count": 178,
     "metadata": {},
     "output_type": "execute_result"
    }
   ],
   "source": [
    "len(discount)"
   ]
  },
  {
   "cell_type": "code",
   "execution_count": 81,
   "id": "9afc7633",
   "metadata": {
    "collapsed": true
   },
   "outputs": [
    {
     "data": {
      "text/plain": [
       "['ROYAL SON',\n",
       " 'NuVew',\n",
       " 'PIRASO',\n",
       " 'Fastrack',\n",
       " 'PIRASO',\n",
       " 'PIRASO',\n",
       " 'Fastrack',\n",
       " 'Villain',\n",
       " 'DEIXELS',\n",
       " 'PIRASO',\n",
       " 'PIRASO',\n",
       " 'NuVew',\n",
       " 'ROZZETTA CRAFT',\n",
       " 'ROYAL SON',\n",
       " 'Singco',\n",
       " 'Villain',\n",
       " 'Fastrack',\n",
       " 'PHENOMENAL',\n",
       " 'HIPPON',\n",
       " 'AISLIN',\n",
       " 'GANSTA',\n",
       " 'ROYAL SON',\n",
       " 'ROZZETTA CRAFT',\n",
       " 'DEIXELS',\n",
       " 'PIRASO',\n",
       " 'Silver Kartz',\n",
       " 'NuVew',\n",
       " 'Rich Club',\n",
       " 'Fastrack',\n",
       " 'PHENOMENAL',\n",
       " 'Fastrack',\n",
       " 'VINCENT CHASE',\n",
       " 'ROYAL SON',\n",
       " 'ROZZETTA CRAFT',\n",
       " 'hipe',\n",
       " 'AISLIN',\n",
       " 'Singco India',\n",
       " 'ROZZETTA CRAFT',\n",
       " 'Fastrack',\n",
       " 'ROZZETTA CRAFT',\n",
       " 'hipe',\n",
       " 'PHENOMENAL',\n",
       " 'PHENOMENAL',\n",
       " 'ROYAL SON',\n",
       " 'ROZZETTA CRAFT',\n",
       " 'PHENOMENAL',\n",
       " 'hipe',\n",
       " 'NuVew',\n",
       " 'GANSTA',\n",
       " 'DEIXELS',\n",
       " 'Fastrack',\n",
       " 'NuVew',\n",
       " 'Fastrack',\n",
       " 'Fastrack',\n",
       " 'Fravy',\n",
       " 'NuVew',\n",
       " 'Fastrack',\n",
       " 'Cristiano Ronnie',\n",
       " 'PHENOMENAL',\n",
       " 'Villain',\n",
       " 'GANSTA',\n",
       " 'Fastrack',\n",
       " 'Fastrack',\n",
       " 'Villain',\n",
       " 'hipe',\n",
       " 'DEIXELS',\n",
       " 'Fastrack',\n",
       " 'AISLIN',\n",
       " 'Fastrack',\n",
       " 'GANSTA',\n",
       " 'ROZZETTA CRAFT',\n",
       " 'DEIXELS',\n",
       " 'NuVew',\n",
       " 'GANSTA',\n",
       " 'ROZZETTA CRAFT',\n",
       " 'Rich Club',\n",
       " 'ROYAL SON',\n",
       " 'NuVew',\n",
       " 'hipe',\n",
       " 'AISLIN',\n",
       " 'NuVew',\n",
       " 'ROYAL SON',\n",
       " 'elegante',\n",
       " 'ROYAL SON',\n",
       " 'NuVew',\n",
       " 'ROYAL SON',\n",
       " 'Fravy',\n",
       " 'NuVew',\n",
       " 'ROZZETTA CRAFT',\n",
       " 'ROYAL SON',\n",
       " 'Silver Kartz',\n",
       " 'NuVew',\n",
       " 'PIRASO',\n",
       " 'GANSTA',\n",
       " 'ROYAL SON',\n",
       " 'Villain',\n",
       " 'NuVew',\n",
       " 'Flizz',\n",
       " 'Fastrack',\n",
       " 'Villain',\n",
       " 'PIRASO',\n",
       " 'ROZZETTA CRAFT',\n",
       " 'elegante',\n",
       " 'AISLIN',\n",
       " 'IRUS by IDEE',\n",
       " 'ROYAL SON',\n",
       " 'PIRASO',\n",
       " 'DEIXELS',\n",
       " 'ROYAL SON',\n",
       " 'PHENOMENAL',\n",
       " 'GANSTA',\n",
       " 'Rich Club',\n",
       " 'NuVew',\n",
       " 'NuVew',\n",
       " 'NuVew',\n",
       " 'AISLIN',\n",
       " 'ROYAL SON',\n",
       " 'agera',\n",
       " 'ROZZETTA CRAFT',\n",
       " 'AISLIN']"
      ]
     },
     "execution_count": 81,
     "metadata": {},
     "output_type": "execute_result"
    }
   ],
   "source": [
    "brand"
   ]
  },
  {
   "cell_type": "code",
   "execution_count": 111,
   "id": "34f2948d",
   "metadata": {
    "collapsed": true
   },
   "outputs": [
    {
     "data": {
      "text/plain": [
       "['Sneakers For Men',\n",
       " 'Sneakers For Men',\n",
       " 'Sneakers For Men',\n",
       " 'Combo pack of 2 casual sneaker shoes for men Sneakers F...',\n",
       " 'Sneakers For Men',\n",
       " \"White Sneaker For Men's/Boy's Sneakers For Men\",\n",
       " 'ORIFWSH(OR)-1077 Sneakers For Men',\n",
       " 'casual for men (blue 06) Sneakers For Men',\n",
       " 'Combo Pack Of 4 Casual Shoes Loafer Shoes Sneakers For ...',\n",
       " \"Men's Combo Pack of 02 Shoes for Men Casual Sneakers Ou...\",\n",
       " 'Shoes in Black Color Party wear/Outdoor/Casual Shoes Fo...',\n",
       " 'Sneakers Sneakers For Men',\n",
       " 'casual shoe for men Sneakers For Men',\n",
       " 'Perfect & Affordable Combo Pack of 02 Pairs Sneakers Ou...',\n",
       " 'Series 7 Sneakers For Men',\n",
       " 'Sneakers For Men',\n",
       " 'RS 2.0 Winterized Sneakers For Men',\n",
       " 'Sneakers Sneakers For Men',\n",
       " \"Casual shoes,Sneakers for men's,shoes for men's Sneaker...\",\n",
       " 'SD-323 Sneakers For Men',\n",
       " 'STORM STITCHING Sneakers For Men',\n",
       " \"Men's Stylish Casual Shoes Sneakers For Men\",\n",
       " 'Sneakers Sneakers For Men',\n",
       " 'Combo Pack of 4 Casual Shoes Sneakers For Men',\n",
       " 'Perfect & Affordable Combo Pack of 02 Pairs Sneakers Ou...',\n",
       " 'Combo Pack of 2 Casual Shoes Sneakers For Men',\n",
       " 'Sneakers For Men',\n",
       " 'Sneakers For Men',\n",
       " 'Casual Sneakers White Shoes For Men Sneakers For Men',\n",
       " 'Combo Pack of 4 Latest Collection Stylish Casual Loafer...',\n",
       " \"Casual , Partywear Sneakers Shoes For Men's And Boys Wh...\",\n",
       " 'Sneakers For Men',\n",
       " 'Combo pack of 2 Casuals Shoes For Men (1563-1564) Sneak...',\n",
       " 'casual for men (beige 06) Sneakers For Men',\n",
       " 'Sneakers For Men',\n",
       " 'Combo Pack of 2 Latest Collection Stylish Casual Loafer...',\n",
       " 'SM-322 Sneakers For Men',\n",
       " 'Sneakers For Men',\n",
       " 'Sneakers For Men',\n",
       " 'SM-162 Sneakers For Men']"
      ]
     },
     "execution_count": 111,
     "metadata": {},
     "output_type": "execute_result"
    }
   ],
   "source": [
    "product_description"
   ]
  },
  {
   "cell_type": "code",
   "execution_count": 91,
   "id": "5dc1b1b2",
   "metadata": {
    "collapsed": true
   },
   "outputs": [
    {
     "data": {
      "text/plain": [
       "['₹479',\n",
       " '₹261',\n",
       " '₹237',\n",
       " '₹541',\n",
       " '₹237',\n",
       " '₹237',\n",
       " '₹509',\n",
       " '₹750',\n",
       " '₹213',\n",
       " '₹331',\n",
       " '₹331',\n",
       " '₹355',\n",
       " '₹404',\n",
       " '₹217',\n",
       " '₹249',\n",
       " '₹539',\n",
       " '₹1,046',\n",
       " '₹399',\n",
       " '₹251',\n",
       " '₹625',\n",
       " '₹284',\n",
       " '₹319',\n",
       " '₹499',\n",
       " '₹200',\n",
       " '₹237',\n",
       " '₹246',\n",
       " '₹156',\n",
       " '₹299',\n",
       " '₹716',\n",
       " '₹379',\n",
       " '₹659',\n",
       " '₹890',\n",
       " '₹265',\n",
       " '₹474',\n",
       " '₹210',\n",
       " '₹545',\n",
       " '₹212',\n",
       " '₹426',\n",
       " '₹719',\n",
       " '₹499',\n",
       " '₹219',\n",
       " '₹399',\n",
       " '₹319',\n",
       " '₹479',\n",
       " '₹449',\n",
       " '₹379',\n",
       " '₹319',\n",
       " '₹261',\n",
       " '₹199',\n",
       " '₹219',\n",
       " '₹624',\n",
       " '₹355',\n",
       " '₹618',\n",
       " '₹589',\n",
       " '₹296',\n",
       " '₹356',\n",
       " '₹738',\n",
       " '₹399',\n",
       " '₹319',\n",
       " '₹750',\n",
       " '₹295',\n",
       " '₹593',\n",
       " '₹742',\n",
       " '₹539',\n",
       " '₹219',\n",
       " '₹224',\n",
       " '₹563',\n",
       " '₹625',\n",
       " '₹725',\n",
       " '₹263',\n",
       " '₹499',\n",
       " '₹200',\n",
       " '₹204',\n",
       " '₹296',\n",
       " '₹398',\n",
       " '₹299',\n",
       " '₹399',\n",
       " '₹248',\n",
       " '₹199',\n",
       " '₹545',\n",
       " '₹237',\n",
       " '₹399',\n",
       " '₹189',\n",
       " '₹479',\n",
       " '₹393',\n",
       " '₹399',\n",
       " '₹260',\n",
       " '₹261',\n",
       " '₹426',\n",
       " '₹399',\n",
       " '₹284',\n",
       " '₹355',\n",
       " '₹331',\n",
       " '₹233',\n",
       " '₹699',\n",
       " '₹750',\n",
       " '₹367',\n",
       " '₹279',\n",
       " '₹1,080',\n",
       " '₹539',\n",
       " '₹331',\n",
       " '₹449',\n",
       " '₹426',\n",
       " '₹625',\n",
       " '₹565',\n",
       " '₹711',\n",
       " '₹298',\n",
       " '₹200',\n",
       " '₹569',\n",
       " '₹399',\n",
       " '₹341',\n",
       " '₹299',\n",
       " '₹408',\n",
       " '₹310',\n",
       " '₹364',\n",
       " '₹545',\n",
       " '₹499',\n",
       " '₹207',\n",
       " '₹426',\n",
       " '₹592']"
      ]
     },
     "execution_count": 91,
     "metadata": {},
     "output_type": "execute_result"
    }
   ],
   "source": [
    "price"
   ]
  },
  {
   "cell_type": "code",
   "execution_count": 179,
   "id": "86535523",
   "metadata": {
    "collapsed": true
   },
   "outputs": [
    {
     "data": {
      "text/plain": [
       "['₹254₹1,29980% off',\n",
       " '₹3,500₹6,99949% off\\nOr Pay ₹3,325 + \\n 175',\n",
       " '₹748₹1,99662% off\\nOr Pay ₹710 + \\n 38',\n",
       " '₹389₹2,99987% off',\n",
       " '₹499₹99950% off',\n",
       " '₹449₹99955% off',\n",
       " '₹399₹99960% off',\n",
       " '₹499₹1,99675% off',\n",
       " '₹377₹99862% off\\nOr Pay ₹358 + \\n 19',\n",
       " '₹349₹99965% off',\n",
       " '₹1,047₹3,09966% off\\nOr Pay ₹994 + \\n 53',\n",
       " '₹521₹99947% off',\n",
       " '₹449₹99955% off\\nOr Pay ₹426 + \\n 23',\n",
       " '₹348₹49930% off',\n",
       " '₹423₹99857% off',\n",
       " '₹3,999',\n",
       " '₹214₹49957% off\\nOr Pay ₹203 + \\n 11',\n",
       " '₹698₹1,99965% off',\n",
       " '₹398₹99960% off',\n",
       " '₹2,971₹6,99957% off\\nOr Pay ₹2,822 + \\n 149',\n",
       " '₹242₹69965% off',\n",
       " '₹283₹49943% off\\nOr Pay ₹254 + \\n 29',\n",
       " '₹199₹49960% off',\n",
       " '₹474₹99952% off\\nOr Pay ₹450 + \\n 24',\n",
       " '₹473₹1,79873% off',\n",
       " '₹398₹99960% off',\n",
       " '₹377₹99962% off',\n",
       " '₹283₹49943% off\\nOr Pay ₹254 + \\n 29',\n",
       " '₹379₹99962% off',\n",
       " '₹283₹49943% off\\nOr Pay ₹254 + \\n 29',\n",
       " '₹449₹99955% off\\nOr Pay ₹426 + \\n 23',\n",
       " '₹1,588₹3,99960% off\\nOr Pay ₹1,508 + \\n 80',\n",
       " '₹293₹49941% off',\n",
       " '₹1,047₹3,29968% off',\n",
       " '₹416₹99958% off',\n",
       " '₹1,568₹3,99960% off\\nOr Pay ₹1,489 + \\n 79',\n",
       " '₹499₹2,64081% off',\n",
       " '₹416₹99958% off',\n",
       " '₹446₹1,99877% off',\n",
       " '₹3,500₹6,99949% off\\nOr Pay ₹3,325 + \\n 175',\n",
       " '₹679₹2,49572% off',\n",
       " '₹451₹99954% off\\nOr Pay ₹428 + \\n 23',\n",
       " '₹378₹1,29970% off\\nOr Pay ₹359 + \\n 19',\n",
       " '₹420₹99957% off',\n",
       " '₹719₹2,49571% off\\nOr Pay ₹683 + \\n 36',\n",
       " '₹799₹1,99659% off',\n",
       " '₹472₹99852% off\\nOr Pay ₹448 + \\n 24',\n",
       " '₹473₹1,79873% off',\n",
       " '₹474₹1,29963% off',\n",
       " '₹410₹1,99979% off',\n",
       " '₹449₹2,99985% off',\n",
       " '₹267₹2,40088% off',\n",
       " '₹449₹99955% off',\n",
       " '₹1,613₹3,59955% off\\nOr Pay ₹1,532 + \\n 81',\n",
       " '₹311₹99968% off',\n",
       " '₹254₹1,29980% off',\n",
       " '₹192₹49961% off',\n",
       " '₹449₹99955% off',\n",
       " '₹379₹1,29970% off',\n",
       " '₹319₹49936% off',\n",
       " '₹1,520₹3,99961% off\\nOr Pay ₹1,444 + \\n 76',\n",
       " '₹1,047₹2,29954% off\\nOr Pay ₹994 + \\n 53',\n",
       " '₹426₹1,29967% off',\n",
       " '₹788₹1,99660% off\\nOr Pay ₹748 + \\n 40',\n",
       " '₹1,500₹2,99949% off',\n",
       " '₹299₹2,40087% off',\n",
       " '₹299₹2,49988% off',\n",
       " '₹419₹99958% off',\n",
       " '₹378₹99962% off',\n",
       " '₹423₹1,49971% off\\nOr Pay ₹380 + \\n 43',\n",
       " '₹1,329₹1,89930% off',\n",
       " '₹499₹1,99675% off',\n",
       " '₹211₹49957% off',\n",
       " '₹1,047₹2,79962% off\\nOr Pay ₹994 + \\n 53',\n",
       " '₹416₹99958% off',\n",
       " '₹3,500₹6,99949% off\\nOr Pay ₹3,325 + \\n 175',\n",
       " '₹1,799₹2,99940% off',\n",
       " '₹499₹99950% off',\n",
       " '₹1,329₹1,89930% off',\n",
       " '₹521₹99947% off',\n",
       " '₹199₹49960% off',\n",
       " '₹1,047₹3,09966% off\\nOr Pay ₹994 + \\n 53',\n",
       " '₹379₹99962% off',\n",
       " '₹472₹1,29863% off',\n",
       " '₹424₹99957% off',\n",
       " '₹399₹99960% off',\n",
       " '₹401₹99959% off',\n",
       " '₹254₹1,29980% off',\n",
       " '₹555₹99944% off',\n",
       " '₹449₹99955% off\\nOr Pay ₹426 + \\n 23',\n",
       " '₹730₹94923% off',\n",
       " '₹474₹99952% off',\n",
       " '₹398₹1,79977% off',\n",
       " '₹1,260₹2,99957% off\\nOr Pay ₹1,197 + \\n 63',\n",
       " '₹296₹99970% off',\n",
       " '₹499₹1,99675% off',\n",
       " '₹699',\n",
       " '₹299₹1,36478% off',\n",
       " '₹279₹99972% off',\n",
       " '₹473₹1,79873% off',\n",
       " '₹384₹99961% off',\n",
       " '₹398₹1,29969% off\\nOr Pay ₹378 + \\n 20',\n",
       " '₹416₹99958% off',\n",
       " '₹3,500₹6,99949% off\\nOr Pay ₹3,325 + \\n 175',\n",
       " '₹420₹99957% off',\n",
       " '₹975₹1,34927% off',\n",
       " '₹424₹3,99989% off',\n",
       " '₹521₹99947% off',\n",
       " '₹1,038₹1,34923% off',\n",
       " '₹497₹1,89973% off',\n",
       " '₹447₹99855% off',\n",
       " '₹748₹1,99662% off\\nOr Pay ₹710 + \\n 38',\n",
       " '₹284₹99971% off',\n",
       " '₹1,260₹2,99957% off\\nOr Pay ₹1,197 + \\n 63',\n",
       " '₹998₹2,49960% off',\n",
       " '₹474₹99952% off\\nOr Pay ₹450 + \\n 24',\n",
       " '₹449₹99955% off\\nOr Pay ₹426 + \\n 23',\n",
       " '₹399₹1,36470% off',\n",
       " '₹2,000₹3,99949% off\\nOr Pay ₹1,900 + \\n 100',\n",
       " '₹2,971₹6,99957% off\\nOr Pay ₹2,822 + \\n 149']"
      ]
     },
     "execution_count": 179,
     "metadata": {},
     "output_type": "execute_result"
    }
   ],
   "source": [
    "discount"
   ]
  },
  {
   "cell_type": "code",
   "execution_count": null,
   "id": "b572ee00",
   "metadata": {},
   "outputs": [],
   "source": []
  },
  {
   "cell_type": "code",
   "execution_count": null,
   "id": "9aa6fb95",
   "metadata": {},
   "outputs": [],
   "source": []
  },
  {
   "cell_type": "code",
   "execution_count": null,
   "id": "8137ae48",
   "metadata": {},
   "outputs": [],
   "source": []
  },
  {
   "cell_type": "code",
   "execution_count": 235,
   "id": "20a7cd17",
   "metadata": {},
   "outputs": [],
   "source": [
    "Products=pd.DataFrame({})\n",
    "Products[\"Brand\"]=brand\n",
    "Products[\"Product Description\"]=product_description\n",
    "Products[\"Price of the Shoe\"]=price\n",
    "Products[\"Discount\"]=discount"
   ]
  },
  {
   "cell_type": "code",
   "execution_count": 236,
   "id": "1ea01348",
   "metadata": {},
   "outputs": [],
   "source": [
    "Products=Products[0:100]"
   ]
  },
  {
   "cell_type": "code",
   "execution_count": 237,
   "id": "15aefa82",
   "metadata": {
    "collapsed": true
   },
   "outputs": [
    {
     "data": {
      "text/html": [
       "<div>\n",
       "<style scoped>\n",
       "    .dataframe tbody tr th:only-of-type {\n",
       "        vertical-align: middle;\n",
       "    }\n",
       "\n",
       "    .dataframe tbody tr th {\n",
       "        vertical-align: top;\n",
       "    }\n",
       "\n",
       "    .dataframe thead th {\n",
       "        text-align: right;\n",
       "    }\n",
       "</style>\n",
       "<table border=\"1\" class=\"dataframe\">\n",
       "  <thead>\n",
       "    <tr style=\"text-align: right;\">\n",
       "      <th></th>\n",
       "      <th>Brand</th>\n",
       "      <th>Product Description</th>\n",
       "      <th>Price of the Shoe</th>\n",
       "      <th>Discount</th>\n",
       "    </tr>\n",
       "  </thead>\n",
       "  <tbody>\n",
       "    <tr>\n",
       "      <th>0</th>\n",
       "      <td>BRUTON</td>\n",
       "      <td>Men Sports Sneakers For Men</td>\n",
       "      <td>₹254</td>\n",
       "      <td>₹254₹1,29980% off</td>\n",
       "    </tr>\n",
       "    <tr>\n",
       "      <th>1</th>\n",
       "      <td>PUMA</td>\n",
       "      <td>X-Ray 2 Square Sneakers For Men</td>\n",
       "      <td>₹3,500</td>\n",
       "      <td>₹3,500₹6,99949% off\\nOr Pay ₹3,325 + \\n 175</td>\n",
       "    </tr>\n",
       "    <tr>\n",
       "      <th>2</th>\n",
       "      <td>CALCADOS</td>\n",
       "      <td>Modern Trendy Shoes Combo pack of 4 Sneakers F...</td>\n",
       "      <td>₹748</td>\n",
       "      <td>₹748₹1,99662% off\\nOr Pay ₹710 + \\n 38</td>\n",
       "    </tr>\n",
       "    <tr>\n",
       "      <th>3</th>\n",
       "      <td>India hub</td>\n",
       "      <td>Fashionable casual sneakers shoes Sneakers For...</td>\n",
       "      <td>₹389</td>\n",
       "      <td>₹389₹2,99987% off</td>\n",
       "    </tr>\n",
       "    <tr>\n",
       "      <th>4</th>\n",
       "      <td>PEHANOSA</td>\n",
       "      <td>Sneakers For Men</td>\n",
       "      <td>₹499</td>\n",
       "      <td>₹499₹99950% off</td>\n",
       "    </tr>\n",
       "    <tr>\n",
       "      <th>...</th>\n",
       "      <td>...</td>\n",
       "      <td>...</td>\n",
       "      <td>...</td>\n",
       "      <td>...</td>\n",
       "    </tr>\n",
       "    <tr>\n",
       "      <th>95</th>\n",
       "      <td>Chevit</td>\n",
       "      <td>Combo Pack of 4 Casual Sneakers With Sneakers ...</td>\n",
       "      <td>₹499</td>\n",
       "      <td>₹499₹1,99675% off</td>\n",
       "    </tr>\n",
       "    <tr>\n",
       "      <th>96</th>\n",
       "      <td>SPARX</td>\n",
       "      <td>SM-439 Sneakers For Men</td>\n",
       "      <td>₹699</td>\n",
       "      <td>₹699</td>\n",
       "    </tr>\n",
       "    <tr>\n",
       "      <th>97</th>\n",
       "      <td>Axter</td>\n",
       "      <td>Combo Pack of 2 Casual Loafer Sneakers Shoes S...</td>\n",
       "      <td>₹299</td>\n",
       "      <td>₹299₹1,36478% off</td>\n",
       "    </tr>\n",
       "    <tr>\n",
       "      <th>98</th>\n",
       "      <td>WRIZT</td>\n",
       "      <td>Casual Sneakers,dancing, walking Sneakers For Men</td>\n",
       "      <td>₹279</td>\n",
       "      <td>₹279₹99972% off</td>\n",
       "    </tr>\n",
       "    <tr>\n",
       "      <th>99</th>\n",
       "      <td>Chevit</td>\n",
       "      <td>Perfect &amp; Affordable Combo Pack of 02 Pairs Sn...</td>\n",
       "      <td>₹473</td>\n",
       "      <td>₹473₹1,79873% off</td>\n",
       "    </tr>\n",
       "  </tbody>\n",
       "</table>\n",
       "<p>100 rows × 4 columns</p>\n",
       "</div>"
      ],
      "text/plain": [
       "        Brand                                Product Description  \\\n",
       "0      BRUTON                        Men Sports Sneakers For Men   \n",
       "1        PUMA                    X-Ray 2 Square Sneakers For Men   \n",
       "2    CALCADOS  Modern Trendy Shoes Combo pack of 4 Sneakers F...   \n",
       "3   India hub  Fashionable casual sneakers shoes Sneakers For...   \n",
       "4    PEHANOSA                                   Sneakers For Men   \n",
       "..        ...                                                ...   \n",
       "95     Chevit  Combo Pack of 4 Casual Sneakers With Sneakers ...   \n",
       "96      SPARX                            SM-439 Sneakers For Men   \n",
       "97      Axter  Combo Pack of 2 Casual Loafer Sneakers Shoes S...   \n",
       "98      WRIZT  Casual Sneakers,dancing, walking Sneakers For Men   \n",
       "99     Chevit  Perfect & Affordable Combo Pack of 02 Pairs Sn...   \n",
       "\n",
       "   Price of the Shoe                                     Discount  \n",
       "0               ₹254                            ₹254₹1,29980% off  \n",
       "1             ₹3,500  ₹3,500₹6,99949% off\\nOr Pay ₹3,325 + \\n 175  \n",
       "2               ₹748       ₹748₹1,99662% off\\nOr Pay ₹710 + \\n 38  \n",
       "3               ₹389                            ₹389₹2,99987% off  \n",
       "4               ₹499                              ₹499₹99950% off  \n",
       "..               ...                                          ...  \n",
       "95              ₹499                            ₹499₹1,99675% off  \n",
       "96              ₹699                                         ₹699  \n",
       "97              ₹299                            ₹299₹1,36478% off  \n",
       "98              ₹279                              ₹279₹99972% off  \n",
       "99              ₹473                            ₹473₹1,79873% off  \n",
       "\n",
       "[100 rows x 4 columns]"
      ]
     },
     "execution_count": 237,
     "metadata": {},
     "output_type": "execute_result"
    }
   ],
   "source": [
    "Products"
   ]
  },
  {
   "cell_type": "code",
   "execution_count": null,
   "id": "875864b7",
   "metadata": {},
   "outputs": [],
   "source": []
  },
  {
   "cell_type": "code",
   "execution_count": 238,
   "id": "02ebd513",
   "metadata": {},
   "outputs": [],
   "source": [
    "for i in range(0,100):\n",
    "    for j in range(0,len(Products[\"Discount\"][i])):\n",
    "        if Products[\"Discount\"][i][j]==\"f\":\n",
    "            Products[\"Discount\"][i]=Products[\"Discount\"][i][j-5:j+2]\n",
    "            break                \n"
   ]
  },
  {
   "cell_type": "code",
   "execution_count": 239,
   "id": "c59d3d8b",
   "metadata": {},
   "outputs": [
    {
     "data": {
      "text/plain": [
       "0     80% off\n",
       "1     49% off\n",
       "2     62% off\n",
       "3     87% off\n",
       "4     50% off\n",
       "       ...   \n",
       "95    75% off\n",
       "96       ₹699\n",
       "97    78% off\n",
       "98    72% off\n",
       "99    73% off\n",
       "Name: Discount, Length: 100, dtype: object"
      ]
     },
     "execution_count": 239,
     "metadata": {},
     "output_type": "execute_result"
    }
   ],
   "source": [
    "Products[\"Discount\"]"
   ]
  },
  {
   "cell_type": "code",
   "execution_count": 240,
   "id": "4edadbc1",
   "metadata": {},
   "outputs": [
    {
     "data": {
      "text/plain": [
       "'₹3,999'"
      ]
     },
     "execution_count": 240,
     "metadata": {},
     "output_type": "execute_result"
    }
   ],
   "source": [
    "Products[\"Discount\"][15]"
   ]
  },
  {
   "cell_type": "code",
   "execution_count": 241,
   "id": "057b1aa0",
   "metadata": {},
   "outputs": [
    {
     "data": {
      "text/plain": [
       "'₹699'"
      ]
     },
     "execution_count": 241,
     "metadata": {},
     "output_type": "execute_result"
    }
   ],
   "source": [
    "Products[\"Discount\"][96]"
   ]
  },
  {
   "cell_type": "markdown",
   "id": "f817ce79",
   "metadata": {},
   "source": [
    "Only th 15th and the 96th element has no discount, hence setting to \"No discount\""
   ]
  },
  {
   "cell_type": "code",
   "execution_count": 242,
   "id": "6a80eafa",
   "metadata": {},
   "outputs": [],
   "source": [
    "Products[\"Discount\"][15]=\"No Discount\"\n",
    "Products[\"Discount\"][96]=\"No Discount\""
   ]
  },
  {
   "cell_type": "code",
   "execution_count": 243,
   "id": "3e69cfeb",
   "metadata": {},
   "outputs": [
    {
     "data": {
      "text/plain": [
       "'No Discount'"
      ]
     },
     "execution_count": 243,
     "metadata": {},
     "output_type": "execute_result"
    }
   ],
   "source": [
    "Products[\"Discount\"][15]"
   ]
  },
  {
   "cell_type": "code",
   "execution_count": 244,
   "id": "116a42c7",
   "metadata": {},
   "outputs": [
    {
     "data": {
      "text/plain": [
       "'No Discount'"
      ]
     },
     "execution_count": 244,
     "metadata": {},
     "output_type": "execute_result"
    }
   ],
   "source": [
    "Products[\"Discount\"][96]"
   ]
  },
  {
   "cell_type": "markdown",
   "id": "ac65c87d",
   "metadata": {},
   "source": [
    "Removed the unwanted data from Discount column"
   ]
  },
  {
   "cell_type": "code",
   "execution_count": 248,
   "id": "da054b91",
   "metadata": {},
   "outputs": [
    {
     "data": {
      "text/html": [
       "<div>\n",
       "<style scoped>\n",
       "    .dataframe tbody tr th:only-of-type {\n",
       "        vertical-align: middle;\n",
       "    }\n",
       "\n",
       "    .dataframe tbody tr th {\n",
       "        vertical-align: top;\n",
       "    }\n",
       "\n",
       "    .dataframe thead th {\n",
       "        text-align: right;\n",
       "    }\n",
       "</style>\n",
       "<table border=\"1\" class=\"dataframe\">\n",
       "  <thead>\n",
       "    <tr style=\"text-align: right;\">\n",
       "      <th></th>\n",
       "      <th>Brand</th>\n",
       "      <th>Product Description</th>\n",
       "      <th>Price of the Shoe</th>\n",
       "      <th>Discount</th>\n",
       "    </tr>\n",
       "  </thead>\n",
       "  <tbody>\n",
       "    <tr>\n",
       "      <th>0</th>\n",
       "      <td>BRUTON</td>\n",
       "      <td>Men Sports Sneakers For Men</td>\n",
       "      <td>₹254</td>\n",
       "      <td>80% off</td>\n",
       "    </tr>\n",
       "    <tr>\n",
       "      <th>1</th>\n",
       "      <td>PUMA</td>\n",
       "      <td>X-Ray 2 Square Sneakers For Men</td>\n",
       "      <td>₹3,500</td>\n",
       "      <td>49% off</td>\n",
       "    </tr>\n",
       "    <tr>\n",
       "      <th>2</th>\n",
       "      <td>CALCADOS</td>\n",
       "      <td>Modern Trendy Shoes Combo pack of 4 Sneakers F...</td>\n",
       "      <td>₹748</td>\n",
       "      <td>62% off</td>\n",
       "    </tr>\n",
       "    <tr>\n",
       "      <th>3</th>\n",
       "      <td>India hub</td>\n",
       "      <td>Fashionable casual sneakers shoes Sneakers For...</td>\n",
       "      <td>₹389</td>\n",
       "      <td>87% off</td>\n",
       "    </tr>\n",
       "    <tr>\n",
       "      <th>4</th>\n",
       "      <td>PEHANOSA</td>\n",
       "      <td>Sneakers For Men</td>\n",
       "      <td>₹499</td>\n",
       "      <td>50% off</td>\n",
       "    </tr>\n",
       "    <tr>\n",
       "      <th>...</th>\n",
       "      <td>...</td>\n",
       "      <td>...</td>\n",
       "      <td>...</td>\n",
       "      <td>...</td>\n",
       "    </tr>\n",
       "    <tr>\n",
       "      <th>95</th>\n",
       "      <td>Chevit</td>\n",
       "      <td>Combo Pack of 4 Casual Sneakers With Sneakers ...</td>\n",
       "      <td>₹499</td>\n",
       "      <td>75% off</td>\n",
       "    </tr>\n",
       "    <tr>\n",
       "      <th>96</th>\n",
       "      <td>SPARX</td>\n",
       "      <td>SM-439 Sneakers For Men</td>\n",
       "      <td>₹699</td>\n",
       "      <td>No Discount</td>\n",
       "    </tr>\n",
       "    <tr>\n",
       "      <th>97</th>\n",
       "      <td>Axter</td>\n",
       "      <td>Combo Pack of 2 Casual Loafer Sneakers Shoes S...</td>\n",
       "      <td>₹299</td>\n",
       "      <td>78% off</td>\n",
       "    </tr>\n",
       "    <tr>\n",
       "      <th>98</th>\n",
       "      <td>WRIZT</td>\n",
       "      <td>Casual Sneakers,dancing, walking Sneakers For Men</td>\n",
       "      <td>₹279</td>\n",
       "      <td>72% off</td>\n",
       "    </tr>\n",
       "    <tr>\n",
       "      <th>99</th>\n",
       "      <td>Chevit</td>\n",
       "      <td>Perfect &amp; Affordable Combo Pack of 02 Pairs Sn...</td>\n",
       "      <td>₹473</td>\n",
       "      <td>73% off</td>\n",
       "    </tr>\n",
       "  </tbody>\n",
       "</table>\n",
       "<p>100 rows × 4 columns</p>\n",
       "</div>"
      ],
      "text/plain": [
       "        Brand                                Product Description  \\\n",
       "0      BRUTON                        Men Sports Sneakers For Men   \n",
       "1        PUMA                    X-Ray 2 Square Sneakers For Men   \n",
       "2    CALCADOS  Modern Trendy Shoes Combo pack of 4 Sneakers F...   \n",
       "3   India hub  Fashionable casual sneakers shoes Sneakers For...   \n",
       "4    PEHANOSA                                   Sneakers For Men   \n",
       "..        ...                                                ...   \n",
       "95     Chevit  Combo Pack of 4 Casual Sneakers With Sneakers ...   \n",
       "96      SPARX                            SM-439 Sneakers For Men   \n",
       "97      Axter  Combo Pack of 2 Casual Loafer Sneakers Shoes S...   \n",
       "98      WRIZT  Casual Sneakers,dancing, walking Sneakers For Men   \n",
       "99     Chevit  Perfect & Affordable Combo Pack of 02 Pairs Sn...   \n",
       "\n",
       "   Price of the Shoe     Discount  \n",
       "0               ₹254      80% off  \n",
       "1             ₹3,500      49% off  \n",
       "2               ₹748      62% off  \n",
       "3               ₹389      87% off  \n",
       "4               ₹499      50% off  \n",
       "..               ...          ...  \n",
       "95              ₹499      75% off  \n",
       "96              ₹699  No Discount  \n",
       "97              ₹299      78% off  \n",
       "98              ₹279      72% off  \n",
       "99              ₹473      73% off  \n",
       "\n",
       "[100 rows x 4 columns]"
      ]
     },
     "execution_count": 248,
     "metadata": {},
     "output_type": "execute_result"
    }
   ],
   "source": [
    "Products"
   ]
  },
  {
   "cell_type": "code",
   "execution_count": null,
   "id": "4f2d01d4",
   "metadata": {},
   "outputs": [],
   "source": []
  },
  {
   "cell_type": "code",
   "execution_count": null,
   "id": "5a61eae9",
   "metadata": {},
   "outputs": [],
   "source": []
  },
  {
   "cell_type": "code",
   "execution_count": null,
   "id": "e8dc4f69",
   "metadata": {},
   "outputs": [],
   "source": []
  },
  {
   "cell_type": "code",
   "execution_count": null,
   "id": "d364bd8e",
   "metadata": {},
   "outputs": [],
   "source": []
  },
  {
   "cell_type": "code",
   "execution_count": null,
   "id": "2294644a",
   "metadata": {},
   "outputs": [],
   "source": []
  },
  {
   "cell_type": "code",
   "execution_count": null,
   "id": "1f51cd27",
   "metadata": {},
   "outputs": [],
   "source": []
  },
  {
   "cell_type": "code",
   "execution_count": null,
   "id": "c640a2f8",
   "metadata": {},
   "outputs": [],
   "source": []
  },
  {
   "cell_type": "code",
   "execution_count": null,
   "id": "be271f70",
   "metadata": {},
   "outputs": [],
   "source": []
  },
  {
   "cell_type": "code",
   "execution_count": null,
   "id": "527c50c6",
   "metadata": {},
   "outputs": [],
   "source": []
  },
  {
   "cell_type": "code",
   "execution_count": null,
   "id": "c1ca9d57",
   "metadata": {},
   "outputs": [],
   "source": []
  },
  {
   "cell_type": "code",
   "execution_count": null,
   "id": "1ff93518",
   "metadata": {},
   "outputs": [],
   "source": []
  },
  {
   "cell_type": "code",
   "execution_count": null,
   "id": "7bf787bc",
   "metadata": {},
   "outputs": [],
   "source": []
  },
  {
   "cell_type": "code",
   "execution_count": null,
   "id": "b87350e1",
   "metadata": {},
   "outputs": [],
   "source": []
  },
  {
   "cell_type": "code",
   "execution_count": null,
   "id": "f5ad6d5c",
   "metadata": {},
   "outputs": [],
   "source": []
  },
  {
   "cell_type": "code",
   "execution_count": null,
   "id": "4424cde0",
   "metadata": {},
   "outputs": [],
   "source": []
  },
  {
   "cell_type": "code",
   "execution_count": null,
   "id": "0bda3619",
   "metadata": {},
   "outputs": [],
   "source": []
  },
  {
   "cell_type": "markdown",
   "id": "76f4fa1c",
   "metadata": {},
   "source": [
    "# Q9: Go to the link - https://www.myntra.com/shoes Set Price filter to “Rs. 6649 to Rs. 13099” , Color filter to “Black”, as shown in the below image And then scrape First 100 shoes data you get. The data should include “Brand” of the shoes , Short Shoe description, price of the shoe as shown in the below image."
   ]
  },
  {
   "cell_type": "code",
   "execution_count": 450,
   "id": "f86dea3f",
   "metadata": {},
   "outputs": [],
   "source": [
    "url = 'https://www.myntra.com/shoes' \n",
    "driver.get(url)"
   ]
  },
  {
   "cell_type": "markdown",
   "id": "635ee235",
   "metadata": {},
   "source": [
    "saving and opening the url"
   ]
  },
  {
   "cell_type": "code",
   "execution_count": null,
   "id": "4ac3a004",
   "metadata": {},
   "outputs": [],
   "source": []
  },
  {
   "cell_type": "code",
   "execution_count": 448,
   "id": "d2639a34",
   "metadata": {},
   "outputs": [],
   "source": [
    "brand_shoe=[]\n",
    "short_desc=[]\n",
    "price_shoe=[]"
   ]
  },
  {
   "cell_type": "code",
   "execution_count": null,
   "id": "55a9b178",
   "metadata": {},
   "outputs": [],
   "source": []
  },
  {
   "cell_type": "code",
   "execution_count": 451,
   "id": "b54bf616",
   "metadata": {},
   "outputs": [
    {
     "data": {
      "text/plain": [
       "['https://www.myntra.com/shoes?f=Color%3ABlack_36454f&plaEnabled=false&rf=Price%3A6612.0_13075.0_6612.0%20TO%2013075.0',\n",
       " 'https://www.myntra.com/shoes?f=Color%3ABlack_36454f&plaEnabled=false&rf=Price%3A6612.0_13075.0_6612.0%20TO%2013075.0&p=2']"
      ]
     },
     "execution_count": 451,
     "metadata": {},
     "output_type": "execute_result"
    }
   ],
   "source": [
    "page_urls=[]\n",
    "url = driver.find_elements_by_xpath('//li[@class=\"pagination-active\" or @class=\"pagination-number\"]//a')\n",
    "\n",
    "for i in url[0:2]:\n",
    "    page_urls.append(i.get_attribute('href'))\n",
    "page_urls"
   ]
  },
  {
   "cell_type": "code",
   "execution_count": 452,
   "id": "c7ee0f26",
   "metadata": {},
   "outputs": [
    {
     "data": {
      "text/plain": [
       "['https://www.myntra.com/shoes?f=Color%3ABlack_36454f&plaEnabled=false&rf=Price%3A6612.0_13075.0_6612.0%20TO%2013075.0',\n",
       " 'https://www.myntra.com/shoes?f=Color%3ABlack_36454f&plaEnabled=false&rf=Price%3A6612.0_13075.0_6612.0%20TO%2013075.0&p=2']"
      ]
     },
     "execution_count": 452,
     "metadata": {},
     "output_type": "execute_result"
    }
   ],
   "source": [
    "page_urls"
   ]
  },
  {
   "cell_type": "markdown",
   "id": "24a6ddd0",
   "metadata": {},
   "source": [
    "Extracted urls"
   ]
  },
  {
   "cell_type": "code",
   "execution_count": null,
   "id": "9905d19b",
   "metadata": {},
   "outputs": [],
   "source": []
  },
  {
   "cell_type": "code",
   "execution_count": 453,
   "id": "a5c64b95",
   "metadata": {},
   "outputs": [],
   "source": [
    "for i in page_urls:\n",
    "    driver.get(i)\n",
    "    \n",
    "    brand_shoe_tags=driver.find_elements_by_xpath(\"//h3[@class='product-brand']\")\n",
    "    short_desc_tags=driver.find_elements_by_xpath(\"//div[@class='product-productMetaInfo']//h4[@class='product-product']\")\n",
    "    price_shoe_tags=driver.find_elements_by_xpath(\"//div[@class='product-price']\")\n",
    "\n",
    "    \n",
    "    for i in brand_shoe_tags:\n",
    "        brand_shoe.append(i.text) \n",
    "\n",
    "    for i in short_desc_tags:\n",
    "        short_desc.append(i.text)\n",
    "\n",
    "\n",
    "    for i in price_shoe_tags:\n",
    "        price_shoe.append(i.text) \n",
    "\n",
    "\n"
   ]
  },
  {
   "cell_type": "markdown",
   "id": "d6042177",
   "metadata": {},
   "source": [
    "Extracted Brand of the shoes , Short Shoe description and price of the shoe "
   ]
  },
  {
   "cell_type": "code",
   "execution_count": null,
   "id": "ceac9ada",
   "metadata": {},
   "outputs": [],
   "source": []
  },
  {
   "cell_type": "code",
   "execution_count": 454,
   "id": "7075e5fe",
   "metadata": {},
   "outputs": [
    {
     "data": {
      "text/plain": [
       "100"
      ]
     },
     "execution_count": 454,
     "metadata": {},
     "output_type": "execute_result"
    }
   ],
   "source": [
    "len(brand_shoe)"
   ]
  },
  {
   "cell_type": "code",
   "execution_count": 455,
   "id": "c71c06df",
   "metadata": {},
   "outputs": [
    {
     "data": {
      "text/plain": [
       "100"
      ]
     },
     "execution_count": 455,
     "metadata": {},
     "output_type": "execute_result"
    }
   ],
   "source": [
    "len(short_desc)"
   ]
  },
  {
   "cell_type": "code",
   "execution_count": 456,
   "id": "f3f9c53e",
   "metadata": {},
   "outputs": [
    {
     "data": {
      "text/plain": [
       "100"
      ]
     },
     "execution_count": 456,
     "metadata": {},
     "output_type": "execute_result"
    }
   ],
   "source": [
    "len(price_shoe)"
   ]
  },
  {
   "cell_type": "code",
   "execution_count": 457,
   "id": "45a1d8a2",
   "metadata": {
    "collapsed": true
   },
   "outputs": [
    {
     "data": {
      "text/plain": [
       "['Nike',\n",
       " 'FORCLAZ By Decathlon',\n",
       " 'Nike',\n",
       " 'Nike',\n",
       " 'Nike',\n",
       " 'ADIDAS',\n",
       " 'Nike',\n",
       " 'Nike',\n",
       " 'Nike',\n",
       " 'Nike',\n",
       " 'Nike',\n",
       " 'Kalenji By Decathlon',\n",
       " 'Nike',\n",
       " 'ALDO',\n",
       " 'Puma',\n",
       " 'UNDER ARMOUR',\n",
       " 'ADIDAS',\n",
       " 'UNDER ARMOUR',\n",
       " 'Hush Puppies',\n",
       " 'UNDER ARMOUR',\n",
       " 'Cole Haan',\n",
       " 'Nike',\n",
       " 'ASICS',\n",
       " 'Puma',\n",
       " 'Reebok',\n",
       " 'Puma',\n",
       " 'ASICS',\n",
       " 'ALDO',\n",
       " 'ASICS',\n",
       " 'UNDER ARMOUR',\n",
       " 'ADIDAS Originals',\n",
       " 'Nike',\n",
       " 'UNDER ARMOUR',\n",
       " 'ALDO',\n",
       " 'ALDO',\n",
       " 'Geox',\n",
       " 'J.FONTINI',\n",
       " 'UNDER ARMOUR',\n",
       " 'UNDER ARMOUR',\n",
       " 'Hush Puppies',\n",
       " 'Geox',\n",
       " 'Kenneth Cole',\n",
       " 'Heel & Buckle London',\n",
       " 'KIPRUN By Decathlon',\n",
       " 'Hush Puppies',\n",
       " 'Lacoste',\n",
       " 'ALDO',\n",
       " 'J.FONTINI',\n",
       " 'Puma',\n",
       " 'Cole Haan',\n",
       " 'Cole Haan',\n",
       " 'Cole Haan',\n",
       " 'Puma',\n",
       " 'ADIDAS',\n",
       " 'FILA',\n",
       " 'Cole Haan',\n",
       " 'FILA',\n",
       " 'FILA',\n",
       " 'Geox',\n",
       " 'Ruosh',\n",
       " 'Puma',\n",
       " 'VIONIC',\n",
       " 'J.FONTINI',\n",
       " 'Hush Puppies',\n",
       " 'Hush Puppies',\n",
       " 'Nike',\n",
       " 'Nike',\n",
       " 'Nike',\n",
       " 'Heel & Buckle London',\n",
       " 'ADIDAS',\n",
       " 'Heel & Buckle London',\n",
       " 'Saint G',\n",
       " 'Saint G',\n",
       " 'Cole Haan',\n",
       " 'Nike',\n",
       " 'UNDER ARMOUR',\n",
       " 'Nike',\n",
       " 'Lacoste',\n",
       " 'Cole Haan',\n",
       " 'Lacoste',\n",
       " 'FILA',\n",
       " 'Geox',\n",
       " 'Cole Haan',\n",
       " 'UNDER ARMOUR',\n",
       " 'UNDER ARMOUR',\n",
       " 'Heel & Buckle London',\n",
       " 'Heel & Buckle London',\n",
       " 'Reebok',\n",
       " 'Bugatti',\n",
       " 'Ruosh',\n",
       " 'Geox',\n",
       " 'Nike',\n",
       " 'ASICS',\n",
       " 'Ruosh',\n",
       " 'Nike',\n",
       " 'Ruosh',\n",
       " 'Puma',\n",
       " 'Teakwood Leathers',\n",
       " 'Florsheim',\n",
       " 'Bugatti']"
      ]
     },
     "execution_count": 457,
     "metadata": {},
     "output_type": "execute_result"
    }
   ],
   "source": [
    "brand_shoe"
   ]
  },
  {
   "cell_type": "code",
   "execution_count": 458,
   "id": "de891577",
   "metadata": {
    "collapsed": true
   },
   "outputs": [
    {
     "data": {
      "text/plain": [
       "['Men REACT MILER Running Shoes',\n",
       " 'TREKKING 100 Boots',\n",
       " 'Unisex LEBRON XVIII Basketball',\n",
       " 'Unisex COSMIC UNITY Basketball',\n",
       " 'Women PEGASUS 37 Running Shoes',\n",
       " 'Men SOLAR DRIVE 19 M Running',\n",
       " 'Men ZOOM FREAK 2 Basketball',\n",
       " 'Men JOYRIDE Running Shoes',\n",
       " 'Women REACT Running Shoes',\n",
       " 'Men JORDAN DELTA Basketball',\n",
       " 'AIR ZOOM PEGASUS Running Shoes',\n",
       " 'Men KD500 Running Shoe',\n",
       " 'Men KD13 EP Basketball Shoes',\n",
       " 'Women Sandals',\n",
       " 'Men Velocity Nitro Running',\n",
       " 'Women HOVR Rise 2 Training',\n",
       " 'Women SUPERNOVA Running Shoes',\n",
       " 'HOVR Sonic 3 Running Shoes',\n",
       " 'Men Solid Leather Formal Slip-Ons',\n",
       " 'Charged Rogue 2 Wide 2E Shoes',\n",
       " 'Men ZEROGRAND GLOBAL SLIP ON',\n",
       " 'Men JORDAN DELTA Sneakers',\n",
       " 'Men Running Shoes',\n",
       " 'Men UltraRide Running Shoes',\n",
       " 'Forever Floatride Energy 2',\n",
       " 'Unisex RS-X Pop Sneakers',\n",
       " 'Women Running Shoes',\n",
       " 'Women Black Sneakers',\n",
       " 'Women Running Shoes',\n",
       " 'Charged Impulse Running Shoes',\n",
       " 'Men ZX 2K Boost Solid Sneakers',\n",
       " 'Men AIR FLIGHT 89 Sneakers',\n",
       " 'Women Charged Breathe OIL SLK',\n",
       " 'Women Open Toe Flats',\n",
       " 'Women Sneakers Casual Shoes',\n",
       " 'Men Leather Slip-On Sneakers',\n",
       " 'Men Textured Leather Loafers',\n",
       " 'HOVR Sonic 3 Running Shoes',\n",
       " 'Women TriBase Reign 2 Training',\n",
       " 'Men Formal Derbys',\n",
       " 'Men Leather Formal Derbys',\n",
       " 'Women Solid Flat Boots',\n",
       " 'Women Peep Toe Heels',\n",
       " 'Women Running Shoes',\n",
       " 'Men Solid Leather Formal Derbys',\n",
       " 'Woven Design Casual Sneakers',\n",
       " 'Women Open Toe Flats',\n",
       " 'Men Textured Leather Loafers',\n",
       " 'Men Football Shoes',\n",
       " 'Men Wingtip Oxford Sneakers',\n",
       " 'Men Wingtip Oxford Sneakers',\n",
       " 'Men GENERATION ZEROGRAND STITCHLITE',\n",
       " 'Men Liberate Nitro Running',\n",
       " 'Women Edge Lux 4 Running',\n",
       " 'Men Leather Sneakers',\n",
       " 'Leather Sneakers',\n",
       " 'Men Solid Sneakers',\n",
       " 'Men Sneakers',\n",
       " 'Men Leather Driving Shoes',\n",
       " 'Men Textured Leather Monks',\n",
       " 'Men IGNITE Dual Running Shoes',\n",
       " 'Men Textured Sneakers',\n",
       " 'Men Textured Leather Loafers',\n",
       " 'Men Colourblocked Driving Shoes',\n",
       " 'Men Leather Slip-On Sneakers',\n",
       " 'Men JORDAN ONE TAKE II Shoes',\n",
       " 'Men AIR ZOOM PEGASUS 38 Run',\n",
       " 'Men REACT MILER 2 Running',\n",
       " 'Women Solid Leather Gladiators',\n",
       " 'Women Supernova+ Running',\n",
       " 'Women Solid Leather Heels',\n",
       " 'Women Heeled Boots',\n",
       " 'Women Leather Heeled Boots',\n",
       " 'Women Open Toe Flats',\n",
       " 'Men ZOOM WINFLO 6 Running',\n",
       " 'Charged Pursuit 2 Running',\n",
       " 'Men REACT MILER 2 Running',\n",
       " 'Men Woven Design Sneakers',\n",
       " 'Women Solid Leather Ballerinas',\n",
       " 'Men Woven Design Slip-On Sneakers',\n",
       " 'Women Sneakers',\n",
       " 'Women Leather Ballerinas',\n",
       " 'Women Woven Design Sneakers',\n",
       " 'Liquify Rebel Running Shoes',\n",
       " 'Charged RC Sportstyle Sneakers',\n",
       " 'Men Leather Formal Oxfords',\n",
       " 'Women Leather Pumps',\n",
       " 'Women Nanoflex Training Shoes',\n",
       " 'Women Solid Block Heels',\n",
       " 'Men Solid Leather Formal Slip-Ons',\n",
       " 'Men Leather Semiformal Driving',\n",
       " 'Women AIR MAX VIVA Sneakers',\n",
       " 'Men Running Shoes',\n",
       " 'Men Solid Leather Formal Monks',\n",
       " 'Men ZOOM WINFLO8 Running Shoes',\n",
       " 'Men Formal Leather Brogues',\n",
       " 'Men UltraRide Running Shoes',\n",
       " 'Men Solid Leather Loafers',\n",
       " 'Men Solid Leather Formal Loafers',\n",
       " 'Women Black Sneakers']"
      ]
     },
     "execution_count": 458,
     "metadata": {},
     "output_type": "execute_result"
    }
   ],
   "source": [
    "short_desc"
   ]
  },
  {
   "cell_type": "code",
   "execution_count": 459,
   "id": "47809040",
   "metadata": {
    "collapsed": true
   },
   "outputs": [
    {
     "data": {
      "text/plain": [
       "['Rs. 8246Rs. 10995(25% OFF)',\n",
       " 'Rs. 6999',\n",
       " 'Rs. 12316Rs. 17595(30% OFF)',\n",
       " 'Rs. 11470Rs. 13495(15% OFF)',\n",
       " 'Rs. 7496Rs. 9995(25% OFF)',\n",
       " 'Rs. 7799Rs. 11999(35% OFF)',\n",
       " 'Rs. 7721Rs. 10295(25% OFF)',\n",
       " 'Rs. 11246Rs. 14995(25% OFF)',\n",
       " 'Rs. 7796Rs. 11995(35% OFF)',\n",
       " 'Rs. 12495',\n",
       " 'Rs. 11495',\n",
       " 'Rs. 7857Rs. 8449(7% OFF)',\n",
       " 'Rs. 12995',\n",
       " 'Rs. 8999',\n",
       " 'Rs. 10999',\n",
       " 'Rs. 7499Rs. 9999(25% OFF)',\n",
       " 'Rs. 6999Rs. 9999(30% OFF)',\n",
       " 'Rs. 8799Rs. 10999(20% OFF)',\n",
       " 'Rs. 8999',\n",
       " 'Rs. 7999',\n",
       " 'Rs. 11999Rs. 19999(40% OFF)',\n",
       " 'Rs. 10995',\n",
       " 'Rs. 6999Rs. 9999(30% OFF)',\n",
       " 'Rs. 7199Rs. 8999(20% OFF)',\n",
       " 'Rs. 9999',\n",
       " 'Rs. 7999Rs. 9999(20% OFF)',\n",
       " 'Rs. 9799Rs. 13999(30% OFF)',\n",
       " 'Rs. 7199Rs. 8999(20% OFF)',\n",
       " 'Rs. 6999Rs. 9999(30% OFF)',\n",
       " 'Rs. 7999',\n",
       " 'Rs. 7699Rs. 13999(45% OFF)',\n",
       " 'Rs. 7721Rs. 10295(25% OFF)',\n",
       " 'Rs. 6749Rs. 8999(25% OFF)',\n",
       " 'Rs. 8999',\n",
       " 'Rs. 8399Rs. 11999(30% OFF)',\n",
       " 'Rs. 6643Rs. 9490(30% OFF)',\n",
       " 'Rs. 6990',\n",
       " 'Rs. 10999',\n",
       " 'Rs. 8999Rs. 11999(25% OFF)',\n",
       " 'Rs. 9999',\n",
       " 'Rs. 8043Rs. 11490(30% OFF)',\n",
       " 'Rs. 9513Rs. 13590(30% OFF)',\n",
       " 'Rs. 7192Rs. 8990(20% OFF)',\n",
       " 'Rs. 7006Rs. 7149(2% OFF)',\n",
       " 'Rs. 9999',\n",
       " 'Rs. 7595Rs. 10850(30% OFF)',\n",
       " 'Rs. 7999',\n",
       " 'Rs. 6990',\n",
       " 'Rs. 11899Rs. 16999(30% OFF)',\n",
       " 'Rs. 12999',\n",
       " 'Rs. 12999',\n",
       " 'Rs. 11999',\n",
       " 'Rs. 9999',\n",
       " 'Rs. 7999',\n",
       " 'Rs. 7999',\n",
       " 'Rs. 10999',\n",
       " 'Rs. 7499',\n",
       " 'Rs. 6999',\n",
       " 'Rs. 6993Rs. 9990(30% OFF)',\n",
       " 'Rs. 6990',\n",
       " 'Rs. 6999',\n",
       " 'Rs. 7039Rs. 10999(36% OFF)',\n",
       " 'Rs. 7690',\n",
       " 'Rs. 8999',\n",
       " 'Rs. 9999',\n",
       " 'Rs. 7465Rs. 8295(10% OFF)',\n",
       " 'Rs. 9995',\n",
       " 'Rs. 8621Rs. 11495(25% OFF)',\n",
       " 'Rs. 6993Rs. 9990(30% OFF)',\n",
       " 'Rs. 7799Rs. 11999(35% OFF)',\n",
       " 'Rs. 6993Rs. 9990(30% OFF)',\n",
       " 'Rs. 7440Rs. 8000(7% OFF)',\n",
       " 'Rs. 6675Rs. 8900(25% OFF)',\n",
       " 'Rs. 8399Rs. 11999(30% OFF)',\n",
       " 'Rs. 7195Rs. 7995(10% OFF)',\n",
       " 'Rs. 6999',\n",
       " 'Rs. 8621Rs. 11495(25% OFF)',\n",
       " 'Rs. 8500',\n",
       " 'Rs. 9799Rs. 13999(30% OFF)',\n",
       " 'Rs. 8500',\n",
       " 'Rs. 8999',\n",
       " 'Rs. 6643Rs. 9490(30% OFF)',\n",
       " 'Rs. 6749Rs. 14999(55% OFF)',\n",
       " 'Rs. 8999',\n",
       " 'Rs. 8999',\n",
       " 'Rs. 7693Rs. 10990(30% OFF)',\n",
       " 'Rs. 7192Rs. 8990(20% OFF)',\n",
       " 'Rs. 7599',\n",
       " 'Rs. 8499',\n",
       " 'Rs. 6990',\n",
       " 'Rs. 7343Rs. 10490(30% OFF)',\n",
       " 'Rs. 12495',\n",
       " 'Rs. 11999',\n",
       " 'Rs. 6990',\n",
       " 'Rs. 8295',\n",
       " 'Rs. 7490',\n",
       " 'Rs. 7199Rs. 8999(20% OFF)',\n",
       " 'Rs. 6999',\n",
       " 'Rs. 6995',\n",
       " 'Rs. 7999']"
      ]
     },
     "execution_count": 459,
     "metadata": {},
     "output_type": "execute_result"
    }
   ],
   "source": [
    "price_shoe"
   ]
  },
  {
   "cell_type": "markdown",
   "id": "515d3bd8",
   "metadata": {},
   "source": [
    "Unwanted data has been removed in the price_shoe"
   ]
  },
  {
   "cell_type": "code",
   "execution_count": null,
   "id": "d3291847",
   "metadata": {},
   "outputs": [],
   "source": []
  },
  {
   "cell_type": "code",
   "execution_count": null,
   "id": "650046ba",
   "metadata": {},
   "outputs": [],
   "source": []
  },
  {
   "cell_type": "code",
   "execution_count": 532,
   "id": "a6f798fe",
   "metadata": {},
   "outputs": [],
   "source": [
    "Products=pd.DataFrame({})\n",
    "Products[\"Brand\"]=brand_shoe\n",
    "Products[\"Short Description\"]=short_desc\n",
    "Products[\"Price of the Shoe\"]=price_shoe"
   ]
  },
  {
   "cell_type": "code",
   "execution_count": 485,
   "id": "7e14a518",
   "metadata": {},
   "outputs": [
    {
     "data": {
      "text/html": [
       "<div>\n",
       "<style scoped>\n",
       "    .dataframe tbody tr th:only-of-type {\n",
       "        vertical-align: middle;\n",
       "    }\n",
       "\n",
       "    .dataframe tbody tr th {\n",
       "        vertical-align: top;\n",
       "    }\n",
       "\n",
       "    .dataframe thead th {\n",
       "        text-align: right;\n",
       "    }\n",
       "</style>\n",
       "<table border=\"1\" class=\"dataframe\">\n",
       "  <thead>\n",
       "    <tr style=\"text-align: right;\">\n",
       "      <th></th>\n",
       "      <th>Brand</th>\n",
       "      <th>Short Description</th>\n",
       "      <th>Price of the Shoe</th>\n",
       "    </tr>\n",
       "  </thead>\n",
       "  <tbody>\n",
       "    <tr>\n",
       "      <th>0</th>\n",
       "      <td>Nike</td>\n",
       "      <td>Men REACT MILER Running Shoes</td>\n",
       "      <td>Rs. 8246Rs. 10995(25% OFF)</td>\n",
       "    </tr>\n",
       "    <tr>\n",
       "      <th>1</th>\n",
       "      <td>FORCLAZ By Decathlon</td>\n",
       "      <td>TREKKING 100 Boots</td>\n",
       "      <td>Rs. 6999</td>\n",
       "    </tr>\n",
       "    <tr>\n",
       "      <th>2</th>\n",
       "      <td>Nike</td>\n",
       "      <td>Unisex LEBRON XVIII Basketball</td>\n",
       "      <td>Rs. 12316Rs. 17595(30% OFF)</td>\n",
       "    </tr>\n",
       "    <tr>\n",
       "      <th>3</th>\n",
       "      <td>Nike</td>\n",
       "      <td>Unisex COSMIC UNITY Basketball</td>\n",
       "      <td>Rs. 11470Rs. 13495(15% OFF)</td>\n",
       "    </tr>\n",
       "    <tr>\n",
       "      <th>4</th>\n",
       "      <td>Nike</td>\n",
       "      <td>Women PEGASUS 37 Running Shoes</td>\n",
       "      <td>Rs. 7496Rs. 9995(25% OFF)</td>\n",
       "    </tr>\n",
       "    <tr>\n",
       "      <th>...</th>\n",
       "      <td>...</td>\n",
       "      <td>...</td>\n",
       "      <td>...</td>\n",
       "    </tr>\n",
       "    <tr>\n",
       "      <th>95</th>\n",
       "      <td>Ruosh</td>\n",
       "      <td>Men Formal Leather Brogues</td>\n",
       "      <td>Rs. 7490</td>\n",
       "    </tr>\n",
       "    <tr>\n",
       "      <th>96</th>\n",
       "      <td>Puma</td>\n",
       "      <td>Men UltraRide Running Shoes</td>\n",
       "      <td>Rs. 7199Rs. 8999(20% OFF)</td>\n",
       "    </tr>\n",
       "    <tr>\n",
       "      <th>97</th>\n",
       "      <td>Teakwood Leathers</td>\n",
       "      <td>Men Solid Leather Loafers</td>\n",
       "      <td>Rs. 6999</td>\n",
       "    </tr>\n",
       "    <tr>\n",
       "      <th>98</th>\n",
       "      <td>Florsheim</td>\n",
       "      <td>Men Solid Leather Formal Loafers</td>\n",
       "      <td>Rs. 6995</td>\n",
       "    </tr>\n",
       "    <tr>\n",
       "      <th>99</th>\n",
       "      <td>Bugatti</td>\n",
       "      <td>Women Black Sneakers</td>\n",
       "      <td>Rs. 7999</td>\n",
       "    </tr>\n",
       "  </tbody>\n",
       "</table>\n",
       "<p>100 rows × 3 columns</p>\n",
       "</div>"
      ],
      "text/plain": [
       "                   Brand                 Short Description  \\\n",
       "0                   Nike     Men REACT MILER Running Shoes   \n",
       "1   FORCLAZ By Decathlon                TREKKING 100 Boots   \n",
       "2                   Nike    Unisex LEBRON XVIII Basketball   \n",
       "3                   Nike    Unisex COSMIC UNITY Basketball   \n",
       "4                   Nike    Women PEGASUS 37 Running Shoes   \n",
       "..                   ...                               ...   \n",
       "95                 Ruosh        Men Formal Leather Brogues   \n",
       "96                  Puma       Men UltraRide Running Shoes   \n",
       "97     Teakwood Leathers         Men Solid Leather Loafers   \n",
       "98             Florsheim  Men Solid Leather Formal Loafers   \n",
       "99               Bugatti              Women Black Sneakers   \n",
       "\n",
       "              Price of the Shoe  \n",
       "0    Rs. 8246Rs. 10995(25% OFF)  \n",
       "1                      Rs. 6999  \n",
       "2   Rs. 12316Rs. 17595(30% OFF)  \n",
       "3   Rs. 11470Rs. 13495(15% OFF)  \n",
       "4     Rs. 7496Rs. 9995(25% OFF)  \n",
       "..                          ...  \n",
       "95                     Rs. 7490  \n",
       "96    Rs. 7199Rs. 8999(20% OFF)  \n",
       "97                     Rs. 6999  \n",
       "98                     Rs. 6995  \n",
       "99                     Rs. 7999  \n",
       "\n",
       "[100 rows x 3 columns]"
      ]
     },
     "execution_count": 485,
     "metadata": {},
     "output_type": "execute_result"
    }
   ],
   "source": [
    "Products"
   ]
  },
  {
   "cell_type": "markdown",
   "id": "b3dc106b",
   "metadata": {},
   "source": [
    "clubbed all the three columns along with the unwanted data in price_shoe"
   ]
  },
  {
   "cell_type": "code",
   "execution_count": null,
   "id": "375299ce",
   "metadata": {},
   "outputs": [],
   "source": []
  },
  {
   "cell_type": "code",
   "execution_count": 533,
   "id": "dac167c9",
   "metadata": {},
   "outputs": [],
   "source": [
    "\n",
    "for i in range(0,100):\n",
    "    Products[\"Price of the Shoe\"][i]=Products[\"Price of the Shoe\"][i][0:10]"
   ]
  },
  {
   "cell_type": "code",
   "execution_count": 534,
   "id": "99b9c1d9",
   "metadata": {
    "collapsed": true
   },
   "outputs": [
    {
     "data": {
      "text/plain": [
       "0     Rs. 8246Rs\n",
       "1       Rs. 6999\n",
       "2     Rs. 12316R\n",
       "3     Rs. 11470R\n",
       "4     Rs. 7496Rs\n",
       "5     Rs. 7799Rs\n",
       "6     Rs. 7721Rs\n",
       "7     Rs. 11246R\n",
       "8     Rs. 7796Rs\n",
       "9      Rs. 12495\n",
       "10     Rs. 11495\n",
       "11    Rs. 7857Rs\n",
       "12     Rs. 12995\n",
       "13      Rs. 8999\n",
       "14     Rs. 10999\n",
       "15    Rs. 7499Rs\n",
       "16    Rs. 6999Rs\n",
       "17    Rs. 8799Rs\n",
       "18      Rs. 8999\n",
       "19      Rs. 7999\n",
       "20    Rs. 11999R\n",
       "21     Rs. 10995\n",
       "22    Rs. 6999Rs\n",
       "23    Rs. 7199Rs\n",
       "24      Rs. 9999\n",
       "25    Rs. 7999Rs\n",
       "26    Rs. 9799Rs\n",
       "27    Rs. 7199Rs\n",
       "28    Rs. 6999Rs\n",
       "29      Rs. 7999\n",
       "30    Rs. 7699Rs\n",
       "31    Rs. 7721Rs\n",
       "32    Rs. 6749Rs\n",
       "33      Rs. 8999\n",
       "34    Rs. 8399Rs\n",
       "35    Rs. 6643Rs\n",
       "36      Rs. 6990\n",
       "37     Rs. 10999\n",
       "38    Rs. 8999Rs\n",
       "39      Rs. 9999\n",
       "40    Rs. 8043Rs\n",
       "41    Rs. 9513Rs\n",
       "42    Rs. 7192Rs\n",
       "43    Rs. 7006Rs\n",
       "44      Rs. 9999\n",
       "45    Rs. 7595Rs\n",
       "46      Rs. 7999\n",
       "47      Rs. 6990\n",
       "48    Rs. 11899R\n",
       "49     Rs. 12999\n",
       "Name: Price of the Shoe, dtype: object"
      ]
     },
     "execution_count": 534,
     "metadata": {},
     "output_type": "execute_result"
    }
   ],
   "source": [
    "Products[\"Price of the Shoe\"][0:50]"
   ]
  },
  {
   "cell_type": "code",
   "execution_count": 535,
   "id": "399b2589",
   "metadata": {},
   "outputs": [],
   "source": [
    "for i in range(0,100):\n",
    "    if (Products[\"Price of the Shoe\"][i][len(Products[\"Price of the Shoe\"][i])-1]==\"s\" or Products[\"Price of the Shoe\"][i][len(Products[\"Price of the Shoe\"][i])-1]==\"R\"):\n",
    "        Products[\"Price of the Shoe\"][i]=Products[\"Price of the Shoe\"][i][0:len(Products[\"Price of the Shoe\"][i])-1]\n"
   ]
  },
  {
   "cell_type": "code",
   "execution_count": 537,
   "id": "fb9d2180",
   "metadata": {},
   "outputs": [],
   "source": [
    "for i in range(0,100):\n",
    "    if Products[\"Price of the Shoe\"][i][len(Products[\"Price of the Shoe\"][i])-1]==\"R\":\n",
    "        Products[\"Price of the Shoe\"][i]=Products[\"Price of the Shoe\"][i][0:len(Products[\"Price of the Shoe\"][i])-1]"
   ]
  },
  {
   "cell_type": "markdown",
   "id": "ac65c87d",
   "metadata": {},
   "source": [
    "Removed the unwanted data from price_shoe"
   ]
  },
  {
   "cell_type": "code",
   "execution_count": null,
   "id": "f18843b0",
   "metadata": {},
   "outputs": [],
   "source": []
  },
  {
   "cell_type": "code",
   "execution_count": 541,
   "id": "4d00743c",
   "metadata": {},
   "outputs": [
    {
     "data": {
      "text/html": [
       "<div>\n",
       "<style scoped>\n",
       "    .dataframe tbody tr th:only-of-type {\n",
       "        vertical-align: middle;\n",
       "    }\n",
       "\n",
       "    .dataframe tbody tr th {\n",
       "        vertical-align: top;\n",
       "    }\n",
       "\n",
       "    .dataframe thead th {\n",
       "        text-align: right;\n",
       "    }\n",
       "</style>\n",
       "<table border=\"1\" class=\"dataframe\">\n",
       "  <thead>\n",
       "    <tr style=\"text-align: right;\">\n",
       "      <th></th>\n",
       "      <th>Brand</th>\n",
       "      <th>Short Description</th>\n",
       "      <th>Price of the Shoe</th>\n",
       "    </tr>\n",
       "  </thead>\n",
       "  <tbody>\n",
       "    <tr>\n",
       "      <th>0</th>\n",
       "      <td>Nike</td>\n",
       "      <td>Men REACT MILER Running Shoes</td>\n",
       "      <td>Rs. 8246</td>\n",
       "    </tr>\n",
       "    <tr>\n",
       "      <th>1</th>\n",
       "      <td>FORCLAZ By Decathlon</td>\n",
       "      <td>TREKKING 100 Boots</td>\n",
       "      <td>Rs. 6999</td>\n",
       "    </tr>\n",
       "    <tr>\n",
       "      <th>2</th>\n",
       "      <td>Nike</td>\n",
       "      <td>Unisex LEBRON XVIII Basketball</td>\n",
       "      <td>Rs. 12316</td>\n",
       "    </tr>\n",
       "    <tr>\n",
       "      <th>3</th>\n",
       "      <td>Nike</td>\n",
       "      <td>Unisex COSMIC UNITY Basketball</td>\n",
       "      <td>Rs. 11470</td>\n",
       "    </tr>\n",
       "    <tr>\n",
       "      <th>4</th>\n",
       "      <td>Nike</td>\n",
       "      <td>Women PEGASUS 37 Running Shoes</td>\n",
       "      <td>Rs. 7496</td>\n",
       "    </tr>\n",
       "    <tr>\n",
       "      <th>...</th>\n",
       "      <td>...</td>\n",
       "      <td>...</td>\n",
       "      <td>...</td>\n",
       "    </tr>\n",
       "    <tr>\n",
       "      <th>95</th>\n",
       "      <td>Ruosh</td>\n",
       "      <td>Men Formal Leather Brogues</td>\n",
       "      <td>Rs. 7490</td>\n",
       "    </tr>\n",
       "    <tr>\n",
       "      <th>96</th>\n",
       "      <td>Puma</td>\n",
       "      <td>Men UltraRide Running Shoes</td>\n",
       "      <td>Rs. 7199</td>\n",
       "    </tr>\n",
       "    <tr>\n",
       "      <th>97</th>\n",
       "      <td>Teakwood Leathers</td>\n",
       "      <td>Men Solid Leather Loafers</td>\n",
       "      <td>Rs. 6999</td>\n",
       "    </tr>\n",
       "    <tr>\n",
       "      <th>98</th>\n",
       "      <td>Florsheim</td>\n",
       "      <td>Men Solid Leather Formal Loafers</td>\n",
       "      <td>Rs. 6995</td>\n",
       "    </tr>\n",
       "    <tr>\n",
       "      <th>99</th>\n",
       "      <td>Bugatti</td>\n",
       "      <td>Women Black Sneakers</td>\n",
       "      <td>Rs. 7999</td>\n",
       "    </tr>\n",
       "  </tbody>\n",
       "</table>\n",
       "<p>100 rows × 3 columns</p>\n",
       "</div>"
      ],
      "text/plain": [
       "                   Brand                 Short Description Price of the Shoe\n",
       "0                   Nike     Men REACT MILER Running Shoes          Rs. 8246\n",
       "1   FORCLAZ By Decathlon                TREKKING 100 Boots          Rs. 6999\n",
       "2                   Nike    Unisex LEBRON XVIII Basketball         Rs. 12316\n",
       "3                   Nike    Unisex COSMIC UNITY Basketball         Rs. 11470\n",
       "4                   Nike    Women PEGASUS 37 Running Shoes          Rs. 7496\n",
       "..                   ...                               ...               ...\n",
       "95                 Ruosh        Men Formal Leather Brogues          Rs. 7490\n",
       "96                  Puma       Men UltraRide Running Shoes          Rs. 7199\n",
       "97     Teakwood Leathers         Men Solid Leather Loafers          Rs. 6999\n",
       "98             Florsheim  Men Solid Leather Formal Loafers          Rs. 6995\n",
       "99               Bugatti              Women Black Sneakers          Rs. 7999\n",
       "\n",
       "[100 rows x 3 columns]"
      ]
     },
     "execution_count": 541,
     "metadata": {},
     "output_type": "execute_result"
    }
   ],
   "source": [
    "Products"
   ]
  },
  {
   "cell_type": "markdown",
   "id": "b3a93266",
   "metadata": {},
   "source": [
    "Final clean data frame "
   ]
  },
  {
   "cell_type": "code",
   "execution_count": null,
   "id": "82047b5b",
   "metadata": {},
   "outputs": [],
   "source": []
  },
  {
   "cell_type": "code",
   "execution_count": null,
   "id": "84bd7978",
   "metadata": {},
   "outputs": [],
   "source": []
  },
  {
   "cell_type": "code",
   "execution_count": null,
   "id": "f1df4628",
   "metadata": {},
   "outputs": [],
   "source": []
  },
  {
   "cell_type": "code",
   "execution_count": null,
   "id": "1003f426",
   "metadata": {},
   "outputs": [],
   "source": []
  },
  {
   "cell_type": "markdown",
   "id": "ff790acb",
   "metadata": {},
   "source": [
    "# Q10: Go to webpage https://www.amazon.in/ Enter “Laptop” in the search field and then click the search icon. Then set CPU Type filter to “Intel Core i7” and “Intel Core i9” as shown in the below image:"
   ]
  },
  {
   "cell_type": "code",
   "execution_count": 115,
   "id": "422dabf9",
   "metadata": {},
   "outputs": [],
   "source": [
    "url = 'https://www.amazon.in/' \n",
    "driver.get(url)"
   ]
  },
  {
   "cell_type": "markdown",
   "id": "be2a2684",
   "metadata": {},
   "source": [
    "saving and opening the url"
   ]
  },
  {
   "cell_type": "code",
   "execution_count": null,
   "id": "b1ddd64f",
   "metadata": {},
   "outputs": [],
   "source": []
  },
  {
   "cell_type": "code",
   "execution_count": 116,
   "id": "b780d374",
   "metadata": {},
   "outputs": [
    {
     "data": {
      "text/plain": [
       "<selenium.webdriver.remote.webelement.WebElement (session=\"378766c7f27868cbb970f89dd2df239c\", element=\"c8ddedce-08a4-44e5-aa1f-ed3fa7e2b628\")>"
      ]
     },
     "execution_count": 116,
     "metadata": {},
     "output_type": "execute_result"
    }
   ],
   "source": [
    "search_laptop = driver.find_element_by_id('twotabsearchtextbox') \n",
    "search_laptop"
   ]
  },
  {
   "cell_type": "code",
   "execution_count": 117,
   "id": "7e23ae62",
   "metadata": {},
   "outputs": [],
   "source": [
    "search_laptop.send_keys(\"Laptop\")"
   ]
  },
  {
   "cell_type": "markdown",
   "id": "16043670",
   "metadata": {},
   "source": [
    "Entering Laptop in \"search field\" field"
   ]
  },
  {
   "cell_type": "code",
   "execution_count": null,
   "id": "0e625ecc",
   "metadata": {},
   "outputs": [],
   "source": []
  },
  {
   "cell_type": "code",
   "execution_count": 118,
   "id": "6163af43",
   "metadata": {},
   "outputs": [],
   "source": [
    "search_btn = driver.find_element_by_xpath(\"//div[@class='nav-search-submit nav-sprite']\")\n",
    "search_btn.click()"
   ]
  },
  {
   "cell_type": "markdown",
   "id": "1d3d3c49",
   "metadata": {},
   "source": [
    "Clicking the search button"
   ]
  },
  {
   "cell_type": "code",
   "execution_count": null,
   "id": "dc4d3994",
   "metadata": {},
   "outputs": [],
   "source": []
  },
  {
   "cell_type": "code",
   "execution_count": null,
   "id": "6b7de24c",
   "metadata": {},
   "outputs": [],
   "source": []
  },
  {
   "cell_type": "code",
   "execution_count": 119,
   "id": "cce25190",
   "metadata": {
    "collapsed": true
   },
   "outputs": [
    {
     "data": {
      "text/plain": [
       "[<selenium.webdriver.remote.webelement.WebElement (session=\"378766c7f27868cbb970f89dd2df239c\", element=\"cb231969-3766-44b6-b5ab-6b9fda91063e\")>,\n",
       " <selenium.webdriver.remote.webelement.WebElement (session=\"378766c7f27868cbb970f89dd2df239c\", element=\"87e48036-be46-45f2-bb6f-ffef6930ea42\")>,\n",
       " <selenium.webdriver.remote.webelement.WebElement (session=\"378766c7f27868cbb970f89dd2df239c\", element=\"7dc6ca6b-10b3-4365-9766-4f3dc29eaea6\")>,\n",
       " <selenium.webdriver.remote.webelement.WebElement (session=\"378766c7f27868cbb970f89dd2df239c\", element=\"a0f91895-acf8-4589-b75a-59e7953ff14a\")>,\n",
       " <selenium.webdriver.remote.webelement.WebElement (session=\"378766c7f27868cbb970f89dd2df239c\", element=\"80754985-9558-436d-bc90-591fd6d47393\")>,\n",
       " <selenium.webdriver.remote.webelement.WebElement (session=\"378766c7f27868cbb970f89dd2df239c\", element=\"71cfa3aa-12d5-4321-ab99-12199ac63ed1\")>,\n",
       " <selenium.webdriver.remote.webelement.WebElement (session=\"378766c7f27868cbb970f89dd2df239c\", element=\"fc218d8f-7d0e-40d1-b558-6b718e3ef663\")>,\n",
       " <selenium.webdriver.remote.webelement.WebElement (session=\"378766c7f27868cbb970f89dd2df239c\", element=\"c98c3ef1-bbc8-46f0-82a8-ebeb69bdd07e\")>,\n",
       " <selenium.webdriver.remote.webelement.WebElement (session=\"378766c7f27868cbb970f89dd2df239c\", element=\"063e6cf0-d579-4fdc-b22f-008881bcee1b\")>,\n",
       " <selenium.webdriver.remote.webelement.WebElement (session=\"378766c7f27868cbb970f89dd2df239c\", element=\"91e7a24d-687a-4988-be5f-99d286743578\")>,\n",
       " <selenium.webdriver.remote.webelement.WebElement (session=\"378766c7f27868cbb970f89dd2df239c\", element=\"65b26528-41bd-4bc6-b91e-f2a43961fb99\")>,\n",
       " <selenium.webdriver.remote.webelement.WebElement (session=\"378766c7f27868cbb970f89dd2df239c\", element=\"ab200cac-4f9f-4336-8c36-8370252da935\")>,\n",
       " <selenium.webdriver.remote.webelement.WebElement (session=\"378766c7f27868cbb970f89dd2df239c\", element=\"93e7787b-c4e4-4947-861e-05eef42754cc\")>,\n",
       " <selenium.webdriver.remote.webelement.WebElement (session=\"378766c7f27868cbb970f89dd2df239c\", element=\"5103eaa2-f662-46e7-ade6-92c48b9d68d8\")>,\n",
       " <selenium.webdriver.remote.webelement.WebElement (session=\"378766c7f27868cbb970f89dd2df239c\", element=\"63f753f1-8ec1-4f3f-adca-d05f7ad9fec1\")>,\n",
       " <selenium.webdriver.remote.webelement.WebElement (session=\"378766c7f27868cbb970f89dd2df239c\", element=\"2a41ef5d-4f1b-406a-8684-201e114cddf2\")>,\n",
       " <selenium.webdriver.remote.webelement.WebElement (session=\"378766c7f27868cbb970f89dd2df239c\", element=\"01c69baa-e962-4da5-961b-5fa1c5ce2052\")>,\n",
       " <selenium.webdriver.remote.webelement.WebElement (session=\"378766c7f27868cbb970f89dd2df239c\", element=\"ffdf442c-0bef-4a63-997f-7999af9a016c\")>,\n",
       " <selenium.webdriver.remote.webelement.WebElement (session=\"378766c7f27868cbb970f89dd2df239c\", element=\"7709ce67-1c45-448f-9a7b-c94900c19035\")>,\n",
       " <selenium.webdriver.remote.webelement.WebElement (session=\"378766c7f27868cbb970f89dd2df239c\", element=\"4c47bc64-2419-4bb6-9733-f9eb74854920\")>,\n",
       " <selenium.webdriver.remote.webelement.WebElement (session=\"378766c7f27868cbb970f89dd2df239c\", element=\"7cd1c15c-897d-4307-a988-90aba083a814\")>,\n",
       " <selenium.webdriver.remote.webelement.WebElement (session=\"378766c7f27868cbb970f89dd2df239c\", element=\"04b7a835-d295-4b54-866e-e846cefbd074\")>,\n",
       " <selenium.webdriver.remote.webelement.WebElement (session=\"378766c7f27868cbb970f89dd2df239c\", element=\"6105ce29-a5be-4c59-bdd0-16c8c8b2459f\")>,\n",
       " <selenium.webdriver.remote.webelement.WebElement (session=\"378766c7f27868cbb970f89dd2df239c\", element=\"e1aeb3e3-3fd7-46d8-b13c-9301e5fbcc81\")>,\n",
       " <selenium.webdriver.remote.webelement.WebElement (session=\"378766c7f27868cbb970f89dd2df239c\", element=\"d7e609bb-8ea0-4c36-a446-f72ffd03d7f0\")>,\n",
       " <selenium.webdriver.remote.webelement.WebElement (session=\"378766c7f27868cbb970f89dd2df239c\", element=\"dec0e10b-aba9-4742-8b76-654c61b90f81\")>,\n",
       " <selenium.webdriver.remote.webelement.WebElement (session=\"378766c7f27868cbb970f89dd2df239c\", element=\"5c5e32b1-e3b0-4ede-8e92-0f54d3cfe9fd\")>,\n",
       " <selenium.webdriver.remote.webelement.WebElement (session=\"378766c7f27868cbb970f89dd2df239c\", element=\"b3a869dd-a87a-43da-91cf-5c7eef5174e7\")>,\n",
       " <selenium.webdriver.remote.webelement.WebElement (session=\"378766c7f27868cbb970f89dd2df239c\", element=\"010ae0d7-61ff-4132-b106-e1f2b1f63c3b\")>,\n",
       " <selenium.webdriver.remote.webelement.WebElement (session=\"378766c7f27868cbb970f89dd2df239c\", element=\"b65ab8cd-4637-4f3a-87e5-eddfc85327c1\")>]"
      ]
     },
     "execution_count": 119,
     "metadata": {},
     "output_type": "execute_result"
    }
   ],
   "source": [
    "titles_tags=driver.find_elements_by_xpath(\"//span[@class='a-size-medium a-color-base a-text-normal']\")\n",
    "titles_tags"
   ]
  },
  {
   "cell_type": "code",
   "execution_count": 120,
   "id": "17408aeb",
   "metadata": {
    "collapsed": true
   },
   "outputs": [
    {
     "data": {
      "text/plain": [
       "['Mi Notebook Horizon Edition 14 Intel Core i5-10210U 10th Gen 14-inch (35.56 cms) Thin and Light Laptop(8GB/512GB SSD/Windows 10/Nvidia MX350 2GB Graphics/Grey/1.35Kg), XMA1904-AR+Webcam',\n",
       " 'Lenovo Yoga Slim 7 10th Gen Intel Core i7 14 inch Full HD IPS Thin and Light Laptop (8GB/512GB SSD/Windows 10/MS Office 2019/NVIDIA MX350 2GB GDDR5 Graphics/Slate Grey/1.55Kg), 82A1009KIN',\n",
       " 'Mi Notebook Horizon Edition 14 Intel Core i5-10210U 10th Gen 14-inch (35.56 cms) Thin and Light Laptop(8GB/512GB SSD/Windows 10/Nvidia MX350 2GB Graphics/Grey/1.35Kg), XMA1904-AR+Webcam',\n",
       " 'HP Pavilion (2021) Thin & Light 11th Gen Core i7 Laptop, 16 GB RAM, 1TB SSD, Iris Xe Graphics, 14\" (35.56cms) FHD Screen, Windows 10, MS Office, Backlit Keyboard (14-dv0058TU)',\n",
       " 'HP Pavilion x360 (2021) 14\" (35.56cms) FHD Touchscreen Laptop, 11th Gen Core i7, 8 GB RAM, 512GB SSD, 2-in-1 Convertible, Windows 10, MS Office, Finger Print Reader (14-dw1040TU)',\n",
       " 'HP Pavilion Gaming 10th Gen Intel Core i7 Processor 15.6-inch FHD Gaming Laptop (16GB/512GB SSD + 32GB Intel Optane/Windows 10/NVIDIA 1650Ti 4GB/Shadow Black), 15-dk1509TX',\n",
       " 'Asus ZenBook UX330 UX330UA-FB088T 13.3-inch Laptop (Core i7-7500U/8GB/512GB/Windows 10/Integrated Graphics)',\n",
       " 'Lenovo IdeaPad Gaming 3 10th Gen Intel Core i7 15.6-inch FHD IPS Gaming Laptop (8GB/1TB HDD + 256 GB SSD/Windows 10/NVIDIA GTX 1650 4GB GDDR6/with M100 RGB Gaming Mouse/Onyx Black/2.2Kg), 81Y400VAIN',\n",
       " 'ASUS ROG Zephyrus Duo 15, 15.6\" 4K UHD, Intel Core i7-10875H 10th Gen, RTX 2080 Super Max-Q 8GB Graphics, Gaming Laptop (32GB/2TB RAID 0 SSD/Windows 10/MS Office/Gray/2.48 Kg) GX550LXS-HC145TS',\n",
       " 'Life Digital Laptop 15.6-inch (39.62 cms) (Intel Core i7, 4GB RAM, 256GB SSD, Windows 10), ZED AIR CX7']"
      ]
     },
     "execution_count": 120,
     "metadata": {},
     "output_type": "execute_result"
    }
   ],
   "source": [
    "titles=[]\n",
    "for i in titles_tags[0:10]:\n",
    "        titles.append(i.text) \n",
    "titles"
   ]
  },
  {
   "cell_type": "markdown",
   "id": "b5a1c865",
   "metadata": {},
   "source": [
    "Extracting Laptop title"
   ]
  },
  {
   "cell_type": "code",
   "execution_count": null,
   "id": "6961b318",
   "metadata": {},
   "outputs": [],
   "source": []
  },
  {
   "cell_type": "code",
   "execution_count": null,
   "id": "befa866b",
   "metadata": {},
   "outputs": [],
   "source": []
  },
  {
   "cell_type": "code",
   "execution_count": null,
   "id": "c1ffae34",
   "metadata": {},
   "outputs": [],
   "source": []
  },
  {
   "cell_type": "code",
   "execution_count": null,
   "id": "173548c3",
   "metadata": {},
   "outputs": [],
   "source": []
  },
  {
   "cell_type": "code",
   "execution_count": 121,
   "id": "54cecbb4",
   "metadata": {
    "collapsed": true
   },
   "outputs": [
    {
     "data": {
      "text/plain": [
       "[<selenium.webdriver.remote.webelement.WebElement (session=\"378766c7f27868cbb970f89dd2df239c\", element=\"a56a9b54-fa74-43ca-be9d-af46d28f7de3\")>,\n",
       " <selenium.webdriver.remote.webelement.WebElement (session=\"378766c7f27868cbb970f89dd2df239c\", element=\"d3f107df-fbef-4be3-b9e2-572280135af9\")>,\n",
       " <selenium.webdriver.remote.webelement.WebElement (session=\"378766c7f27868cbb970f89dd2df239c\", element=\"ba9ee537-2b27-4b4b-a6bf-39760b54c9bf\")>,\n",
       " <selenium.webdriver.remote.webelement.WebElement (session=\"378766c7f27868cbb970f89dd2df239c\", element=\"f992d9b3-c379-4058-b7bd-c8d05820754f\")>,\n",
       " <selenium.webdriver.remote.webelement.WebElement (session=\"378766c7f27868cbb970f89dd2df239c\", element=\"e3fdb896-34ca-4af0-8369-37ab9c257f99\")>,\n",
       " <selenium.webdriver.remote.webelement.WebElement (session=\"378766c7f27868cbb970f89dd2df239c\", element=\"0ffb3fec-b694-41f6-9e6d-32047cfe5efd\")>,\n",
       " <selenium.webdriver.remote.webelement.WebElement (session=\"378766c7f27868cbb970f89dd2df239c\", element=\"f40ac971-7934-4797-9cd1-f4e414256aa0\")>,\n",
       " <selenium.webdriver.remote.webelement.WebElement (session=\"378766c7f27868cbb970f89dd2df239c\", element=\"656d51c3-d01a-4304-a1ea-45c639f21aaa\")>,\n",
       " <selenium.webdriver.remote.webelement.WebElement (session=\"378766c7f27868cbb970f89dd2df239c\", element=\"c656aff3-cbee-43d6-9fb4-1bfb0a571d03\")>,\n",
       " <selenium.webdriver.remote.webelement.WebElement (session=\"378766c7f27868cbb970f89dd2df239c\", element=\"507ff365-dd98-4ccb-8fb9-0b0ab301607e\")>,\n",
       " <selenium.webdriver.remote.webelement.WebElement (session=\"378766c7f27868cbb970f89dd2df239c\", element=\"a27fc8aa-4523-493a-bf06-9b4b6f6dfc85\")>,\n",
       " <selenium.webdriver.remote.webelement.WebElement (session=\"378766c7f27868cbb970f89dd2df239c\", element=\"97c9a44f-d838-4d4f-abbf-55e7aa85346e\")>,\n",
       " <selenium.webdriver.remote.webelement.WebElement (session=\"378766c7f27868cbb970f89dd2df239c\", element=\"c0794e96-3626-4d55-8a65-c32bac4d217d\")>,\n",
       " <selenium.webdriver.remote.webelement.WebElement (session=\"378766c7f27868cbb970f89dd2df239c\", element=\"290629a9-9db9-471e-9a88-5ddb0e087a2b\")>,\n",
       " <selenium.webdriver.remote.webelement.WebElement (session=\"378766c7f27868cbb970f89dd2df239c\", element=\"3f5587be-2ead-49cb-826a-f6f9c01a161d\")>,\n",
       " <selenium.webdriver.remote.webelement.WebElement (session=\"378766c7f27868cbb970f89dd2df239c\", element=\"21e4db7e-c385-4992-8faf-d1642747b972\")>,\n",
       " <selenium.webdriver.remote.webelement.WebElement (session=\"378766c7f27868cbb970f89dd2df239c\", element=\"fae4c475-eba5-408e-9501-5afc00adb418\")>,\n",
       " <selenium.webdriver.remote.webelement.WebElement (session=\"378766c7f27868cbb970f89dd2df239c\", element=\"514774f2-d931-45da-afe2-3adf4c9022d2\")>,\n",
       " <selenium.webdriver.remote.webelement.WebElement (session=\"378766c7f27868cbb970f89dd2df239c\", element=\"baf13cf6-0d32-4cc2-84d1-258ce305f831\")>,\n",
       " <selenium.webdriver.remote.webelement.WebElement (session=\"378766c7f27868cbb970f89dd2df239c\", element=\"013a6704-f8e2-4da6-9055-a5f4c0f1b073\")>,\n",
       " <selenium.webdriver.remote.webelement.WebElement (session=\"378766c7f27868cbb970f89dd2df239c\", element=\"ff19d0a7-1cdf-47c8-ba98-c3aa1c3a443c\")>,\n",
       " <selenium.webdriver.remote.webelement.WebElement (session=\"378766c7f27868cbb970f89dd2df239c\", element=\"05d2a5b9-8462-47e9-a555-319d44ffa3a4\")>,\n",
       " <selenium.webdriver.remote.webelement.WebElement (session=\"378766c7f27868cbb970f89dd2df239c\", element=\"6440005c-9109-4c16-97cb-09afa5487f6d\")>,\n",
       " <selenium.webdriver.remote.webelement.WebElement (session=\"378766c7f27868cbb970f89dd2df239c\", element=\"5497b0dc-548e-4bc6-ac64-2ab0952fbb8c\")>,\n",
       " <selenium.webdriver.remote.webelement.WebElement (session=\"378766c7f27868cbb970f89dd2df239c\", element=\"9047adfc-8fee-4d40-8a28-b95dd584f63f\")>,\n",
       " <selenium.webdriver.remote.webelement.WebElement (session=\"378766c7f27868cbb970f89dd2df239c\", element=\"cffb9937-c114-4522-be09-affece699252\")>,\n",
       " <selenium.webdriver.remote.webelement.WebElement (session=\"378766c7f27868cbb970f89dd2df239c\", element=\"b779f754-27a7-48b1-b370-a165bf5c5af8\")>,\n",
       " <selenium.webdriver.remote.webelement.WebElement (session=\"378766c7f27868cbb970f89dd2df239c\", element=\"2054ebf7-d7b9-4155-ae7d-1f903a782a1a\")>,\n",
       " <selenium.webdriver.remote.webelement.WebElement (session=\"378766c7f27868cbb970f89dd2df239c\", element=\"772f81bd-d6ee-416c-bb94-61caee50f4b4\")>,\n",
       " <selenium.webdriver.remote.webelement.WebElement (session=\"378766c7f27868cbb970f89dd2df239c\", element=\"b45afe1d-d7db-4b13-b6eb-fa87796e3fe2\")>,\n",
       " <selenium.webdriver.remote.webelement.WebElement (session=\"378766c7f27868cbb970f89dd2df239c\", element=\"680ad162-c7f0-49e2-8f8f-ee08a4b30565\")>,\n",
       " <selenium.webdriver.remote.webelement.WebElement (session=\"378766c7f27868cbb970f89dd2df239c\", element=\"644460de-dc2c-45e2-9e15-86364e191136\")>,\n",
       " <selenium.webdriver.remote.webelement.WebElement (session=\"378766c7f27868cbb970f89dd2df239c\", element=\"2460b248-b30d-4f8f-b52e-82fe4ef2398f\")>,\n",
       " <selenium.webdriver.remote.webelement.WebElement (session=\"378766c7f27868cbb970f89dd2df239c\", element=\"4cc11c0f-aaf2-43b9-9afb-46ed50e7f73a\")>,\n",
       " <selenium.webdriver.remote.webelement.WebElement (session=\"378766c7f27868cbb970f89dd2df239c\", element=\"1e177c2f-4232-4e9c-b378-cbafc04e54a0\")>,\n",
       " <selenium.webdriver.remote.webelement.WebElement (session=\"378766c7f27868cbb970f89dd2df239c\", element=\"80c7f6b5-0e9d-4d4e-ae89-23d91089db01\")>,\n",
       " <selenium.webdriver.remote.webelement.WebElement (session=\"378766c7f27868cbb970f89dd2df239c\", element=\"38d39c04-165a-42e1-bf4d-d5607154edd7\")>,\n",
       " <selenium.webdriver.remote.webelement.WebElement (session=\"378766c7f27868cbb970f89dd2df239c\", element=\"e40e7454-2edf-437e-9d55-d070cafb5e86\")>,\n",
       " <selenium.webdriver.remote.webelement.WebElement (session=\"378766c7f27868cbb970f89dd2df239c\", element=\"d1c0527b-8b33-4d54-aea4-462a14da7b9d\")>,\n",
       " <selenium.webdriver.remote.webelement.WebElement (session=\"378766c7f27868cbb970f89dd2df239c\", element=\"3f5dc582-a655-4b54-8c46-c82a7ade25fb\")>,\n",
       " <selenium.webdriver.remote.webelement.WebElement (session=\"378766c7f27868cbb970f89dd2df239c\", element=\"0a4cd90d-129c-4826-bb8f-1445e3e151ba\")>,\n",
       " <selenium.webdriver.remote.webelement.WebElement (session=\"378766c7f27868cbb970f89dd2df239c\", element=\"3689e051-f2d0-42ec-83a2-72094225dadc\")>,\n",
       " <selenium.webdriver.remote.webelement.WebElement (session=\"378766c7f27868cbb970f89dd2df239c\", element=\"a7e6e1ec-197f-4822-88d5-ad335a6ef47e\")>,\n",
       " <selenium.webdriver.remote.webelement.WebElement (session=\"378766c7f27868cbb970f89dd2df239c\", element=\"bfac7909-4b6e-4a99-8ce7-ad1f3acadf5d\")>,\n",
       " <selenium.webdriver.remote.webelement.WebElement (session=\"378766c7f27868cbb970f89dd2df239c\", element=\"c8a3f4e2-05ee-4757-83ed-19033c7aeef8\")>,\n",
       " <selenium.webdriver.remote.webelement.WebElement (session=\"378766c7f27868cbb970f89dd2df239c\", element=\"acc3d9c4-2cab-41d0-b4e6-a04250c3a51d\")>,\n",
       " <selenium.webdriver.remote.webelement.WebElement (session=\"378766c7f27868cbb970f89dd2df239c\", element=\"6f6d25b1-80d8-481d-bf55-44eacd39a2f6\")>,\n",
       " <selenium.webdriver.remote.webelement.WebElement (session=\"378766c7f27868cbb970f89dd2df239c\", element=\"cf0c18a2-9236-4767-aa3a-4ffc0a9a87bf\")>,\n",
       " <selenium.webdriver.remote.webelement.WebElement (session=\"378766c7f27868cbb970f89dd2df239c\", element=\"b5f702d6-f109-4b1e-be65-c655cbeb9440\")>,\n",
       " <selenium.webdriver.remote.webelement.WebElement (session=\"378766c7f27868cbb970f89dd2df239c\", element=\"377c4450-7276-44cb-bdab-d0bbb14f1669\")>,\n",
       " <selenium.webdriver.remote.webelement.WebElement (session=\"378766c7f27868cbb970f89dd2df239c\", element=\"d7520a6d-9b34-4ca0-973c-da788fa489c6\")>,\n",
       " <selenium.webdriver.remote.webelement.WebElement (session=\"378766c7f27868cbb970f89dd2df239c\", element=\"0b5ecfd1-cf34-4c62-8a2a-8316a65ec7d1\")>,\n",
       " <selenium.webdriver.remote.webelement.WebElement (session=\"378766c7f27868cbb970f89dd2df239c\", element=\"5bf36d06-27af-4bb7-8f66-78032e77c1c7\")>,\n",
       " <selenium.webdriver.remote.webelement.WebElement (session=\"378766c7f27868cbb970f89dd2df239c\", element=\"fc3b5e28-797f-4555-9f5c-c320975e11d5\")>,\n",
       " <selenium.webdriver.remote.webelement.WebElement (session=\"378766c7f27868cbb970f89dd2df239c\", element=\"30148698-c204-45f8-887f-e7bd99c70b1d\")>,\n",
       " <selenium.webdriver.remote.webelement.WebElement (session=\"378766c7f27868cbb970f89dd2df239c\", element=\"e5b95505-b0ee-4d40-a0cb-72bac1f9f561\")>,\n",
       " <selenium.webdriver.remote.webelement.WebElement (session=\"378766c7f27868cbb970f89dd2df239c\", element=\"9f0dab04-f771-4c92-a23f-c2d531db3af6\")>,\n",
       " <selenium.webdriver.remote.webelement.WebElement (session=\"378766c7f27868cbb970f89dd2df239c\", element=\"ae5014aa-bb4d-43c0-a32e-f5975c12e357\")>,\n",
       " <selenium.webdriver.remote.webelement.WebElement (session=\"378766c7f27868cbb970f89dd2df239c\", element=\"daebbffe-d7d6-4863-98b0-4dfcbc786b16\")>,\n",
       " <selenium.webdriver.remote.webelement.WebElement (session=\"378766c7f27868cbb970f89dd2df239c\", element=\"9b70b1cf-825b-40a5-909b-6f135d3980a6\")>,\n",
       " <selenium.webdriver.remote.webelement.WebElement (session=\"378766c7f27868cbb970f89dd2df239c\", element=\"fa73f9fc-95bd-465b-b57f-fea8bb11241e\")>,\n",
       " <selenium.webdriver.remote.webelement.WebElement (session=\"378766c7f27868cbb970f89dd2df239c\", element=\"33aabc7a-c7ed-4df8-9a7f-ab64d9578012\")>,\n",
       " <selenium.webdriver.remote.webelement.WebElement (session=\"378766c7f27868cbb970f89dd2df239c\", element=\"3b443831-e227-480e-be50-7954a267adc9\")>,\n",
       " <selenium.webdriver.remote.webelement.WebElement (session=\"378766c7f27868cbb970f89dd2df239c\", element=\"5e3045bd-302f-48ba-ada5-c2401981e474\")>,\n",
       " <selenium.webdriver.remote.webelement.WebElement (session=\"378766c7f27868cbb970f89dd2df239c\", element=\"b5d8bdf2-b37d-41fd-9356-642d42f0fa7d\")>,\n",
       " <selenium.webdriver.remote.webelement.WebElement (session=\"378766c7f27868cbb970f89dd2df239c\", element=\"037bea7c-01d7-4563-8074-cf2de7108674\")>,\n",
       " <selenium.webdriver.remote.webelement.WebElement (session=\"378766c7f27868cbb970f89dd2df239c\", element=\"763ab0b1-f435-4dcc-998a-2c86c7b5de6c\")>,\n",
       " <selenium.webdriver.remote.webelement.WebElement (session=\"378766c7f27868cbb970f89dd2df239c\", element=\"83a7eb72-4d80-4b18-b6e5-10ed61b89403\")>,\n",
       " <selenium.webdriver.remote.webelement.WebElement (session=\"378766c7f27868cbb970f89dd2df239c\", element=\"55810566-6f02-47ca-88b5-6a21e3ccc3fb\")>,\n",
       " <selenium.webdriver.remote.webelement.WebElement (session=\"378766c7f27868cbb970f89dd2df239c\", element=\"50ef00ac-4507-41f4-823c-e8f2cb8ac18f\")>,\n",
       " <selenium.webdriver.remote.webelement.WebElement (session=\"378766c7f27868cbb970f89dd2df239c\", element=\"efce38a5-66b1-4c80-8c4a-93fa1d30eec1\")>,\n",
       " <selenium.webdriver.remote.webelement.WebElement (session=\"378766c7f27868cbb970f89dd2df239c\", element=\"c695264f-c3d0-4f30-84b6-2645ecb81ead\")>,\n",
       " <selenium.webdriver.remote.webelement.WebElement (session=\"378766c7f27868cbb970f89dd2df239c\", element=\"2e024b09-6acf-462f-8ad2-692e2031e438\")>,\n",
       " <selenium.webdriver.remote.webelement.WebElement (session=\"378766c7f27868cbb970f89dd2df239c\", element=\"101da9e9-188b-47c8-b386-7ee9f7cabda3\")>,\n",
       " <selenium.webdriver.remote.webelement.WebElement (session=\"378766c7f27868cbb970f89dd2df239c\", element=\"28428b1e-c927-4d2d-bd85-78b01616912b\")>,\n",
       " <selenium.webdriver.remote.webelement.WebElement (session=\"378766c7f27868cbb970f89dd2df239c\", element=\"086b6d94-48c5-4aa1-b4b5-8091cd44c7ec\")>,\n",
       " <selenium.webdriver.remote.webelement.WebElement (session=\"378766c7f27868cbb970f89dd2df239c\", element=\"96e4a171-e840-4c09-a28d-41b0b84ab308\")>,\n",
       " <selenium.webdriver.remote.webelement.WebElement (session=\"378766c7f27868cbb970f89dd2df239c\", element=\"8c145f6e-4543-44a6-9568-74c211979995\")>,\n",
       " <selenium.webdriver.remote.webelement.WebElement (session=\"378766c7f27868cbb970f89dd2df239c\", element=\"698d0966-5530-41f0-b62e-0012cdb3f187\")>,\n",
       " <selenium.webdriver.remote.webelement.WebElement (session=\"378766c7f27868cbb970f89dd2df239c\", element=\"cc6be622-553e-4733-9546-9078db70264d\")>,\n",
       " <selenium.webdriver.remote.webelement.WebElement (session=\"378766c7f27868cbb970f89dd2df239c\", element=\"b17a4044-57a9-4962-a1dd-96acfd3414ec\")>,\n",
       " <selenium.webdriver.remote.webelement.WebElement (session=\"378766c7f27868cbb970f89dd2df239c\", element=\"f5ac8660-3a31-4055-a3b3-c76b61360a7f\")>,\n",
       " <selenium.webdriver.remote.webelement.WebElement (session=\"378766c7f27868cbb970f89dd2df239c\", element=\"7cfcbbc0-4297-470f-81d0-a5500188fb44\")>,\n",
       " <selenium.webdriver.remote.webelement.WebElement (session=\"378766c7f27868cbb970f89dd2df239c\", element=\"56ac9aa2-3bfd-4136-90f9-7236fc56150e\")>,\n",
       " <selenium.webdriver.remote.webelement.WebElement (session=\"378766c7f27868cbb970f89dd2df239c\", element=\"0ba8b313-6741-4b4b-8e1a-7bd4208b8682\")>,\n",
       " <selenium.webdriver.remote.webelement.WebElement (session=\"378766c7f27868cbb970f89dd2df239c\", element=\"f54cb56d-440d-4875-b354-355dd43a656c\")>,\n",
       " <selenium.webdriver.remote.webelement.WebElement (session=\"378766c7f27868cbb970f89dd2df239c\", element=\"27340d71-b42a-418e-90f0-6398b5c2fd29\")>,\n",
       " <selenium.webdriver.remote.webelement.WebElement (session=\"378766c7f27868cbb970f89dd2df239c\", element=\"ab0903dc-d3b7-455f-bb9f-423adac0ee42\")>,\n",
       " <selenium.webdriver.remote.webelement.WebElement (session=\"378766c7f27868cbb970f89dd2df239c\", element=\"a719b5e7-3e35-4408-a9ca-0979cecfab04\")>,\n",
       " <selenium.webdriver.remote.webelement.WebElement (session=\"378766c7f27868cbb970f89dd2df239c\", element=\"516579d2-52d6-42f0-a1fe-9f515350756a\")>,\n",
       " <selenium.webdriver.remote.webelement.WebElement (session=\"378766c7f27868cbb970f89dd2df239c\", element=\"6aacb4d2-ee23-4b9e-839d-27ab5b818760\")>,\n",
       " <selenium.webdriver.remote.webelement.WebElement (session=\"378766c7f27868cbb970f89dd2df239c\", element=\"0818f67e-a899-4c08-9652-7f775237858a\")>]"
      ]
     },
     "execution_count": 121,
     "metadata": {},
     "output_type": "execute_result"
    }
   ],
   "source": [
    "ratings_tags=driver.find_elements_by_xpath('//div[@class=\"a-row a-size-small\"]//span[1]')\n",
    "ratings_tags\n"
   ]
  },
  {
   "cell_type": "code",
   "execution_count": 122,
   "id": "b7efce32",
   "metadata": {
    "collapsed": true
   },
   "outputs": [
    {
     "data": {
      "text/plain": [
       "['4.4 out of 5 stars',\n",
       " None,\n",
       " None,\n",
       " None,\n",
       " '3.2 out of 5 stars',\n",
       " None,\n",
       " None,\n",
       " None,\n",
       " '4.4 out of 5 stars',\n",
       " None,\n",
       " None,\n",
       " None,\n",
       " '4.5 out of 5 stars',\n",
       " None,\n",
       " None,\n",
       " None,\n",
       " '3.8 out of 5 stars',\n",
       " None,\n",
       " None,\n",
       " None,\n",
       " '4.1 out of 5 stars',\n",
       " None,\n",
       " None,\n",
       " None,\n",
       " '2.3 out of 5 stars',\n",
       " None,\n",
       " None,\n",
       " None,\n",
       " '4.3 out of 5 stars',\n",
       " None,\n",
       " None,\n",
       " None,\n",
       " '3.8 out of 5 stars',\n",
       " None,\n",
       " None,\n",
       " None,\n",
       " '3.1 out of 5 stars',\n",
       " None,\n",
       " None,\n",
       " None,\n",
       " '4.2 out of 5 stars',\n",
       " None,\n",
       " None,\n",
       " None,\n",
       " '4.2 out of 5 stars',\n",
       " None,\n",
       " None,\n",
       " None,\n",
       " '5.0 out of 5 stars',\n",
       " None,\n",
       " None,\n",
       " None,\n",
       " '5.0 out of 5 stars',\n",
       " None,\n",
       " None,\n",
       " None,\n",
       " '4.2 out of 5 stars',\n",
       " None,\n",
       " None,\n",
       " None,\n",
       " '3.0 out of 5 stars',\n",
       " None,\n",
       " None,\n",
       " None,\n",
       " '3.8 out of 5 stars',\n",
       " None,\n",
       " None,\n",
       " None,\n",
       " '2.7 out of 5 stars',\n",
       " None,\n",
       " None,\n",
       " None,\n",
       " '2.8 out of 5 stars',\n",
       " None,\n",
       " None,\n",
       " None,\n",
       " '4.7 out of 5 stars',\n",
       " None,\n",
       " None,\n",
       " None,\n",
       " '4.3 out of 5 stars',\n",
       " None,\n",
       " None,\n",
       " None,\n",
       " '4.6 out of 5 stars',\n",
       " None,\n",
       " None,\n",
       " None,\n",
       " '3.3 out of 5 stars',\n",
       " None,\n",
       " None,\n",
       " None]"
      ]
     },
     "execution_count": 122,
     "metadata": {},
     "output_type": "execute_result"
    }
   ],
   "source": [
    "ratings=[]\n",
    "for i in ratings_tags:\n",
    "    ratings.append(i.get_attribute('aria-label'))\n",
    "ratings"
   ]
  },
  {
   "cell_type": "code",
   "execution_count": 123,
   "id": "9d6edcbe",
   "metadata": {
    "collapsed": true
   },
   "outputs": [
    {
     "data": {
      "text/plain": [
       "['4.4 out of 5 stars',\n",
       " '3.2 out of 5 stars',\n",
       " '4.4 out of 5 stars',\n",
       " '4.5 out of 5 stars',\n",
       " '3.8 out of 5 stars',\n",
       " '4.1 out of 5 stars',\n",
       " '2.3 out of 5 stars',\n",
       " '4.3 out of 5 stars',\n",
       " '3.8 out of 5 stars',\n",
       " '3.1 out of 5 stars',\n",
       " '4.2 out of 5 stars',\n",
       " '4.2 out of 5 stars',\n",
       " '5.0 out of 5 stars',\n",
       " '5.0 out of 5 stars',\n",
       " '4.2 out of 5 stars',\n",
       " '3.0 out of 5 stars',\n",
       " '3.8 out of 5 stars',\n",
       " '2.7 out of 5 stars',\n",
       " '2.8 out of 5 stars',\n",
       " '4.7 out of 5 stars',\n",
       " '4.3 out of 5 stars',\n",
       " '4.6 out of 5 stars',\n",
       " '3.3 out of 5 stars']"
      ]
     },
     "execution_count": 123,
     "metadata": {},
     "output_type": "execute_result"
    }
   ],
   "source": [
    "rating=[]\n",
    "for i in range(0,len(ratings)):\n",
    "    if i%4 == 0:           \n",
    "        rating.append(ratings[i])\n",
    "rating"
   ]
  },
  {
   "cell_type": "code",
   "execution_count": 124,
   "id": "10121005",
   "metadata": {},
   "outputs": [],
   "source": [
    "rating=rating[0:10]"
   ]
  },
  {
   "cell_type": "code",
   "execution_count": 125,
   "id": "bd0f3f97",
   "metadata": {
    "collapsed": true
   },
   "outputs": [
    {
     "data": {
      "text/plain": [
       "['4.4 out of 5 stars',\n",
       " '3.2 out of 5 stars',\n",
       " '4.4 out of 5 stars',\n",
       " '4.5 out of 5 stars',\n",
       " '3.8 out of 5 stars',\n",
       " '4.1 out of 5 stars',\n",
       " '2.3 out of 5 stars',\n",
       " '4.3 out of 5 stars',\n",
       " '3.8 out of 5 stars',\n",
       " '3.1 out of 5 stars']"
      ]
     },
     "execution_count": 125,
     "metadata": {},
     "output_type": "execute_result"
    }
   ],
   "source": [
    "rating"
   ]
  },
  {
   "cell_type": "markdown",
   "id": "9e39c6a4",
   "metadata": {},
   "source": [
    "Extracting rating "
   ]
  },
  {
   "cell_type": "code",
   "execution_count": null,
   "id": "a0fc269a",
   "metadata": {},
   "outputs": [],
   "source": []
  },
  {
   "cell_type": "code",
   "execution_count": null,
   "id": "9a51cb00",
   "metadata": {},
   "outputs": [],
   "source": []
  },
  {
   "cell_type": "code",
   "execution_count": null,
   "id": "e387fefe",
   "metadata": {},
   "outputs": [],
   "source": []
  },
  {
   "cell_type": "code",
   "execution_count": 126,
   "id": "be47d8cf",
   "metadata": {
    "collapsed": true
   },
   "outputs": [
    {
     "data": {
      "text/plain": [
       "[<selenium.webdriver.remote.webelement.WebElement (session=\"378766c7f27868cbb970f89dd2df239c\", element=\"611aa6f3-0bc7-4336-999c-a4cba7305552\")>,\n",
       " <selenium.webdriver.remote.webelement.WebElement (session=\"378766c7f27868cbb970f89dd2df239c\", element=\"0aa7aede-800b-4a65-8976-beb0eb739d04\")>,\n",
       " <selenium.webdriver.remote.webelement.WebElement (session=\"378766c7f27868cbb970f89dd2df239c\", element=\"1963b0d2-c221-456f-bf7d-0859d8f7d787\")>,\n",
       " <selenium.webdriver.remote.webelement.WebElement (session=\"378766c7f27868cbb970f89dd2df239c\", element=\"1863f01c-6c13-417f-beb8-e4a13bee99b4\")>,\n",
       " <selenium.webdriver.remote.webelement.WebElement (session=\"378766c7f27868cbb970f89dd2df239c\", element=\"40c0bbf2-2bab-4907-b1ea-65db767aec72\")>,\n",
       " <selenium.webdriver.remote.webelement.WebElement (session=\"378766c7f27868cbb970f89dd2df239c\", element=\"419d61eb-b12e-4507-a3f5-7681548dd87e\")>,\n",
       " <selenium.webdriver.remote.webelement.WebElement (session=\"378766c7f27868cbb970f89dd2df239c\", element=\"680f9160-55f0-461a-b403-bcfbbf8effaf\")>,\n",
       " <selenium.webdriver.remote.webelement.WebElement (session=\"378766c7f27868cbb970f89dd2df239c\", element=\"aa036c02-294c-4ca3-82f4-c5082b6d3bf3\")>,\n",
       " <selenium.webdriver.remote.webelement.WebElement (session=\"378766c7f27868cbb970f89dd2df239c\", element=\"9778379b-7913-4ed9-a6c3-2d5f24807476\")>,\n",
       " <selenium.webdriver.remote.webelement.WebElement (session=\"378766c7f27868cbb970f89dd2df239c\", element=\"5040763f-674d-4cfe-a01b-361cf93ecadf\")>,\n",
       " <selenium.webdriver.remote.webelement.WebElement (session=\"378766c7f27868cbb970f89dd2df239c\", element=\"6eb48a29-4a06-4781-8857-c102b33f97c6\")>,\n",
       " <selenium.webdriver.remote.webelement.WebElement (session=\"378766c7f27868cbb970f89dd2df239c\", element=\"84de81ae-b54d-4dd0-8422-c36adb1b8327\")>,\n",
       " <selenium.webdriver.remote.webelement.WebElement (session=\"378766c7f27868cbb970f89dd2df239c\", element=\"84b22fba-1c4c-48e6-a73e-3d1dcd4770bd\")>,\n",
       " <selenium.webdriver.remote.webelement.WebElement (session=\"378766c7f27868cbb970f89dd2df239c\", element=\"c7f77d13-9080-489f-9d75-b0ae436959ff\")>,\n",
       " <selenium.webdriver.remote.webelement.WebElement (session=\"378766c7f27868cbb970f89dd2df239c\", element=\"a1c77d13-18f9-49f9-8a7e-5627a14d4008\")>,\n",
       " <selenium.webdriver.remote.webelement.WebElement (session=\"378766c7f27868cbb970f89dd2df239c\", element=\"35d7c619-9834-4508-802f-12f97732a83b\")>,\n",
       " <selenium.webdriver.remote.webelement.WebElement (session=\"378766c7f27868cbb970f89dd2df239c\", element=\"277eb2b2-a9b8-4b56-b1c3-c62aca19965b\")>,\n",
       " <selenium.webdriver.remote.webelement.WebElement (session=\"378766c7f27868cbb970f89dd2df239c\", element=\"14011648-9246-47a5-a0ad-6c668d29fdcf\")>,\n",
       " <selenium.webdriver.remote.webelement.WebElement (session=\"378766c7f27868cbb970f89dd2df239c\", element=\"586fd979-4197-485a-ba46-8b744d30c142\")>,\n",
       " <selenium.webdriver.remote.webelement.WebElement (session=\"378766c7f27868cbb970f89dd2df239c\", element=\"c4699f8a-c136-4090-8cb4-4596fd4ee0b7\")>,\n",
       " <selenium.webdriver.remote.webelement.WebElement (session=\"378766c7f27868cbb970f89dd2df239c\", element=\"0f641673-c83b-4d4d-b4e5-9291fd21c5dd\")>,\n",
       " <selenium.webdriver.remote.webelement.WebElement (session=\"378766c7f27868cbb970f89dd2df239c\", element=\"48ddc57a-91a5-459a-9db3-57f4793c3f24\")>,\n",
       " <selenium.webdriver.remote.webelement.WebElement (session=\"378766c7f27868cbb970f89dd2df239c\", element=\"41686efd-4c10-4d74-b0cf-1bbe96eeb8cf\")>,\n",
       " <selenium.webdriver.remote.webelement.WebElement (session=\"378766c7f27868cbb970f89dd2df239c\", element=\"e562adb9-0f4d-48a7-a5cc-1cc8428d23da\")>,\n",
       " <selenium.webdriver.remote.webelement.WebElement (session=\"378766c7f27868cbb970f89dd2df239c\", element=\"6b7e4e84-4987-4a7c-ba18-b40db006b87e\")>,\n",
       " <selenium.webdriver.remote.webelement.WebElement (session=\"378766c7f27868cbb970f89dd2df239c\", element=\"a811b1f2-78c7-47aa-b53a-8deebba8a561\")>,\n",
       " <selenium.webdriver.remote.webelement.WebElement (session=\"378766c7f27868cbb970f89dd2df239c\", element=\"613c8fbf-3d17-4c0f-8903-dc0d466f359e\")>,\n",
       " <selenium.webdriver.remote.webelement.WebElement (session=\"378766c7f27868cbb970f89dd2df239c\", element=\"e130ae8b-14a1-4e45-9294-0f0b14e6c3c4\")>,\n",
       " <selenium.webdriver.remote.webelement.WebElement (session=\"378766c7f27868cbb970f89dd2df239c\", element=\"586461df-a9f5-4d3c-adb9-c0481986b7ff\")>]"
      ]
     },
     "execution_count": 126,
     "metadata": {},
     "output_type": "execute_result"
    }
   ],
   "source": [
    "price_tags=driver.find_elements_by_xpath(\"//span[@class='a-price-whole']\")\n",
    "price_tags"
   ]
  },
  {
   "cell_type": "code",
   "execution_count": 127,
   "id": "362bb59d",
   "metadata": {
    "collapsed": true
   },
   "outputs": [
    {
     "data": {
      "text/plain": [
       "['54,999',\n",
       " '83,990',\n",
       " '54,999',\n",
       " '84,990',\n",
       " '78,990',\n",
       " '86,990',\n",
       " '96,000',\n",
       " '77,990',\n",
       " '2,69,990',\n",
       " '26,990']"
      ]
     },
     "execution_count": 127,
     "metadata": {},
     "output_type": "execute_result"
    }
   ],
   "source": [
    "price=[]\n",
    "for i in price_tags[0:10]:\n",
    "        price.append(i.text) \n",
    "price"
   ]
  },
  {
   "cell_type": "markdown",
   "id": "9319a9b7",
   "metadata": {},
   "source": [
    "Extracting Price"
   ]
  },
  {
   "cell_type": "code",
   "execution_count": null,
   "id": "4bf07ebf",
   "metadata": {},
   "outputs": [],
   "source": []
  },
  {
   "cell_type": "code",
   "execution_count": null,
   "id": "105d1ce7",
   "metadata": {},
   "outputs": [],
   "source": []
  },
  {
   "cell_type": "code",
   "execution_count": 128,
   "id": "63c91555",
   "metadata": {},
   "outputs": [],
   "source": [
    "Laptop=pd.DataFrame({})\n",
    "Laptop[\"Laptop name\"]=titles\n",
    "Laptop[\"Rating of the laptop\"]=rating\n",
    "Laptop[\"Price of the laptop\"]=price"
   ]
  },
  {
   "cell_type": "code",
   "execution_count": 129,
   "id": "b609b90e",
   "metadata": {},
   "outputs": [
    {
     "data": {
      "text/html": [
       "<div>\n",
       "<style scoped>\n",
       "    .dataframe tbody tr th:only-of-type {\n",
       "        vertical-align: middle;\n",
       "    }\n",
       "\n",
       "    .dataframe tbody tr th {\n",
       "        vertical-align: top;\n",
       "    }\n",
       "\n",
       "    .dataframe thead th {\n",
       "        text-align: right;\n",
       "    }\n",
       "</style>\n",
       "<table border=\"1\" class=\"dataframe\">\n",
       "  <thead>\n",
       "    <tr style=\"text-align: right;\">\n",
       "      <th></th>\n",
       "      <th>Laptop name</th>\n",
       "      <th>Rating of the laptop</th>\n",
       "      <th>Price of the laptop</th>\n",
       "    </tr>\n",
       "  </thead>\n",
       "  <tbody>\n",
       "    <tr>\n",
       "      <th>0</th>\n",
       "      <td>Mi Notebook Horizon Edition 14 Intel Core i5-1...</td>\n",
       "      <td>4.4 out of 5 stars</td>\n",
       "      <td>54,999</td>\n",
       "    </tr>\n",
       "    <tr>\n",
       "      <th>1</th>\n",
       "      <td>Lenovo Yoga Slim 7 10th Gen Intel Core i7 14 i...</td>\n",
       "      <td>3.2 out of 5 stars</td>\n",
       "      <td>83,990</td>\n",
       "    </tr>\n",
       "    <tr>\n",
       "      <th>2</th>\n",
       "      <td>Mi Notebook Horizon Edition 14 Intel Core i5-1...</td>\n",
       "      <td>4.4 out of 5 stars</td>\n",
       "      <td>54,999</td>\n",
       "    </tr>\n",
       "    <tr>\n",
       "      <th>3</th>\n",
       "      <td>HP Pavilion (2021) Thin &amp; Light 11th Gen Core ...</td>\n",
       "      <td>4.5 out of 5 stars</td>\n",
       "      <td>84,990</td>\n",
       "    </tr>\n",
       "    <tr>\n",
       "      <th>4</th>\n",
       "      <td>HP Pavilion x360 (2021) 14\" (35.56cms) FHD Tou...</td>\n",
       "      <td>3.8 out of 5 stars</td>\n",
       "      <td>78,990</td>\n",
       "    </tr>\n",
       "    <tr>\n",
       "      <th>5</th>\n",
       "      <td>HP Pavilion Gaming 10th Gen Intel Core i7 Proc...</td>\n",
       "      <td>4.1 out of 5 stars</td>\n",
       "      <td>86,990</td>\n",
       "    </tr>\n",
       "    <tr>\n",
       "      <th>6</th>\n",
       "      <td>Asus ZenBook UX330 UX330UA-FB088T 13.3-inch La...</td>\n",
       "      <td>2.3 out of 5 stars</td>\n",
       "      <td>96,000</td>\n",
       "    </tr>\n",
       "    <tr>\n",
       "      <th>7</th>\n",
       "      <td>Lenovo IdeaPad Gaming 3 10th Gen Intel Core i7...</td>\n",
       "      <td>4.3 out of 5 stars</td>\n",
       "      <td>77,990</td>\n",
       "    </tr>\n",
       "    <tr>\n",
       "      <th>8</th>\n",
       "      <td>ASUS ROG Zephyrus Duo 15, 15.6\" 4K UHD, Intel ...</td>\n",
       "      <td>3.8 out of 5 stars</td>\n",
       "      <td>2,69,990</td>\n",
       "    </tr>\n",
       "    <tr>\n",
       "      <th>9</th>\n",
       "      <td>Life Digital Laptop 15.6-inch (39.62 cms) (Int...</td>\n",
       "      <td>3.1 out of 5 stars</td>\n",
       "      <td>26,990</td>\n",
       "    </tr>\n",
       "  </tbody>\n",
       "</table>\n",
       "</div>"
      ],
      "text/plain": [
       "                                         Laptop name Rating of the laptop  \\\n",
       "0  Mi Notebook Horizon Edition 14 Intel Core i5-1...   4.4 out of 5 stars   \n",
       "1  Lenovo Yoga Slim 7 10th Gen Intel Core i7 14 i...   3.2 out of 5 stars   \n",
       "2  Mi Notebook Horizon Edition 14 Intel Core i5-1...   4.4 out of 5 stars   \n",
       "3  HP Pavilion (2021) Thin & Light 11th Gen Core ...   4.5 out of 5 stars   \n",
       "4  HP Pavilion x360 (2021) 14\" (35.56cms) FHD Tou...   3.8 out of 5 stars   \n",
       "5  HP Pavilion Gaming 10th Gen Intel Core i7 Proc...   4.1 out of 5 stars   \n",
       "6  Asus ZenBook UX330 UX330UA-FB088T 13.3-inch La...   2.3 out of 5 stars   \n",
       "7  Lenovo IdeaPad Gaming 3 10th Gen Intel Core i7...   4.3 out of 5 stars   \n",
       "8  ASUS ROG Zephyrus Duo 15, 15.6\" 4K UHD, Intel ...   3.8 out of 5 stars   \n",
       "9  Life Digital Laptop 15.6-inch (39.62 cms) (Int...   3.1 out of 5 stars   \n",
       "\n",
       "  Price of the laptop  \n",
       "0              54,999  \n",
       "1              83,990  \n",
       "2              54,999  \n",
       "3              84,990  \n",
       "4              78,990  \n",
       "5              86,990  \n",
       "6              96,000  \n",
       "7              77,990  \n",
       "8            2,69,990  \n",
       "9              26,990  "
      ]
     },
     "execution_count": 129,
     "metadata": {},
     "output_type": "execute_result"
    }
   ],
   "source": [
    "Laptop"
   ]
  },
  {
   "cell_type": "markdown",
   "id": "81a60566",
   "metadata": {},
   "source": [
    "Clubbed the four fields into DataFrame"
   ]
  },
  {
   "cell_type": "code",
   "execution_count": null,
   "id": "aaf20c34",
   "metadata": {},
   "outputs": [],
   "source": []
  }
 ],
 "metadata": {
  "kernelspec": {
   "display_name": "Python 3",
   "language": "python",
   "name": "python3"
  },
  "language_info": {
   "codemirror_mode": {
    "name": "ipython",
    "version": 3
   },
   "file_extension": ".py",
   "mimetype": "text/x-python",
   "name": "python",
   "nbconvert_exporter": "python",
   "pygments_lexer": "ipython3",
   "version": "3.9.4"
  }
 },
 "nbformat": 4,
 "nbformat_minor": 5
}
